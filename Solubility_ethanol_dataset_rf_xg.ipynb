{
  "nbformat": 4,
  "nbformat_minor": 0,
  "metadata": {
    "colab": {
      "name": "Solubility_ethanol_dataset_rf_xg.ipynb",
      "provenance": [],
      "collapsed_sections": [],
      "include_colab_link": true
    },
    "kernelspec": {
      "name": "python3",
      "display_name": "Python 3"
    },
    "language_info": {
      "name": "python"
    }
  },
  "cells": [
    {
      "cell_type": "markdown",
      "metadata": {
        "id": "view-in-github",
        "colab_type": "text"
      },
      "source": [
        "<a href=\"https://colab.research.google.com/github/ali1810/Deep_Chem/blob/main/Solubility_ethanol_dataset_rf_xg.ipynb\" target=\"_parent\"><img src=\"https://colab.research.google.com/assets/colab-badge.svg\" alt=\"Open In Colab\"/></a>"
      ]
    },
    {
      "cell_type": "code",
      "metadata": {
        "id": "GTGIUu0ahoFy"
      },
      "source": [
        "import pandas as pd"
      ],
      "execution_count": null,
      "outputs": []
    },
    {
      "cell_type": "code",
      "metadata": {
        "colab": {
          "base_uri": "https://localhost:8080/"
        },
        "id": "DL5le6wLreV-",
        "outputId": "aa0bd802-c383-40b3-b979-d48539fb6660"
      },
      "source": [
        "from google.colab import drive\n",
        "drive.mount('/content/drive')"
      ],
      "execution_count": null,
      "outputs": [
        {
          "output_type": "stream",
          "name": "stdout",
          "text": [
            "Drive already mounted at /content/drive; to attempt to forcibly remount, call drive.mount(\"/content/drive\", force_remount=True).\n"
          ]
        }
      ]
    },
    {
      "cell_type": "code",
      "metadata": {
        "colab": {
          "base_uri": "https://localhost:8080/",
          "height": 422
        },
        "id": "dM_4Ge24h4Hs",
        "outputId": "1e0f691a-a9a6-4237-dda5-c20148915f8c"
      },
      "source": [
        "sol = pd.read_csv('/content/drive/MyDrive/KIT/ethanol_solubility_data.csv')\n",
        "sol"
      ],
      "execution_count": null,
      "outputs": [
        {
          "output_type": "execute_result",
          "data": {
            "text/html": [
              "<div>\n",
              "<style scoped>\n",
              "    .dataframe tbody tr th:only-of-type {\n",
              "        vertical-align: middle;\n",
              "    }\n",
              "\n",
              "    .dataframe tbody tr th {\n",
              "        vertical-align: top;\n",
              "    }\n",
              "\n",
              "    .dataframe thead th {\n",
              "        text-align: right;\n",
              "    }\n",
              "</style>\n",
              "<table border=\"1\" class=\"dataframe\">\n",
              "  <thead>\n",
              "    <tr style=\"text-align: right;\">\n",
              "      <th></th>\n",
              "      <th>StdInChIKey</th>\n",
              "      <th>SMILES</th>\n",
              "      <th>LogS</th>\n",
              "      <th>T</th>\n",
              "      <th>Source</th>\n",
              "    </tr>\n",
              "  </thead>\n",
              "  <tbody>\n",
              "    <tr>\n",
              "      <th>0</th>\n",
              "      <td>AADVZSXPNRLYLV-XRXNUMIJSA-N</td>\n",
              "      <td>c1ccc2c(c1)c1CCN3C[C@@H]4CC[C@@H]([C@@H]([C@H]...</td>\n",
              "      <td>-2.122892</td>\n",
              "      <td>16.5</td>\n",
              "      <td>Reaxys</td>\n",
              "    </tr>\n",
              "    <tr>\n",
              "      <th>1</th>\n",
              "      <td>ABFDTYJJUSUWRB-UHFFFAOYSA-N</td>\n",
              "      <td>CN(C)c1ccc(cc1)N=C=Nc1ccc(cc1)N(C)C</td>\n",
              "      <td>-1.772343</td>\n",
              "      <td>21.0</td>\n",
              "      <td>Reaxys</td>\n",
              "    </tr>\n",
              "    <tr>\n",
              "      <th>2</th>\n",
              "      <td>ACGUYXCXAPNIKK-UHFFFAOYSA-N</td>\n",
              "      <td>C(c1c(c(cc(c1O)Cl)Cl)Cl)c1c(c(cc(c1O)Cl)Cl)Cl</td>\n",
              "      <td>0.089475</td>\n",
              "      <td>20.0</td>\n",
              "      <td>Reaxys</td>\n",
              "    </tr>\n",
              "    <tr>\n",
              "      <th>3</th>\n",
              "      <td>ACMLKANOGIVEPB-UHFFFAOYSA-N</td>\n",
              "      <td>c1ccc2c(c1)cc(C(=O)O)c(=O)o2</td>\n",
              "      <td>-2.823897</td>\n",
              "      <td>20.0</td>\n",
              "      <td>Reaxys</td>\n",
              "    </tr>\n",
              "    <tr>\n",
              "      <th>4</th>\n",
              "      <td>AECGEIVNZGQBJT-UHFFFAOYSA-N</td>\n",
              "      <td>c1ccc(cc1)C(c1ccccc1)(c1ccccc1)SCCC(=O)O</td>\n",
              "      <td>-2.110797</td>\n",
              "      <td>20.0</td>\n",
              "      <td>Reaxys</td>\n",
              "    </tr>\n",
              "    <tr>\n",
              "      <th>...</th>\n",
              "      <td>...</td>\n",
              "      <td>...</td>\n",
              "      <td>...</td>\n",
              "      <td>...</td>\n",
              "      <td>...</td>\n",
              "    </tr>\n",
              "    <tr>\n",
              "      <th>690</th>\n",
              "      <td>ZVNYJIZDIRKMBF-UHFFFAOYSA-N</td>\n",
              "      <td>COc1ccc(cc1OC)C(=O)N1CCN(CC1)c1ccc2c(CCC(=O)N2)c1</td>\n",
              "      <td>-3.097256</td>\n",
              "      <td>25.0</td>\n",
              "      <td>Reaxys</td>\n",
              "    </tr>\n",
              "    <tr>\n",
              "      <th>691</th>\n",
              "      <td>ZWFHVYLMPFPMKA-UHFFFAOYSA-N</td>\n",
              "      <td>Cc1ccc2c(c1)nc(Nc1ccccc1)[nH]2</td>\n",
              "      <td>-0.438765</td>\n",
              "      <td>15.0</td>\n",
              "      <td>Reaxys</td>\n",
              "    </tr>\n",
              "    <tr>\n",
              "      <th>692</th>\n",
              "      <td>ZWLPBLYKEWSWPD-UHFFFAOYSA-N</td>\n",
              "      <td>Cc1ccccc1C(=O)O</td>\n",
              "      <td>0.365480</td>\n",
              "      <td>22.9</td>\n",
              "      <td>Reaxys</td>\n",
              "    </tr>\n",
              "    <tr>\n",
              "      <th>693</th>\n",
              "      <td>ZXVONLUNISGICL-UHFFFAOYSA-N</td>\n",
              "      <td>Cc1cc(cc(c1O)[N+](=O)[O-])[N+](=O)[O-]</td>\n",
              "      <td>-0.766251</td>\n",
              "      <td>15.0</td>\n",
              "      <td>Reaxys</td>\n",
              "    </tr>\n",
              "    <tr>\n",
              "      <th>694</th>\n",
              "      <td>ZYLCQMSHBJVMBX-UHFFFAOYSA-N</td>\n",
              "      <td>CN(C)c1ccc(cc1)C(=Nc1ccccc1N)c1ccc(cc1)N(C)C</td>\n",
              "      <td>-2.350352</td>\n",
              "      <td>17.0</td>\n",
              "      <td>Reaxys</td>\n",
              "    </tr>\n",
              "  </tbody>\n",
              "</table>\n",
              "<p>695 rows × 5 columns</p>\n",
              "</div>"
            ],
            "text/plain": [
              "                     StdInChIKey  ...  Source\n",
              "0    AADVZSXPNRLYLV-XRXNUMIJSA-N  ...  Reaxys\n",
              "1    ABFDTYJJUSUWRB-UHFFFAOYSA-N  ...  Reaxys\n",
              "2    ACGUYXCXAPNIKK-UHFFFAOYSA-N  ...  Reaxys\n",
              "3    ACMLKANOGIVEPB-UHFFFAOYSA-N  ...  Reaxys\n",
              "4    AECGEIVNZGQBJT-UHFFFAOYSA-N  ...  Reaxys\n",
              "..                           ...  ...     ...\n",
              "690  ZVNYJIZDIRKMBF-UHFFFAOYSA-N  ...  Reaxys\n",
              "691  ZWFHVYLMPFPMKA-UHFFFAOYSA-N  ...  Reaxys\n",
              "692  ZWLPBLYKEWSWPD-UHFFFAOYSA-N  ...  Reaxys\n",
              "693  ZXVONLUNISGICL-UHFFFAOYSA-N  ...  Reaxys\n",
              "694  ZYLCQMSHBJVMBX-UHFFFAOYSA-N  ...  Reaxys\n",
              "\n",
              "[695 rows x 5 columns]"
            ]
          },
          "metadata": {},
          "execution_count": 15
        }
      ]
    },
    {
      "cell_type": "code",
      "metadata": {
        "id": "uG8ezFrmoqjo"
      },
      "source": [
        "sol[\"smiles_length\"]= sol[\"SMILES\"].apply(len)"
      ],
      "execution_count": null,
      "outputs": []
    },
    {
      "cell_type": "code",
      "metadata": {
        "colab": {
          "base_uri": "https://localhost:8080/"
        },
        "id": "dINrET04oqsY",
        "outputId": "e938df78-33b0-43a0-fbd6-ebaeb64f5e47"
      },
      "source": [
        "max_lenghth=max(sol[\"smiles_length\"])\n",
        "max_lenghth"
      ],
      "execution_count": null,
      "outputs": [
        {
          "output_type": "execute_result",
          "data": {
            "text/plain": [
              "127"
            ]
          },
          "metadata": {},
          "execution_count": 17
        }
      ]
    },
    {
      "cell_type": "code",
      "metadata": {
        "colab": {
          "base_uri": "https://localhost:8080/",
          "height": 354
        },
        "id": "i9HY5gagyDvD",
        "outputId": "da916b47-2063-4259-e6e7-2bd8c8a60275"
      },
      "source": [
        "## Ditribution of LogS....\n",
        "import seaborn as sns\n",
        "\n",
        "## Based on the graph we can say the LogS range between -4 to 1\n",
        "sns.distplot(sol[\"LogS\"])\n"
      ],
      "execution_count": null,
      "outputs": [
        {
          "output_type": "stream",
          "name": "stderr",
          "text": [
            "/usr/local/lib/python3.7/dist-packages/seaborn/distributions.py:2557: FutureWarning: `distplot` is a deprecated function and will be removed in a future version. Please adapt your code to use either `displot` (a figure-level function with similar flexibility) or `histplot` (an axes-level function for histograms).\n",
            "  warnings.warn(msg, FutureWarning)\n"
          ]
        },
        {
          "output_type": "execute_result",
          "data": {
            "text/plain": [
              "<matplotlib.axes._subplots.AxesSubplot at 0x7f4f95481650>"
            ]
          },
          "metadata": {},
          "execution_count": 18
        },
        {
          "output_type": "display_data",
          "data": {
            "image/png": "[encoded data removed]",
            "text/plain": [
              "<Figure size 432x288 with 1 Axes>"
            ]
          },
          "metadata": {
            "needs_background": "light"
          }
        }
      ]
    },
    {
      "cell_type": "code",
      "metadata": {
        "colab": {
          "base_uri": "https://localhost:8080/",
          "height": 357
        },
        "id": "6jSj6FgJytHg",
        "outputId": "b76e61cd-202a-411f-f34e-2f07165045ff"
      },
      "source": [
        "### Display the range of the temprature :::\n",
        "\n",
        "sns.distplot(sol[\"T\"])"
      ],
      "execution_count": null,
      "outputs": [
        {
          "output_type": "stream",
          "name": "stderr",
          "text": [
            "/usr/local/lib/python3.7/dist-packages/seaborn/distributions.py:2557: FutureWarning: `distplot` is a deprecated function and will be removed in a future version. Please adapt your code to use either `displot` (a figure-level function with similar flexibility) or `histplot` (an axes-level function for histograms).\n",
            "  warnings.warn(msg, FutureWarning)\n"
          ]
        },
        {
          "output_type": "execute_result",
          "data": {
            "text/plain": [
              "<matplotlib.axes._subplots.AxesSubplot at 0x7f4f9542f610>"
            ]
          },
          "metadata": {},
          "execution_count": 19
        },
        {
          "output_type": "display_data",
          "data": {
            "image/png": "[encoded data removed]",
            "text/plain": [
              "<Figure size 432x288 with 1 Axes>"
            ]
          },
          "metadata": {
            "needs_background": "light"
          }
        }
      ]
    },
    {
      "cell_type": "code",
      "metadata": {
        "colab": {
          "base_uri": "https://localhost:8080/"
        },
        "id": "PplU0D0kDmR8",
        "outputId": "ddf9f132-443a-4ce8-d6d0-10d608ce5cef"
      },
      "source": [
        "#smiles_length = sol[\"SMILES\"],key =len\n",
        "#print(smiles_length)\n",
        "sol1  = sol[sol['smiles_length'] < 100]\n",
        "print(len(sol1))"
      ],
      "execution_count": null,
      "outputs": [
        {
          "output_type": "stream",
          "name": "stdout",
          "text": [
            "691\n"
          ]
        }
      ]
    },
    {
      "cell_type": "code",
      "metadata": {
        "colab": {
          "base_uri": "https://localhost:8080/"
        },
        "id": "bOy5UbCXMfmm",
        "outputId": "6e6e620a-6eb1-4f03-be05-b39ef382f8e1"
      },
      "source": [
        "df1=sol.LogS\n",
        "df1"
      ],
      "execution_count": null,
      "outputs": [
        {
          "output_type": "execute_result",
          "data": {
            "text/plain": [
              "0     -2.122892\n",
              "1     -1.772343\n",
              "2      0.089475\n",
              "3     -2.823897\n",
              "4     -2.110797\n",
              "         ...   \n",
              "690   -3.097256\n",
              "691   -0.438765\n",
              "692    0.365480\n",
              "693   -0.766251\n",
              "694   -2.350352\n",
              "Name: LogS, Length: 695, dtype: float64"
            ]
          },
          "metadata": {},
          "execution_count": 29
        }
      ]
    },
    {
      "cell_type": "code",
      "metadata": {
        "id": "zFBAl9b2-gwf"
      },
      "source": [
        "sol['smiles_mol'] = sol['SMILES'].apply(lambda x: Chem.MolFromSmiles(x))  # Create Mol objects from the SMILES notation\n"
      ],
      "execution_count": null,
      "outputs": []
    },
    {
      "cell_type": "code",
      "metadata": {
        "colab": {
          "base_uri": "https://localhost:8080/",
          "height": 167
        },
        "id": "eellJuHo--hL",
        "outputId": "8093a4d3-e55c-46cd-9719-5fcb48d42f2f"
      },
      "source": [
        "mol=sol['smiles_mol'].iloc[10]\n",
        "mol"
      ],
      "execution_count": null,
      "outputs": [
        {
          "output_type": "execute_result",
          "data": {
            "image/png": "[encoded data removed]",
            "text/plain": [
              "<rdkit.Chem.rdchem.Mol at 0x7f4f90f46530>"
            ]
          },
          "metadata": {},
          "execution_count": 31
        }
      ]
    },
    {
      "cell_type": "code",
      "metadata": {
        "id": "0t-dJhDR_Gw-"
      },
      "source": [
        "## Creating function to create augmented smiles\n",
        "def show_random_smiles_are_same_labels(mol, number=10):\n",
        "    \"\"\"\n",
        "    Show a few randomly augmented SMILES from the same molecule\n",
        "    \"\"\"\n",
        "    \n",
        "    vector = []\n",
        "    labels = []\n",
        "    for _ in range(number):\n",
        "        label = Chem.MolToSmiles(mol, doRandom=True)\n",
        "        labels.append(label)\n",
        "        vector.append(Chem.MolFromSmiles(label))\n",
        "    return labels"
      ],
      "execution_count": null,
      "outputs": []
    },
    {
      "cell_type": "code",
      "metadata": {
        "colab": {
          "base_uri": "https://localhost:8080/"
        },
        "id": "_wZH7yzh_vXx",
        "outputId": "c8cac474-7a3e-436d-f764-49acf14d761d"
      },
      "source": [
        "mol = sol[\"smiles_mol\"].iloc[10] \n",
        "new_vector= []\n",
        "#new_vector1=np.array[new_vector]\n",
        "for x in range(0, 695):\n",
        "  mol = sol[\"smiles_mol\"].iloc[x] \n",
        "  y=show_random_smiles_are_same_labels(mol,number=10)\n",
        "  new_vector.append(y)\n",
        "print(len(new_vector))  \n",
        "\n"
      ],
      "execution_count": null,
      "outputs": [
        {
          "output_type": "stream",
          "name": "stdout",
          "text": [
            "695\n"
          ]
        }
      ]
    },
    {
      "cell_type": "code",
      "metadata": {
        "colab": {
          "base_uri": "https://localhost:8080/"
        },
        "id": "V4qmwNjQEZUS",
        "outputId": "1970f44a-5d72-4092-a920-72dc666ccd05"
      },
      "source": [
        "import numpy as np\n",
        "numpy_array=np.array(new_vector)\n",
        "\n",
        "print(numpy_array)"
      ],
      "execution_count": null,
      "outputs": [
        {
          "output_type": "stream",
          "name": "stdout",
          "text": [
            "[['C1CN2C[C@H]3[C@H](C[C@H]2c2c1c1ccccc1[nH]2)[C@@H](C(=O)O)[C@@H](O)CC3'\n",
            "  'C1[C@H]2[C@@H](CC[C@@H]([C@@H]2C(O)=O)O)CN2CCc3c([C@H]12)[nH]c1ccccc13'\n",
            "  '[C@H]1([C@H](C(O)=O)[C@H]2C[C@@H]3N(C[C@@H]2CC1)CCc1c2ccccc2[nH]c13)O'\n",
            "  ...\n",
            "  'c1cccc2[nH]c3[C@H]4N(C[C@H]5[C@H](C4)[C@H]([C@H](CC5)O)C(O)=O)CCc3c12'\n",
            "  '[C@@H]1([C@@H](O)CC[C@H]2CN3[C@@H](C[C@H]12)c1[nH]c2ccccc2c1CC3)C(O)=O'\n",
            "  '[C@H]1(O)CC[C@@H]2[C@@H]([C@H]1C(=O)O)C[C@@H]1N(CCc3c4ccccc4[nH]c31)C2']\n",
            " ['c1(ccc(cc1)N(C)C)N=C=Nc1ccc(cc1)N(C)C'\n",
            "  'c1c(ccc(N(C)C)c1)N=C=Nc1ccc(cc1)N(C)C'\n",
            "  'c1cc(ccc1N(C)C)N=C=Nc1ccc(N(C)C)cc1' ...\n",
            "  'c1(ccc(N(C)C)cc1)N=C=Nc1ccc(N(C)C)cc1'\n",
            "  'N(=C=Nc1ccc(N(C)C)cc1)c1ccc(cc1)N(C)C'\n",
            "  'CN(c1ccc(cc1)N=C=Nc1ccc(N(C)C)cc1)C']\n",
            " ['c1c(c(c(c(c1Cl)O)Cc1c(c(Cl)cc(Cl)c1Cl)O)Cl)Cl'\n",
            "  'Clc1c(Cl)cc(c(O)c1Cc1c(Cl)c(cc(c1O)Cl)Cl)Cl'\n",
            "  'c1(Cl)c(c(c(c(Cl)c1)O)Cc1c(O)c(Cl)cc(Cl)c1Cl)Cl' ...\n",
            "  'Oc1c(Cl)cc(Cl)c(c1Cc1c(c(Cl)cc(c1O)Cl)Cl)Cl'\n",
            "  'c1(c(c(O)c(Cl)cc1Cl)Cc1c(c(cc(Cl)c1Cl)Cl)O)Cl'\n",
            "  'c1(cc(Cl)c(c(Cc2c(Cl)c(Cl)cc(Cl)c2O)c1O)Cl)Cl']\n",
            " ...\n",
            " ['Cc1c(cccc1)C(=O)O' 'c1c(c(C)ccc1)C(=O)O' 'c1cc(C)c(cc1)C(=O)O' ...\n",
            "  'c1ccc(c(C(=O)O)c1)C' 'O=C(O)c1c(C)cccc1' 'c1cc(C)c(cc1)C(O)=O']\n",
            " ['O=[N+](c1cc(c(c(C)c1)O)[N+](=O)[O-])[O-]'\n",
            "  'O=[N+](c1c(c(C)cc(c1)[N+](=O)[O-])O)[O-]'\n",
            "  '[O-][N+](=O)c1cc([N+](=O)[O-])c(c(C)c1)O' ...\n",
            "  'c1(c(cc([N+]([O-])=O)cc1C)[N+](=O)[O-])O'\n",
            "  'c1(C)c(O)c(cc([N+]([O-])=O)c1)[N+](=O)[O-]'\n",
            "  'O=[N+]([O-])c1cc(C)c(c(c1)[N+]([O-])=O)O']\n",
            " ['c1cc(c(cc1)N)N=C(c1ccc(cc1)N(C)C)c1ccc(cc1)N(C)C'\n",
            "  'c1(ccc(N(C)C)cc1)C(c1ccc(cc1)N(C)C)=Nc1c(cccc1)N'\n",
            "  'c1c(N(C)C)ccc(C(c2ccc(cc2)N(C)C)=Nc2ccccc2N)c1' ...\n",
            "  'c1cc(N(C)C)ccc1C(c1ccc(cc1)N(C)C)=Nc1ccccc1N'\n",
            "  'N(C)(C)c1ccc(cc1)C(=Nc1c(N)cccc1)c1ccc(cc1)N(C)C'\n",
            "  'c1(ccc(C(=Nc2c(cccc2)N)c2ccc(cc2)N(C)C)cc1)N(C)C']]\n"
          ]
        }
      ]
    },
    {
      "cell_type": "code",
      "metadata": {
        "id": "-2ePxf-gpEIW",
        "colab": {
          "base_uri": "https://localhost:8080/",
          "height": 459
        },
        "outputId": "f6e9bbcc-3d74-463f-e867-c4763dc8125a"
      },
      "source": [
        "import pandas as pd \n",
        "df=pd.DataFrame(data=numpy_array, index=None, columns=None)\n",
        "df_new=df.join(df1)\n",
        "df_new"
      ],
      "execution_count": null,
      "outputs": [
        {
          "output_type": "execute_result",
          "data": {
            "text/html": [
              "<div>\n",
              "<style scoped>\n",
              "    .dataframe tbody tr th:only-of-type {\n",
              "        vertical-align: middle;\n",
              "    }\n",
              "\n",
              "    .dataframe tbody tr th {\n",
              "        vertical-align: top;\n",
              "    }\n",
              "\n",
              "    .dataframe thead th {\n",
              "        text-align: right;\n",
              "    }\n",
              "</style>\n",
              "<table border=\"1\" class=\"dataframe\">\n",
              "  <thead>\n",
              "    <tr style=\"text-align: right;\">\n",
              "      <th></th>\n",
              "      <th>0</th>\n",
              "      <th>1</th>\n",
              "      <th>2</th>\n",
              "      <th>3</th>\n",
              "      <th>4</th>\n",
              "      <th>5</th>\n",
              "      <th>6</th>\n",
              "      <th>7</th>\n",
              "      <th>8</th>\n",
              "      <th>9</th>\n",
              "      <th>LogS</th>\n",
              "    </tr>\n",
              "  </thead>\n",
              "  <tbody>\n",
              "    <tr>\n",
              "      <th>0</th>\n",
              "      <td>C1CN2C[C@H]3[C@H](C[C@H]2c2c1c1ccccc1[nH]2)[C@...</td>\n",
              "      <td>C1[C@H]2[C@@H](CC[C@@H]([C@@H]2C(O)=O)O)CN2CCc...</td>\n",
              "      <td>[C@H]1([C@H](C(O)=O)[C@H]2C[C@@H]3N(C[C@@H]2CC...</td>\n",
              "      <td>c12[nH]c3ccccc3c2CCN2C[C@H]3[C@@H]([C@@H](C(=O...</td>\n",
              "      <td>[C@H]1([C@H](C(=O)O)[C@@H]2[C@H](CN3[C@@H](C2)...</td>\n",
              "      <td>[C@@H]12CN3CCc4c5ccccc5[nH]c4[C@@H]3C[C@@H]2[C...</td>\n",
              "      <td>[C@@H]1([C@@H](O)CC[C@H]2CN3[C@@H](C[C@@H]21)c...</td>\n",
              "      <td>c1cccc2[nH]c3[C@H]4N(C[C@H]5[C@H](C4)[C@H]([C@...</td>\n",
              "      <td>[C@@H]1([C@@H](O)CC[C@H]2CN3[C@@H](C[C@H]12)c1...</td>\n",
              "      <td>[C@H]1(O)CC[C@@H]2[C@@H]([C@H]1C(=O)O)C[C@@H]1...</td>\n",
              "      <td>-2.122892</td>\n",
              "    </tr>\n",
              "    <tr>\n",
              "      <th>1</th>\n",
              "      <td>c1(ccc(cc1)N(C)C)N=C=Nc1ccc(cc1)N(C)C</td>\n",
              "      <td>c1c(ccc(N(C)C)c1)N=C=Nc1ccc(cc1)N(C)C</td>\n",
              "      <td>c1cc(ccc1N(C)C)N=C=Nc1ccc(N(C)C)cc1</td>\n",
              "      <td>c1(N(C)C)ccc(N=C=Nc2ccc(N(C)C)cc2)cc1</td>\n",
              "      <td>N(c1ccc(N(C)C)cc1)=C=Nc1ccc(N(C)C)cc1</td>\n",
              "      <td>CN(c1ccc(cc1)N=C=Nc1ccc(N(C)C)cc1)C</td>\n",
              "      <td>N(=C=Nc1ccc(cc1)N(C)C)c1ccc(cc1)N(C)C</td>\n",
              "      <td>c1(ccc(N(C)C)cc1)N=C=Nc1ccc(N(C)C)cc1</td>\n",
              "      <td>N(=C=Nc1ccc(N(C)C)cc1)c1ccc(cc1)N(C)C</td>\n",
              "      <td>CN(c1ccc(cc1)N=C=Nc1ccc(N(C)C)cc1)C</td>\n",
              "      <td>-1.772343</td>\n",
              "    </tr>\n",
              "    <tr>\n",
              "      <th>2</th>\n",
              "      <td>c1c(c(c(c(c1Cl)O)Cc1c(c(Cl)cc(Cl)c1Cl)O)Cl)Cl</td>\n",
              "      <td>Clc1c(Cl)cc(c(O)c1Cc1c(Cl)c(cc(c1O)Cl)Cl)Cl</td>\n",
              "      <td>c1(Cl)c(c(c(c(Cl)c1)O)Cc1c(O)c(Cl)cc(Cl)c1Cl)Cl</td>\n",
              "      <td>Clc1cc(Cl)c(c(Cc2c(c(cc(c2O)Cl)Cl)Cl)c1Cl)O</td>\n",
              "      <td>c1c(c(Cl)c(Cc2c(Cl)c(cc(c2O)Cl)Cl)c(O)c1Cl)Cl</td>\n",
              "      <td>c1(c(Cl)c(Cc2c(Cl)c(Cl)cc(c2O)Cl)c(c(Cl)c1)O)Cl</td>\n",
              "      <td>Clc1c(cc(Cl)c(c1Cc1c(Cl)c(Cl)cc(c1O)Cl)O)Cl</td>\n",
              "      <td>Oc1c(Cl)cc(Cl)c(c1Cc1c(c(Cl)cc(c1O)Cl)Cl)Cl</td>\n",
              "      <td>c1(c(c(O)c(Cl)cc1Cl)Cc1c(c(cc(Cl)c1Cl)Cl)O)Cl</td>\n",
              "      <td>c1(cc(Cl)c(c(Cc2c(Cl)c(Cl)cc(Cl)c2O)c1O)Cl)Cl</td>\n",
              "      <td>0.089475</td>\n",
              "    </tr>\n",
              "    <tr>\n",
              "      <th>3</th>\n",
              "      <td>c12ccccc2cc(C(=O)O)c(=O)o1</td>\n",
              "      <td>OC(c1c(=O)oc2c(c1)cccc2)=O</td>\n",
              "      <td>c12cc(C(=O)O)c(=O)oc1cccc2</td>\n",
              "      <td>c1ccc2cc(c(=O)oc2c1)C(=O)O</td>\n",
              "      <td>c1cc2c(cc1)oc(=O)c(C(O)=O)c2</td>\n",
              "      <td>c1cc2c(oc(=O)c(C(=O)O)c2)cc1</td>\n",
              "      <td>c1(c(=O)oc2ccccc2c1)C(=O)O</td>\n",
              "      <td>c1c(c(oc2ccccc21)=O)C(=O)O</td>\n",
              "      <td>c1(=O)oc2ccccc2cc1C(O)=O</td>\n",
              "      <td>c12c(cc(C(O)=O)c(o1)=O)cccc2</td>\n",
              "      <td>-2.823897</td>\n",
              "    </tr>\n",
              "    <tr>\n",
              "      <th>4</th>\n",
              "      <td>c1(C(c2ccccc2)(SCCC(O)=O)c2ccccc2)ccccc1</td>\n",
              "      <td>c1(ccccc1)C(c1ccccc1)(SCCC(=O)O)c1ccccc1</td>\n",
              "      <td>c1c(cccc1)C(SCCC(=O)O)(c1ccccc1)c1ccccc1</td>\n",
              "      <td>c1c(cccc1)C(SCCC(O)=O)(c1ccccc1)c1ccccc1</td>\n",
              "      <td>c1cccc(c1)C(c1ccccc1)(SCCC(=O)O)c1ccccc1</td>\n",
              "      <td>c1c(cccc1)C(c1ccccc1)(c1ccccc1)SCCC(=O)O</td>\n",
              "      <td>C(SC(c1ccccc1)(c1ccccc1)c1ccccc1)CC(O)=O</td>\n",
              "      <td>c1ccccc1C(c1ccccc1)(SCCC(O)=O)c1ccccc1</td>\n",
              "      <td>C(c1ccccc1)(c1ccccc1)(c1ccccc1)SCCC(=O)O</td>\n",
              "      <td>c1ccccc1C(SCCC(O)=O)(c1ccccc1)c1ccccc1</td>\n",
              "      <td>-2.110797</td>\n",
              "    </tr>\n",
              "    <tr>\n",
              "      <th>...</th>\n",
              "      <td>...</td>\n",
              "      <td>...</td>\n",
              "      <td>...</td>\n",
              "      <td>...</td>\n",
              "      <td>...</td>\n",
              "      <td>...</td>\n",
              "      <td>...</td>\n",
              "      <td>...</td>\n",
              "      <td>...</td>\n",
              "      <td>...</td>\n",
              "      <td>...</td>\n",
              "    </tr>\n",
              "    <tr>\n",
              "      <th>690</th>\n",
              "      <td>N1(CCN(C(c2ccc(OC)c(c2)OC)=O)CC1)c1ccc2NC(CCc2...</td>\n",
              "      <td>O=C(c1cc(OC)c(OC)cc1)N1CCN(CC1)c1cc2CCC(=O)Nc2cc1</td>\n",
              "      <td>c1(c(OC)ccc(c1)C(N1CCN(CC1)c1cc2c(NC(=O)CC2)cc...</td>\n",
              "      <td>c1(cc(OC)c(cc1)OC)C(N1CCN(c2cc3CCC(Nc3cc2)=O)C...</td>\n",
              "      <td>c1c(OC)c(OC)ccc1C(=O)N1CCN(CC1)c1ccc2c(c1)CCC(...</td>\n",
              "      <td>C(c1ccc(OC)c(c1)OC)(N1CCN(c2ccc3NC(CCc3c2)=O)C...</td>\n",
              "      <td>C1CN(C(=O)c2ccc(c(c2)OC)OC)CCN1c1cc2c(cc1)NC(=...</td>\n",
              "      <td>O=C1CCc2cc(N3CCN(CC3)C(=O)c3ccc(OC)c(OC)c3)ccc2N1</td>\n",
              "      <td>c1(ccc(C(=O)N2CCN(CC2)c2cc3c(NC(=O)CC3)cc2)cc1...</td>\n",
              "      <td>c1c(cc(c(c1)OC)OC)C(=O)N1CCN(c2cc3CCC(Nc3cc2)=...</td>\n",
              "      <td>-3.097256</td>\n",
              "    </tr>\n",
              "    <tr>\n",
              "      <th>691</th>\n",
              "      <td>c1ccccc1Nc1nc2c(ccc(C)c2)[nH]1</td>\n",
              "      <td>c1(C)cc2nc([nH]c2cc1)Nc1ccccc1</td>\n",
              "      <td>c1cc(ccc1)Nc1nc2c([nH]1)ccc(C)c2</td>\n",
              "      <td>c12[nH]c(Nc3ccccc3)nc2cc(C)cc1</td>\n",
              "      <td>Cc1cc2c([nH]c(Nc3ccccc3)n2)cc1</td>\n",
              "      <td>Cc1cc2nc([nH]c2cc1)Nc1ccccc1</td>\n",
              "      <td>c1(ccccc1)Nc1nc2cc(ccc2[nH]1)C</td>\n",
              "      <td>c1c2[nH]c(nc2cc(c1)C)Nc1ccccc1</td>\n",
              "      <td>c1([nH]c2c(cc(cc2)C)n1)Nc1ccccc1</td>\n",
              "      <td>c12cc(ccc2[nH]c(n1)Nc1ccccc1)C</td>\n",
              "      <td>-0.438765</td>\n",
              "    </tr>\n",
              "    <tr>\n",
              "      <th>692</th>\n",
              "      <td>Cc1c(cccc1)C(=O)O</td>\n",
              "      <td>c1c(c(C)ccc1)C(=O)O</td>\n",
              "      <td>c1cc(C)c(cc1)C(=O)O</td>\n",
              "      <td>c1c(C(=O)O)c(ccc1)C</td>\n",
              "      <td>c1(C(O)=O)c(cccc1)C</td>\n",
              "      <td>c1ccc(c(C)c1)C(O)=O</td>\n",
              "      <td>c1cc(C)c(C(=O)O)cc1</td>\n",
              "      <td>c1ccc(c(C(=O)O)c1)C</td>\n",
              "      <td>O=C(O)c1c(C)cccc1</td>\n",
              "      <td>c1cc(C)c(cc1)C(O)=O</td>\n",
              "      <td>0.365480</td>\n",
              "    </tr>\n",
              "    <tr>\n",
              "      <th>693</th>\n",
              "      <td>O=[N+](c1cc(c(c(C)c1)O)[N+](=O)[O-])[O-]</td>\n",
              "      <td>O=[N+](c1c(c(C)cc(c1)[N+](=O)[O-])O)[O-]</td>\n",
              "      <td>[O-][N+](=O)c1cc([N+](=O)[O-])c(c(C)c1)O</td>\n",
              "      <td>[N+](=O)([O-])c1cc([N+]([O-])=O)cc(C)c1O</td>\n",
              "      <td>c1(O)c(C)cc([N+]([O-])=O)cc1[N+](=O)[O-]</td>\n",
              "      <td>[O-][N+](=O)c1cc(c(c(c1)C)O)[N+]([O-])=O</td>\n",
              "      <td>c1c(c(c(cc1[N+]([O-])=O)C)O)[N+]([O-])=O</td>\n",
              "      <td>c1(c(cc([N+]([O-])=O)cc1C)[N+](=O)[O-])O</td>\n",
              "      <td>c1(C)c(O)c(cc([N+]([O-])=O)c1)[N+](=O)[O-]</td>\n",
              "      <td>O=[N+]([O-])c1cc(C)c(c(c1)[N+]([O-])=O)O</td>\n",
              "      <td>-0.766251</td>\n",
              "    </tr>\n",
              "    <tr>\n",
              "      <th>694</th>\n",
              "      <td>c1cc(c(cc1)N)N=C(c1ccc(cc1)N(C)C)c1ccc(cc1)N(C)C</td>\n",
              "      <td>c1(ccc(N(C)C)cc1)C(c1ccc(cc1)N(C)C)=Nc1c(cccc1)N</td>\n",
              "      <td>c1c(N(C)C)ccc(C(c2ccc(cc2)N(C)C)=Nc2ccccc2N)c1</td>\n",
              "      <td>CN(c1ccc(cc1)C(=Nc1ccccc1N)c1ccc(cc1)N(C)C)C</td>\n",
              "      <td>N(c1ccccc1N)=C(c1ccc(N(C)C)cc1)c1ccc(N(C)C)cc1</td>\n",
              "      <td>CN(c1ccc(C(c2ccc(cc2)N(C)C)=Nc2c(N)cccc2)cc1)C</td>\n",
              "      <td>CN(c1ccc(C(c2ccc(N(C)C)cc2)=Nc2c(cccc2)N)cc1)C</td>\n",
              "      <td>c1cc(N(C)C)ccc1C(c1ccc(cc1)N(C)C)=Nc1ccccc1N</td>\n",
              "      <td>N(C)(C)c1ccc(cc1)C(=Nc1c(N)cccc1)c1ccc(cc1)N(C)C</td>\n",
              "      <td>c1(ccc(C(=Nc2c(cccc2)N)c2ccc(cc2)N(C)C)cc1)N(C)C</td>\n",
              "      <td>-2.350352</td>\n",
              "    </tr>\n",
              "  </tbody>\n",
              "</table>\n",
              "<p>695 rows × 11 columns</p>\n",
              "</div>"
            ],
            "text/plain": [
              "                                                     0  ...      LogS\n",
              "0    C1CN2C[C@H]3[C@H](C[C@H]2c2c1c1ccccc1[nH]2)[C@...  ... -2.122892\n",
              "1                c1(ccc(cc1)N(C)C)N=C=Nc1ccc(cc1)N(C)C  ... -1.772343\n",
              "2        c1c(c(c(c(c1Cl)O)Cc1c(c(Cl)cc(Cl)c1Cl)O)Cl)Cl  ...  0.089475\n",
              "3                           c12ccccc2cc(C(=O)O)c(=O)o1  ... -2.823897\n",
              "4             c1(C(c2ccccc2)(SCCC(O)=O)c2ccccc2)ccccc1  ... -2.110797\n",
              "..                                                 ...  ...       ...\n",
              "690  N1(CCN(C(c2ccc(OC)c(c2)OC)=O)CC1)c1ccc2NC(CCc2...  ... -3.097256\n",
              "691                     c1ccccc1Nc1nc2c(ccc(C)c2)[nH]1  ... -0.438765\n",
              "692                                  Cc1c(cccc1)C(=O)O  ...  0.365480\n",
              "693           O=[N+](c1cc(c(c(C)c1)O)[N+](=O)[O-])[O-]  ... -0.766251\n",
              "694   c1cc(c(cc1)N)N=C(c1ccc(cc1)N(C)C)c1ccc(cc1)N(C)C  ... -2.350352\n",
              "\n",
              "[695 rows x 11 columns]"
            ]
          },
          "metadata": {},
          "execution_count": 36
        }
      ]
    },
    {
      "cell_type": "code",
      "metadata": {
        "colab": {
          "base_uri": "https://localhost:8080/",
          "height": 422
        },
        "id": "7lodXtpiXTj6",
        "outputId": "34474d30-2232-406c-e15b-d457c15c32b7"
      },
      "source": [
        "df1 = (df_new.set_index([\"LogS\"])\n",
        "         .stack()\n",
        "         .reset_index(name='smiles')\n",
        "         .rename(columns={'level_2':'rows'}))\n",
        "\n",
        "df1"
      ],
      "execution_count": null,
      "outputs": [
        {
          "output_type": "execute_result",
          "data": {
            "text/html": [
              "<div>\n",
              "<style scoped>\n",
              "    .dataframe tbody tr th:only-of-type {\n",
              "        vertical-align: middle;\n",
              "    }\n",
              "\n",
              "    .dataframe tbody tr th {\n",
              "        vertical-align: top;\n",
              "    }\n",
              "\n",
              "    .dataframe thead th {\n",
              "        text-align: right;\n",
              "    }\n",
              "</style>\n",
              "<table border=\"1\" class=\"dataframe\">\n",
              "  <thead>\n",
              "    <tr style=\"text-align: right;\">\n",
              "      <th></th>\n",
              "      <th>LogS</th>\n",
              "      <th>level_1</th>\n",
              "      <th>smiles</th>\n",
              "    </tr>\n",
              "  </thead>\n",
              "  <tbody>\n",
              "    <tr>\n",
              "      <th>0</th>\n",
              "      <td>-2.122892</td>\n",
              "      <td>0</td>\n",
              "      <td>c1ccc2c(c1)[nH]c1[C@H]3N(CCc21)C[C@H]1[C@@H]([...</td>\n",
              "    </tr>\n",
              "    <tr>\n",
              "      <th>1</th>\n",
              "      <td>-2.122892</td>\n",
              "      <td>1</td>\n",
              "      <td>O=C([C@H]1[C@H](CC[C@H]2CN3CCc4c5c([nH]c4[C@@H...</td>\n",
              "    </tr>\n",
              "    <tr>\n",
              "      <th>2</th>\n",
              "      <td>-2.122892</td>\n",
              "      <td>2</td>\n",
              "      <td>[nH]1c2[C@H]3N(C[C@@H]4CC[C@H](O)[C@H](C(O)=O)...</td>\n",
              "    </tr>\n",
              "    <tr>\n",
              "      <th>3</th>\n",
              "      <td>-2.122892</td>\n",
              "      <td>3</td>\n",
              "      <td>C1[C@@H]2N(CCc3c2[nH]c2c3cccc2)C[C@@H]2CC[C@H]...</td>\n",
              "    </tr>\n",
              "    <tr>\n",
              "      <th>4</th>\n",
              "      <td>-2.122892</td>\n",
              "      <td>4</td>\n",
              "      <td>[C@H]12C[C@H]3[C@@H](CC[C@@H]([C@@H]3C(O)=O)O)...</td>\n",
              "    </tr>\n",
              "    <tr>\n",
              "      <th>...</th>\n",
              "      <td>...</td>\n",
              "      <td>...</td>\n",
              "      <td>...</td>\n",
              "    </tr>\n",
              "    <tr>\n",
              "      <th>6945</th>\n",
              "      <td>-2.350352</td>\n",
              "      <td>5</td>\n",
              "      <td>c1(ccccc1N=C(c1ccc(cc1)N(C)C)c1ccc(N(C)C)cc1)N</td>\n",
              "    </tr>\n",
              "    <tr>\n",
              "      <th>6946</th>\n",
              "      <td>-2.350352</td>\n",
              "      <td>6</td>\n",
              "      <td>c1(ccc(cc1)C(=Nc1c(cccc1)N)c1ccc(N(C)C)cc1)N(C)C</td>\n",
              "    </tr>\n",
              "    <tr>\n",
              "      <th>6947</th>\n",
              "      <td>-2.350352</td>\n",
              "      <td>7</td>\n",
              "      <td>c1cc(N(C)C)ccc1C(=Nc1c(cccc1)N)c1ccc(N(C)C)cc1</td>\n",
              "    </tr>\n",
              "    <tr>\n",
              "      <th>6948</th>\n",
              "      <td>-2.350352</td>\n",
              "      <td>8</td>\n",
              "      <td>c1cc(ccc1N(C)C)C(=Nc1ccccc1N)c1ccc(cc1)N(C)C</td>\n",
              "    </tr>\n",
              "    <tr>\n",
              "      <th>6949</th>\n",
              "      <td>-2.350352</td>\n",
              "      <td>9</td>\n",
              "      <td>c1cc(N(C)C)ccc1C(=Nc1c(cccc1)N)c1ccc(N(C)C)cc1</td>\n",
              "    </tr>\n",
              "  </tbody>\n",
              "</table>\n",
              "<p>6950 rows × 3 columns</p>\n",
              "</div>"
            ],
            "text/plain": [
              "          LogS  level_1                                             smiles\n",
              "0    -2.122892        0  c1ccc2c(c1)[nH]c1[C@H]3N(CCc21)C[C@H]1[C@@H]([...\n",
              "1    -2.122892        1  O=C([C@H]1[C@H](CC[C@H]2CN3CCc4c5c([nH]c4[C@@H...\n",
              "2    -2.122892        2  [nH]1c2[C@H]3N(C[C@@H]4CC[C@H](O)[C@H](C(O)=O)...\n",
              "3    -2.122892        3  C1[C@@H]2N(CCc3c2[nH]c2c3cccc2)C[C@@H]2CC[C@H]...\n",
              "4    -2.122892        4  [C@H]12C[C@H]3[C@@H](CC[C@@H]([C@@H]3C(O)=O)O)...\n",
              "...        ...      ...                                                ...\n",
              "6945 -2.350352        5     c1(ccccc1N=C(c1ccc(cc1)N(C)C)c1ccc(N(C)C)cc1)N\n",
              "6946 -2.350352        6   c1(ccc(cc1)C(=Nc1c(cccc1)N)c1ccc(N(C)C)cc1)N(C)C\n",
              "6947 -2.350352        7     c1cc(N(C)C)ccc1C(=Nc1c(cccc1)N)c1ccc(N(C)C)cc1\n",
              "6948 -2.350352        8       c1cc(ccc1N(C)C)C(=Nc1ccccc1N)c1ccc(cc1)N(C)C\n",
              "6949 -2.350352        9     c1cc(N(C)C)ccc1C(=Nc1c(cccc1)N)c1ccc(N(C)C)cc1\n",
              "\n",
              "[6950 rows x 3 columns]"
            ]
          },
          "metadata": {},
          "execution_count": 145
        }
      ]
    },
    {
      "cell_type": "code",
      "metadata": {
        "id": "SW2Ir2QKzz_a"
      },
      "source": [
        "df1=df1['LogS'].is"
      ],
      "execution_count": null,
      "outputs": []
    },
    {
      "cell_type": "code",
      "metadata": {
        "id": "QDTwhGm9o-FD"
      },
      "source": [
        "df1[\"smiles_length\"]= df1[\"smiles\"].apply(len)"
      ],
      "execution_count": null,
      "outputs": []
    },
    {
      "cell_type": "code",
      "metadata": {
        "colab": {
          "base_uri": "https://localhost:8080/"
        },
        "id": "-Qw4lcSDow6X",
        "outputId": "a781ac9f-85f6-464e-fca4-b0d1e5594a57"
      },
      "source": [
        "#smiles_length = sol[\"SMILES\"],key =len\n",
        "#print(smiles_length)\n",
        "df1  = df1[df1['smiles_length'] < 100]\n",
        "print(len(df1))"
      ],
      "execution_count": null,
      "outputs": [
        {
          "output_type": "stream",
          "name": "stdout",
          "text": [
            "6907\n"
          ]
        }
      ]
    },
    {
      "cell_type": "code",
      "metadata": {
        "id": "d8Pv6GX_jVoz"
      },
      "source": [
        "## Saving data frame tocsv file :::;\n",
        "\n",
        "df1.to_csv('/content/drive/MyDrive/KIT/ethanol_augmented_data.csv')"
      ],
      "execution_count": null,
      "outputs": []
    },
    {
      "cell_type": "code",
      "metadata": {
        "colab": {
          "base_uri": "https://localhost:8080/"
        },
        "id": "Mgckp7PwiOmX",
        "outputId": "5f46150b-35fe-43d8-83bd-5fc0a2ad8a26"
      },
      "source": [
        "df1.smiles"
      ],
      "execution_count": null,
      "outputs": [
        {
          "output_type": "execute_result",
          "data": {
            "text/plain": [
              "0       c1ccc2c(c1)[nH]c1[C@H]3N(CCc21)C[C@H]1[C@@H]([...\n",
              "1       O=C([C@H]1[C@H](CC[C@H]2CN3CCc4c5c([nH]c4[C@@H...\n",
              "2       [nH]1c2[C@H]3N(C[C@@H]4CC[C@H](O)[C@H](C(O)=O)...\n",
              "3       C1[C@@H]2N(CCc3c2[nH]c2c3cccc2)C[C@@H]2CC[C@H]...\n",
              "4       [C@H]12C[C@H]3[C@@H](CC[C@@H]([C@@H]3C(O)=O)O)...\n",
              "                              ...                        \n",
              "6945       c1(ccccc1N=C(c1ccc(cc1)N(C)C)c1ccc(N(C)C)cc1)N\n",
              "6946     c1(ccc(cc1)C(=Nc1c(cccc1)N)c1ccc(N(C)C)cc1)N(C)C\n",
              "6947       c1cc(N(C)C)ccc1C(=Nc1c(cccc1)N)c1ccc(N(C)C)cc1\n",
              "6948         c1cc(ccc1N(C)C)C(=Nc1ccccc1N)c1ccc(cc1)N(C)C\n",
              "6949       c1cc(N(C)C)ccc1C(=Nc1c(cccc1)N)c1ccc(N(C)C)cc1\n",
              "Name: smiles, Length: 6907, dtype: object"
            ]
          },
          "metadata": {},
          "execution_count": 168
        }
      ]
    },
    {
      "cell_type": "code",
      "metadata": {
        "id": "8ZvndhgZQBQ8"
      },
      "source": [
        ""
      ],
      "execution_count": null,
      "outputs": []
    },
    {
      "cell_type": "code",
      "metadata": {
        "id": "DSGxcLxQQDi1"
      },
      "source": [
        ""
      ],
      "execution_count": null,
      "outputs": []
    },
    {
      "cell_type": "code",
      "metadata": {
        "colab": {
          "base_uri": "https://localhost:8080/"
        },
        "id": "yeAA-gB9itA6",
        "outputId": "941a456e-a608-41d5-a072-5bae210ebce0"
      },
      "source": [
        "!pip install -q condacolab\n",
        "import condacolab\n",
        "condacolab.install()"
      ],
      "execution_count": null,
      "outputs": [
        {
          "output_type": "stream",
          "name": "stdout",
          "text": [
            "✨🍰✨ Everything looks OK!\n"
          ]
        }
      ]
    },
    {
      "cell_type": "code",
      "metadata": {
        "colab": {
          "base_uri": "https://localhost:8080/"
        },
        "id": "jrHfG8sVjCpk",
        "outputId": "08716683-7391-4def-e1b6-d982e9179ffc"
      },
      "source": [
        "### Installing RDKIT \n",
        "\n",
        "!mamba install -c conda-forge rdkit"
      ],
      "execution_count": null,
      "outputs": [
        {
          "output_type": "stream",
          "name": "stdout",
          "text": [
            "\n",
            "                  __    __    __    __\n",
            "                 /  \\  /  \\  /  \\  /  \\\n",
            "                /    \\/    \\/    \\/    \\\n",
            "███████████████/  /██/  /██/  /██/  /████████████████████████\n",
            "              /  / \\   / \\   / \\   / \\  \\____\n",
            "             /  /   \\_/   \\_/   \\_/   \\    o \\__,\n",
            "            / _/                       \\_____/  `\n",
            "            |/\n",
            "        ███╗   ███╗ █████╗ ███╗   ███╗██████╗  █████╗\n",
            "        ████╗ ████║██╔══██╗████╗ ████║██╔══██╗██╔══██╗\n",
            "        ██╔████╔██║███████║██╔████╔██║██████╔╝███████║\n",
            "        ██║╚██╔╝██║██╔══██║██║╚██╔╝██║██╔══██╗██╔══██║\n",
            "        ██║ ╚═╝ ██║██║  ██║██║ ╚═╝ ██║██████╔╝██║  ██║\n",
            "        ╚═╝     ╚═╝╚═╝  ╚═╝╚═╝     ╚═╝╚═════╝ ╚═╝  ╚═╝\n",
            "\n",
            "        mamba (0.8.0) supported by @QuantStack\n",
            "\n",
            "        GitHub:  https://github.com/mamba-org/mamba\n",
            "        Twitter: https://twitter.com/QuantStack\n",
            "\n",
            "█████████████████████████████████████████████████████████████\n",
            "\n",
            "\n",
            "Looking for: ['rdkit']\n",
            "\n",
            "pkgs/main/linux-64       [] (--:--) No change\n",
            "pkgs/main/linux-64       [] (00m:00s) No change\n",
            "pkgs/main/linux-64       [] (00m:00s) No change\n",
            "pkgs/main/noarch         [] (--:--) No change\n",
            "pkgs/main/noarch         [] (00m:00s) No change\n",
            "pkgs/main/noarch         [] (00m:00s) No change\n",
            "pkgs/r/linux-64          [] (--:--) No change\n",
            "pkgs/r/linux-64          [] (00m:00s) No change\n",
            "pkgs/r/linux-64          [] (00m:00s) No change\n",
            "pkgs/r/noarch            [] (--:--) No change\n",
            "pkgs/r/noarch            [] (00m:00s) No change\n",
            "pkgs/r/noarch            [] (00m:00s) No change\n",
            "conda-forge/linux-64     [] (00m:00s) \n",
            "conda-forge/linux-64     [] (00m:00s) 264 KB / ?? (872.66 KB/s)\n",
            "conda-forge/linux-64     [] (00m:00s) 264 KB / ?? (872.66 KB/s)\n",
            "conda-forge/noarch       [] (00m:00s) \n",
            "conda-forge/linux-64     [] (00m:00s) 264 KB / ?? (872.66 KB/s)\n",
            "conda-forge/noarch       [] (00m:00s) 17 KB / ?? (55.00 KB/s)\n",
            "conda-forge/linux-64     [] (00m:00s) 264 KB / ?? (872.66 KB/s)\n",
            "conda-forge/noarch       [] (00m:00s) 17 KB / ?? (55.00 KB/s)\n",
            "conda-forge/linux-64     [] (00m:00s) 1 MB / ?? (2.52 MB/s)\n",
            "conda-forge/noarch       [] (00m:00s) 17 KB / ?? (55.00 KB/s)\n",
            "conda-forge/linux-64     [] (00m:00s) 1 MB / ?? (2.52 MB/s)\n",
            "conda-forge/noarch       [] (00m:00s) 17 KB / ?? (55.00 KB/s)\n",
            "conda-forge/linux-64     [] (00m:00s) 1 MB / ?? (2.52 MB/s)\n",
            "conda-forge/noarch       [] (00m:00s) 839 KB / ?? (1.80 MB/s)\n",
            "conda-forge/linux-64     [] (00m:00s) 1 MB / ?? (2.52 MB/s)\n",
            "conda-forge/noarch       [] (00m:00s) 839 KB / ?? (1.80 MB/s)\n",
            "conda-forge/linux-64     [] (00m:00s) 2 MB / ?? (3.23 MB/s)\n",
            "conda-forge/noarch       [] (00m:00s) 839 KB / ?? (1.80 MB/s)\n",
            "conda-forge/linux-64     [] (00m:00s) 2 MB / ?? (3.23 MB/s)\n",
            "conda-forge/noarch       [] (00m:00s) 839 KB / ?? (1.80 MB/s)\n",
            "conda-forge/linux-64     [] (00m:00s) 2 MB / ?? (3.23 MB/s)\n",
            "conda-forge/noarch       [] (00m:00s) 2 MB / ?? (2.68 MB/s)\n",
            "conda-forge/linux-64     [] (00m:00s) 2 MB / ?? (3.23 MB/s)\n",
            "conda-forge/noarch       [] (00m:00s) 2 MB / ?? (2.68 MB/s)\n",
            "conda-forge/linux-64     [] (00m:00s) 3 MB / ?? (3.70 MB/s)\n",
            "conda-forge/noarch       [] (00m:00s) 2 MB / ?? (2.68 MB/s)\n",
            "conda-forge/linux-64     [] (00m:00s) 3 MB / ?? (3.70 MB/s)\n",
            "conda-forge/noarch       [] (00m:00s) 2 MB / ?? (2.68 MB/s)\n",
            "conda-forge/linux-64     [] (00m:00s) 3 MB / ?? (3.70 MB/s)\n",
            "conda-forge/noarch       [] (00m:00s) 2 MB / ?? (3.23 MB/s)\n",
            "conda-forge/linux-64     [] (00m:00s) 3 MB / ?? (3.70 MB/s)\n",
            "conda-forge/noarch       [] (00m:00s) 2 MB / ?? (3.23 MB/s)\n",
            "conda-forge/linux-64     [] (00m:00s) 3 MB / ?? (3.86 MB/s)\n",
            "conda-forge/noarch       [] (00m:00s) 2 MB / ?? (3.23 MB/s)\n",
            "conda-forge/linux-64     [] (00m:00s) 3 MB / ?? (3.86 MB/s)\n",
            "conda-forge/noarch       [] (00m:00s) 2 MB / ?? (3.23 MB/s)\n",
            "conda-forge/linux-64     [] (00m:00s) 3 MB / ?? (3.86 MB/s)\n",
            "conda-forge/noarch       [] (00m:00s) 3 MB / ?? (3.55 MB/s)\n",
            "conda-forge/linux-64     [] (00m:00s) 3 MB / ?? (3.86 MB/s)\n",
            "conda-forge/noarch       [] (00m:00s) 3 MB / ?? (3.55 MB/s)\n",
            "conda-forge/linux-64     [] (00m:00s) 4 MB / ?? (4.18 MB/s)\n",
            "conda-forge/noarch       [] (00m:00s) 3 MB / ?? (3.55 MB/s)\n",
            "conda-forge/linux-64     [] (00m:00s) 4 MB / ?? (4.18 MB/s)\n",
            "conda-forge/noarch       [] (00m:00s) 3 MB / ?? (3.55 MB/s)\n",
            "conda-forge/linux-64     [] (00m:00s) 4 MB / ?? (4.18 MB/s)\n",
            "conda-forge/noarch       [] (00m:00s) 4 MB / ?? (3.76 MB/s)\n",
            "conda-forge/linux-64     [] (00m:00s) 4 MB / ?? (4.18 MB/s)\n",
            "conda-forge/noarch       [] (00m:00s) 4 MB / ?? (3.76 MB/s)\n",
            "conda-forge/linux-64     [] (00m:00s) 5 MB / ?? (4.34 MB/s)\n",
            "conda-forge/noarch       [] (00m:00s) 4 MB / ?? (3.76 MB/s)\n",
            "conda-forge/linux-64     [] (00m:00s) 5 MB / ?? (4.34 MB/s)\n",
            "conda-forge/noarch       [] (00m:00s) 4 MB / ?? (3.76 MB/s)\n",
            "conda-forge/linux-64     [] (00m:00s) 5 MB / ?? (4.34 MB/s)\n",
            "conda-forge/noarch       [] (00m:00s) 5 MB / ?? (3.82 MB/s)\n",
            "conda-forge/linux-64     [] (00m:01s) 5 MB / ?? (4.34 MB/s)\n",
            "conda-forge/noarch       [] (00m:01s) 5 MB / ?? (3.82 MB/s)\n",
            "conda-forge/linux-64     [] (00m:01s) 6 MB / ?? (4.43 MB/s)\n",
            "conda-forge/noarch       [] (00m:01s) 5 MB / ?? (3.82 MB/s)\n",
            "conda-forge/linux-64     [] (00m:01s) 6 MB / ?? (4.43 MB/s)\n",
            "conda-forge/noarch       [] (00m:01s) 5 MB / ?? (3.82 MB/s)\n",
            "conda-forge/linux-64     [] (00m:01s) 6 MB / ?? (4.43 MB/s)\n",
            "conda-forge/noarch       [] (00m:01s) 5 MB / ?? (3.95 MB/s)\n",
            "conda-forge/linux-64     [] (00m:01s) 6 MB / ?? (4.43 MB/s)\n",
            "conda-forge/noarch       [] (00m:01s) Finalizing...\n",
            "conda-forge/linux-64     [] (00m:01s) 6 MB / ?? (4.43 MB/s)\n",
            "conda-forge/noarch       [] (00m:01s) Done\n",
            "conda-forge/linux-64     [] (00m:01s) 6 MB / ?? (4.43 MB/s)\n",
            "conda-forge/noarch       [] (00m:01s) Done\n",
            "conda-forge/noarch       [] (00m:01s) Done\n",
            "conda-forge/linux-64     [] (00m:01s) 6 MB / ?? (4.43 MB/s)\n",
            "conda-forge/linux-64     [] (00m:02s) 6 MB / ?? (4.43 MB/s)\n",
            "conda-forge/linux-64     [] (00m:02s) 6 MB / ?? (2.70 MB/s)\n",
            "conda-forge/linux-64     [] (00m:02s) 6 MB / ?? (2.70 MB/s)\n",
            "conda-forge/linux-64     [] (00m:02s) 8 MB / ?? (3.28 MB/s)\n",
            "conda-forge/linux-64     [] (00m:02s) 8 MB / ?? (3.28 MB/s)\n",
            "conda-forge/linux-64     [] (00m:02s) 10 MB / ?? (3.74 MB/s)\n",
            "conda-forge/linux-64     [] (00m:02s) 10 MB / ?? (3.74 MB/s)\n",
            "conda-forge/linux-64     [] (00m:02s) 12 MB / ?? (4.21 MB/s)\n",
            "conda-forge/linux-64     [] (00m:02s) 12 MB / ?? (4.21 MB/s)\n",
            "conda-forge/linux-64     [] (00m:02s) 13 MB / ?? (4.38 MB/s)\n",
            "conda-forge/linux-64     [] (00m:02s) 13 MB / ?? (4.38 MB/s)\n",
            "conda-forge/linux-64     [] (00m:02s) 14 MB / ?? (4.42 MB/s)\n",
            "conda-forge/linux-64     [] (00m:02s) 14 MB / ?? (4.42 MB/s)\n",
            "conda-forge/linux-64     [] (00m:02s) 15 MB / ?? (4.46 MB/s)\n",
            "conda-forge/linux-64     [] (00m:03s) 15 MB / ?? (4.46 MB/s)\n",
            "conda-forge/linux-64     [] (00m:03s) 15 MB / ?? (4.49 MB/s)\n",
            "conda-forge/linux-64     [] (00m:03s) 15 MB / ?? (4.49 MB/s)\n",
            "conda-forge/linux-64     [] (00m:03s) 16 MB / ?? (4.53 MB/s)\n",
            "conda-forge/linux-64     [] (00m:03s) Finalizing...\n",
            "conda-forge/linux-64     [] (00m:04s) Done\n",
            "conda-forge/linux-64     [] (00m:04s) Done\n",
            "conda-forge/linux-64     [] (00m:04s) Done\n",
            "Transaction\n",
            "\n",
            "  Prefix: /usr/local\n",
            "\n",
            "  All requested packages already installed\n",
            "\n"
          ]
        }
      ]
    },
    {
      "cell_type": "markdown",
      "metadata": {
        "id": "WY5vQ2A9iYrO"
      },
      "source": [
        "**Convert SMILES in t molecule **"
      ]
    },
    {
      "cell_type": "code",
      "metadata": {
        "id": "seVpgqcMiTg0"
      },
      "source": [
        "from rdkit import Chem\n",
        "from rdkit.Chem.Draw import IPythonConsole"
      ],
      "execution_count": null,
      "outputs": []
    },
    {
      "cell_type": "markdown",
      "metadata": {
        "id": "Npq384mJpLGj"
      },
      "source": [
        "Calculate molecular descriptors\n",
        "To predict LogS (log of the aqueous solubility), the study by Delaney makes use of 4 molecular descriptors:\n",
        "\n",
        "cLogP (Octanol-water partition coefficient)\n",
        "MW (Molecular weight)\n",
        "RB (Number of rotatable bonds)\n",
        "AP (Aromatic proportion = number of aromatic atoms / total number of heavy atoms)\n",
        "Unfortunately, rdkit readily computes the first 3. As for the AP descriptor, we will calculate this by manually computing the ratio of the number of aromatic atoms to the total number of heavy atoms which rdkit can compute. "
      ]
    },
    {
      "cell_type": "markdown",
      "metadata": {
        "id": "MkXr6f80pjJv"
      },
      "source": [
        "####  Calculate LogP, MW and RB"
      ]
    },
    {
      "cell_type": "code",
      "metadata": {
        "id": "w3XBVUVEpShO"
      },
      "source": [
        "import numpy as np\n",
        "from rdkit.Chem import Descriptors\n",
        "from rdkit.Chem import Lipinski\n",
        "from rdkit.Chem import Crippen"
      ],
      "execution_count": null,
      "outputs": []
    },
    {
      "cell_type": "code",
      "metadata": {
        "id": "XpyZPUi38h8j"
      },
      "source": [
        "#desc_Ringcount        =   Descriptors.desc_Ringcount(mol)\n"
      ],
      "execution_count": null,
      "outputs": []
    },
    {
      "cell_type": "code",
      "metadata": {
        "id": "gunZLVl0pQAT"
      },
      "source": [
        "### Write a function to calculate these values....\n",
        "\n",
        "def getAromaticProportion(m):\n",
        "    aromatic_list = [m.GetAtomWithIdx(i).GetIsAromatic() for i in range(m.GetNumAtoms())]\n",
        "    aromatic = 0\n",
        "    for i in aromatic_list:\n",
        "        if i:\n",
        "            aromatic += 1\n",
        "    heavy_atom = Lipinski.HeavyAtomCount(m)\n",
        "    return aromatic / heavy_atom\n",
        "\n",
        "\n",
        "def generate(smiles):\n",
        "    moldata = []\n",
        "    for elem in smiles:\n",
        "        mol = Chem.MolFromSmiles(elem)\n",
        "        moldata.append(mol)\n",
        "\n",
        "    baseData = np.arange(1, 1)\n",
        "    i = 0\n",
        "    for mol in moldata:\n",
        "\n",
        "        desc_MolLogP = Crippen.MolLogP(mol)\n",
        "        desc_MolWt = Descriptors.MolWt(mol)\n",
        "        desc_NumRotatableBonds = Lipinski.NumRotatableBonds(mol)\n",
        "        desc_AromaticProportion = getAromaticProportion(mol)\n",
        "        desc_Ringcount        =   Descriptors.RingCount(mol)\n",
        "        desc_TPSA = Descriptors.TPSA(mol)\n",
        "        desc_Hdonrs=Lipinski.NumHDonors(mol)\n",
        "        desc_SaturatedRings = Lipinski.NumSaturatedRings(mol)   \n",
        "        desc_AliphaticRings = Lipinski.NumAliphaticRings(mol) \n",
        "        desc_HAcceptors = Lipinski.NumHAcceptors(mol)\n",
        "        desc_Heteroatoms = Lipinski.NumHeteroatoms(mol)\n",
        "        #desc_molMR=Descriptors.MolMR(mol)\n",
        "        row = np.array([desc_MolLogP,\n",
        "                        desc_MolWt,\n",
        "                        desc_NumRotatableBonds,\n",
        "                        desc_AromaticProportion,desc_Ringcount,desc_TPSA,desc_Hdonrs,desc_SaturatedRings,desc_AliphaticRings,desc_HAcceptors,desc_Heteroatoms])\n",
        "\n",
        "        if i == 0:\n",
        "            baseData = row\n",
        "        else:\n",
        "            baseData = np.vstack([baseData, row])\n",
        "        i = i + 1\n",
        "\n",
        "    columnNames = [\"MolLogP\", \"MolWt\", \"NumRotatableBonds\", \"AromaticProportion\",\"Ring_Count\",\"TPSA\",\"H_donors\",\"Saturated_Rings\",\"AliphaticRings\",\"H_Acceptors\",\"Heteroatoms\"]\n",
        "    descriptors = pd.DataFrame(data=baseData, columns=columnNames)\n",
        "\n",
        "    return descriptors\n"
      ],
      "execution_count": null,
      "outputs": []
    },
    {
      "cell_type": "code",
      "metadata": {
        "colab": {
          "base_uri": "https://localhost:8080/"
        },
        "id": "ObCCEhUWocQe",
        "outputId": "b7c2b08f-d613-44f5-9aa7-cba93530b639"
      },
      "source": [
        "#### Get new dataframe \n",
        "df2 = generate(df1.smiles)\n",
        "#print(sol.SMILES)\n",
        "print(df2)\n",
        "#df.head(100)"
      ],
      "execution_count": null,
      "outputs": [
        {
          "output_type": "stream",
          "name": "stdout",
          "text": [
            "      MolLogP    MolWt  ...  H_Acceptors  Heteroatoms\n",
            "0      2.5587  340.423  ...          3.0          5.0\n",
            "1      2.5587  340.423  ...          3.0          5.0\n",
            "2      2.5587  340.423  ...          3.0          5.0\n",
            "3      2.5587  340.423  ...          3.0          5.0\n",
            "4      2.5587  340.423  ...          3.0          5.0\n",
            "...       ...      ...  ...          ...          ...\n",
            "6902   4.5699  358.489  ...          4.0          4.0\n",
            "6903   4.5699  358.489  ...          4.0          4.0\n",
            "6904   4.5699  358.489  ...          4.0          4.0\n",
            "6905   4.5699  358.489  ...          4.0          4.0\n",
            "6906   4.5699  358.489  ...          4.0          4.0\n",
            "\n",
            "[6907 rows x 11 columns]\n"
          ]
        }
      ]
    },
    {
      "cell_type": "code",
      "metadata": {
        "id": "hP44NTwicYSN",
        "colab": {
          "base_uri": "https://localhost:8080/"
        },
        "outputId": "6e28e65f-b9c3-45ba-b78b-fe622ea6241f"
      },
      "source": [
        "print(type(sol.SMILES[0]))"
      ],
      "execution_count": null,
      "outputs": [
        {
          "output_type": "stream",
          "name": "stdout",
          "text": [
            "<class 'str'>\n"
          ]
        }
      ]
    },
    {
      "cell_type": "markdown",
      "metadata": {
        "id": "KdLJ2gy7qdBa"
      },
      "source": [
        "3.2.2. Aromatic proportion\n",
        "\n",
        "3.2.1.1. Number of aromatic atoms\n",
        "\n",
        "Here, we will create a custom function to calculate the Number of aromatic atoms. With this descriptor we can use it to subsequently calculate the AP descriptor.\n",
        "\n",
        "Computing for a single molecule."
      ]
    },
    {
      "cell_type": "code",
      "metadata": {
        "id": "0Qp9Ej0fvilB",
        "colab": {
          "base_uri": "https://localhost:8080/"
        },
        "outputId": "4253e5de-f508-4688-e120-258b02c618b0"
      },
      "source": [
        "Y = df1.iloc[:,0]\n",
        "print(Y)\n",
        "X=df2\n",
        "print(X)\n"
      ],
      "execution_count": null,
      "outputs": [
        {
          "output_type": "stream",
          "name": "stdout",
          "text": [
            "0      -2.122892\n",
            "1      -2.122892\n",
            "2      -2.122892\n",
            "3      -2.122892\n",
            "4      -2.122892\n",
            "          ...   \n",
            "6945   -2.350352\n",
            "6946   -2.350352\n",
            "6947   -2.350352\n",
            "6948   -2.350352\n",
            "6949   -2.350352\n",
            "Name: LogS, Length: 6907, dtype: float64\n",
            "      MolLogP    MolWt  ...  H_Acceptors  Heteroatoms\n",
            "0      2.5587  340.423  ...          3.0          5.0\n",
            "1      2.5587  340.423  ...          3.0          5.0\n",
            "2      2.5587  340.423  ...          3.0          5.0\n",
            "3      2.5587  340.423  ...          3.0          5.0\n",
            "4      2.5587  340.423  ...          3.0          5.0\n",
            "...       ...      ...  ...          ...          ...\n",
            "6902   4.5699  358.489  ...          4.0          4.0\n",
            "6903   4.5699  358.489  ...          4.0          4.0\n",
            "6904   4.5699  358.489  ...          4.0          4.0\n",
            "6905   4.5699  358.489  ...          4.0          4.0\n",
            "6906   4.5699  358.489  ...          4.0          4.0\n",
            "\n",
            "[6907 rows x 11 columns]\n"
          ]
        }
      ]
    },
    {
      "cell_type": "code",
      "metadata": {
        "id": "wVbZ-EHNwNzo"
      },
      "source": [
        "####  data split ...\n",
        "\n",
        "from sklearn.model_selection import train_test_split"
      ],
      "execution_count": null,
      "outputs": []
    },
    {
      "cell_type": "code",
      "metadata": {
        "id": "8eZRlyoow_1d"
      },
      "source": [
        "X_train, X_test, y_train, y_test = train_test_split(\n",
        "...     X, Y, test_size=0.10, random_state=42)"
      ],
      "execution_count": null,
      "outputs": []
    },
    {
      "cell_type": "code",
      "metadata": {
        "colab": {
          "base_uri": "https://localhost:8080/"
        },
        "id": "o4lIaUQbv18G",
        "outputId": "25dd4da6-a731-4011-cc32-0298280545a4"
      },
      "source": [
        "\n",
        "X_train=np.array(X_train)\n",
        "X_test=np.array(X_test)\n",
        "y_train=np.array(y_train)\n",
        "y_test=np.array(y_test)\n",
        "print(X_train.shape)\n",
        "print(X_test.shape)\n",
        "print(y_test.shape)\n",
        "print(y_train.shape)"
      ],
      "execution_count": null,
      "outputs": [
        {
          "output_type": "stream",
          "name": "stdout",
          "text": [
            "(6216, 11)\n",
            "(691, 11)\n",
            "(691,)\n",
            "(6216,)\n"
          ]
        }
      ]
    },
    {
      "cell_type": "code",
      "metadata": {
        "id": "uvsukssAx0-v"
      },
      "source": [
        "from sklearn import linear_model\n",
        "from sklearn.svm import SVR\n",
        "from sklearn.ensemble import RandomForestRegressor\n",
        "from sklearn.metrics import mean_squared_error, r2_score"
      ],
      "execution_count": null,
      "outputs": []
    },
    {
      "cell_type": "code",
      "metadata": {
        "colab": {
          "base_uri": "https://localhost:8080/"
        },
        "id": "g8kQpq9Qx2jL",
        "outputId": "9f158954-badc-4848-d20d-91b39e18a3e8"
      },
      "source": [
        "model = linear_model.LinearRegression()\n",
        "model.fit(X_train, y_train)\n",
        "\n",
        "\n"
      ],
      "execution_count": null,
      "outputs": [
        {
          "output_type": "execute_result",
          "data": {
            "text/plain": [
              "LinearRegression(copy_X=True, fit_intercept=True, n_jobs=None, normalize=False)"
            ]
          },
          "metadata": {},
          "execution_count": 16
        }
      ]
    },
    {
      "cell_type": "code",
      "metadata": {
        "colab": {
          "base_uri": "https://localhost:8080/"
        },
        "id": "Qm1QSMqV1qri",
        "outputId": "9e99df1e-6009-48b0-dd48-15e10fa32df7"
      },
      "source": [
        "model_svr=SVR(kernel='rbf')\n",
        "model_svr.fit(X_train, y_train)"
      ],
      "execution_count": null,
      "outputs": [
        {
          "output_type": "execute_result",
          "data": {
            "text/plain": [
              "SVR(C=1.0, cache_size=200, coef0=0.0, degree=3, epsilon=0.1, gamma='scale',\n",
              "    kernel='rbf', max_iter=-1, shrinking=True, tol=0.001, verbose=False)"
            ]
          },
          "metadata": {},
          "execution_count": 17
        }
      ]
    },
    {
      "cell_type": "code",
      "metadata": {
        "colab": {
          "base_uri": "https://localhost:8080/"
        },
        "id": "sdm0y4Dp1woA",
        "outputId": "9cb85448-8407-4a09-9346-06b793d07a81"
      },
      "source": [
        "model_rf = RandomForestRegressor(n_estimators = 1000, random_state = 0)\n",
        "model_rf.fit(X_train, y_train)"
      ],
      "execution_count": null,
      "outputs": [
        {
          "output_type": "execute_result",
          "data": {
            "text/plain": [
              "RandomForestRegressor(bootstrap=True, ccp_alpha=0.0, criterion='mse',\n",
              "                      max_depth=None, max_features='auto', max_leaf_nodes=None,\n",
              "                      max_samples=None, min_impurity_decrease=0.0,\n",
              "                      min_impurity_split=None, min_samples_leaf=1,\n",
              "                      min_samples_split=2, min_weight_fraction_leaf=0.0,\n",
              "                      n_estimators=1000, n_jobs=None, oob_score=False,\n",
              "                      random_state=0, verbose=0, warm_start=False)"
            ]
          },
          "metadata": {},
          "execution_count": 180
        }
      ]
    },
    {
      "cell_type": "code",
      "metadata": {
        "id": "Chaow1d_7fIS"
      },
      "source": [
        "Y_pred_test_rf = model_rf.predict(X_test)"
      ],
      "execution_count": null,
      "outputs": []
    },
    {
      "cell_type": "code",
      "metadata": {
        "id": "mFaQiJm2x5Wt",
        "colab": {
          "base_uri": "https://localhost:8080/",
          "height": 313
        },
        "outputId": "bd4b125a-4324-473b-8c09-4cfd4b05b9d0"
      },
      "source": [
        "import matplotlib.pyplot as plt\n",
        "preds = model_rf.predict(X_train)\n",
        "x_y_line = np.linspace(min(y_train.flatten()), max(y_train.flatten()), 500)\n",
        "plt.plot(y_train.flatten(), preds.flatten(), 'o', label='predictions')\n",
        "plt.plot(x_y_line, x_y_line, label='y=x')\n",
        "plt.xlabel(\"Log solubility (ground truth)\")\n",
        "plt.ylabel(\"Log solubility (predicted)\")\n",
        "plt.title(\"Parity plot: predictions vs ground truth data\")\n",
        "plt.legend()"
      ],
      "execution_count": null,
      "outputs": [
        {
          "output_type": "execute_result",
          "data": {
            "text/plain": [
              "<matplotlib.legend.Legend at 0x7f7418182a10>"
            ]
          },
          "metadata": {},
          "execution_count": 182
        },
        {
          "output_type": "display_data",
          "data": {
            "image/png": "[encoded data removed]",
            "text/plain": [
              "<Figure size 432x288 with 1 Axes>"
            ]
          },
          "metadata": {
            "needs_background": "light"
          }
        }
      ]
    },
    {
      "cell_type": "code",
      "metadata": {
        "id": "YnUR-fj3O55o",
        "colab": {
          "base_uri": "https://localhost:8080/"
        },
        "outputId": "183d1cee-e0eb-4cce-88a2-6e8631b7b256"
      },
      "source": [
        "from xgboost import XGBRegressor\n",
        "model_xgr = XGBRegressor(n_estimators = 10000, random_state = 0)\n",
        "model_xgr.fit(X_train, y_train)"
      ],
      "execution_count": null,
      "outputs": [
        {
          "output_type": "stream",
          "text": [
            "[10:30:08] WARNING: /workspace/src/objective/regression_obj.cu:152: reg:linear is now deprecated in favor of reg:squarederror.\n"
          ],
          "name": "stdout"
        },
        {
          "output_type": "execute_result",
          "data": {
            "text/plain": [
              "XGBRegressor(base_score=0.5, booster='gbtree', colsample_bylevel=1,\n",
              "             colsample_bynode=1, colsample_bytree=1, gamma=0,\n",
              "             importance_type='gain', learning_rate=0.1, max_delta_step=0,\n",
              "             max_depth=3, min_child_weight=1, missing=None, n_estimators=10000,\n",
              "             n_jobs=1, nthread=None, objective='reg:linear', random_state=0,\n",
              "             reg_alpha=0, reg_lambda=1, scale_pos_weight=1, seed=None,\n",
              "             silent=None, subsample=1, verbosity=1)"
            ]
          },
          "metadata": {},
          "execution_count": 25
        }
      ]
    },
    {
      "cell_type": "code",
      "metadata": {
        "id": "tXE7mnWF7rFm",
        "colab": {
          "base_uri": "https://localhost:8080/"
        },
        "outputId": "a72d6b86-cfc4-4e8a-c410-806e299b26ce"
      },
      "source": [
        "Y_pred_test_rf = model_rf.predict(X_test)\n",
        "res = \"\\n\".join(\"{} {}\".format(x, y) for x, y in zip(y_test,Y_pred_test_rf ))\n",
        "print(res)"
      ],
      "execution_count": null,
      "outputs": [
        {
          "output_type": "stream",
          "name": "stdout",
          "text": [
            "-3.601867258 -3.59773263636296\n",
            "-1.399099211 -0.872097221258885\n",
            "-0.564126195 -0.5638030568699847\n",
            "-2.415426198 -2.415426198000015\n",
            "-0.5495913029999999 -0.5476579595830033\n",
            "-2.17416425 -2.1741642500000506\n",
            "0.052120124000000004 -0.2572140639621289\n",
            "-2.062583221 -2.0625832210000232\n",
            "-0.7495416909999999 -0.7495416909999922\n",
            "-1.708604119 -1.707937950344016\n",
            "-2.673538801 -2.673538801000013\n",
            "-3.408935393 -3.40620903719597\n",
            "-2.886123037 -2.886123036999965\n",
            "-0.09622215 -0.09891155811900156\n",
            "0.533701714 0.5337017140000067\n",
            "-2.897091314 -2.895908998318013\n",
            "-1.355566778 -1.3565461151189915\n",
            "-2.222083205 -2.2220832050000086\n",
            "-0.725034713 -0.7250347130000111\n",
            "-0.30016229 -0.30016229000000255\n",
            "-0.8026711240000001 -0.8130747347399983\n",
            "0.871572936 0.8747732434471586\n",
            "-1.8663102619999998 -1.8663102620000223\n",
            "-1.910350113 -1.9103501130000349\n",
            "-2.554632308 -2.5546323079999635\n",
            "-1.353697444 -1.3536974440000094\n",
            "-1.289524726 -1.2895247260000084\n",
            "-1.524765299 -1.5247652989999816\n",
            "0.6981005459999999 0.6963245341539877\n",
            "-2.879728133 -2.8744813962069737\n",
            "0.072203685 0.07019829884899986\n",
            "-2.221129619 -2.222215209949009\n",
            "-0.086186148 -0.08618614799999993\n",
            "-2.222083205 -2.2220832050000086\n",
            "-0.946268355 -0.9462683550000062\n",
            "-0.36232439899999996 -0.3623243989999926\n",
            "-0.43889811799999995 -0.43889811799999756\n",
            "-0.77226716 -0.7722671599999911\n",
            "-1.863368836 -1.8635713349090164\n",
            "-0.6928843570000001 -0.692884357000015\n",
            "-2.190811492 -2.1923884633999915\n",
            "0.39078633799999996 0.3907863379999983\n",
            "-0.901912418 -0.9022773257920198\n",
            "-3.258627307 -2.9091591354777213\n",
            "-3.6270946139999998 -3.6270946139999367\n",
            "-2.504554637 -2.504554637000008\n",
            "-0.564126195 -0.5638030568699847\n",
            "-0.18494465300000001 -0.1849446530000018\n",
            "0.626228979 0.6262289789999985\n",
            "-0.338961823 -0.17966871198290102\n",
            "-0.725034713 -0.7250347130000111\n",
            "7.38e-06 1.5910791691480423e-06\n",
            "-1.342109292 -1.3421092920000155\n",
            "-2.4086774319999997 -2.4086774320000224\n",
            "0.5954962220000001 0.5953762647199979\n",
            "-1.10546509 -1.1054650900000262\n",
            "0.542212284 0.5422122840000055\n",
            "0.361215791 0.36119631409746034\n",
            "-1.353697444 -1.3536974440000094\n",
            "-0.687277577 -0.38130419631890017\n",
            "-0.387215989 -0.1625242892593677\n",
            "-0.314498856 -0.9081279691685992\n",
            "-2.045757491 -2.045757490999958\n",
            "-1.214669172 -0.8202437952649806\n",
            "-0.2596373 -0.2596373000000032\n",
            "0.5987928060000001 0.5987928060000051\n",
            "-2.837505883 -2.8375058830000226\n",
            "-2.152037413 -2.1520374130000137\n",
            "-0.164919184 -0.16491918400000197\n",
            "-2.505568561 -2.5055685610000156\n",
            "-1.214669172 -0.8202437952649806\n",
            "0.562124627 0.5621246270000027\n",
            "-0.298151846 -0.29815184599999733\n",
            "-3.955554542 -3.9555545419999394\n",
            "0.0681909 0.06451270910099918\n",
            "-2.439194048 -2.439194047999991\n",
            "-1.4751345 -1.4751344999999827\n",
            "0.5954962220000001 0.5953762647199979\n",
            "0.49237377600000004 0.4923737760000083\n",
            "-1.4569207 -1.456920699999974\n",
            "-1.9531226000000002 -2.0340215287749213\n",
            "-2.23825764 -2.126597035223736\n",
            "-2.1037009909999997 -2.0340215287749213\n",
            "-2.7208883680000002 -2.7208883680000246\n",
            "-1.5006028630000001 -1.5006104572082273\n",
            "-2.484920005 -2.484920004999998\n",
            "-1.48557607 -1.4855760699999832\n",
            "-1.1775537729999999 -1.178950214697\n",
            "-2.06048026 -2.0604802600000314\n",
            "0.607805464 0.6078054640000029\n",
            "-2.879728133 -2.8744813962069737\n",
            "-0.5495913029999999 -0.5476579595830033\n",
            "-2.0444783490000003 -2.0440774585509773\n",
            "-1.910350113 -1.9103501130000349\n",
            "-2.026450829 -2.126597035223736\n",
            "-0.8284146309999999 -0.8278293307079891\n",
            "-0.5440233720000001 -0.54402337200001\n",
            "-1.517953347 -1.5179533470000022\n",
            "-0.12847523 -0.12847523000000294\n",
            "-2.1291131709999997 -2.1291131709999753\n",
            "-2.210257085 -2.2091480813176263\n",
            "0.871572936 0.8747732434471586\n",
            "-2.331620312 -2.331620312000003\n",
            "-3.609999999 -3.6099999990000393\n",
            "-2.1509303930000003 -2.150930392999977\n",
            "-2.763698043 -2.763698043000038\n",
            "-2.593386658 -2.5933866580000076\n",
            "-1.752447265 -1.7524472650000005\n",
            "-2.879728133 -2.8744813962069737\n",
            "-0.223633396 -0.22363339599999726\n",
            "0.22789432699999998 0.2278943270000012\n",
            "0.169483185 0.16948318499999873\n",
            "-1.7038371280000002 -1.703837128000019\n",
            "-1.70251239 -1.7012668198450245\n",
            "-3.68711345 -3.687113450000077\n",
            "-2.210257085 -2.2091480813176263\n",
            "-2.130189117 -2.1312955014760457\n",
            "-1.519664904 -1.5196649039999823\n",
            "0.160128574 0.16012857399999855\n",
            "-0.858778798 -0.8573578945750028\n",
            "-2.57399547 -2.573995470000046\n",
            "-2.379723593 -2.379723593000059\n",
            "0.5954962220000001 0.5953762647199979\n",
            "-0.964369565 -0.9643695649999926\n",
            "-2.9779719860000005 -2.7496069231112563\n",
            "-3.279386998 -3.279386998000037\n",
            "-2.522878745 -2.5228787450000354\n",
            "0.157251372 0.1565712321129997\n",
            "-1.0473521000000001 -1.0473521000000077\n",
            "-1.004364225 -1.3065592269328838\n",
            "-3.258627307 -2.9091591354777213\n",
            "-2.3467447580000003 -2.3467447580000638\n",
            "-1.320844297 -1.3208442969999812\n",
            "-0.7827305440000001 -0.7827305439999834\n",
            "-1.4569207 -1.456920699999974\n",
            "-2.1725826269999997 -2.172582627000044\n",
            "-2.701037233 -2.701037233000044\n",
            "0.49237377600000004 0.4923737760000083\n",
            "-0.394055294 -0.39306337053399776\n",
            "-2.701037233 -2.701037233000044\n",
            "-3.1864472010000005 -3.1864472010000533\n",
            "-2.897091314 -2.895908998318013\n",
            "-1.0869400790000001 -1.086940078999989\n",
            "-2.477818615 -2.4778186150000083\n",
            "0.138857616 0.13885761599999819\n",
            "-1.771354104 -1.4895329003774822\n",
            "-0.40255713 -0.4025571299999947\n",
            "0.8456890159999999 0.8456890160000173\n",
            "-1.693113263 -1.6923785036819876\n",
            "-1.0 -1.0\n",
            "0.074274412 0.07399184982799992\n",
            "-3.064857195 -3.06427718195103\n",
            "-3.692187894 -3.6921878940000745\n",
            "-2.4086774319999997 -2.4086774320000224\n",
            "-3.7934695960000004 -3.792862573604917\n",
            "-1.245804519 -1.2458045190000109\n",
            "-0.275046998 -0.2750469979999951\n",
            "-3.1864472010000005 -3.1864472010000533\n",
            "0.154186179 0.15418617900000162\n",
            "-2.17416425 -2.1741642500000506\n",
            "-3.064857195 -3.06427718195103\n",
            "-2.438899077 -2.440284087102006\n",
            "-2.672337227 -2.6723372269999843\n",
            "-2.0078087190000002 -2.0079300234519786\n",
            "0.8235209440000001 0.8235209440000169\n",
            "-1.917214297 -1.9175810798030408\n",
            "-2.065867745 -2.0641632807906745\n",
            "-3.6270946139999998 -3.6270946139999367\n",
            "-0.563834417 -0.5638344170000017\n",
            "-0.8675890079999999 -0.8675890079999884\n",
            "-0.360673591 -0.3606735910000035\n",
            "-2.015580865 -2.0155808649999614\n",
            "-1.917214297 -1.9175810798030408\n",
            "-0.42481882 -0.4248188199999974\n",
            "-2.673538801 -2.673538801000013\n",
            "-3.258627307 -2.9091591354777213\n",
            "-1.753799911 -1.7540494782609886\n",
            "-1.171224459 -1.1712244589999932\n",
            "0.792391689 0.7923916890000188\n",
            "-2.2839971 -2.282107230908014\n",
            "-3.601867258 -3.59773263636296\n",
            "-0.123006146 -0.12300614599999796\n",
            "-2.4500142659999997 -2.4500142659999637\n",
            "0.060697839 0.060697838999999566\n",
            "-1.7415628619999999 -1.7415628619999726\n",
            "-2.891425943 -2.891425942999962\n",
            "-1.43525916 -1.4352591599999882\n",
            "-2.530177734 -2.530177734000028\n",
            "-1.4455959719999998 -1.4455959720000162\n",
            "-3.6815252480000002 -3.6815252480000464\n",
            "-1.5373674819999998 -1.5373674820000207\n",
            "-3.689890553 -3.689890553000066\n",
            "-3.214442783 -3.214442782999978\n",
            "-1.917214297 -1.9175810798030408\n",
            "0.46810174 0.4681017400000057\n",
            "-1.418572841 -1.4185728410000125\n",
            "-2.0 -2.000678033738\n",
            "-0.234013975 -0.23401397500000423\n",
            "-2.617593681 -2.6175936810000144\n",
            "-1.064624923 -1.064654078651001\n",
            "-3.955554542 -3.9555545419999394\n",
            "-3.670157508 -3.6701575080000706\n",
            "-0.6344782210000001 -0.6344782209999955\n",
            "-1.8663102619999998 -1.8663102620000223\n",
            "-2.8402397789999996 -2.8402397790000267\n",
            "-0.564126195 -0.5638030568699847\n",
            "-0.492149724 -0.49214972400000073\n",
            "0.41663846200000004 0.41663846199999444\n",
            "0.591476024 0.5914760239999934\n",
            "-3.042182953 -3.0421829530000357\n",
            "0.671172843 0.6711728430000119\n",
            "0.0 7.824008699874831e-07\n",
            "-2.6024603230000003 -2.602460322999977\n",
            "-1.8845038509999998 -1.8845038510000323\n",
            "-1.483907359 -1.4844946261540348\n",
            "-0.613450986 -0.6134523191490775\n",
            "-3.8554810510000004 -2.30491294787373\n",
            "-3.6815252480000002 -3.6815252480000464\n",
            "-2.673538801 -2.673538801000013\n",
            "-0.764203979 -0.7642612210866053\n",
            "0.591476024 0.5914760239999934\n",
            "0.0681909 0.06451270910099918\n",
            "7.38e-06 1.5910791691480423e-06\n",
            "-2.763698043 -2.763698043000038\n",
            "-1.687277577 -1.6872775770000186\n",
            "-2.2839971 -2.282107230908014\n",
            "-0.270813985 -0.27081398499999654\n",
            "0.597868172 0.5978681719999965\n",
            "-0.8026711240000001 -0.8130747347399983\n",
            "-1.8343555230000002 -1.8343555230000494\n",
            "-1.752447265 -1.7524472650000005\n",
            "-1.225877629 -0.7691841015601739\n",
            "-2.493568977 -2.7496069231112563\n",
            "-2.617593681 -2.6175936810000144\n",
            "-1.248609112 -1.24809085907501\n",
            "-2.0707580130000003 -2.0707580129999767\n",
            "-2.721651726 -2.7216517259999335\n",
            "-2.208446731 -2.2084467310000444\n",
            "-2.440378684 -2.4408656117099667\n",
            "0.8456890159999999 0.8456890160000173\n",
            "-2.287266367 -2.2851401761766352\n",
            "-1.98098835 -1.9809883499999732\n",
            "-2.436556992 -2.4365569920000394\n",
            "0.072203685 0.07019829884899986\n",
            "-1.708604119 -1.707937950344016\n",
            "-2.2839971 -2.282107230908014\n",
            "0.380203964 0.38018079571199365\n",
            "-3.22184875 -3.221848749999963\n",
            "-2.500740305 -2.5007403049999524\n",
            "0.5954962220000001 0.5953762647199979\n",
            "-1.9287217230000002 -1.9287217230000318\n",
            "-1.7493147 -1.7493147000000124\n",
            "0.792391689 0.7923916890000188\n",
            "-1.971432302 -1.9714323020000273\n",
            "-0.241601153 -0.24260321020100328\n",
            "-2.0078087190000002 -2.0079300234519786\n",
            "-2.1214623759999998 -2.121462375999975\n",
            "0.041390235 0.041390235000000844\n",
            "-1.9628000680000002 -1.9628000679999822\n",
            "-2.7569649289999996 -2.7544150234660054\n",
            "-3.0972557419999998 -3.097255742000014\n",
            "-2.761892022 -2.7618920220000445\n",
            "-1.5006028630000001 -1.5006104572082273\n",
            "-0.030876928999999997 -0.03087692900000062\n",
            "0.5518132579999999 0.5518132579999961\n",
            "-0.9902462590000001 -0.9902462589999752\n",
            "-2.0707580130000003 -2.0707580129999767\n",
            "-2.477822797 -2.477822797000033\n",
            "-2.7208883680000002 -2.7208883680000246\n",
            "-2.041611296 -2.0416112959999735\n",
            "-1.4167569690000001 -1.41685051137\n",
            "-1.9531226000000002 -2.0340215287749213\n",
            "-1.050605969 -1.0502445328810002\n",
            "-2.500740305 -2.5007403049999524\n",
            "-1.8012853430000002 -1.6722404546246965\n",
            "-1.517953347 -1.5179533470000022\n",
            "-1.869666337 -1.86691221769596\n",
            "-2.1329903669999997 -2.132990367000026\n",
            "0.583329855 0.5833298549999911\n",
            "-0.687277577 -0.38130419631890017\n",
            "-2.7698847730000002 -2.612785682126791\n",
            "-0.477535246 -0.47753524600000197\n",
            "-1.171224459 -1.1712244589999932\n",
            "-0.237499612 -0.2374996119999954\n",
            "-0.5495913029999999 -0.5476579595830033\n",
            "0.533701714 0.5337017140000067\n",
            "-2.0655012580000003 -2.0655012580000287\n",
            "-0.207507264 -0.23189101553872515\n",
            "-0.7847153109999999 -0.7847153110000111\n",
            "-1.77781932 -1.7778193199999848\n",
            "-3.398339376 -3.398339375999974\n",
            "-0.098819806 -0.09881980599999883\n",
            "-0.06824823299999999 -0.06824823299999933\n",
            "-2.791240668 -2.0325576500974445\n",
            "-2.213600031 -2.213600030999998\n",
            "-2.891425943 -2.891425942999962\n",
            "-2.8268129539999998 -2.8268129540000277\n",
            "-2.4086774319999997 -2.4086774320000224\n",
            "-1.11385346 -1.1138534599999796\n",
            "-1.693113263 -1.6923785036819876\n",
            "-2.638272361 -2.638272360999972\n",
            "-0.456942235 -0.4569398745895622\n",
            "-2.0440750359999997 -2.0440750360000406\n",
            "-1.0667423679999999 -1.066742367999977\n",
            "-2.287266367 -2.2851401761766352\n",
            "-0.5662859379999999 -0.5662859380000038\n",
            "-0.096910013 -0.1723266290842255\n",
            "-1.481419875 -1.4814198750000138\n",
            "-0.277383831 -0.2773838310000037\n",
            "-3.609999999 -3.6099999990000393\n",
            "0.361215791 0.36119631409746034\n",
            "-3.388272563 -3.3882725630000663\n",
            "-1.399099211 -0.872097221258885\n",
            "-0.55518258 -0.5551825800000005\n",
            "0.40841274299999997 -0.053440574524532436\n",
            "-2.557397822 -2.5573978219999867\n",
            "-1.245804519 -1.2458045190000109\n",
            "0.061201085 0.061201085000000405\n",
            "-2.070987471 -2.070987471000035\n",
            "0.054531415 -0.45630025266344815\n",
            "-0.09622215 -0.09891155811900156\n",
            "-1.8343555230000002 -1.8343555230000494\n",
            "-0.766231448 -0.7662324094078943\n",
            "-1.772342835 -1.7723428350000145\n",
            "-0.178478611 -0.18096403608700212\n",
            "0.6981005459999999 0.6963245341539877\n",
            "-0.77226716 -0.7722671599999911\n",
            "-3.6270946139999998 -3.6270946139999367\n",
            "0.265996328 0.265996328000001\n",
            "-0.052566894 -0.052566894000001155\n",
            "0.792391689 0.7923916890000188\n",
            "-1.8012853430000002 -1.6722404546246965\n",
            "-1.374682678 -1.3759462676829994\n",
            "-2.020133127 -2.0201331270000074\n",
            "-0.97061622 -0.970616220000009\n",
            "-1.114684198 -1.1146841979999935\n",
            "-1.693113263 -1.6923785036819876\n",
            "-2.0654091919999997 -2.065410563901644\n",
            "-1.303423437 -1.3034234369999933\n",
            "-0.725034713 -0.7250347130000111\n",
            "-2.910861465 -2.9108614649999573\n",
            "-1.113495321 -1.1134953209999896\n",
            "-0.8284146309999999 -0.8278293307079891\n",
            "-1.9847372840000002 -1.9847372839999626\n",
            "-0.858778798 -0.8573578945750028\n",
            "-2.397940009 -2.3979400090000094\n",
            "0.36059341 0.3606118983384531\n",
            "0.222761727 0.22276172700000363\n",
            "-0.876166503 -0.8766956158970094\n",
            "0.39269695 0.39269695000000154\n",
            "-1.681923089 -1.6800810373370125\n",
            "-0.8026711240000001 -0.8130747347399983\n",
            "-0.766250641 -0.7665656088349347\n",
            "-0.170645968 -0.17064596800000179\n",
            "-0.030876928999999997 -0.03087692900000062\n",
            "-1.443202012 -1.4432020120000135\n",
            "-2.440378684 -2.4408656117099667\n",
            "-1.9260924419999998 -1.9260924420000227\n",
            "-3.064857195 -3.06427718195103\n",
            "0.363600914 0.324530497386478\n",
            "-1.8230751180000002 -1.8230751179999665\n",
            "0.380203964 0.38018079571199365\n",
            "-2.3467447580000003 -2.3467447580000638\n",
            "-2.065867745 -2.0641632807906745\n",
            "-2.500740305 -2.5007403049999524\n",
            "-0.468666514 -0.468666514000005\n",
            "-2.365817792 -2.3658177919999868\n",
            "-2.0707580130000003 -2.0707580129999767\n",
            "0.060697839 0.060697838999999566\n",
            "-2.118229479 -2.1182294790000404\n",
            "-2.3329461869999997 -2.332946186999996\n",
            "-2.823897322 -2.822703855430994\n",
            "-1.850860257 -1.8508602570000183\n",
            "-1.355566778 -1.3565461151189915\n",
            "-2.0707580130000003 -2.0707580129999767\n",
            "0.061201085 0.061201085000000405\n",
            "7.38e-06 1.5910791691480423e-06\n",
            "0.39824594 0.39824593999999575\n",
            "-0.057056573 -0.0597479861369989\n",
            "-1.2411443000000002 -1.2411442999999993\n",
            "-1.558247295 -1.6722404546246965\n",
            "-2.219563635 -2.2195636350000045\n",
            "-1.190535841 -1.190562468106662\n",
            "-0.23370444399999998 -0.236750126554004\n",
            "-1.772342835 -1.7723428350000145\n",
            "-1.4167569690000001 -1.41685051137\n",
            "0.539322329 0.539322329000005\n",
            "-0.40602626299999994 -0.40605018907500107\n",
            "-0.711484813 -0.7114848130000007\n",
            "-1.139914495 -1.1399144950000015\n",
            "-0.7902932429999999 -0.7902932429999859\n",
            "-1.753799911 -1.7540494782609886\n",
            "-2.2795539469999997 -2.2795539470000055\n",
            "-1.249528783 -1.2499814397649787\n",
            "-2.4500142659999997 -2.4500142659999637\n",
            "0.380203964 0.38018079571199365\n",
            "-2.274082705 -2.27408270499999\n",
            "-2.940199207 -2.9401992070000493\n",
            "0.265996328 0.265996328000001\n",
            "-0.090405698 -0.09040569799999884\n",
            "-1.443202012 -1.4432020120000135\n",
            "-1.189895628 -1.189905844370662\n",
            "-1.374682678 -1.3759462676829994\n",
            "-2.0444783490000003 -2.0440774585509773\n",
            "-0.09622215 -0.09891155811900156\n",
            "-1.214669172 -0.8202437952649806\n",
            "0.008276759 0.008276759000000062\n",
            "-2.612749267 -2.6127492669999746\n",
            "-1.83088487 -1.830884870000031\n",
            "-1.7257003480000002 -1.725544983972973\n",
            "-0.9839528470000001 -0.9839528469999829\n",
            "-0.277383831 -0.2773838310000037\n",
            "0.792391689 0.7923916890000188\n",
            "-2.910861465 -2.9108614649999573\n",
            "0.041390235 0.041390235000000844\n",
            "-0.582021133 -0.582021133000009\n",
            "-1.7147756319999998 -1.7147756320000382\n",
            "0.192684881 0.19268488099999856\n",
            "-2.505874587 -2.5058745870000614\n",
            "-2.101837285 -2.101837285000041\n",
            "-0.449776358 -0.4497763580000052\n",
            "0.408240294 0.4078486873879961\n",
            "0.32238574 0.32238573999999864\n",
            "-0.8026711240000001 -0.8130747347399983\n",
            "-0.714448841 -0.7144605221079763\n",
            "-1.101572489 -1.1015724889999918\n",
            "-2.235290614 -2.2340861833089636\n",
            "-1.4167569690000001 -1.41685051137\n",
            "-1.015884705 -1.015884704999985\n",
            "-0.275046998 -0.2750469979999951\n",
            "-2.015580865 -2.0155808649999614\n",
            "-1.4569207 -1.456920699999974\n",
            "-0.178478611 -0.18096403608700212\n",
            "-1.547635776 -1.5476357760000317\n",
            "-1.56390915 -1.563909149999977\n",
            "-0.394055294 -0.39306337053399776\n",
            "-0.814263086 -0.8142630859999894\n",
            "-2.823897322 -2.822703855430994\n",
            "-2.334903897 -2.3349038970000033\n",
            "-3.8239091789999997 -3.8239091790000805\n",
            "-2.579499754 -2.5794997540000084\n",
            "-2.438899077 -2.440284087102006\n",
            "-0.6931371740000001 -0.6931371739999918\n",
            "-2.2831258919999997 -2.2819735333180313\n",
            "-0.2596373 -0.23189101553872515\n",
            "-0.300009502 -0.3000095020000002\n",
            "-2.7569649289999996 -2.7544150234660054\n",
            "-1.854937284 -1.8549372840000131\n",
            "-0.597324383 -0.597324383\n",
            "-0.876166503 -0.8766956158970094\n",
            "-0.297178144 -0.29717814399999204\n",
            "0.160128574 0.16012857399999855\n",
            "-2.1329903669999997 -2.132990367000026\n",
            "-3.171335925 -3.1713359250000748\n",
            "-1.0869400790000001 -1.086940078999989\n",
            "-0.627467868 -0.6274678680000072\n",
            "-3.767782892 -3.7677828920000134\n",
            "-0.204123 -0.2041230000000026\n",
            "-2.057621417 -2.0576214170000213\n",
            "-1.854937284 -1.8549372840000131\n",
            "-0.772286248 -0.7728034864780002\n",
            "-0.766250641 -0.7665656088349347\n",
            "-2.57399547 -2.573995470000046\n",
            "-0.18741569600000002 -0.18741569599999722\n",
            "-0.30016229 -0.30016229000000255\n",
            "-0.43889811799999995 -0.43889811799999756\n",
            "-0.873675102 -0.8736751019999934\n",
            "-2.8517800039999996 -2.8517800039999535\n",
            "0.17207277899999998 0.1720727789999984\n",
            "-0.241601153 -0.24260321020100328\n",
            "-0.241601153 -0.24260321020100328\n",
            "-0.873675102 -0.8736751019999934\n",
            "0.408240294 0.4078486873879961\n",
            "-1.547635776 -1.5476357760000317\n",
            "-0.965213683 -0.9652136830000017\n",
            "-0.36417146 -0.364171460000004\n",
            "-2.6780337380000003 -2.678033738000034\n",
            "-1.189895628 -1.189905844370662\n",
            "-0.7647455470000001 -0.7646906845106126\n",
            "-2.854806862 -2.854806258210673\n",
            "-1.771354104 -1.4895329003774822\n",
            "0.08947484300000001 0.08947484300000086\n",
            "-3.012875764 -3.012875764\n",
            "0.17207277899999998 0.1720727789999984\n",
            "0.408240294 0.4078486873879961\n",
            "-2.618629819 -2.618629819000026\n",
            "-2.76918539 -2.7691853900000414\n",
            "0.5987928060000001 0.5987928060000051\n",
            "-3.745111985 -3.745111985000097\n",
            "-0.8622844540000001 -0.8622844540000121\n",
            "-0.357903099 -0.3579030989999981\n",
            "-2.45058394 -2.4505839399999347\n",
            "-2.579499754 -2.5794997540000084\n",
            "-0.798443109 -0.7984431090000039\n",
            "-1.8574379680000002 -1.8574379680000503\n",
            "-2.76918539 -2.7691853900000414\n",
            "-0.36232439899999996 -0.3623243989999926\n",
            "-0.78430213 -1.1264278725993357\n",
            "-3.48023793 -3.480237929999956\n",
            "-2.7569649289999996 -2.7544150234660054\n",
            "0.7888751159999999 0.7888751159999925\n",
            "-0.5662859379999999 -0.5662859380000038\n",
            "-1.8012853430000002 -1.6722404546246965\n",
            "-2.057621417 -2.0576214170000213\n",
            "-0.2596373 -0.23189101553872515\n",
            "-1.266915455 -1.2669154549999813\n",
            "0.408240294 0.4078486873879961\n",
            "-2.3503522169999997 -2.1208149605149087\n",
            "-0.8622844540000001 -0.8622844540000121\n",
            "-0.6344782210000001 -0.6344782209999955\n",
            "-2.7698847730000002 -2.612785682126791\n",
            "-2.402484727 -2.402484726999967\n",
            "-2.272754731 -2.2727547310000364\n",
            "-0.7028724829999999 -0.7028724829999964\n",
            "-0.7662673940000001 -0.7662664862159099\n",
            "-2.168330068 -2.1683300679999857\n",
            "-2.274082705 -2.27408270499999\n",
            "-1.702185548 -1.7021855479999897\n",
            "-2.672337227 -2.6723372269999843\n",
            "-2.2831258919999997 -2.2819735333180313\n",
            "-3.214442783 -3.214442782999978\n",
            "-2.879728133 -2.8744813962069737\n",
            "-0.5686357870000001 -0.8202437952649806\n",
            "-1.9276726780000002 -1.927672677999965\n",
            "-3.336913804 -3.336913803999917\n",
            "-1.753799911 -1.7540494782609886\n",
            "-0.528663663 -0.5272497423599884\n",
            "-1.9628000680000002 -1.9628000679999822\n",
            "-2.440378684 -2.4408656117099667\n",
            "-1.782676142 -1.7826761419999646\n",
            "-0.8026711240000001 -0.8130747347399983\n",
            "0.583329855 0.5833298549999911\n",
            "-2.242824864 -2.2426425193960413\n",
            "-3.105828551 -3.105480194396953\n",
            "0.707192548 0.703661458129998\n",
            "-2.977160211 -2.9771602109999646\n",
            "-2.379723593 -2.379723593000059\n",
            "-1.90910954 -1.9091095399999671\n",
            "0.503382063 0.503382063000003\n",
            "-0.764203979 -0.7642612210866053\n",
            "-1.050605969 -1.0502445328810002\n",
            "-1.382822954 -1.3828229539999692\n",
            "0.24014674800000002 0.23934276683500075\n",
            "-1.8663102619999998 -1.8663102620000223\n",
            "0.557583436 0.5575834360000014\n",
            "-2.4500142659999997 -2.4500142659999637\n",
            "-3.1323435789999996 -3.132343579000007\n",
            "-2.1239085230000003 -2.123908522999968\n",
            "-2.4754528590000002 -2.4754528589999927\n",
            "0.363600914 0.324530497386478\n",
            "-0.129832963 -0.12983296299999877\n",
            "-1.558247295 -1.6722404546246965\n",
            "-0.876166503 -0.8766956158970094\n",
            "-2.057621417 -2.0576214170000213\n",
            "-1.693113263 -1.6923785036819876\n",
            "-1.9331824659999999 -1.9331824660000165\n",
            "-1.77781932 -1.7778193199999848\n",
            "0.22576712899999998 0.22576712899999696\n",
            "-0.7495416909999999 -0.7495416909999922\n",
            "-1.848997955 -1.8489979549999715\n",
            "-1.0667423679999999 -1.066742367999977\n",
            "7.38e-06 1.6342470764683178e-06\n",
            "-0.772286248 -0.7728034864780002\n",
            "-0.5495913029999999 -0.5476579595830033\n",
            "-1.869666337 -1.86691221769596\n",
            "-0.250254149 -0.2502541489999999\n",
            "-2.440378684 -2.4408656117099667\n",
            "-0.10237291 -0.38130419631890017\n",
            "-0.338961823 -0.17966871198290102\n",
            "-2.638838549 -2.9091591354777213\n",
            "-1.6016610130000002 -1.6016610130000106\n",
            "-0.493410444 -0.49341044400000467\n",
            "-3.408935393 -3.40620903719597\n",
            "-1.8845038509999998 -1.8845038510000323\n",
            "-2.025641699 -2.025641699000018\n",
            "0.213147688 0.2131476879999987\n",
            "-2.940199207 -2.9401992070000493\n",
            "0.074274412 0.07399184982799992\n",
            "-2.672337227 -2.6723372269999843\n",
            "-1.702185548 -1.7021855479999897\n",
            "-1.887724776 -1.8872826471959714\n",
            "-2.0 -2.000678033738\n",
            "0.607805464 0.6078054640000029\n",
            "-2.3503522169999997 -2.1208149605149087\n",
            "-2.940199207 -2.9401992070000493\n",
            "-1.0779113 -1.0779112999999934\n",
            "-1.467648316 -1.4676483159999734\n",
            "-1.2248725409999999 -1.2248725409999859\n",
            "-0.6928843570000001 -0.692884357000015\n",
            "-3.105828551 -3.105480194396953\n",
            "-1.508551265 -1.508551265000032\n",
            "0.542212284 0.5422122840000055\n",
            "-0.204123 -0.2041230000000026\n",
            "0.265996328 0.265996328000001\n",
            "0.539322329 0.539322329000005\n",
            "-1.0393836090000002 -1.0393836089999906\n",
            "-1.83088487 -1.830884870000031\n",
            "0.161805214 0.16180521399999803\n",
            "0.613841822 0.613941710211002\n",
            "-0.68916985 -0.6891698499999928\n",
            "-2.23825764 -2.126597035223736\n",
            "-2.8268129539999998 -2.8268129540000277\n",
            "-0.8284146309999999 -0.8278293307079891\n",
            "-0.12894129199999999 -0.12894129199999688\n",
            "-0.528663663 -0.5272497423599884\n",
            "-2.294933337 -2.2949333370000025\n",
            "-1.7257003480000002 -1.725544983972973\n",
            "-0.7092400790000001 -0.7122604868599907\n",
            "-2.493568977 -2.7496069231112563\n",
            "-2.210257085 -2.2091480813176263\n",
            "-1.9287217230000002 -1.9287217230000318\n",
            "0.39269695 0.39269695000000154\n",
            "-2.1509303930000003 -2.150930392999977\n",
            "-2.1037009909999997 -2.0340215287749213\n",
            "-2.312598381 -2.3125983810000315\n",
            "0.138857616 0.13885761599999819\n",
            "-2.062583221 -2.0625832210000232\n",
            "-1.663336191 -1.663336191000032\n",
            "-0.40053445 -0.40053445000000554\n",
            "-2.080894376 -2.080894376000015\n",
            "-0.880152424 -0.8801524240000099\n",
            "0.4390219 0.43902190000000013\n",
            "-2.208446731 -2.2084467310000444\n",
            "-0.68916985 -0.6891698499999928\n",
            "-1.199537073 -1.199537073000006\n",
            "0.137054209 0.1370542089999998\n",
            "-2.439194048 -2.439194047999991\n",
            "-1.13076721 -1.1307672100000095\n",
            "-0.40602626299999994 -0.40605018907500107\n",
            "-2.015580865 -2.0155808649999614\n",
            "-1.456273421 -1.4562734210000265\n",
            "-2.31657923 -2.3165826853268867\n",
            "-0.8284146309999999 -0.8278293307079891\n",
            "0.072203685 0.07019829884899986\n",
            "-1.9553882830000002 -1.9553882830000335\n",
            "-2.19382051 -2.19382051000002\n",
            "-0.06824823299999999 -0.06824823299999933\n",
            "-3.236573593 -3.23436082404792\n",
            "-2.1239085230000003 -2.123908522999968\n",
            "-2.080894376 -2.080894376000015\n",
            "-0.610212632 -0.6102126320000018\n",
            "-2.0707580130000003 -2.0707580129999767\n",
            "-2.0078087190000002 -2.0079300234519786\n",
            "-0.613450986 -0.6134523191490775\n",
            "-1.064624923 -1.064654078651001\n",
            "-1.910350113 -1.9103501130000349\n",
            "-0.096774317 -0.09677431699999867\n",
            "-1.9531226000000002 -2.0340215287749213\n",
            "-0.493410444 -0.49341044400000467\n",
            "-7.2e-06 6.114163072940882e-07\n",
            "-1.708604119 -1.707937950344016\n",
            "-0.277383831 -0.2773838310000037\n",
            "-2.897091314 -2.895908998318013\n",
            "-1.90910954 -1.9091095399999671\n",
            "-2.52923583 -2.5292358299999838\n",
            "-1.771354104 -1.4895329003774822\n",
            "-0.41196622200000005 -0.41196622199999317\n",
            "0.315608112 0.3149519483080052\n",
            "-2.921360783 -2.9209243422220315\n",
            "-1.5011691969999998 -1.5011691970000183\n",
            "-0.7827305440000001 -0.7827305439999834\n",
            "-2.070987471 -2.070987471000035\n",
            "-1.7257003480000002 -1.725544983972973\n",
            "-0.323508953 -0.3235089529999924\n",
            "-1.9625742640000001 -1.9625742640000226\n",
            "-2.554632308 -2.5546323079999635\n",
            "-1.7257003480000002 -1.725544983972973\n",
            "-2.221129619 -2.222215209949009\n",
            "-2.334903897 -2.3349038970000033\n",
            "-0.241601153 -0.24260321020100328\n",
            "-2.316835803 -2.3168323308558993\n",
            "-2.110796646 -2.11079664599997\n",
            "-2.685396149 -2.685396149000057\n",
            "0.39824594 0.39824593999999575\n",
            "-1.176880379 -1.1768803789999918\n",
            "-1.249528783 -1.2499814397649787\n",
            "-1.042435463 -1.0424354629999748\n",
            "-1.6304307530000002 -1.6293644484419847\n",
            "-2.542885865 -2.5428858649999704\n",
            "-1.23520234 -1.2359925238529814\n",
            "0.363600914 0.324530497386478\n",
            "-1.921003744 -2.1208149605149087\n",
            "-1.248609112 -1.24809085907501\n",
            "-1.249528783 -1.2499814397649787\n",
            "-0.780751347 -0.7807513469999864\n",
            "-2.7569649289999996 -2.7544150234660054\n",
            "-2.477822797 -2.477822797000033\n",
            "-2.45058394 -2.4505839399999347\n",
            "-2.312598381 -2.3125983810000315\n",
            "-1.940469891 -1.9404698910000175\n",
            "-1.391988349 -1.3919883490000144\n"
          ]
        }
      ]
    },
    {
      "cell_type": "code",
      "metadata": {
        "colab": {
          "base_uri": "https://localhost:8080/"
        },
        "id": "PHZXRqlJ8qXy",
        "outputId": "ef5c0d86-1956-4493-93e1-93c7e9c2d1a0"
      },
      "source": [
        "from sklearn.metrics import r2_score\n",
        "r2_score(y_test, Y_pred_test_rf)"
      ],
      "execution_count": null,
      "outputs": [
        {
          "output_type": "execute_result",
          "data": {
            "text/plain": [
              "0.992445778170543"
            ]
          },
          "metadata": {},
          "execution_count": 184
        }
      ]
    },
    {
      "cell_type": "code",
      "metadata": {
        "id": "aJni3EK70FbI",
        "colab": {
          "base_uri": "https://localhost:8080/",
          "height": 313
        },
        "outputId": "4b475ecf-0d37-460b-a741-4fbcda39f3c8"
      },
      "source": [
        "import matplotlib.pyplot as plt\n",
        "preds = model_rf.predict(X_test)\n",
        "x_y_line = np.linspace(min(y_test.flatten()), max(y_test.flatten()), 500)\n",
        "plt.plot(y_test.flatten(), preds.flatten(), 'o', label='predictions')\n",
        "plt.plot(x_y_line, x_y_line, label='y_test')\n",
        "plt.xlabel(\"Log solubility (ground truth)\")\n",
        "plt.ylabel(\"Log solubility (predicted)\")\n",
        "plt.title(\"Parity plot: predictions vs ground truth data\")\n",
        "plt.legend()"
      ],
      "execution_count": null,
      "outputs": [
        {
          "output_type": "execute_result",
          "data": {
            "text/plain": [
              "<matplotlib.legend.Legend at 0x7f741819a050>"
            ]
          },
          "metadata": {},
          "execution_count": 185
        },
        {
          "output_type": "display_data",
          "data": {
            "image/png": "[encoded data removed]",
            "text/plain": [
              "<Figure size 432x288 with 1 Axes>"
            ]
          },
          "metadata": {
            "needs_background": "light"
          }
        }
      ]
    },
    {
      "cell_type": "code",
      "metadata": {
        "id": "EBKea-1sQOdm"
      },
      "source": [
        "import pickle\n",
        "#### Save the model :::::\n",
        "#filename = 'finalized_model.rf'\n",
        "pickle.dump(model_rf, open('/content/drive/MyDrive/KIT/finalized_model_ethanol_99%.pkl', 'wb'))\n",
        " \n",
        "\n"
      ],
      "execution_count": null,
      "outputs": []
    },
    {
      "cell_type": "code",
      "metadata": {
        "colab": {
          "base_uri": "https://localhost:8080/",
          "height": 262
        },
        "id": "ogonLAzwQ2I7",
        "outputId": "eefc12c7-ab10-48f9-ec14-d8ba5987cc19"
      },
      "source": [
        "# some time later...\n",
        "import pickle \n",
        "# load the model from disk\n",
        "loaded_model = pickle.load(open('/content/drive/MyDrive/KIT/finalized_model_ethanol_99%.pkl', 'rb'))\n",
        "Y_pred_test_rf = loaded_model.predict(X_test)\n",
        "result = r2_score(y_test, Y_pred_test_rf)\n",
        "print(result)"
      ],
      "execution_count": null,
      "outputs": [
        {
          "output_type": "error",
          "ename": "NameError",
          "evalue": "ignored",
          "traceback": [
            "\u001b[0;31m---------------------------------------------------------------------------\u001b[0m",
            "\u001b[0;31mNameError\u001b[0m                                 Traceback (most recent call last)",
            "\u001b[0;32m<ipython-input-7-0756916ae01e>\u001b[0m in \u001b[0;36m<module>\u001b[0;34m()\u001b[0m\n\u001b[1;32m      3\u001b[0m \u001b[0;31m# load the model from disk\u001b[0m\u001b[0;34m\u001b[0m\u001b[0;34m\u001b[0m\u001b[0;34m\u001b[0m\u001b[0m\n\u001b[1;32m      4\u001b[0m \u001b[0mloaded_model\u001b[0m \u001b[0;34m=\u001b[0m \u001b[0mpickle\u001b[0m\u001b[0;34m.\u001b[0m\u001b[0mload\u001b[0m\u001b[0;34m(\u001b[0m\u001b[0mopen\u001b[0m\u001b[0;34m(\u001b[0m\u001b[0;34m'/content/drive/MyDrive/KIT/finalized_model_ethanol_99%.pkl'\u001b[0m\u001b[0;34m,\u001b[0m \u001b[0;34m'rb'\u001b[0m\u001b[0;34m)\u001b[0m\u001b[0;34m)\u001b[0m\u001b[0;34m\u001b[0m\u001b[0;34m\u001b[0m\u001b[0m\n\u001b[0;32m----> 5\u001b[0;31m \u001b[0mY_pred_test_rf\u001b[0m \u001b[0;34m=\u001b[0m \u001b[0mloaded_model\u001b[0m\u001b[0;34m.\u001b[0m\u001b[0mpredict\u001b[0m\u001b[0;34m(\u001b[0m\u001b[0mX_test\u001b[0m\u001b[0;34m)\u001b[0m\u001b[0;34m\u001b[0m\u001b[0;34m\u001b[0m\u001b[0m\n\u001b[0m\u001b[1;32m      6\u001b[0m \u001b[0mresult\u001b[0m \u001b[0;34m=\u001b[0m \u001b[0mr2_score\u001b[0m\u001b[0;34m(\u001b[0m\u001b[0my_test\u001b[0m\u001b[0;34m,\u001b[0m \u001b[0mY_pred_test_rf\u001b[0m\u001b[0;34m)\u001b[0m\u001b[0;34m\u001b[0m\u001b[0;34m\u001b[0m\u001b[0m\n\u001b[1;32m      7\u001b[0m \u001b[0mprint\u001b[0m\u001b[0;34m(\u001b[0m\u001b[0mresult\u001b[0m\u001b[0;34m)\u001b[0m\u001b[0;34m\u001b[0m\u001b[0;34m\u001b[0m\u001b[0m\n",
            "\u001b[0;31mNameError\u001b[0m: name 'X_test' is not defined"
          ]
        }
      ]
    },
    {
      "cell_type": "code",
      "metadata": {
        "colab": {
          "base_uri": "https://localhost:8080/"
        },
        "id": "foaxiJ6JfAKq",
        "outputId": "e6c9bb80-eac9-4760-ab8c-01d223484ecf"
      },
      "source": [
        "elem=input(\"Enter smiles get solubility \")\n",
        "#elem='CCc1ccccc1C'\n",
        "#moldata = []\n",
        "#for elem in smiles:\n",
        "mol = Chem.MolFromSmiles(elem)\n",
        "#moldata.append(mol)\n",
        "\n",
        "#    baseData = np.arange(1, 1)\n",
        "#    i = 0\n",
        "#    for mol in moldata:\n",
        "\n",
        "desc_MolLogP = Crippen.MolLogP(mol)\n",
        "desc_MolWt = Descriptors.MolWt(mol)\n",
        "desc_NumRotatableBonds = Lipinski.NumRotatableBonds(mol)\n",
        "desc_AromaticProportion = getAromaticProportion(mol)\n",
        "desc_Ringcount        =   Descriptors.RingCount(mol)\n",
        "desc_TPSA = Descriptors.TPSA(mol)\n",
        "desc_Hdonrs=Lipinski.NumHDonors(mol)\n",
        "desc_SaturatedRings = Lipinski.NumSaturatedRings(mol)   \n",
        "desc_AliphaticRings = Lipinski.NumAliphaticRings(mol) \n",
        "desc_HAcceptors = Lipinski.NumHAcceptors(mol)\n",
        "desc_Heteroatoms = Lipinski.NumHeteroatoms(mol)\n",
        "#desc_molMR=Descriptors.MolMR(mol)\n",
        "row = np.array([desc_MolLogP,desc_MolWt,desc_NumRotatableBonds,desc_AromaticProportion,desc_Ringcount,desc_TPSA,desc_Hdonrs,desc_SaturatedRings,desc_AliphaticRings,desc_HAcceptors,desc_Heteroatoms])\n",
        "                     #   \n",
        "                     #   \n",
        "                     #   )\n",
        "\n",
        "        #if i == 0:\n",
        "baseData = row\n",
        "        #else:\n",
        "baseData = np.vstack([row])\n",
        "#i = i + 1\n",
        "\n",
        "columnNames = [\"MolLogP\", \"MolWt\", \"NumRotatableBonds\", \"AromaticProportion\",\"Ring_Count\",\"TPSA\",\"H_donors\",\"Saturated_Rings\",\"AliphaticRings\",\"H_Acceptors\",\"Heteroatoms\"]\n",
        "descriptors = pd.DataFrame(data=baseData, columns=columnNames)\n",
        "descriptors =np.array(descriptors) \n",
        "preds=loaded_model.predict(descriptors)\n",
        "#predict_test_input = smiles_to_onehots(['elem'], charset, max_smiles_chars)\n",
        "#loaded_model1 = load_model(\"/content/drive/MyDrive/solubility_model_8858.hdf5\")\n",
        "#solubility_prediction = loaded_model.predict(predict_test_input)\n",
        "print(preds)\n",
        "#print(solubility_prediction)\n",
        "#print(type(descriptors))    \n"
      ],
      "execution_count": null,
      "outputs": [
        {
          "output_type": "stream",
          "text": [
            "Enter smiles get solubility Cc1cccc(C=C)c1\n",
            "[-3.32955893]\n"
          ],
          "name": "stdout"
        }
      ]
    },
    {
      "cell_type": "code",
      "metadata": {
        "id": "uuqVJEDFpWfd"
      },
      "source": [
        ""
      ],
      "execution_count": null,
      "outputs": []
    }
  ]
}