{
  "nbformat": 4,
  "nbformat_minor": 0,
  "metadata": {
    "colab": {
      "name": "cnn_solubility_Curateddatset.ipynb",
      "provenance": [],
      "collapsed_sections": [],
      "mount_file_id": "1i-mLeGng_i1wWZri9SHJJ2oRzwjHSou6",
      "authorship_tag": "ABX9TyNPCZL7FlgdpKq5OAebuFDj",
      "include_colab_link": true
    },
    "kernelspec": {
      "name": "python3",
      "display_name": "Python 3"
    },
    "language_info": {
      "name": "python"
    }
  },
  "cells": [
    {
      "cell_type": "markdown",
      "metadata": {
        "id": "view-in-github",
        "colab_type": "text"
      },
      "source": [
        "<a href=\"https://colab.research.google.com/github/ali1810/Deep_Chem/blob/main/cnn_solubility_Curateddatset.ipynb\" target=\"_parent\"><img src=\"https://colab.research.google.com/assets/colab-badge.svg\" alt=\"Open In Colab\"/></a>"
      ]
    },
    {
      "cell_type": "code",
      "metadata": {
        "id": "_yW6lm08y_df"
      },
      "source": [
        "# general imports\n",
        "import pandas as pd\n",
        "import seaborn as sns\n",
        "import matplotlib.pyplot as plt\n",
        "import numpy as np\n",
        "\n",
        "# keras imports\n",
        "from keras.layers import (Input, Dense, Conv1D, MaxPool1D, Dropout, GRU, LSTM, \n",
        "                          TimeDistributed, Add, Flatten, RepeatVector, Lambda, Concatenate)\n",
        "from keras.models import Model, load_model\n",
        "from keras.metrics import binary_crossentropy\n",
        "from keras import initializers\n",
        "import keras.backend as K\n",
        "\n",
        "# Visualization\n",
        "#from keras_sequential_ascii import keras2ascii\n",
        "\n",
        "# utils functions\n",
        "#from utils import *\n",
        "\n",
        "import os\n",
        "os.environ['KMP_DUPLICATE_LIB_OK']='True'\n",
        "\n",
        "# Remove warnings from output\n",
        "import warnings\n",
        "warnings.filterwarnings('ignore')"
      ],
      "execution_count": 10,
      "outputs": []
    },
    {
      "cell_type": "code",
      "metadata": {
        "colab": {
          "base_uri": "https://localhost:8080/",
          "height": 360
        },
        "id": "IDVt2Epgzyl6",
        "outputId": "b65be8bc-30ef-4d0e-d9a4-92c00cc14ab7"
      },
      "source": [
        "## read dataset as a dataframe\n",
        "dataset = pd.read_csv(\"/content/drive/MyDrive/curated-solubility-dataset.csv\")\n",
        "\n",
        "# print column names in dataset\n",
        "print(f\"Columns in dataset: {list(dataset.columns)}\")\n",
        "\n",
        "# print number of rows in dataset\n",
        "print(f\"\\nLength of dataset: {len(dataset)}\")\n",
        "\n",
        "# shuffle rows of the dataset (we could do this later as well when doing train/test splits)\n",
        "dataset = dataset.sample(frac=1, random_state=0)\n",
        "\n",
        "# show first 5 rows of dataframe\n",
        "dataset.head()"
      ],
      "execution_count": 11,
      "outputs": [
        {
          "output_type": "stream",
          "text": [
            "Columns in dataset: ['ID', 'Name', 'InChI', 'InChIKey', 'SMILES', 'Solubility', 'SD', 'Ocurrences', 'Group', 'MolWt', 'MolLogP', 'MolMR', 'HeavyAtomCount', 'NumHAcceptors', 'NumHDonors', 'NumHeteroatoms', 'NumRotatableBonds', 'NumValenceElectrons', 'NumAromaticRings', 'NumSaturatedRings', 'NumAliphaticRings', 'RingCount', 'TPSA', 'LabuteASA', 'BalabanJ', 'BertzCT']\n",
            "\n",
            "Length of dataset: 9982\n"
          ],
          "name": "stdout"
        },
        {
          "output_type": "execute_result",
          "data": {
            "text/html": [
              "<div>\n",
              "<style scoped>\n",
              "    .dataframe tbody tr th:only-of-type {\n",
              "        vertical-align: middle;\n",
              "    }\n",
              "\n",
              "    .dataframe tbody tr th {\n",
              "        vertical-align: top;\n",
              "    }\n",
              "\n",
              "    .dataframe thead th {\n",
              "        text-align: right;\n",
              "    }\n",
              "</style>\n",
              "<table border=\"1\" class=\"dataframe\">\n",
              "  <thead>\n",
              "    <tr style=\"text-align: right;\">\n",
              "      <th></th>\n",
              "      <th>ID</th>\n",
              "      <th>Name</th>\n",
              "      <th>InChI</th>\n",
              "      <th>InChIKey</th>\n",
              "      <th>SMILES</th>\n",
              "      <th>Solubility</th>\n",
              "      <th>SD</th>\n",
              "      <th>Ocurrences</th>\n",
              "      <th>Group</th>\n",
              "      <th>MolWt</th>\n",
              "      <th>MolLogP</th>\n",
              "      <th>MolMR</th>\n",
              "      <th>HeavyAtomCount</th>\n",
              "      <th>NumHAcceptors</th>\n",
              "      <th>NumHDonors</th>\n",
              "      <th>NumHeteroatoms</th>\n",
              "      <th>NumRotatableBonds</th>\n",
              "      <th>NumValenceElectrons</th>\n",
              "      <th>NumAromaticRings</th>\n",
              "      <th>NumSaturatedRings</th>\n",
              "      <th>NumAliphaticRings</th>\n",
              "      <th>RingCount</th>\n",
              "      <th>TPSA</th>\n",
              "      <th>LabuteASA</th>\n",
              "      <th>BalabanJ</th>\n",
              "      <th>BertzCT</th>\n",
              "    </tr>\n",
              "  </thead>\n",
              "  <tbody>\n",
              "    <tr>\n",
              "      <th>6907</th>\n",
              "      <td>B-4206</td>\n",
              "      <td>diuron</td>\n",
              "      <td>InChI=1S/C9H10Cl2N2O/c1-13(2)9(14)12-6-3-4-7(1...</td>\n",
              "      <td>XMTQQYYKAHVGBJ-UHFFFAOYSA-N</td>\n",
              "      <td>CN(C)C(=O)Nc1ccc(Cl)c(Cl)c1</td>\n",
              "      <td>-3.744300</td>\n",
              "      <td>1.227164</td>\n",
              "      <td>5</td>\n",
              "      <td>G4</td>\n",
              "      <td>233.098</td>\n",
              "      <td>3.0869</td>\n",
              "      <td>59.1677</td>\n",
              "      <td>14.0</td>\n",
              "      <td>1.0</td>\n",
              "      <td>1.0</td>\n",
              "      <td>5.0</td>\n",
              "      <td>1.0</td>\n",
              "      <td>76.0</td>\n",
              "      <td>1.0</td>\n",
              "      <td>0.0</td>\n",
              "      <td>0.0</td>\n",
              "      <td>1.0</td>\n",
              "      <td>32.34</td>\n",
              "      <td>92.603980</td>\n",
              "      <td>2.781208</td>\n",
              "      <td>352.665233</td>\n",
              "    </tr>\n",
              "    <tr>\n",
              "      <th>9567</th>\n",
              "      <td>F-988</td>\n",
              "      <td>7-(3-amino-3-methylazetidin-1-yl)-8-chloro-1-c...</td>\n",
              "      <td>InChI=1S/C17H17ClFN3O3/c1-17(20)6-21(7-17)14-1...</td>\n",
              "      <td>DUNZFXZSFJLIKR-UHFFFAOYSA-N</td>\n",
              "      <td>CC1(N)CN(C2=C(Cl)C3=C(C=C2F)C(=O)C(C(=O)O)=CN3...</td>\n",
              "      <td>-5.330000</td>\n",
              "      <td>0.000000</td>\n",
              "      <td>1</td>\n",
              "      <td>G1</td>\n",
              "      <td>365.792</td>\n",
              "      <td>2.3645</td>\n",
              "      <td>93.2117</td>\n",
              "      <td>25.0</td>\n",
              "      <td>5.0</td>\n",
              "      <td>2.0</td>\n",
              "      <td>8.0</td>\n",
              "      <td>3.0</td>\n",
              "      <td>132.0</td>\n",
              "      <td>2.0</td>\n",
              "      <td>2.0</td>\n",
              "      <td>2.0</td>\n",
              "      <td>4.0</td>\n",
              "      <td>88.56</td>\n",
              "      <td>147.136366</td>\n",
              "      <td>2.001398</td>\n",
              "      <td>973.487509</td>\n",
              "    </tr>\n",
              "    <tr>\n",
              "      <th>8083</th>\n",
              "      <td>C-1996</td>\n",
              "      <td>4-acetoxybiphenyl;  4-biphenylyl  acetate</td>\n",
              "      <td>InChI=1S/C14H12O2/c1-11(15)16-14-9-7-13(8-10-1...</td>\n",
              "      <td>MISFQCBPASYYGV-UHFFFAOYSA-N</td>\n",
              "      <td>CC(=O)OC1=CC=C(C=C1)C2=CC=CC=C2</td>\n",
              "      <td>-4.400000</td>\n",
              "      <td>0.000000</td>\n",
              "      <td>1</td>\n",
              "      <td>G1</td>\n",
              "      <td>212.248</td>\n",
              "      <td>3.2789</td>\n",
              "      <td>63.1870</td>\n",
              "      <td>16.0</td>\n",
              "      <td>2.0</td>\n",
              "      <td>0.0</td>\n",
              "      <td>2.0</td>\n",
              "      <td>2.0</td>\n",
              "      <td>80.0</td>\n",
              "      <td>2.0</td>\n",
              "      <td>0.0</td>\n",
              "      <td>0.0</td>\n",
              "      <td>2.0</td>\n",
              "      <td>26.30</td>\n",
              "      <td>94.493449</td>\n",
              "      <td>2.228677</td>\n",
              "      <td>471.848345</td>\n",
              "    </tr>\n",
              "    <tr>\n",
              "      <th>1861</th>\n",
              "      <td>A-3055</td>\n",
              "      <td>methane dimolybdenum</td>\n",
              "      <td>InChI=1S/CH4.2Mo/h1H4;;</td>\n",
              "      <td>JAGQSESDQXCFCH-UHFFFAOYSA-N</td>\n",
              "      <td>C.[Mo].[Mo]</td>\n",
              "      <td>-3.420275</td>\n",
              "      <td>0.409223</td>\n",
              "      <td>2</td>\n",
              "      <td>G3</td>\n",
              "      <td>207.923</td>\n",
              "      <td>0.6311</td>\n",
              "      <td>6.7310</td>\n",
              "      <td>3.0</td>\n",
              "      <td>0.0</td>\n",
              "      <td>0.0</td>\n",
              "      <td>2.0</td>\n",
              "      <td>0.0</td>\n",
              "      <td>20.0</td>\n",
              "      <td>0.0</td>\n",
              "      <td>0.0</td>\n",
              "      <td>0.0</td>\n",
              "      <td>0.0</td>\n",
              "      <td>0.00</td>\n",
              "      <td>49.515427</td>\n",
              "      <td>-0.000000</td>\n",
              "      <td>2.754888</td>\n",
              "    </tr>\n",
              "    <tr>\n",
              "      <th>1509</th>\n",
              "      <td>A-2575</td>\n",
              "      <td>ethyl 4-[[(methylphenylamino)methylene]amino]b...</td>\n",
              "      <td>InChI=1S/C17H18N2O2/c1-3-21-17(20)14-9-11-15(1...</td>\n",
              "      <td>GNGYPJUKIKDJQT-UHFFFAOYSA-N</td>\n",
              "      <td>CCOC(=O)c1ccc(cc1)N=CN(C)c2ccccc2</td>\n",
              "      <td>-5.450777</td>\n",
              "      <td>0.000000</td>\n",
              "      <td>1</td>\n",
              "      <td>G1</td>\n",
              "      <td>282.343</td>\n",
              "      <td>3.6595</td>\n",
              "      <td>85.3955</td>\n",
              "      <td>21.0</td>\n",
              "      <td>3.0</td>\n",
              "      <td>0.0</td>\n",
              "      <td>4.0</td>\n",
              "      <td>5.0</td>\n",
              "      <td>108.0</td>\n",
              "      <td>2.0</td>\n",
              "      <td>0.0</td>\n",
              "      <td>0.0</td>\n",
              "      <td>2.0</td>\n",
              "      <td>41.90</td>\n",
              "      <td>124.243431</td>\n",
              "      <td>2.028889</td>\n",
              "      <td>606.447052</td>\n",
              "    </tr>\n",
              "  </tbody>\n",
              "</table>\n",
              "</div>"
            ],
            "text/plain": [
              "          ID  ...     BertzCT\n",
              "6907  B-4206  ...  352.665233\n",
              "9567   F-988  ...  973.487509\n",
              "8083  C-1996  ...  471.848345\n",
              "1861  A-3055  ...    2.754888\n",
              "1509  A-2575  ...  606.447052\n",
              "\n",
              "[5 rows x 26 columns]"
            ]
          },
          "metadata": {
            "tags": []
          },
          "execution_count": 11
        }
      ]
    },
    {
      "cell_type": "code",
      "metadata": {
        "id": "DdEk2quxVyWu"
      },
      "source": [
        ""
      ],
      "execution_count": null,
      "outputs": []
    },
    {
      "cell_type": "markdown",
      "metadata": {
        "id": "lB-dKWq-9Kny"
      },
      "source": [
        "We can explore the range of solubilities found in the dataset by plotting a histogram of solubility values from the dataset. Our machine learning models will aim to predict these solubilities."
      ]
    },
    {
      "cell_type": "code",
      "metadata": {
        "colab": {
          "base_uri": "https://localhost:8080/",
          "height": 296
        },
        "id": "H00k9o-Q9L2z",
        "outputId": "55089a8b-9eef-4ead-82bf-cd8def46297b"
      },
      "source": [
        "sns.distplot(dataset[\"Solubility\"])"
      ],
      "execution_count": 12,
      "outputs": [
        {
          "output_type": "execute_result",
          "data": {
            "text/plain": [
              "<matplotlib.axes._subplots.AxesSubplot at 0x7f0b068452d0>"
            ]
          },
          "metadata": {
            "tags": []
          },
          "execution_count": 12
        },
        {
          "output_type": "display_data",
          "data": {
            "image/png": "[encoded data removed]",
            "text/plain": [
              "<Figure size 432x288 with 1 Axes>"
            ]
          },
          "metadata": {
            "tags": [],
            "needs_background": "light"
          }
        }
      ]
    },
    {
      "cell_type": "markdown",
      "metadata": {
        "id": "SU1tROL39j7h"
      },
      "source": [
        "In the next cell we will plot a histogram of SMILES string lengths from dataset. These lengths will be used to determine the length of the inputs for our CNN model. Below are examples of the SMILES representation:\n",
        "\n",
        "Methane: 'C' Pentane: 'CCCCC' Methanol and Ethanol: 'CO' and 'CCO' Pyridine: 'C1:C:C:N:C:C:1' To learn more about the SMILES representation, click here."
      ]
    },
    {
      "cell_type": "code",
      "metadata": {
        "colab": {
          "base_uri": "https://localhost:8080/",
          "height": 282
        },
        "id": "cbzAeJPH9olR",
        "outputId": "c6a801a9-e210-48b7-804b-f354f91bfc66"
      },
      "source": [
        "smiles_lengths = map(len, dataset.SMILES.values)\n",
        "sns.distplot(list(smiles_lengths), bins=20, kde=False)"
      ],
      "execution_count": 13,
      "outputs": [
        {
          "output_type": "execute_result",
          "data": {
            "text/plain": [
              "<matplotlib.axes._subplots.AxesSubplot at 0x7f0b0347efd0>"
            ]
          },
          "metadata": {
            "tags": []
          },
          "execution_count": 13
        },
        {
          "output_type": "display_data",
          "data": {
            "image/png": "[encoded data removed]",
            "text/plain": [
              "<Figure size 432x288 with 1 Axes>"
            ]
          },
          "metadata": {
            "tags": [],
            "needs_background": "light"
          }
        }
      ]
    },
    {
      "cell_type": "markdown",
      "metadata": {
        "id": "BeKJsla5-EH-"
      },
      "source": [
        "Data preparation Now we will pre-process the dataset for the CNN models. First, we'll get the unique character set from all SMILES strings in the dataset. Then we will use the unique character set to convert our SMILES strings to a one-hot representation, which is a representation that converts raw strings of text to numerical inputs for our models.\n",
        "\n",
        "In a one-hot representation, each character of our SMILES string is encoded as a vector of zeros, except for one non-zero value. For instance, the character 'C' in the SMILES string is converted to a vector of length 31, consisting of 30 zeros and one non-zero entry of one. The length of this vector (31 in our case) is the total number of unique characters in the dataset.\n",
        "\n",
        "Given a string of 5 characters (say Pentane, which is represented as 'CCCCC'), we would thus get 5 vectors each of length 31. Since different molecules have different SMILES string lengths, we can pre-define the length of each string to be the maximum length from the database, with smaller molecules represented with additional characters. In our case, this maximum length is 40 and we represent the extra characters for smaller molecules with pre-defined one-hot vectors. This means that each molecule is now represented as a set of 40 vectors, each of length 31. We can represent this as a 40x31 matrix.\n",
        "\n",
        "One-hot encoding is commonly used in natural language processing, and you can learn more about one-hot encoding here.\n",
        "\n",
        "Finally, we will define our input and output and create test/train splits in the dataset."
      ]
    },
    {
      "cell_type": "code",
      "metadata": {
        "id": "nOzTB620-GD0"
      },
      "source": [
        "## Function to create unique character from string \n",
        "\n",
        "def generate_charset(full_char_list:list) -> list:\n",
        "    '''\n",
        "    Assumes full_char_list is a list of characters (e.g., ['c', 'c', '1']).\n",
        "    Returns a sorted list of unique characters, with index zero as a NULL character, and a PAD character.\n",
        "    '''\n",
        "    unique_chars = set(''.join(full_char_list))\n",
        "    charset = ['NULL', 'PAD'] + sorted(unique_chars)\n",
        "    return charset"
      ],
      "execution_count": 14,
      "outputs": []
    },
    {
      "cell_type": "code",
      "metadata": {
        "id": "jVaBuuO3-RPF"
      },
      "source": [
        "### Function to create one hot encoder ....\n",
        "\n",
        "def smiles_to_onehots(smiles_strings:list,\n",
        "                     unique_charset:list,\n",
        "                     max_smiles_chars:int) -> np.array:\n",
        "    one_hots = []\n",
        "    charset_length = len(unique_charset)\n",
        "\n",
        "    for smiles_string in smiles_strings:\n",
        "        one_hot_smiles = np.zeros(shape=(max_smiles_chars, charset_length))\n",
        "        for i in range(max_smiles_chars):\n",
        "            one_hot_col = [0]*charset_length\n",
        "            ind = None # Which index will we flip to be \"one-hot\"?\n",
        "            \n",
        "            if i < len(smiles_string):\n",
        "                try:\n",
        "                    ind = unique_charset.index(smiles_string[i])\n",
        "                    # one_hot_col[unique_charset.index(char)] = 1\n",
        "                except ValueError:\n",
        "                    ind = 0 # Treat as NULL if out-of-vocab  \n",
        "                    # one_hot_col[0] = 1 # Treat as NULL if out-of-vocab   \n",
        "            else:\n",
        "                ind = 1 # Add PAD as needed\n",
        "            \n",
        "            one_hot_col[ind] = 1\n",
        "            one_hot_smiles[i,:] = one_hot_col\n",
        "            \n",
        "        one_hots.append(one_hot_smiles)\n",
        "    return np.array(one_hots)"
      ],
      "execution_count": 15,
      "outputs": []
    },
    {
      "cell_type": "code",
      "metadata": {
        "colab": {
          "base_uri": "https://localhost:8080/"
        },
        "id": "ww8yv2UDBIAD",
        "outputId": "e45b9dab-682d-454b-f07e-a0521aba8e3f"
      },
      "source": [
        "### Getting Max Character of the Smiles string ......\n",
        "\n",
        "smiles_lengths = max(dataset1[\"SMILES\"],key =len)\n",
        "print(len(smiles_lengths))"
      ],
      "execution_count": 19,
      "outputs": [
        {
          "output_type": "stream",
          "text": [
            "49\n"
          ],
          "name": "stdout"
        }
      ]
    },
    {
      "cell_type": "code",
      "metadata": {
        "id": "mN8yfRvPpigh"
      },
      "source": [
        "###  Creating New SMILES column to reduce the feature of smiles ....\n",
        "\n",
        "dataset[\"SMILES_LENGTH\"]= dataset[\"SMILES\"].apply(len)\n",
        "\n"
      ],
      "execution_count": 17,
      "outputs": []
    },
    {
      "cell_type": "code",
      "metadata": {
        "id": "aE6pJ5V3Pnq9"
      },
      "source": [
        "#smiles_length = dataset[\"SMILES\"],key =len\n",
        "#print(smiles_length)\n",
        "dataset1  = dataset[dataset['SMILES_LENGTH'] < 50]"
      ],
      "execution_count": 18,
      "outputs": []
    },
    {
      "cell_type": "code",
      "metadata": {
        "colab": {
          "base_uri": "https://localhost:8080/"
        },
        "id": "GW2SIgrfPoul",
        "outputId": "6482c372-ffdf-462f-d30b-62e1ff92ed86"
      },
      "source": [
        "len(dataset1)"
      ],
      "execution_count": null,
      "outputs": [
        {
          "output_type": "execute_result",
          "data": {
            "text/plain": [
              "8511"
            ]
          },
          "metadata": {
            "tags": []
          },
          "execution_count": 27
        }
      ]
    },
    {
      "cell_type": "code",
      "metadata": {
        "colab": {
          "base_uri": "https://localhost:8080/",
          "height": 309
        },
        "id": "1D7_-rV9_9xL",
        "outputId": "a90882d0-7ce9-49af-d801-ccf292f84f88"
      },
      "source": [
        "dataset.head()"
      ],
      "execution_count": null,
      "outputs": [
        {
          "output_type": "execute_result",
          "data": {
            "text/html": [
              "<div>\n",
              "<style scoped>\n",
              "    .dataframe tbody tr th:only-of-type {\n",
              "        vertical-align: middle;\n",
              "    }\n",
              "\n",
              "    .dataframe tbody tr th {\n",
              "        vertical-align: top;\n",
              "    }\n",
              "\n",
              "    .dataframe thead th {\n",
              "        text-align: right;\n",
              "    }\n",
              "</style>\n",
              "<table border=\"1\" class=\"dataframe\">\n",
              "  <thead>\n",
              "    <tr style=\"text-align: right;\">\n",
              "      <th></th>\n",
              "      <th>ID</th>\n",
              "      <th>Name</th>\n",
              "      <th>InChI</th>\n",
              "      <th>InChIKey</th>\n",
              "      <th>SMILES</th>\n",
              "      <th>Solubility</th>\n",
              "      <th>SD</th>\n",
              "      <th>Ocurrences</th>\n",
              "      <th>Group</th>\n",
              "      <th>MolWt</th>\n",
              "      <th>MolLogP</th>\n",
              "      <th>MolMR</th>\n",
              "      <th>HeavyAtomCount</th>\n",
              "      <th>NumHAcceptors</th>\n",
              "      <th>NumHDonors</th>\n",
              "      <th>NumHeteroatoms</th>\n",
              "      <th>NumRotatableBonds</th>\n",
              "      <th>NumValenceElectrons</th>\n",
              "      <th>NumAromaticRings</th>\n",
              "      <th>NumSaturatedRings</th>\n",
              "      <th>NumAliphaticRings</th>\n",
              "      <th>RingCount</th>\n",
              "      <th>TPSA</th>\n",
              "      <th>LabuteASA</th>\n",
              "      <th>BalabanJ</th>\n",
              "      <th>BertzCT</th>\n",
              "      <th>SMILES_NEW</th>\n",
              "      <th>SMILES_LENGTH</th>\n",
              "    </tr>\n",
              "  </thead>\n",
              "  <tbody>\n",
              "    <tr>\n",
              "      <th>6907</th>\n",
              "      <td>B-4206</td>\n",
              "      <td>diuron</td>\n",
              "      <td>InChI=1S/C9H10Cl2N2O/c1-13(2)9(14)12-6-3-4-7(1...</td>\n",
              "      <td>XMTQQYYKAHVGBJ-UHFFFAOYSA-N</td>\n",
              "      <td>CN(C)C(=O)Nc1ccc(Cl)c(Cl)c1</td>\n",
              "      <td>-3.744300</td>\n",
              "      <td>1.227164</td>\n",
              "      <td>5</td>\n",
              "      <td>G4</td>\n",
              "      <td>233.098</td>\n",
              "      <td>3.0869</td>\n",
              "      <td>59.1677</td>\n",
              "      <td>14.0</td>\n",
              "      <td>1.0</td>\n",
              "      <td>1.0</td>\n",
              "      <td>5.0</td>\n",
              "      <td>1.0</td>\n",
              "      <td>76.0</td>\n",
              "      <td>1.0</td>\n",
              "      <td>0.0</td>\n",
              "      <td>0.0</td>\n",
              "      <td>1.0</td>\n",
              "      <td>32.34</td>\n",
              "      <td>92.603980</td>\n",
              "      <td>2.781208</td>\n",
              "      <td>352.665233</td>\n",
              "      <td>False</td>\n",
              "      <td>27</td>\n",
              "    </tr>\n",
              "    <tr>\n",
              "      <th>9567</th>\n",
              "      <td>F-988</td>\n",
              "      <td>7-(3-amino-3-methylazetidin-1-yl)-8-chloro-1-c...</td>\n",
              "      <td>InChI=1S/C17H17ClFN3O3/c1-17(20)6-21(7-17)14-1...</td>\n",
              "      <td>DUNZFXZSFJLIKR-UHFFFAOYSA-N</td>\n",
              "      <td>CC1(N)CN(C2=C(Cl)C3=C(C=C2F)C(=O)C(C(=O)O)=CN3...</td>\n",
              "      <td>-5.330000</td>\n",
              "      <td>0.000000</td>\n",
              "      <td>1</td>\n",
              "      <td>G1</td>\n",
              "      <td>365.792</td>\n",
              "      <td>2.3645</td>\n",
              "      <td>93.2117</td>\n",
              "      <td>25.0</td>\n",
              "      <td>5.0</td>\n",
              "      <td>2.0</td>\n",
              "      <td>8.0</td>\n",
              "      <td>3.0</td>\n",
              "      <td>132.0</td>\n",
              "      <td>2.0</td>\n",
              "      <td>2.0</td>\n",
              "      <td>2.0</td>\n",
              "      <td>4.0</td>\n",
              "      <td>88.56</td>\n",
              "      <td>147.136366</td>\n",
              "      <td>2.001398</td>\n",
              "      <td>973.487509</td>\n",
              "      <td>False</td>\n",
              "      <td>54</td>\n",
              "    </tr>\n",
              "    <tr>\n",
              "      <th>8083</th>\n",
              "      <td>C-1996</td>\n",
              "      <td>4-acetoxybiphenyl;  4-biphenylyl  acetate</td>\n",
              "      <td>InChI=1S/C14H12O2/c1-11(15)16-14-9-7-13(8-10-1...</td>\n",
              "      <td>MISFQCBPASYYGV-UHFFFAOYSA-N</td>\n",
              "      <td>CC(=O)OC1=CC=C(C=C1)C2=CC=CC=C2</td>\n",
              "      <td>-4.400000</td>\n",
              "      <td>0.000000</td>\n",
              "      <td>1</td>\n",
              "      <td>G1</td>\n",
              "      <td>212.248</td>\n",
              "      <td>3.2789</td>\n",
              "      <td>63.1870</td>\n",
              "      <td>16.0</td>\n",
              "      <td>2.0</td>\n",
              "      <td>0.0</td>\n",
              "      <td>2.0</td>\n",
              "      <td>2.0</td>\n",
              "      <td>80.0</td>\n",
              "      <td>2.0</td>\n",
              "      <td>0.0</td>\n",
              "      <td>0.0</td>\n",
              "      <td>2.0</td>\n",
              "      <td>26.30</td>\n",
              "      <td>94.493449</td>\n",
              "      <td>2.228677</td>\n",
              "      <td>471.848345</td>\n",
              "      <td>False</td>\n",
              "      <td>31</td>\n",
              "    </tr>\n",
              "    <tr>\n",
              "      <th>1861</th>\n",
              "      <td>A-3055</td>\n",
              "      <td>methane dimolybdenum</td>\n",
              "      <td>InChI=1S/CH4.2Mo/h1H4;;</td>\n",
              "      <td>JAGQSESDQXCFCH-UHFFFAOYSA-N</td>\n",
              "      <td>C.[Mo].[Mo]</td>\n",
              "      <td>-3.420275</td>\n",
              "      <td>0.409223</td>\n",
              "      <td>2</td>\n",
              "      <td>G3</td>\n",
              "      <td>207.923</td>\n",
              "      <td>0.6311</td>\n",
              "      <td>6.7310</td>\n",
              "      <td>3.0</td>\n",
              "      <td>0.0</td>\n",
              "      <td>0.0</td>\n",
              "      <td>2.0</td>\n",
              "      <td>0.0</td>\n",
              "      <td>20.0</td>\n",
              "      <td>0.0</td>\n",
              "      <td>0.0</td>\n",
              "      <td>0.0</td>\n",
              "      <td>0.0</td>\n",
              "      <td>0.00</td>\n",
              "      <td>49.515427</td>\n",
              "      <td>-0.000000</td>\n",
              "      <td>2.754888</td>\n",
              "      <td>False</td>\n",
              "      <td>11</td>\n",
              "    </tr>\n",
              "    <tr>\n",
              "      <th>1509</th>\n",
              "      <td>A-2575</td>\n",
              "      <td>ethyl 4-[[(methylphenylamino)methylene]amino]b...</td>\n",
              "      <td>InChI=1S/C17H18N2O2/c1-3-21-17(20)14-9-11-15(1...</td>\n",
              "      <td>GNGYPJUKIKDJQT-UHFFFAOYSA-N</td>\n",
              "      <td>CCOC(=O)c1ccc(cc1)N=CN(C)c2ccccc2</td>\n",
              "      <td>-5.450777</td>\n",
              "      <td>0.000000</td>\n",
              "      <td>1</td>\n",
              "      <td>G1</td>\n",
              "      <td>282.343</td>\n",
              "      <td>3.6595</td>\n",
              "      <td>85.3955</td>\n",
              "      <td>21.0</td>\n",
              "      <td>3.0</td>\n",
              "      <td>0.0</td>\n",
              "      <td>4.0</td>\n",
              "      <td>5.0</td>\n",
              "      <td>108.0</td>\n",
              "      <td>2.0</td>\n",
              "      <td>0.0</td>\n",
              "      <td>0.0</td>\n",
              "      <td>2.0</td>\n",
              "      <td>41.90</td>\n",
              "      <td>124.243431</td>\n",
              "      <td>2.028889</td>\n",
              "      <td>606.447052</td>\n",
              "      <td>False</td>\n",
              "      <td>33</td>\n",
              "    </tr>\n",
              "  </tbody>\n",
              "</table>\n",
              "</div>"
            ],
            "text/plain": [
              "          ID  ... SMILES_LENGTH\n",
              "6907  B-4206  ...            27\n",
              "9567   F-988  ...            54\n",
              "8083  C-1996  ...            31\n",
              "1861  A-3055  ...            11\n",
              "1509  A-2575  ...            33\n",
              "\n",
              "[5 rows x 28 columns]"
            ]
          },
          "metadata": {
            "tags": []
          },
          "execution_count": 100
        }
      ]
    },
    {
      "cell_type": "code",
      "metadata": {
        "colab": {
          "base_uri": "https://localhost:8080/",
          "height": 609
        },
        "id": "0y-fb29gq_oo",
        "outputId": "8a127d1c-ed59-484a-994d-66ad40994f0c"
      },
      "source": [
        "dataset.head()"
      ],
      "execution_count": null,
      "outputs": [
        {
          "output_type": "execute_result",
          "data": {
            "text/html": [
              "<div>\n",
              "<style scoped>\n",
              "    .dataframe tbody tr th:only-of-type {\n",
              "        vertical-align: middle;\n",
              "    }\n",
              "\n",
              "    .dataframe tbody tr th {\n",
              "        vertical-align: top;\n",
              "    }\n",
              "\n",
              "    .dataframe thead th {\n",
              "        text-align: right;\n",
              "    }\n",
              "</style>\n",
              "<table border=\"1\" class=\"dataframe\">\n",
              "  <thead>\n",
              "    <tr style=\"text-align: right;\">\n",
              "      <th></th>\n",
              "      <th>ID</th>\n",
              "      <th>Name</th>\n",
              "      <th>InChI</th>\n",
              "      <th>InChIKey</th>\n",
              "      <th>SMILES</th>\n",
              "      <th>Solubility</th>\n",
              "      <th>SD</th>\n",
              "      <th>Ocurrences</th>\n",
              "      <th>Group</th>\n",
              "      <th>MolWt</th>\n",
              "      <th>MolLogP</th>\n",
              "      <th>MolMR</th>\n",
              "      <th>HeavyAtomCount</th>\n",
              "      <th>NumHAcceptors</th>\n",
              "      <th>NumHDonors</th>\n",
              "      <th>NumHeteroatoms</th>\n",
              "      <th>NumRotatableBonds</th>\n",
              "      <th>NumValenceElectrons</th>\n",
              "      <th>NumAromaticRings</th>\n",
              "      <th>NumSaturatedRings</th>\n",
              "      <th>NumAliphaticRings</th>\n",
              "      <th>RingCount</th>\n",
              "      <th>TPSA</th>\n",
              "      <th>LabuteASA</th>\n",
              "      <th>BalabanJ</th>\n",
              "      <th>BertzCT</th>\n",
              "      <th>SMILES_NEW</th>\n",
              "    </tr>\n",
              "  </thead>\n",
              "  <tbody>\n",
              "    <tr>\n",
              "      <th>6907</th>\n",
              "      <td>B-4206</td>\n",
              "      <td>diuron</td>\n",
              "      <td>InChI=1S/C9H10Cl2N2O/c1-13(2)9(14)12-6-3-4-7(1...</td>\n",
              "      <td>XMTQQYYKAHVGBJ-UHFFFAOYSA-N</td>\n",
              "      <td>CN(C)C(=O)Nc1ccc(Cl)c(Cl)c1</td>\n",
              "      <td>-3.744300</td>\n",
              "      <td>1.227164</td>\n",
              "      <td>5</td>\n",
              "      <td>G4</td>\n",
              "      <td>233.098</td>\n",
              "      <td>3.0869</td>\n",
              "      <td>59.1677</td>\n",
              "      <td>14.0</td>\n",
              "      <td>1.0</td>\n",
              "      <td>1.0</td>\n",
              "      <td>5.0</td>\n",
              "      <td>1.0</td>\n",
              "      <td>76.0</td>\n",
              "      <td>1.0</td>\n",
              "      <td>0.0</td>\n",
              "      <td>0.0</td>\n",
              "      <td>1.0</td>\n",
              "      <td>32.34</td>\n",
              "      <td>92.603980</td>\n",
              "      <td>2.781208</td>\n",
              "      <td>352.665233</td>\n",
              "      <td>False</td>\n",
              "    </tr>\n",
              "    <tr>\n",
              "      <th>9567</th>\n",
              "      <td>F-988</td>\n",
              "      <td>7-(3-amino-3-methylazetidin-1-yl)-8-chloro-1-c...</td>\n",
              "      <td>InChI=1S/C17H17ClFN3O3/c1-17(20)6-21(7-17)14-1...</td>\n",
              "      <td>DUNZFXZSFJLIKR-UHFFFAOYSA-N</td>\n",
              "      <td>CC1(N)CN(C2=C(Cl)C3=C(C=C2F)C(=O)C(C(=O)O)=CN3...</td>\n",
              "      <td>-5.330000</td>\n",
              "      <td>0.000000</td>\n",
              "      <td>1</td>\n",
              "      <td>G1</td>\n",
              "      <td>365.792</td>\n",
              "      <td>2.3645</td>\n",
              "      <td>93.2117</td>\n",
              "      <td>25.0</td>\n",
              "      <td>5.0</td>\n",
              "      <td>2.0</td>\n",
              "      <td>8.0</td>\n",
              "      <td>3.0</td>\n",
              "      <td>132.0</td>\n",
              "      <td>2.0</td>\n",
              "      <td>2.0</td>\n",
              "      <td>2.0</td>\n",
              "      <td>4.0</td>\n",
              "      <td>88.56</td>\n",
              "      <td>147.136366</td>\n",
              "      <td>2.001398</td>\n",
              "      <td>973.487509</td>\n",
              "      <td>False</td>\n",
              "    </tr>\n",
              "    <tr>\n",
              "      <th>8083</th>\n",
              "      <td>C-1996</td>\n",
              "      <td>4-acetoxybiphenyl;  4-biphenylyl  acetate</td>\n",
              "      <td>InChI=1S/C14H12O2/c1-11(15)16-14-9-7-13(8-10-1...</td>\n",
              "      <td>MISFQCBPASYYGV-UHFFFAOYSA-N</td>\n",
              "      <td>CC(=O)OC1=CC=C(C=C1)C2=CC=CC=C2</td>\n",
              "      <td>-4.400000</td>\n",
              "      <td>0.000000</td>\n",
              "      <td>1</td>\n",
              "      <td>G1</td>\n",
              "      <td>212.248</td>\n",
              "      <td>3.2789</td>\n",
              "      <td>63.1870</td>\n",
              "      <td>16.0</td>\n",
              "      <td>2.0</td>\n",
              "      <td>0.0</td>\n",
              "      <td>2.0</td>\n",
              "      <td>2.0</td>\n",
              "      <td>80.0</td>\n",
              "      <td>2.0</td>\n",
              "      <td>0.0</td>\n",
              "      <td>0.0</td>\n",
              "      <td>2.0</td>\n",
              "      <td>26.30</td>\n",
              "      <td>94.493449</td>\n",
              "      <td>2.228677</td>\n",
              "      <td>471.848345</td>\n",
              "      <td>False</td>\n",
              "    </tr>\n",
              "    <tr>\n",
              "      <th>1861</th>\n",
              "      <td>A-3055</td>\n",
              "      <td>methane dimolybdenum</td>\n",
              "      <td>InChI=1S/CH4.2Mo/h1H4;;</td>\n",
              "      <td>JAGQSESDQXCFCH-UHFFFAOYSA-N</td>\n",
              "      <td>C.[Mo].[Mo]</td>\n",
              "      <td>-3.420275</td>\n",
              "      <td>0.409223</td>\n",
              "      <td>2</td>\n",
              "      <td>G3</td>\n",
              "      <td>207.923</td>\n",
              "      <td>0.6311</td>\n",
              "      <td>6.7310</td>\n",
              "      <td>3.0</td>\n",
              "      <td>0.0</td>\n",
              "      <td>0.0</td>\n",
              "      <td>2.0</td>\n",
              "      <td>0.0</td>\n",
              "      <td>20.0</td>\n",
              "      <td>0.0</td>\n",
              "      <td>0.0</td>\n",
              "      <td>0.0</td>\n",
              "      <td>0.0</td>\n",
              "      <td>0.00</td>\n",
              "      <td>49.515427</td>\n",
              "      <td>-0.000000</td>\n",
              "      <td>2.754888</td>\n",
              "      <td>False</td>\n",
              "    </tr>\n",
              "    <tr>\n",
              "      <th>1509</th>\n",
              "      <td>A-2575</td>\n",
              "      <td>ethyl 4-[[(methylphenylamino)methylene]amino]b...</td>\n",
              "      <td>InChI=1S/C17H18N2O2/c1-3-21-17(20)14-9-11-15(1...</td>\n",
              "      <td>GNGYPJUKIKDJQT-UHFFFAOYSA-N</td>\n",
              "      <td>CCOC(=O)c1ccc(cc1)N=CN(C)c2ccccc2</td>\n",
              "      <td>-5.450777</td>\n",
              "      <td>0.000000</td>\n",
              "      <td>1</td>\n",
              "      <td>G1</td>\n",
              "      <td>282.343</td>\n",
              "      <td>3.6595</td>\n",
              "      <td>85.3955</td>\n",
              "      <td>21.0</td>\n",
              "      <td>3.0</td>\n",
              "      <td>0.0</td>\n",
              "      <td>4.0</td>\n",
              "      <td>5.0</td>\n",
              "      <td>108.0</td>\n",
              "      <td>2.0</td>\n",
              "      <td>0.0</td>\n",
              "      <td>0.0</td>\n",
              "      <td>2.0</td>\n",
              "      <td>41.90</td>\n",
              "      <td>124.243431</td>\n",
              "      <td>2.028889</td>\n",
              "      <td>606.447052</td>\n",
              "      <td>False</td>\n",
              "    </tr>\n",
              "    <tr>\n",
              "      <th>...</th>\n",
              "      <td>...</td>\n",
              "      <td>...</td>\n",
              "      <td>...</td>\n",
              "      <td>...</td>\n",
              "      <td>...</td>\n",
              "      <td>...</td>\n",
              "      <td>...</td>\n",
              "      <td>...</td>\n",
              "      <td>...</td>\n",
              "      <td>...</td>\n",
              "      <td>...</td>\n",
              "      <td>...</td>\n",
              "      <td>...</td>\n",
              "      <td>...</td>\n",
              "      <td>...</td>\n",
              "      <td>...</td>\n",
              "      <td>...</td>\n",
              "      <td>...</td>\n",
              "      <td>...</td>\n",
              "      <td>...</td>\n",
              "      <td>...</td>\n",
              "      <td>...</td>\n",
              "      <td>...</td>\n",
              "      <td>...</td>\n",
              "      <td>...</td>\n",
              "      <td>...</td>\n",
              "      <td>...</td>\n",
              "    </tr>\n",
              "    <tr>\n",
              "      <th>3719</th>\n",
              "      <td>B-99</td>\n",
              "      <td>dieldrin</td>\n",
              "      <td>InChI=1S/C12H8Cl6O/c13-8-9(14)11(16)5-3-1-2(6-...</td>\n",
              "      <td>DFBKLUNHFCTMDC-UHFFFAOYSA-N</td>\n",
              "      <td>ClC1=C(Cl)C2(Cl)C3C4CC(C5OC45)C3C1(Cl)C2(Cl)Cl</td>\n",
              "      <td>-6.290800</td>\n",
              "      <td>0.069177</td>\n",
              "      <td>3</td>\n",
              "      <td>G5</td>\n",
              "      <td>380.913</td>\n",
              "      <td>4.4814</td>\n",
              "      <td>77.5750</td>\n",
              "      <td>19.0</td>\n",
              "      <td>1.0</td>\n",
              "      <td>0.0</td>\n",
              "      <td>7.0</td>\n",
              "      <td>0.0</td>\n",
              "      <td>104.0</td>\n",
              "      <td>0.0</td>\n",
              "      <td>4.0</td>\n",
              "      <td>5.0</td>\n",
              "      <td>5.0</td>\n",
              "      <td>12.53</td>\n",
              "      <td>139.967998</td>\n",
              "      <td>1.802907</td>\n",
              "      <td>516.422862</td>\n",
              "      <td>False</td>\n",
              "    </tr>\n",
              "    <tr>\n",
              "      <th>1231</th>\n",
              "      <td>A-2131</td>\n",
              "      <td>Benzenamine, N-phenyl-, styrenated</td>\n",
              "      <td>InChI=1S/C28H27N/c1-21(23-9-5-3-6-10-23)25-13-...</td>\n",
              "      <td>BRWSDEFCJGIRLV-UHFFFAOYSA-N</td>\n",
              "      <td>CC(c1ccccc1)c2ccc(Nc3ccc(cc3)C(C)c4ccccc4)cc2</td>\n",
              "      <td>-5.964169</td>\n",
              "      <td>0.000000</td>\n",
              "      <td>1</td>\n",
              "      <td>G1</td>\n",
              "      <td>377.531</td>\n",
              "      <td>7.7338</td>\n",
              "      <td>124.0847</td>\n",
              "      <td>29.0</td>\n",
              "      <td>1.0</td>\n",
              "      <td>1.0</td>\n",
              "      <td>1.0</td>\n",
              "      <td>6.0</td>\n",
              "      <td>144.0</td>\n",
              "      <td>4.0</td>\n",
              "      <td>0.0</td>\n",
              "      <td>0.0</td>\n",
              "      <td>4.0</td>\n",
              "      <td>12.03</td>\n",
              "      <td>173.612316</td>\n",
              "      <td>1.428792</td>\n",
              "      <td>932.165538</td>\n",
              "      <td>False</td>\n",
              "    </tr>\n",
              "    <tr>\n",
              "      <th>9034</th>\n",
              "      <td>F-180</td>\n",
              "      <td>2-[(2-amino-4-methylpentanoyl)amino]-4-methylp...</td>\n",
              "      <td>InChI=1S/C12H24N2O3/c1-7(2)5-9(13)11(15)14-10(...</td>\n",
              "      <td>LCPYQJIKPJDLLB-UHFFFAOYSA-N</td>\n",
              "      <td>CC(C)CC(N)C(=O)NC(CC(C)C)C(=O)O</td>\n",
              "      <td>-0.690000</td>\n",
              "      <td>0.000000</td>\n",
              "      <td>1</td>\n",
              "      <td>G1</td>\n",
              "      <td>244.335</td>\n",
              "      <td>0.9753</td>\n",
              "      <td>66.4519</td>\n",
              "      <td>17.0</td>\n",
              "      <td>3.0</td>\n",
              "      <td>3.0</td>\n",
              "      <td>5.0</td>\n",
              "      <td>7.0</td>\n",
              "      <td>100.0</td>\n",
              "      <td>0.0</td>\n",
              "      <td>0.0</td>\n",
              "      <td>0.0</td>\n",
              "      <td>0.0</td>\n",
              "      <td>92.42</td>\n",
              "      <td>102.760645</td>\n",
              "      <td>4.345632</td>\n",
              "      <td>264.476356</td>\n",
              "      <td>False</td>\n",
              "    </tr>\n",
              "    <tr>\n",
              "      <th>3613</th>\n",
              "      <td>A-6047</td>\n",
              "      <td>2,2'-[[4-[(3,5-dinitro-2-thienyl)azo]phenyl]im...</td>\n",
              "      <td>InChI=1S/C18H19N5O8S/c1-12(24)30-9-7-21(8-10-3...</td>\n",
              "      <td>YPNBSXJSFUWYMV-UHFFFAOYSA-N</td>\n",
              "      <td>CC(=O)OCCN(CCOC(C)=O)c1ccc(cc1)N=Nc2sc(cc2[N+]...</td>\n",
              "      <td>-7.547294</td>\n",
              "      <td>0.000000</td>\n",
              "      <td>1</td>\n",
              "      <td>G1</td>\n",
              "      <td>465.444</td>\n",
              "      <td>3.9125</td>\n",
              "      <td>113.7248</td>\n",
              "      <td>32.0</td>\n",
              "      <td>12.0</td>\n",
              "      <td>0.0</td>\n",
              "      <td>14.0</td>\n",
              "      <td>11.0</td>\n",
              "      <td>170.0</td>\n",
              "      <td>2.0</td>\n",
              "      <td>0.0</td>\n",
              "      <td>0.0</td>\n",
              "      <td>2.0</td>\n",
              "      <td>166.84</td>\n",
              "      <td>185.111095</td>\n",
              "      <td>2.142720</td>\n",
              "      <td>1000.877400</td>\n",
              "      <td>False</td>\n",
              "    </tr>\n",
              "    <tr>\n",
              "      <th>1238</th>\n",
              "      <td>A-2142</td>\n",
              "      <td>3,7-dimethyloct-6-en-1-yl (2E)-2-methylbut-2-e...</td>\n",
              "      <td>InChI=1S/C15H26O2/c1-6-14(5)15(16)17-11-10-13(...</td>\n",
              "      <td>UCFQYMKLDPWFHZ-MKMNVTDBSA-N</td>\n",
              "      <td>C\\C=C(/C)C(=O)OCCC(C)CCC=C(C)C</td>\n",
              "      <td>-5.791793</td>\n",
              "      <td>0.000000</td>\n",
              "      <td>1</td>\n",
              "      <td>G1</td>\n",
              "      <td>238.371</td>\n",
              "      <td>4.2684</td>\n",
              "      <td>72.8360</td>\n",
              "      <td>17.0</td>\n",
              "      <td>2.0</td>\n",
              "      <td>0.0</td>\n",
              "      <td>2.0</td>\n",
              "      <td>7.0</td>\n",
              "      <td>98.0</td>\n",
              "      <td>0.0</td>\n",
              "      <td>0.0</td>\n",
              "      <td>0.0</td>\n",
              "      <td>0.0</td>\n",
              "      <td>26.30</td>\n",
              "      <td>105.744302</td>\n",
              "      <td>3.679637</td>\n",
              "      <td>283.296945</td>\n",
              "      <td>False</td>\n",
              "    </tr>\n",
              "  </tbody>\n",
              "</table>\n",
              "<p>200 rows × 27 columns</p>\n",
              "</div>"
            ],
            "text/plain": [
              "          ID  ... SMILES_NEW\n",
              "6907  B-4206  ...      False\n",
              "9567   F-988  ...      False\n",
              "8083  C-1996  ...      False\n",
              "1861  A-3055  ...      False\n",
              "1509  A-2575  ...      False\n",
              "...      ...  ...        ...\n",
              "3719    B-99  ...      False\n",
              "1231  A-2131  ...      False\n",
              "9034   F-180  ...      False\n",
              "3613  A-6047  ...      False\n",
              "1238  A-2142  ...      False\n",
              "\n",
              "[200 rows x 27 columns]"
            ]
          },
          "metadata": {
            "tags": []
          },
          "execution_count": 85
        }
      ]
    },
    {
      "cell_type": "code",
      "metadata": {
        "colab": {
          "base_uri": "https://localhost:8080/"
        },
        "id": "HO2AsHzn-Xju",
        "outputId": "53949850-ad46-461a-d107-d645f3457473"
      },
      "source": [
        "# get unique character set in all SMILES strings \n",
        "charset = generate_charset(dataset1[\"SMILES\"].values.ravel())\n",
        "\n",
        "# get the number of unique characters\n",
        "charset_length = len(charset)\n",
        "print(charset_length)\n",
        "\n",
        "# define max number of SMILES for model input vector\n",
        "max_smiles_chars = 49\n",
        "\n",
        "# dimension of input vector\n",
        "input_dim = charset_length * max_smiles_chars\n",
        "\n",
        "# get one-hot representation of the SMILES strings \n",
        "one_hots = smiles_to_onehots(dataset1[\"SMILES\"].values, charset, max_smiles_chars)\n",
        "\n",
        "# split input into train and test sets\n",
        "X_train = one_hots[:-100]\n",
        "X_test = one_hots[-100:]\n",
        "\n",
        "# split output to train and test sets\n",
        "output = dataset1[\"Solubility\"].values\n",
        "Y_train = output[:-100]\n",
        "Y_test = output[-100:]"
      ],
      "execution_count": 23,
      "outputs": [
        {
          "output_type": "stream",
          "text": [
            "61\n"
          ],
          "name": "stdout"
        }
      ]
    },
    {
      "cell_type": "code",
      "metadata": {
        "colab": {
          "base_uri": "https://localhost:8080/"
        },
        "id": "T_02_PT6hRV1",
        "outputId": "77a7a6a9-fae4-43e2-db9b-cbd91c1575f8"
      },
      "source": [
        "type(one_hots) \n",
        "#type(new_df)\n",
        "one_hots.shape\n",
        "#new_df.shape \n",
        "#df = pd.DataFrame(one_hots)\n",
        "### Comining in single dataframe ...  \n",
        "### To make X matrix \n",
        "#age_sex = titanic[[\"Age\", \"Sex\"]]\n",
        "#new_df=dataset1[[\"MolWt\",\t\"MolLogP\"]]\n",
        "#print(new_df)\n",
        "#X = pd.concat([X_train,new_df], axis=1)\n",
        "#X"
      ],
      "execution_count": 60,
      "outputs": [
        {
          "output_type": "execute_result",
          "data": {
            "text/plain": [
              "(8511, 49, 61)"
            ]
          },
          "metadata": {
            "tags": []
          },
          "execution_count": 60
        }
      ]
    },
    {
      "cell_type": "code",
      "metadata": {
        "id": "iiuczu-Q2gVD"
      },
      "source": [
        "#df = pd.DataFrame(data=one_hots, index=None, columns=None)\n",
        "#df = pd.DataFrame(one_hots[:,0,0])\n",
        "#df\n",
        "#df = pd.Panel(one_hots).to_frame()\n",
        "#print (df)\n",
        "\n",
        "#arr = one_hots.transpose(0,1,2)\n",
        "#df = pd.concat([pd.DataFrame(x) for x in arr], keys=np.arange(arr.shape[2]))\n",
        "#print (df)\n",
        "   "
      ],
      "execution_count": 64,
      "outputs": []
    },
    {
      "cell_type": "code",
      "metadata": {
        "colab": {
          "base_uri": "https://localhost:8080/",
          "height": 197
        },
        "id": "bEgUhE4rq-l9",
        "outputId": "58c977fd-d451-4588-cf34-f30c06b19c4b"
      },
      "source": [
        "df1 = new_df.set_index(new_df.groupby(level=0).cumcount(), append=True)\n",
        "df2 = one_hots.set.set_index(X_train.groupby(level=0).cumcount(), append=True)\n",
        "df = pd.concat([df1, df2], axis=1, ignore_index=True).reset_index(drop=True, level=1)"
      ],
      "execution_count": 38,
      "outputs": [
        {
          "output_type": "error",
          "ename": "AttributeError",
          "evalue": "ignored",
          "traceback": [
            "\u001b[0;31m---------------------------------------------------------------------------\u001b[0m",
            "\u001b[0;31mAttributeError\u001b[0m                            Traceback (most recent call last)",
            "\u001b[0;32m<ipython-input-38-bfbb98028f66>\u001b[0m in \u001b[0;36m<module>\u001b[0;34m()\u001b[0m\n\u001b[1;32m      1\u001b[0m \u001b[0mdf1\u001b[0m \u001b[0;34m=\u001b[0m \u001b[0mnew_df\u001b[0m\u001b[0;34m.\u001b[0m\u001b[0mset_index\u001b[0m\u001b[0;34m(\u001b[0m\u001b[0mnew_df\u001b[0m\u001b[0;34m.\u001b[0m\u001b[0mgroupby\u001b[0m\u001b[0;34m(\u001b[0m\u001b[0mlevel\u001b[0m\u001b[0;34m=\u001b[0m\u001b[0;36m0\u001b[0m\u001b[0;34m)\u001b[0m\u001b[0;34m.\u001b[0m\u001b[0mcumcount\u001b[0m\u001b[0;34m(\u001b[0m\u001b[0;34m)\u001b[0m\u001b[0;34m,\u001b[0m \u001b[0mappend\u001b[0m\u001b[0;34m=\u001b[0m\u001b[0;32mTrue\u001b[0m\u001b[0;34m)\u001b[0m\u001b[0;34m\u001b[0m\u001b[0;34m\u001b[0m\u001b[0m\n\u001b[0;32m----> 2\u001b[0;31m \u001b[0mdf2\u001b[0m \u001b[0;34m=\u001b[0m \u001b[0mone_hots\u001b[0m\u001b[0;34m.\u001b[0m\u001b[0mset_index\u001b[0m\u001b[0;34m(\u001b[0m\u001b[0mX_train\u001b[0m\u001b[0;34m.\u001b[0m\u001b[0mgroupby\u001b[0m\u001b[0;34m(\u001b[0m\u001b[0mlevel\u001b[0m\u001b[0;34m=\u001b[0m\u001b[0;36m0\u001b[0m\u001b[0;34m)\u001b[0m\u001b[0;34m.\u001b[0m\u001b[0mcumcount\u001b[0m\u001b[0;34m(\u001b[0m\u001b[0;34m)\u001b[0m\u001b[0;34m,\u001b[0m \u001b[0mappend\u001b[0m\u001b[0;34m=\u001b[0m\u001b[0;32mTrue\u001b[0m\u001b[0;34m)\u001b[0m\u001b[0;34m\u001b[0m\u001b[0;34m\u001b[0m\u001b[0m\n\u001b[0m\u001b[1;32m      3\u001b[0m \u001b[0mdf\u001b[0m \u001b[0;34m=\u001b[0m \u001b[0mpd\u001b[0m\u001b[0;34m.\u001b[0m\u001b[0mconcat\u001b[0m\u001b[0;34m(\u001b[0m\u001b[0;34m[\u001b[0m\u001b[0mdf1\u001b[0m\u001b[0;34m,\u001b[0m \u001b[0mdf2\u001b[0m\u001b[0;34m]\u001b[0m\u001b[0;34m,\u001b[0m \u001b[0maxis\u001b[0m\u001b[0;34m=\u001b[0m\u001b[0;36m1\u001b[0m\u001b[0;34m,\u001b[0m \u001b[0mignore_index\u001b[0m\u001b[0;34m=\u001b[0m\u001b[0;32mTrue\u001b[0m\u001b[0;34m)\u001b[0m\u001b[0;34m.\u001b[0m\u001b[0mreset_index\u001b[0m\u001b[0;34m(\u001b[0m\u001b[0mdrop\u001b[0m\u001b[0;34m=\u001b[0m\u001b[0;32mTrue\u001b[0m\u001b[0;34m,\u001b[0m \u001b[0mlevel\u001b[0m\u001b[0;34m=\u001b[0m\u001b[0;36m1\u001b[0m\u001b[0;34m)\u001b[0m\u001b[0;34m\u001b[0m\u001b[0;34m\u001b[0m\u001b[0m\n",
            "\u001b[0;31mAttributeError\u001b[0m: 'numpy.ndarray' object has no attribute 'set_index'"
          ]
        }
      ]
    },
    {
      "cell_type": "markdown",
      "metadata": {
        "id": "GAnYkVAhJbwn"
      },
      "source": [
        ""
      ]
    },
    {
      "cell_type": "code",
      "metadata": {
        "colab": {
          "base_uri": "https://localhost:8080/"
        },
        "id": "ERglhiYVF1UH",
        "outputId": "c98eee30-0e95-4406-faa5-fbb042b138ef"
      },
      "source": [
        "### Now we can have look for the input data ....\n",
        "X_train_length = len(X_train)\n",
        "X_test_length = len(X_test)\n",
        "Y_train_length = len(Y_train)\n",
        "Y_test_length = len(Y_test)\n",
        "\n",
        "print(\" Numebr of X_train data ::\",X_train_length)\n",
        "print(\" Numebr of X_test data ::\",X_test_length)\n",
        "print(\" Numebr of Y_train data ::\",Y_train_length)\n",
        "print(\" Numebr of Y_test data ::\",Y_test_length)\n"
      ],
      "execution_count": null,
      "outputs": [
        {
          "output_type": "stream",
          "text": [
            " Numebr of X_train data :: 8411\n",
            " Numebr of X_test data :: 100\n",
            " Numebr of Y_train data :: 8411\n",
            " Numebr of Y_test data :: 100\n"
          ],
          "name": "stdout"
        }
      ]
    },
    {
      "cell_type": "code",
      "metadata": {
        "colab": {
          "base_uri": "https://localhost:8080/",
          "height": 300
        },
        "id": "1_czMDKOHxmc",
        "outputId": "5a6ae276-9d40-4058-b6ef-7356487b46ad"
      },
      "source": [
        "### Visulaization of one hot encoder string as SMILES \n",
        "index = 7221\n",
        "sns.heatmap(X_train[index]) # This is a single training example -- note that it is a matrix, not a single vector!\n",
        "plt.xlabel('Character')\n",
        "plt.ylabel('Position in SMILES String')\n",
        "print(dataset.iloc[index]['SMILES'])"
      ],
      "execution_count": null,
      "outputs": [
        {
          "output_type": "stream",
          "text": [
            "[Na+].[Na+].[O-][S](=O)(=O)c1ccc2c(C=CC(=O)/C2=N/Nc3ccc(N=Nc4ccc(Nc5ccccc5)c(c4)[S]([O-])(=O)=O)c6ccccc36)c1\n"
          ],
          "name": "stdout"
        },
        {
          "output_type": "display_data",
          "data": {
            "image/png": "[encoded data removed]",
            "text/plain": [
              "<Figure size 432x288 with 2 Axes>"
            ]
          },
          "metadata": {
            "tags": [],
            "needs_background": "light"
          }
        }
      ]
    },
    {
      "cell_type": "markdown",
      "metadata": {
        "id": "SsxRbLU-JfDo"
      },
      "source": [
        "Supervised CNN model for predicting solubility In this section, we will set up a convolutional neural network to predict solubility using one-hot SMILES as input. A convolutional neural network is a machine learning model that is commonly used to classify images, and you can learn more about them here.\n",
        "\n",
        "Define model structure First, we will create the model structure, starting with the input layer. As described above, each training example is a 783x65 matrix, which is the shape we pass to the Input layer in Keras."
      ]
    },
    {
      "cell_type": "code",
      "metadata": {
        "id": "jl_eNFbsJrWV"
      },
      "source": [
        "# Define the input layer\n",
        "# NOTE: We feed in a sequence here! We're inputting up to max_smiles_chars characters, \n",
        "# and each character is an array of length charset_length\n",
        "smiles_input = Input(shape=(max_smiles_chars, charset_length), name=\"SMILES-Input\")"
      ],
      "execution_count": null,
      "outputs": []
    },
    {
      "cell_type": "code",
      "metadata": {
        "colab": {
          "base_uri": "https://localhost:8080/"
        },
        "id": "ztUrBgA5JhFc",
        "outputId": "47ca1c0c-4b13-44d1-b373-c333b02bf22d"
      },
      "source": [
        "## Shape of the input layer ....\n",
        "smiles_input.shape"
      ],
      "execution_count": null,
      "outputs": [
        {
          "output_type": "execute_result",
          "data": {
            "text/plain": [
              "TensorShape([None, 49, 61])"
            ]
          },
          "metadata": {
            "tags": []
          },
          "execution_count": 30
        }
      ]
    },
    {
      "cell_type": "markdown",
      "metadata": {
        "id": "hwsAPaufJ-wl"
      },
      "source": [
        "**Next we will define the convolution layers where each layer attempts to learn certain features of the images, such as edges and corners. The input to each layer (a matrix) is transformed via convolution operations, which are element by element multiplications of the input matrix and a filter matrix. The convolutional layer learns the filter matrix that will best identify unique features of the image. You can learn more about convolution operations and the math behind convolutional neural networks here.**\n",
        "\n"
      ]
    },
    {
      "cell_type": "code",
      "metadata": {
        "id": "zT92n1UtKCP9"
      },
      "source": [
        "# Set parameters for convolutional layers \n",
        "num_conv_filters = 16\n",
        "kernel_size = 3\n",
        "\n",
        "init_weights = initializers.glorot_normal(seed=0)\n",
        "\n",
        "# Define the convolutional layers\n",
        "# Multiple convolutions in a row is a common architecture (but there are many \"right\" choices here)\n",
        "conv_1_func = Conv1D(\n",
        "    filters=num_conv_filters, # What is the \"depth\" of the convolution? How many times do you look at the same spot?\n",
        "    kernel_size=kernel_size, # How \"wide\" of a spot does each filter look at?\n",
        "    name=\"Convolution-1\",\n",
        "    activation=\"relu\", # This is a common activation function: Rectified Linear Unit (ReLU)\n",
        "    kernel_initializer=init_weights #This defines the initial values for the weights\n",
        ")\n",
        "conv_2_func = Conv1D(\n",
        "    filters=num_conv_filters, \n",
        "    kernel_size=kernel_size, \n",
        "    name=\"Convolution-2\",\n",
        "    activation=\"relu\",\n",
        "    kernel_initializer=init_weights\n",
        ")\n",
        "conv_3_func = Conv1D(\n",
        "    filters=num_conv_filters, \n",
        "    kernel_size=kernel_size, \n",
        "    name=\"Convolution-3\",\n",
        "    activation=\"relu\",\n",
        "    kernel_initializer=init_weights\n",
        ")\n",
        "conv_4_func = Conv1D(\n",
        "    filters=num_conv_filters, \n",
        "    kernel_size=kernel_size,\n",
        "    name=\"Convolution-4\",\n",
        "    activation=\"relu\",\n",
        "    kernel_initializer=init_weights\n",
        ")\n",
        "\n"
      ],
      "execution_count": null,
      "outputs": []
    },
    {
      "cell_type": "markdown",
      "metadata": {
        "id": "P8NMuxsSKRn6"
      },
      "source": [
        "The four convolution layers defined above will attempt to learn features of the SMILES string (represented as a 783x65 matrix) that are relevant to predicting the solubility. To get a numerical prediction, we now flatten the output of the convolution and pass it to a set of regular Dense layers, the last layer predicting one value for the solubility."
      ]
    },
    {
      "cell_type": "code",
      "metadata": {
        "id": "oWtz4LvNKXoq"
      },
      "source": [
        "# Define layer to flatten convolutions\n",
        "flatten_func = Flatten(name=\"Flattened-Convolutions\")\n",
        "\n",
        "# Define the activation function layer\n",
        "hidden_size = 32\n",
        "dense_1_func = Dense(hidden_size, activation=\"relu\", name=\"Fully-Connected\", kernel_initializer=init_weights)\n",
        "\n",
        "# Define output layer -- it's only one dimension since it is regression\n",
        "output_size = 1\n",
        "output_solubility_func = Dense(output_size, activation=\"linear\", name=\"Log-Solubility\", kernel_initializer=init_weights)"
      ],
      "execution_count": null,
      "outputs": []
    },
    {
      "cell_type": "code",
      "metadata": {
        "id": "EOucUD8PKfdh"
      },
      "source": [
        "# connect the CNN graph together\n",
        "conv_1_fwd = conv_1_func(smiles_input)\n",
        "conv_2_fwd = conv_2_func(conv_1_fwd)\n",
        "conv_3_fwd = conv_3_func(conv_2_fwd)\n",
        "conv_4_fwd = conv_4_func(conv_3_fwd)\n",
        "flattened_convs = flatten_func(conv_4_fwd)\n",
        "dense_1_fwd = dense_1_func(flattened_convs)\n",
        "output_solubility_fwd = output_solubility_func(flattened_convs)"
      ],
      "execution_count": null,
      "outputs": []
    },
    {
      "cell_type": "markdown",
      "metadata": {
        "id": "n64J10CzLG7n"
      },
      "source": [
        "View model structure and metadata Now the model is ready to train! But first we will define the model as solubility_model and compile it, then view some information on the model using the keras2ascii tool, which visually represents the layers in our model."
      ]
    },
    {
      "cell_type": "code",
      "metadata": {
        "id": "jCqPpp-_LFmI"
      },
      "source": [
        "# create model\n",
        "solubility_model = Model(\n",
        "            inputs=[smiles_input],\n",
        "            outputs=[output_solubility_fwd]\n",
        ")\n",
        "\n",
        "# compile model\n",
        "solubility_model.compile(\n",
        "    optimizer=\"adam\",\n",
        "    loss=\"mse\",\n",
        "    metrics=[\"mae\"]\n",
        ")"
      ],
      "execution_count": null,
      "outputs": []
    },
    {
      "cell_type": "markdown",
      "metadata": {
        "id": "XNXA3HmJLOib"
      },
      "source": [
        "Train CNN Now we will train our CNN solubility model to the training data! During training, we will see metrics printed after each epoch such as test/train loss (both as Mean Squared Error (MSE) and Mean Absolute Error (MAE)).\n",
        "\n"
      ]
    },
    {
      "cell_type": "code",
      "metadata": {
        "colab": {
          "base_uri": "https://localhost:8080/",
          "height": 231
        },
        "id": "wk48EN4RLK_i",
        "outputId": "04327e6a-c948-48d5-dc17-8204b9fd1d04"
      },
      "source": [
        "history = solubility_model.fit(\n",
        "    X_train, # Inputs\n",
        "    Y_train, # Outputs\n",
        "    epochs=100, # How many times to pass over the data\n",
        "    batch_size=32, # How many data rows to compute at once\n",
        "    verbose=1,\n",
        "    validation_data=(X_test, Y_test), # You would usually use more splits of the data if you plan to tune hyperparams\n",
        ")"
      ],
      "execution_count": 1,
      "outputs": [
        {
          "output_type": "error",
          "ename": "NameError",
          "evalue": "ignored",
          "traceback": [
            "\u001b[0;31m---------------------------------------------------------------------------\u001b[0m",
            "\u001b[0;31mNameError\u001b[0m                                 Traceback (most recent call last)",
            "\u001b[0;32m<ipython-input-1-d86afdca835e>\u001b[0m in \u001b[0;36m<module>\u001b[0;34m()\u001b[0m\n\u001b[0;32m----> 1\u001b[0;31m history = solubility_model.fit(\n\u001b[0m\u001b[1;32m      2\u001b[0m     \u001b[0mX_train\u001b[0m\u001b[0;34m,\u001b[0m \u001b[0;31m# Inputs\u001b[0m\u001b[0;34m\u001b[0m\u001b[0;34m\u001b[0m\u001b[0m\n\u001b[1;32m      3\u001b[0m     \u001b[0mY_train\u001b[0m\u001b[0;34m,\u001b[0m \u001b[0;31m# Outputs\u001b[0m\u001b[0;34m\u001b[0m\u001b[0;34m\u001b[0m\u001b[0m\n\u001b[1;32m      4\u001b[0m     \u001b[0mepochs\u001b[0m\u001b[0;34m=\u001b[0m\u001b[0;36m100\u001b[0m\u001b[0;34m,\u001b[0m \u001b[0;31m# How many times to pass over the data\u001b[0m\u001b[0;34m\u001b[0m\u001b[0;34m\u001b[0m\u001b[0m\n\u001b[1;32m      5\u001b[0m     \u001b[0mbatch_size\u001b[0m\u001b[0;34m=\u001b[0m\u001b[0;36m32\u001b[0m\u001b[0;34m,\u001b[0m \u001b[0;31m# How many data rows to compute at once\u001b[0m\u001b[0;34m\u001b[0m\u001b[0;34m\u001b[0m\u001b[0m\n",
            "\u001b[0;31mNameError\u001b[0m: name 'solubility_model' is not defined"
          ]
        }
      ]
    },
    {
      "cell_type": "markdown",
      "metadata": {
        "id": "6Y11XN2hjqWR"
      },
      "source": [
        "Let's view the learning curve for the trained model.\n",
        "\n",
        "This code will generate a plot where we show the test and train errors (MSE) as a function of epoch (one pass of all training examples through the NN).\n",
        "\n",
        "The learning curve will tell us if the model is overfitting or underfitting."
      ]
    },
    {
      "cell_type": "code",
      "metadata": {
        "colab": {
          "base_uri": "https://localhost:8080/",
          "height": 295
        },
        "id": "Le3eywCgjrM6",
        "outputId": "2cddfe2d-eeca-43b4-a77a-7ad2c1ebee93"
      },
      "source": [
        "# plot the learning curve \n",
        "plt.plot(history.history['loss'])\n",
        "plt.plot(history.history['val_loss'])\n",
        "plt.title('Model accuracy')\n",
        "plt.ylabel('Error')\n",
        "plt.xlabel('Epoch')\n",
        "plt.xlim(0,)\n",
        "plt.legend(['Train', 'Validation',], loc='upper left')\n",
        "plt.show()"
      ],
      "execution_count": null,
      "outputs": [
        {
          "output_type": "display_data",
          "data": {
            "image/png": "[encoded data removed]",
            "text/plain": [
              "<Figure size 432x288 with 1 Axes>"
            ]
          },
          "metadata": {
            "tags": [],
            "needs_background": "light"
          }
        }
      ]
    },
    {
      "cell_type": "markdown",
      "metadata": {
        "id": "9nvjBxOVj3rK"
      },
      "source": [
        "Use CNN to make solubility predictions Now that we've trained our model, we can use it to make solubility predictions for any SMILES string! We just have to convert the SMILES string to 1-hot representation, then feed it to the solubility_model\n",
        "\n"
      ]
    },
    {
      "cell_type": "code",
      "metadata": {
        "colab": {
          "base_uri": "https://localhost:8080/"
        },
        "id": "SXNsydFAj76z",
        "outputId": "5dfe4c0c-cb35-4169-852d-04b95aa5b963"
      },
      "source": [
        "example_smiles = [\n",
        "    'CC12CCC3C4:C:C:C(O):C:C:4CCC3C1CCC2O',\n",
        "    'CC1:O:C:C:C:1C(=O)NC1:C:C:C:C:C:1',\n",
        "    'C1:C:C:C2:C(:C:1):C:C:C1:C:2:C:C:C2:C3:C:C:C:C:C:3:C:C:C:2:1'\n",
        "]\n",
        "\n",
        "for smiles in example_smiles:\n",
        "    predict_test_input = smiles_to_onehots([smiles], charset, max_smiles_chars)\n",
        "    solubility_prediction = solubility_model.predict(predict_test_input)[0][0]\n",
        "    print(f'The predicted log solubility for SMILES {smiles} is {solubility_prediction}')"
      ],
      "execution_count": null,
      "outputs": [
        {
          "output_type": "stream",
          "text": [
            "The predicted log solubility for SMILES CC12CCC3C4:C:C:C(O):C:C:4CCC3C1CCC2O is -3.074120044708252\n",
            "The predicted log solubility for SMILES CC1:O:C:C:C:1C(=O)NC1:C:C:C:C:C:1 is -2.7483432292938232\n",
            "The predicted log solubility for SMILES C1:C:C:C2:C(:C:1):C:C:C1:C:2:C:C:C2:C3:C:C:C:C:C:3:C:C:C:2:1 is -4.840444087982178\n"
          ],
          "name": "stdout"
        }
      ]
    },
    {
      "cell_type": "markdown",
      "metadata": {
        "id": "HbkTL5h3kLcD"
      },
      "source": [
        "We can now make a parity plot comparing the CNN model predictions to the ground truth data\n",
        "\n"
      ]
    },
    {
      "cell_type": "code",
      "metadata": {
        "colab": {
          "base_uri": "https://localhost:8080/",
          "height": 312
        },
        "id": "Mom-jsN4kMZp",
        "outputId": "8f1d6dc9-975b-4c23-ea82-ec389f6f3437"
      },
      "source": [
        "preds = solubility_model.predict(X_train)\n",
        "x_y_line = np.linspace(min(Y_train.flatten()), max(Y_train.flatten()), 500)\n",
        "plt.plot(Y_train.flatten(), preds.flatten(), 'o', label='predictions')\n",
        "plt.plot(x_y_line, x_y_line, label='y=x')\n",
        "plt.xlabel(\"Log solubility (ground truth)\")\n",
        "plt.ylabel(\"Log solubility (predicted)\")\n",
        "plt.title(\"Parity plot: predictions vs ground truth data\")\n",
        "plt.legend()"
      ],
      "execution_count": null,
      "outputs": [
        {
          "output_type": "execute_result",
          "data": {
            "text/plain": [
              "<matplotlib.legend.Legend at 0x7fa0573cf610>"
            ]
          },
          "metadata": {
            "tags": []
          },
          "execution_count": 216
        },
        {
          "output_type": "display_data",
          "data": {
            "image/png": "[encoded data removed]",
            "text/plain": [
              "<Figure size 432x288 with 1 Axes>"
            ]
          },
          "metadata": {
            "tags": [],
            "needs_background": "light"
          }
        }
      ]
    },
    {
      "cell_type": "code",
      "metadata": {
        "colab": {
          "base_uri": "https://localhost:8080/",
          "height": 231
        },
        "id": "6udHhxsnkYZI",
        "outputId": "423c8829-9eef-4ffa-ad30-b007d687b5f1"
      },
      "source": [
        "### Comparartive prediction of y_test and y_test predicted .....\n",
        "Y_test_predited=solubility_model.predict(X_test)\n",
        "#print(Y_test_predited)\n",
        "\n",
        "print(np.concatenate((Y_test_predited.reshape(len(Y_test_predited),1), Y_test.reshape(len(Y_test),1)),1))"
      ],
      "execution_count": 2,
      "outputs": [
        {
          "output_type": "error",
          "ename": "NameError",
          "evalue": "ignored",
          "traceback": [
            "\u001b[0;31m---------------------------------------------------------------------------\u001b[0m",
            "\u001b[0;31mNameError\u001b[0m                                 Traceback (most recent call last)",
            "\u001b[0;32m<ipython-input-2-8dd5b60853c1>\u001b[0m in \u001b[0;36m<module>\u001b[0;34m()\u001b[0m\n\u001b[1;32m      1\u001b[0m \u001b[0;31m### Comparartive prediction of y_test and y_test predicted .....\u001b[0m\u001b[0;34m\u001b[0m\u001b[0;34m\u001b[0m\u001b[0;34m\u001b[0m\u001b[0m\n\u001b[0;32m----> 2\u001b[0;31m \u001b[0mY_test_predited\u001b[0m\u001b[0;34m=\u001b[0m\u001b[0msolubility_model\u001b[0m\u001b[0;34m.\u001b[0m\u001b[0mpredict\u001b[0m\u001b[0;34m(\u001b[0m\u001b[0mX_test\u001b[0m\u001b[0;34m)\u001b[0m\u001b[0;34m\u001b[0m\u001b[0;34m\u001b[0m\u001b[0m\n\u001b[0m\u001b[1;32m      3\u001b[0m \u001b[0;31m#print(Y_test_predited)\u001b[0m\u001b[0;34m\u001b[0m\u001b[0;34m\u001b[0m\u001b[0;34m\u001b[0m\u001b[0m\n\u001b[1;32m      4\u001b[0m \u001b[0;34m\u001b[0m\u001b[0m\n\u001b[1;32m      5\u001b[0m \u001b[0mprint\u001b[0m\u001b[0;34m(\u001b[0m\u001b[0mnp\u001b[0m\u001b[0;34m.\u001b[0m\u001b[0mconcatenate\u001b[0m\u001b[0;34m(\u001b[0m\u001b[0;34m(\u001b[0m\u001b[0mY_test_predited\u001b[0m\u001b[0;34m.\u001b[0m\u001b[0mreshape\u001b[0m\u001b[0;34m(\u001b[0m\u001b[0mlen\u001b[0m\u001b[0;34m(\u001b[0m\u001b[0mY_test_predited\u001b[0m\u001b[0;34m)\u001b[0m\u001b[0;34m,\u001b[0m\u001b[0;36m1\u001b[0m\u001b[0;34m)\u001b[0m\u001b[0;34m,\u001b[0m \u001b[0mY_test\u001b[0m\u001b[0;34m.\u001b[0m\u001b[0mreshape\u001b[0m\u001b[0;34m(\u001b[0m\u001b[0mlen\u001b[0m\u001b[0;34m(\u001b[0m\u001b[0mY_test\u001b[0m\u001b[0;34m)\u001b[0m\u001b[0;34m,\u001b[0m\u001b[0;36m1\u001b[0m\u001b[0;34m)\u001b[0m\u001b[0;34m)\u001b[0m\u001b[0;34m,\u001b[0m\u001b[0;36m1\u001b[0m\u001b[0;34m)\u001b[0m\u001b[0;34m)\u001b[0m\u001b[0;34m\u001b[0m\u001b[0;34m\u001b[0m\u001b[0m\n",
            "\u001b[0;31mNameError\u001b[0m: name 'solubility_model' is not defined"
          ]
        }
      ]
    },
    {
      "cell_type": "code",
      "metadata": {
        "colab": {
          "base_uri": "https://localhost:8080/"
        },
        "id": "D0mcoEQgkmU7",
        "outputId": "c36145af-a576-40d1-e277-a21a2f02ee46"
      },
      "source": [
        "from sklearn.metrics import r2_score\n",
        "r2_score(Y_test, Y_test_predited)"
      ],
      "execution_count": null,
      "outputs": [
        {
          "output_type": "execute_result",
          "data": {
            "text/plain": [
              "0.6777349439571112"
            ]
          },
          "metadata": {
            "tags": []
          },
          "execution_count": 218
        }
      ]
    }
  ]
}