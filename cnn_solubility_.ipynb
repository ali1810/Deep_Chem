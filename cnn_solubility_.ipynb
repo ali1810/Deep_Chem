{
  "nbformat": 4,
  "nbformat_minor": 0,
  "metadata": {
    "colab": {
      "name": "cnn_solubility .ipynb",
      "provenance": [],
      "collapsed_sections": [],
      "mount_file_id": "1Pu2txkId_ukTb_LVxpEsZfhlPFUK9XHk",
      "authorship_tag": "ABX9TyPGCf6UcU6P6vefWRKQJCXh",
      "include_colab_link": true
    },
    "kernelspec": {
      "name": "python3",
      "display_name": "Python 3"
    },
    "language_info": {
      "name": "python"
    }
  },
  "cells": [
    {
      "cell_type": "markdown",
      "metadata": {
        "id": "view-in-github",
        "colab_type": "text"
      },
      "source": [
        "<a href=\"https://colab.research.google.com/github/ali1810/Deep_Chem/blob/main/cnn_solubility_.ipynb\" target=\"_parent\"><img src=\"https://colab.research.google.com/assets/colab-badge.svg\" alt=\"Open In Colab\"/></a>"
      ]
    },
    {
      "cell_type": "markdown",
      "metadata": {
        "id": "OwM0KC9nHVpt"
      },
      "source": [
        ""
      ]
    },
    {
      "cell_type": "markdown",
      "metadata": {
        "id": "BELdgHcMHUW7"
      },
      "source": [
        "# **Hands-on Deep Learning for Compounbds solubility **\n",
        "\n",
        "Using deep learning to estimate solubility for organic molecules\n",
        "The solubility of materials is crucial to pharmaceutical applications such as formulating novel drugs. In this notebook, you will learn how to train deep learning models to predict the aqueous solubility of organic materials given their composition.\n",
        "\n",
        "The composition will be specified as SMILES strings, which are a convenient way to represent the structure of organic materials. You can learn more about SMILES strings here. We will use these SMILES strings as inputs to a convolutional neural network and predict the solubility of organic materials. We will also learn how to train variational autoencoders to learn SMILES string representations. Variational autoencoders are models used to learn low-dimensional representations of a high-dimensional dataset, and in our case these models will give us a low-dimensional numerical representation of a SMILES string, which can replace the sparse matrices often used to represent data when using convolutional neural networks.\n",
        "\n",
        "Outline of this notebook:\n",
        "Load and pre-process training data\n",
        "Load solubility dataset containing many organic molecules and their associated solubilities\n",
        "Pre-process data and split to test/train sets\n",
        "Train a Convolutional neural network (CNN)\n",
        "Train a CNN to predict solubility\n",
        "Predict solubility from any given SMILES representation of a molecule"
      ]
    },
    {
      "cell_type": "code",
      "metadata": {
        "colab": {
          "base_uri": "https://localhost:8080/"
        },
        "id": "N-aBhT7xLXcE",
        "outputId": "6ef2ccf2-e29c-4d6b-c013-6a4487257c3d"
      },
      "source": [
        "!pip install utils"
      ],
      "execution_count": 126,
      "outputs": [
        {
          "output_type": "stream",
          "text": [
            "Requirement already satisfied: utils in /usr/local/lib/python3.7/dist-packages (1.0.1)\n"
          ],
          "name": "stdout"
        }
      ]
    },
    {
      "cell_type": "code",
      "metadata": {
        "colab": {
          "base_uri": "https://localhost:8080/"
        },
        "id": "gARzDEdpLhTA",
        "outputId": "94deb6c1-f1ce-47a9-d4ab-0926ca4bc9f6"
      },
      "source": [
        "! pip install keras_sequential_ascii"
      ],
      "execution_count": 127,
      "outputs": [
        {
          "output_type": "stream",
          "text": [
            "Requirement already satisfied: keras_sequential_ascii in /usr/local/lib/python3.7/dist-packages (0.1.1)\n",
            "Requirement already satisfied: keras in /usr/local/lib/python3.7/dist-packages (from keras_sequential_ascii) (2.4.3)\n",
            "Requirement already satisfied: pyyaml in /usr/local/lib/python3.7/dist-packages (from keras->keras_sequential_ascii) (3.13)\n",
            "Requirement already satisfied: scipy>=0.14 in /usr/local/lib/python3.7/dist-packages (from keras->keras_sequential_ascii) (1.4.1)\n",
            "Requirement already satisfied: numpy>=1.9.1 in /usr/local/lib/python3.7/dist-packages (from keras->keras_sequential_ascii) (1.19.5)\n",
            "Requirement already satisfied: h5py in /usr/local/lib/python3.7/dist-packages (from keras->keras_sequential_ascii) (3.1.0)\n",
            "Requirement already satisfied: cached-property in /usr/local/lib/python3.7/dist-packages (from h5py->keras->keras_sequential_ascii) (1.5.2)\n"
          ],
          "name": "stdout"
        }
      ]
    },
    {
      "cell_type": "code",
      "metadata": {
        "id": "5SrBAIw4Hlgy"
      },
      "source": [
        "# general imports\n",
        "import pandas as pd\n",
        "import seaborn as sns\n",
        "import matplotlib.pyplot as plt\n",
        "import numpy as np\n",
        "\n",
        "# keras imports\n",
        "from keras.layers import (Input, Dense, Conv1D, MaxPool1D, Dropout, GRU, LSTM, \n",
        "                          TimeDistributed, Add, Flatten, RepeatVector, Lambda, Concatenate)\n",
        "from keras.models import Model, load_model\n",
        "from keras.metrics import binary_crossentropy\n",
        "from keras import initializers\n",
        "import keras.backend as K\n",
        "\n",
        "# Visualization\n",
        "from keras_sequential_ascii import keras2ascii\n",
        "\n",
        "# utils functions\n",
        "from utils import *\n",
        "\n",
        "import os\n",
        "os.environ['KMP_DUPLICATE_LIB_OK']='True'\n",
        "\n",
        "# Remove warnings from output\n",
        "import warnings\n",
        "warnings.filterwarnings('ignore')"
      ],
      "execution_count": 128,
      "outputs": []
    },
    {
      "cell_type": "markdown",
      "metadata": {
        "id": "MSBp8obpLv0E"
      },
      "source": [
        "Load, view, and preprocess dataset\n",
        "We will use the ESOL dataset to train our models. The ESOL dataset contains the solubility of various small organic molecules. We will begin by loading the dataset as a dataframe and then inspecting some basic metadata. We'll also preprocess the dataset and create train/test splits for the Convolutional Neural Network (CNN) \n"
      ]
    },
    {
      "cell_type": "code",
      "metadata": {
        "colab": {
          "base_uri": "https://localhost:8080/",
          "height": 343
        },
        "id": "m3yZaYzkLyfo",
        "outputId": "1089bc9b-a634-412e-dbc2-a30c53c58a84"
      },
      "source": [
        "# read dataset as a dataframe\n",
        "dataset = pd.read_csv(\"/content/drive/MyDrive/ESOL_delaney-processed.csv\")\n",
        "\n",
        "# print column names in dataset\n",
        "print(f\"Columns in dataset: {list(dataset.columns)}\")\n",
        "\n",
        "# print number of rows in dataset\n",
        "print(f\"\\nLength of dataset: {len(dataset)}\")\n",
        "\n",
        "# shuffle rows of the dataset (we could do this later as well when doing train/test splits)\n",
        "dataset = dataset.sample(frac=1, random_state=0)\n",
        "\n",
        "# show first 5 rows of dataframe\n",
        "dataset.head()"
      ],
      "execution_count": 129,
      "outputs": [
        {
          "output_type": "stream",
          "text": [
            "Columns in dataset: ['Unnamed: 0', 'Compound ID', 'ESOL predicted log solubility in mols per litre', 'Minimum Degree', 'Molecular Weight', 'Number of H-Bond Donors', 'Number of Rings', 'Number of Rotatable Bonds', 'Polar Surface Area', 'measured log solubility in mols per litre', 'smiles']\n",
            "\n",
            "Length of dataset: 1128\n"
          ],
          "name": "stdout"
        },
        {
          "output_type": "execute_result",
          "data": {
            "text/html": [
              "<div>\n",
              "<style scoped>\n",
              "    .dataframe tbody tr th:only-of-type {\n",
              "        vertical-align: middle;\n",
              "    }\n",
              "\n",
              "    .dataframe tbody tr th {\n",
              "        vertical-align: top;\n",
              "    }\n",
              "\n",
              "    .dataframe thead th {\n",
              "        text-align: right;\n",
              "    }\n",
              "</style>\n",
              "<table border=\"1\" class=\"dataframe\">\n",
              "  <thead>\n",
              "    <tr style=\"text-align: right;\">\n",
              "      <th></th>\n",
              "      <th>Unnamed: 0</th>\n",
              "      <th>Compound ID</th>\n",
              "      <th>ESOL predicted log solubility in mols per litre</th>\n",
              "      <th>Minimum Degree</th>\n",
              "      <th>Molecular Weight</th>\n",
              "      <th>Number of H-Bond Donors</th>\n",
              "      <th>Number of Rings</th>\n",
              "      <th>Number of Rotatable Bonds</th>\n",
              "      <th>Polar Surface Area</th>\n",
              "      <th>measured log solubility in mols per litre</th>\n",
              "      <th>smiles</th>\n",
              "    </tr>\n",
              "  </thead>\n",
              "  <tbody>\n",
              "    <tr>\n",
              "      <th>873</th>\n",
              "      <td>873</td>\n",
              "      <td>2,4-Dimethyl-2-pentanol</td>\n",
              "      <td>-1.647</td>\n",
              "      <td>1</td>\n",
              "      <td>116.204</td>\n",
              "      <td>1</td>\n",
              "      <td>0</td>\n",
              "      <td>2</td>\n",
              "      <td>20.23</td>\n",
              "      <td>-0.92</td>\n",
              "      <td>CC(C)CC(C)(C)O</td>\n",
              "    </tr>\n",
              "    <tr>\n",
              "      <th>427</th>\n",
              "      <td>427</td>\n",
              "      <td>rhodanine</td>\n",
              "      <td>-0.396</td>\n",
              "      <td>1</td>\n",
              "      <td>133.197</td>\n",
              "      <td>1</td>\n",
              "      <td>1</td>\n",
              "      <td>0</td>\n",
              "      <td>29.10</td>\n",
              "      <td>-1.77</td>\n",
              "      <td>O=C1CSC(=S)N1</td>\n",
              "    </tr>\n",
              "    <tr>\n",
              "      <th>638</th>\n",
              "      <td>638</td>\n",
              "      <td>Bromoethane</td>\n",
              "      <td>-1.529</td>\n",
              "      <td>1</td>\n",
              "      <td>108.966</td>\n",
              "      <td>0</td>\n",
              "      <td>0</td>\n",
              "      <td>0</td>\n",
              "      <td>0.00</td>\n",
              "      <td>-1.09</td>\n",
              "      <td>CCBr</td>\n",
              "    </tr>\n",
              "    <tr>\n",
              "      <th>950</th>\n",
              "      <td>950</td>\n",
              "      <td>Chloropham</td>\n",
              "      <td>-3.544</td>\n",
              "      <td>1</td>\n",
              "      <td>213.664</td>\n",
              "      <td>1</td>\n",
              "      <td>1</td>\n",
              "      <td>2</td>\n",
              "      <td>38.33</td>\n",
              "      <td>-3.38</td>\n",
              "      <td>CC(C)OC(=O)NC1:C:C:C:C(Cl):C:1</td>\n",
              "    </tr>\n",
              "    <tr>\n",
              "      <th>436</th>\n",
              "      <td>436</td>\n",
              "      <td>Diethyl sulfide</td>\n",
              "      <td>-1.598</td>\n",
              "      <td>1</td>\n",
              "      <td>90.191</td>\n",
              "      <td>0</td>\n",
              "      <td>0</td>\n",
              "      <td>2</td>\n",
              "      <td>0.00</td>\n",
              "      <td>-1.34</td>\n",
              "      <td>CCSCC</td>\n",
              "    </tr>\n",
              "  </tbody>\n",
              "</table>\n",
              "</div>"
            ],
            "text/plain": [
              "     Unnamed: 0  ...                          smiles\n",
              "873         873  ...                  CC(C)CC(C)(C)O\n",
              "427         427  ...                   O=C1CSC(=S)N1\n",
              "638         638  ...                            CCBr\n",
              "950         950  ...  CC(C)OC(=O)NC1:C:C:C:C(Cl):C:1\n",
              "436         436  ...                           CCSCC\n",
              "\n",
              "[5 rows x 11 columns]"
            ]
          },
          "metadata": {
            "tags": []
          },
          "execution_count": 129
        }
      ]
    },
    {
      "cell_type": "markdown",
      "metadata": {
        "id": "FJRSVJ_OMucy"
      },
      "source": [
        "**We can explore the range of solubilities found in the dataset by plotting a histogram of solubility values from the dataset. Our machine learning models will aim to predict these solubilities.**"
      ]
    },
    {
      "cell_type": "code",
      "metadata": {
        "colab": {
          "base_uri": "https://localhost:8080/",
          "height": 296
        },
        "id": "Fult5Y0aMm5_",
        "outputId": "672be743-8a95-4577-b8fa-1cf54cc18b5a"
      },
      "source": [
        "sns.distplot(dataset[\"measured log solubility in mols per litre\"])"
      ],
      "execution_count": 130,
      "outputs": [
        {
          "output_type": "execute_result",
          "data": {
            "text/plain": [
              "<matplotlib.axes._subplots.AxesSubplot at 0x7f00ec2e0610>"
            ]
          },
          "metadata": {
            "tags": []
          },
          "execution_count": 130
        },
        {
          "output_type": "display_data",
          "data": {
            "image/png": "[encoded data removed]",
            "text/plain": [
              "<Figure size 432x288 with 1 Axes>"
            ]
          },
          "metadata": {
            "tags": [],
            "needs_background": "light"
          }
        }
      ]
    },
    {
      "cell_type": "markdown",
      "metadata": {
        "id": "aO25OC2mMsvQ"
      },
      "source": [
        "In the next cell we will plot a histogram of SMILES string lengths from dataset. These lengths will be used to determine the length of the inputs for our CNN and VAE models. Below are examples of the SMILES representation:\n",
        "\n",
        "Methane: 'C'\n",
        "Pentane: 'CCCCC'\n",
        "Methanol and Ethanol: 'CO' and 'CCO'\n",
        "Pyridine: 'C1:C:C:N:C:C:1'\n",
        "To learn more about the SMILES representation, click here. "
      ]
    },
    {
      "cell_type": "code",
      "metadata": {
        "colab": {
          "base_uri": "https://localhost:8080/",
          "height": 282
        },
        "id": "1_yhe0GnMnNE",
        "outputId": "90b69ce3-b931-4094-b71d-18d48ed52ae2"
      },
      "source": [
        "smiles_lengths = map(len, dataset.smiles.values)\n",
        "sns.distplot(list(smiles_lengths), bins=20, kde=False)"
      ],
      "execution_count": 131,
      "outputs": [
        {
          "output_type": "execute_result",
          "data": {
            "text/plain": [
              "<matplotlib.axes._subplots.AxesSubplot at 0x7f00ec0e78d0>"
            ]
          },
          "metadata": {
            "tags": []
          },
          "execution_count": 131
        },
        {
          "output_type": "display_data",
          "data": {
            "image/png": "[encoded data removed]",
            "text/plain": [
              "<Figure size 432x288 with 1 Axes>"
            ]
          },
          "metadata": {
            "tags": [],
            "needs_background": "light"
          }
        }
      ]
    },
    {
      "cell_type": "markdown",
      "metadata": {
        "id": "ClNDUNFZOH17"
      },
      "source": [
        "Data preparation\n",
        "Now we will pre-process the dataset for the CNN and VAE models. First, we'll get the unique character set from all SMILES strings in the dataset. Then we will use the unique character set to convert our SMILES strings to a one-hot representation, which is a representation that converts raw strings of text to numerical inputs for our models.\n",
        "\n",
        "In a one-hot representation, each character of our SMILES string is encoded as a vector of zeros, except for one non-zero value. For instance, the character 'C' in the SMILES string is converted to a vector of length 31, consisting of 30 zeros and one non-zero entry of one. The length of this vector (31 in our case) is the total number of unique characters in the dataset.\n",
        "\n",
        "Given a string of 5 characters (say Pentane, which is represented as 'CCCCC'), we would thus get 5 vectors each of length 31. Since different molecules have different SMILES string lengths, we can pre-define the length of each string to be the maximum length from the database, with smaller molecules represented with additional characters. In our case, this maximum length is 40 and we represent the extra characters for smaller molecules with pre-defined one-hot vectors. This means that each molecule is now represented as a set of 40 vectors, each of length 31. We can represent this as a 40x31 matrix.\n",
        "\n",
        "One-hot encoding is commonly used in natural language processing, and you can learn more about one-hot encoding here.\n",
        "\n",
        "Finally, we will define our input and output and create test/train splits in the dataset."
      ]
    },
    {
      "cell_type": "code",
      "metadata": {
        "id": "Uk-ZFa3zQOcu"
      },
      "source": [
        "## Function to create unique character from string \n",
        "\n",
        "def generate_charset(full_char_list:list) -> list:\n",
        "    '''\n",
        "    Assumes full_char_list is a list of characters (e.g., ['c', 'c', '1']).\n",
        "    Returns a sorted list of unique characters, with index zero as a NULL character, and a PAD character.\n",
        "    '''\n",
        "    unique_chars = set(''.join(full_char_list))\n",
        "    charset = ['NULL', 'PAD'] + sorted(unique_chars)\n",
        "    return charset"
      ],
      "execution_count": 132,
      "outputs": []
    },
    {
      "cell_type": "code",
      "metadata": {
        "id": "GU9dKkZHVa4b"
      },
      "source": [
        "### Function to create one hot encoder ....\n",
        "\n",
        "def smiles_to_onehots(smiles_strings:list,\n",
        "                     unique_charset:list,\n",
        "                     max_smiles_chars:int) -> np.array:\n",
        "    one_hots = []\n",
        "    charset_length = len(unique_charset)\n",
        "\n",
        "    for smiles_string in smiles_strings:\n",
        "        one_hot_smiles = np.zeros(shape=(max_smiles_chars, charset_length))\n",
        "        for i in range(max_smiles_chars):\n",
        "            one_hot_col = [0]*charset_length\n",
        "            ind = None # Which index will we flip to be \"one-hot\"?\n",
        "            \n",
        "            if i < len(smiles_string):\n",
        "                try:\n",
        "                    ind = unique_charset.index(smiles_string[i])\n",
        "                    # one_hot_col[unique_charset.index(char)] = 1\n",
        "                except ValueError:\n",
        "                    ind = 0 # Treat as NULL if out-of-vocab  \n",
        "                    # one_hot_col[0] = 1 # Treat as NULL if out-of-vocab   \n",
        "            else:\n",
        "                ind = 1 # Add PAD as needed\n",
        "            \n",
        "            one_hot_col[ind] = 1\n",
        "            one_hot_smiles[i,:] = one_hot_col\n",
        "            \n",
        "        one_hots.append(one_hot_smiles)\n",
        "    return np.array(one_hots)"
      ],
      "execution_count": 133,
      "outputs": []
    },
    {
      "cell_type": "code",
      "metadata": {
        "colab": {
          "base_uri": "https://localhost:8080/"
        },
        "id": "A8RQxPRbOJif",
        "outputId": "9b5272e4-dd32-4889-abd4-08179bf83699"
      },
      "source": [
        "# get unique character set in all SMILES strings \n",
        "charset = generate_charset(dataset[\"smiles\"].values.ravel())\n",
        "\n",
        "# get the number of unique characters\n",
        "charset_length = len(charset)\n",
        "print(charset_length)\n",
        "\n",
        "# define max number of SMILES for model input vector\n",
        "max_smiles_chars = 40\n",
        "\n",
        "# dimension of input vector\n",
        "input_dim = charset_length * max_smiles_chars\n",
        "\n",
        "# get one-hot representation of the SMILES strings \n",
        "one_hots = smiles_to_onehots(dataset[\"smiles\"].values, charset, max_smiles_chars)\n",
        "\n",
        "# split input into train and test sets\n",
        "X_train = one_hots[:-100]\n",
        "X_test = one_hots[-100:]\n",
        "\n",
        "# split output to train and test sets\n",
        "output = dataset[\"measured log solubility in mols per litre\"].values\n",
        "Y_train = output[:-100]\n",
        "Y_test = output[-100:]"
      ],
      "execution_count": 134,
      "outputs": [
        {
          "output_type": "stream",
          "text": [
            "31\n"
          ],
          "name": "stdout"
        }
      ]
    },
    {
      "cell_type": "markdown",
      "metadata": {
        "id": "B7byq7bpOwx3"
      },
      "source": [
        "Let's briefly visualize what our input data looks like using a heatmap that shows the position of each character in the SMILES string, you can change the index to see various molecules. Each molecule is represented by a 40x31 sparse matrix, the bright spots in the heatmap indicate the position at which a one is found in the matrix. For instance, the first row has a bright spot at index 18, indicating that the first character is 'C'. The second row has a bright spot at index 23, which indicates that the second character is 'O'. For the compound Dimethoxymethane with a SMILES string 'COCOC', we expect the matrix to have alternating bright spots at index 18 and index 23 for the first five rows. Beyond that, the rows all have a bright spot at index 1, which stands for the extra characters padded on to our string to make all SMILES strings the same length. The heatmap below is plotted using the Seaborn library."
      ]
    },
    {
      "cell_type": "code",
      "metadata": {
        "colab": {
          "base_uri": "https://localhost:8080/",
          "height": 300
        },
        "id": "v9BTS_bMOycQ",
        "outputId": "1d2d5d9d-4010-48a3-f538-c28424eab60f"
      },
      "source": [
        "index = 765\n",
        "sns.heatmap(X_train[index]) # This is a single training example -- note that it is a matrix, not a single vector!\n",
        "plt.xlabel('Character')\n",
        "plt.ylabel('Position in SMILES String')\n",
        "print(dataset.iloc[index]['smiles'])"
      ],
      "execution_count": 135,
      "outputs": [
        {
          "output_type": "stream",
          "text": [
            "CCOCC\n"
          ],
          "name": "stdout"
        },
        {
          "output_type": "display_data",
          "data": {
            "image/png": "[encoded data removed]",
            "text/plain": [
              "<Figure size 432x288 with 2 Axes>"
            ]
          },
          "metadata": {
            "tags": [],
            "needs_background": "light"
          }
        }
      ]
    },
    {
      "cell_type": "markdown",
      "metadata": {
        "id": "g1jxL2cFW0T4"
      },
      "source": [
        "**Supervised CNN model for predicting solubility**\n",
        "In this section, we will set up a convolutional neural network to predict solubility using one-hot SMILES as input. A convolutional neural network is a machine learning model that is commonly used to classify images, and you can learn more about them here.\n",
        "\n",
        "Define model structure\n",
        "First, we will create the model structure, starting with the input layer. As described above, each training example is a 40x31 matrix, which is the shape we pass to the Input layer in Keras."
      ]
    },
    {
      "cell_type": "code",
      "metadata": {
        "id": "D6o9jYfEW93H"
      },
      "source": [
        "# Define the input layer\n",
        "# NOTE: We feed in a sequence here! We're inputting up to max_smiles_chars characters, \n",
        "# and each character is an array of length charset_length\n",
        "smiles_input = Input(shape=(max_smiles_chars, charset_length), name=\"SMILES-Input\")"
      ],
      "execution_count": 136,
      "outputs": []
    },
    {
      "cell_type": "markdown",
      "metadata": {
        "id": "KBbFBGB1XnGe"
      },
      "source": [
        "**Next we will define the convolution layers where each layer attempts to learn certain features of the images, such as edges and corners. The input to each layer (a matrix) is transformed via convolution operations, which are element by element multiplications of the input matrix and a filter matrix. The convolutional layer learns the filter matrix that will best identify unique features of the image. You can learn more about convolution operations and the math behind convolutional neural networks here.**"
      ]
    },
    {
      "cell_type": "code",
      "metadata": {
        "id": "mPWalBDQXj-x"
      },
      "source": [
        "# Set parameters for convolutional layers \n",
        "num_conv_filters = 16\n",
        "kernel_size = 3\n",
        "\n",
        "init_weights = initializers.glorot_normal(seed=0)\n",
        "\n",
        "# Define the convolutional layers\n",
        "# Multiple convolutions in a row is a common architecture (but there are many \"right\" choices here)\n",
        "conv_1_func = Conv1D(\n",
        "    filters=num_conv_filters, # What is the \"depth\" of the convolution? How many times do you look at the same spot?\n",
        "    kernel_size=kernel_size, # How \"wide\" of a spot does each filter look at?\n",
        "    name=\"Convolution-1\",\n",
        "    activation=\"relu\", # This is a common activation function: Rectified Linear Unit (ReLU)\n",
        "    kernel_initializer=init_weights #This defines the initial values for the weights\n",
        ")\n",
        "conv_2_func = Conv1D(\n",
        "    filters=num_conv_filters, \n",
        "    kernel_size=kernel_size, \n",
        "    name=\"Convolution-2\",\n",
        "    activation=\"relu\",\n",
        "    kernel_initializer=init_weights\n",
        ")\n",
        "conv_3_func = Conv1D(\n",
        "    filters=num_conv_filters, \n",
        "    kernel_size=kernel_size, \n",
        "    name=\"Convolution-3\",\n",
        "    activation=\"relu\",\n",
        "    kernel_initializer=init_weights\n",
        ")\n",
        "conv_4_func = Conv1D(\n",
        "    filters=num_conv_filters, \n",
        "    kernel_size=kernel_size,\n",
        "    name=\"Convolution-4\",\n",
        "    activation=\"relu\",\n",
        "    kernel_initializer=init_weights\n",
        ")"
      ],
      "execution_count": 137,
      "outputs": []
    },
    {
      "cell_type": "markdown",
      "metadata": {
        "id": "pH8ySmkdYB-m"
      },
      "source": [
        "The four convolution layers defined above will attempt to learn features of the SMILES string (represented as a 40x31 matrix) that are relevant to predicting the solubility. To get a numerical prediction, we now flatten the output of the convolution and pass it to a set of regular Dense layers, the last layer predicting one value for the solubility."
      ]
    },
    {
      "cell_type": "code",
      "metadata": {
        "id": "L9pxE6KCYDPp"
      },
      "source": [
        "# Define layer to flatten convolutions\n",
        "flatten_func = Flatten(name=\"Flattened-Convolutions\")\n",
        "\n",
        "# Define the activation function layer\n",
        "hidden_size = 32\n",
        "dense_1_func = Dense(hidden_size, activation=\"relu\", name=\"Fully-Connected\", kernel_initializer=init_weights)\n",
        "\n",
        "# Define output layer -- it's only one dimension since it is regression\n",
        "output_size = 1\n",
        "output_solubility_func = Dense(output_size, activation=\"linear\", name=\"Log-Solubility\", kernel_initializer=init_weights)"
      ],
      "execution_count": 138,
      "outputs": []
    },
    {
      "cell_type": "markdown",
      "metadata": {
        "id": "jb1djj7xYKm2"
      },
      "source": [
        "Now that we have defined all the layers, we will connect them together to make a graph:"
      ]
    },
    {
      "cell_type": "code",
      "metadata": {
        "id": "4hSBxCZhYLgm"
      },
      "source": [
        "# connect the CNN graph together\n",
        "conv_1_fwd = conv_1_func(smiles_input)\n",
        "conv_2_fwd = conv_2_func(conv_1_fwd)\n",
        "conv_3_fwd = conv_3_func(conv_2_fwd)\n",
        "conv_4_fwd = conv_4_func(conv_3_fwd)\n",
        "flattened_convs = flatten_func(conv_4_fwd)\n",
        "dense_1_fwd = dense_1_func(flattened_convs)\n",
        "output_solubility_fwd = output_solubility_func(flattened_convs)"
      ],
      "execution_count": 139,
      "outputs": []
    },
    {
      "cell_type": "markdown",
      "metadata": {
        "id": "WZ8IxymEYTvR"
      },
      "source": [
        "View model structure and metadata\n",
        "Now the model is ready to train! But first we will define the model as solubility_model and compile it, then view some information on the model using the keras2ascii tool, which visually represents the layers in our model."
      ]
    },
    {
      "cell_type": "code",
      "metadata": {
        "id": "d8aVXkQOYVRH"
      },
      "source": [
        "# create model\n",
        "solubility_model = Model(\n",
        "            inputs=[smiles_input],\n",
        "            outputs=[output_solubility_fwd]\n",
        ")\n",
        "\n",
        "# compile model\n",
        "solubility_model.compile(\n",
        "    optimizer=\"adam\",\n",
        "    loss=\"mse\",\n",
        "    metrics=[\"mae\"]\n",
        ")"
      ],
      "execution_count": 140,
      "outputs": []
    },
    {
      "cell_type": "code",
      "metadata": {
        "id": "BC7h258cYhgO"
      },
      "source": [
        "# view model as a graph\n",
        "#keras2ascii(solubility_model)"
      ],
      "execution_count": 141,
      "outputs": []
    },
    {
      "cell_type": "markdown",
      "metadata": {
        "id": "4b44omEAZyxq"
      },
      "source": [
        "Train CNN\n",
        "Now we will train our CNN solubility model to the training data! During training, we will see metrics printed after each epoch such as test/train loss (both as Mean Squared Error (MSE) and Mean Absolute Error (MAE))."
      ]
    },
    {
      "cell_type": "code",
      "metadata": {
        "colab": {
          "base_uri": "https://localhost:8080/"
        },
        "id": "Q_ZAGOwzZ0DK",
        "outputId": "370fd8a7-3355-4a9c-c769-de5eb94b69e5"
      },
      "source": [
        "history = solubility_model.fit(\n",
        "    X_train, # Inputs\n",
        "    Y_train, # Outputs\n",
        "    epochs=115, # How many times to pass over the data\n",
        "    batch_size=64, # How many data rows to compute at once\n",
        "    verbose=1,\n",
        "    validation_data=(X_test, Y_test), # You would usually use more splits of the data if you plan to tune hyperparams\n",
        ")"
      ],
      "execution_count": 147,
      "outputs": [
        {
          "output_type": "stream",
          "text": [
            "Epoch 1/115\n",
            "17/17 [==============================] - 0s 11ms/step - loss: 1.1226 - mae: 0.8353 - val_loss: 1.1792 - val_mae: 0.8666\n",
            "Epoch 2/115\n",
            "17/17 [==============================] - 0s 9ms/step - loss: 1.0367 - mae: 0.7978 - val_loss: 1.1633 - val_mae: 0.8451\n",
            "Epoch 3/115\n",
            "17/17 [==============================] - 0s 10ms/step - loss: 1.0054 - mae: 0.7865 - val_loss: 1.1460 - val_mae: 0.8352\n",
            "Epoch 4/115\n",
            "17/17 [==============================] - 0s 9ms/step - loss: 0.9636 - mae: 0.7740 - val_loss: 1.0994 - val_mae: 0.8375\n",
            "Epoch 5/115\n",
            "17/17 [==============================] - 0s 9ms/step - loss: 1.0597 - mae: 0.8080 - val_loss: 1.0266 - val_mae: 0.8092\n",
            "Epoch 6/115\n",
            "17/17 [==============================] - 0s 9ms/step - loss: 0.9475 - mae: 0.7629 - val_loss: 0.9899 - val_mae: 0.7878\n",
            "Epoch 7/115\n",
            "17/17 [==============================] - 0s 9ms/step - loss: 0.9189 - mae: 0.7529 - val_loss: 0.9733 - val_mae: 0.7805\n",
            "Epoch 8/115\n",
            "17/17 [==============================] - 0s 9ms/step - loss: 0.9027 - mae: 0.7477 - val_loss: 0.9582 - val_mae: 0.7756\n",
            "Epoch 9/115\n",
            "17/17 [==============================] - 0s 10ms/step - loss: 0.8830 - mae: 0.7404 - val_loss: 0.9305 - val_mae: 0.7757\n",
            "Epoch 10/115\n",
            "17/17 [==============================] - 0s 9ms/step - loss: 0.8835 - mae: 0.7367 - val_loss: 0.9060 - val_mae: 0.7585\n",
            "Epoch 11/115\n",
            "17/17 [==============================] - 0s 9ms/step - loss: 0.8656 - mae: 0.7316 - val_loss: 0.8928 - val_mae: 0.7555\n",
            "Epoch 12/115\n",
            "17/17 [==============================] - 0s 9ms/step - loss: 0.8621 - mae: 0.7305 - val_loss: 0.9054 - val_mae: 0.7607\n",
            "Epoch 13/115\n",
            "17/17 [==============================] - 0s 9ms/step - loss: 0.8380 - mae: 0.7186 - val_loss: 0.9049 - val_mae: 0.7685\n",
            "Epoch 14/115\n",
            "17/17 [==============================] - 0s 8ms/step - loss: 0.8613 - mae: 0.7282 - val_loss: 0.9002 - val_mae: 0.7477\n",
            "Epoch 15/115\n",
            "17/17 [==============================] - 0s 9ms/step - loss: 0.8373 - mae: 0.7216 - val_loss: 0.8584 - val_mae: 0.7391\n",
            "Epoch 16/115\n",
            "17/17 [==============================] - 0s 9ms/step - loss: 0.8850 - mae: 0.7366 - val_loss: 0.8669 - val_mae: 0.7320\n",
            "Epoch 17/115\n",
            "17/17 [==============================] - 0s 8ms/step - loss: 0.8421 - mae: 0.7201 - val_loss: 0.9598 - val_mae: 0.7672\n",
            "Epoch 18/115\n",
            "17/17 [==============================] - 0s 9ms/step - loss: 0.8239 - mae: 0.7197 - val_loss: 0.8286 - val_mae: 0.7273\n",
            "Epoch 19/115\n",
            "17/17 [==============================] - 0s 9ms/step - loss: 0.7610 - mae: 0.6876 - val_loss: 0.8170 - val_mae: 0.7192\n",
            "Epoch 20/115\n",
            "17/17 [==============================] - 0s 9ms/step - loss: 0.7579 - mae: 0.6832 - val_loss: 0.9223 - val_mae: 0.7486\n",
            "Epoch 21/115\n",
            "17/17 [==============================] - 0s 9ms/step - loss: 0.7686 - mae: 0.6879 - val_loss: 0.8050 - val_mae: 0.7132\n",
            "Epoch 22/115\n",
            "17/17 [==============================] - 0s 9ms/step - loss: 0.9428 - mae: 0.7586 - val_loss: 0.8951 - val_mae: 0.7646\n",
            "Epoch 23/115\n",
            "17/17 [==============================] - 0s 9ms/step - loss: 0.7684 - mae: 0.6869 - val_loss: 0.7842 - val_mae: 0.7158\n",
            "Epoch 24/115\n",
            "17/17 [==============================] - 0s 8ms/step - loss: 0.7212 - mae: 0.6709 - val_loss: 0.7880 - val_mae: 0.7084\n",
            "Epoch 25/115\n",
            "17/17 [==============================] - 0s 9ms/step - loss: 0.7095 - mae: 0.6668 - val_loss: 0.7995 - val_mae: 0.7079\n",
            "Epoch 26/115\n",
            "17/17 [==============================] - 0s 9ms/step - loss: 0.6963 - mae: 0.6541 - val_loss: 0.8711 - val_mae: 0.7292\n",
            "Epoch 27/115\n",
            "17/17 [==============================] - 0s 9ms/step - loss: 0.6830 - mae: 0.6503 - val_loss: 0.7623 - val_mae: 0.7087\n",
            "Epoch 28/115\n",
            "17/17 [==============================] - 0s 8ms/step - loss: 0.7137 - mae: 0.6626 - val_loss: 0.8855 - val_mae: 0.7322\n",
            "Epoch 29/115\n",
            "17/17 [==============================] - 0s 9ms/step - loss: 0.6993 - mae: 0.6536 - val_loss: 0.7370 - val_mae: 0.6946\n",
            "Epoch 30/115\n",
            "17/17 [==============================] - 0s 10ms/step - loss: 0.6828 - mae: 0.6511 - val_loss: 0.7746 - val_mae: 0.7174\n",
            "Epoch 31/115\n",
            "17/17 [==============================] - 0s 9ms/step - loss: 0.6660 - mae: 0.6481 - val_loss: 0.7198 - val_mae: 0.6803\n",
            "Epoch 32/115\n",
            "17/17 [==============================] - 0s 8ms/step - loss: 0.6276 - mae: 0.6238 - val_loss: 0.7433 - val_mae: 0.7092\n",
            "Epoch 33/115\n",
            "17/17 [==============================] - 0s 9ms/step - loss: 0.7092 - mae: 0.6541 - val_loss: 0.7937 - val_mae: 0.7016\n",
            "Epoch 34/115\n",
            "17/17 [==============================] - 0s 10ms/step - loss: 0.6283 - mae: 0.6281 - val_loss: 0.7087 - val_mae: 0.6896\n",
            "Epoch 35/115\n",
            "17/17 [==============================] - 0s 10ms/step - loss: 0.6436 - mae: 0.6334 - val_loss: 0.7166 - val_mae: 0.6839\n",
            "Epoch 36/115\n",
            "17/17 [==============================] - 0s 10ms/step - loss: 0.5856 - mae: 0.6038 - val_loss: 0.7255 - val_mae: 0.6792\n",
            "Epoch 37/115\n",
            "17/17 [==============================] - 0s 9ms/step - loss: 0.6058 - mae: 0.6175 - val_loss: 0.7342 - val_mae: 0.6773\n",
            "Epoch 38/115\n",
            "17/17 [==============================] - 0s 9ms/step - loss: 0.6517 - mae: 0.6244 - val_loss: 0.7703 - val_mae: 0.6839\n",
            "Epoch 39/115\n",
            "17/17 [==============================] - 0s 8ms/step - loss: 0.6049 - mae: 0.6081 - val_loss: 0.6797 - val_mae: 0.6677\n",
            "Epoch 40/115\n",
            "17/17 [==============================] - 0s 9ms/step - loss: 0.5575 - mae: 0.5870 - val_loss: 0.6786 - val_mae: 0.6579\n",
            "Epoch 41/115\n",
            "17/17 [==============================] - 0s 8ms/step - loss: 0.5490 - mae: 0.5853 - val_loss: 0.7102 - val_mae: 0.6605\n",
            "Epoch 42/115\n",
            "17/17 [==============================] - 0s 9ms/step - loss: 0.5328 - mae: 0.5733 - val_loss: 0.6669 - val_mae: 0.6766\n",
            "Epoch 43/115\n",
            "17/17 [==============================] - 0s 9ms/step - loss: 0.5439 - mae: 0.5835 - val_loss: 0.7012 - val_mae: 0.6530\n",
            "Epoch 44/115\n",
            "17/17 [==============================] - 0s 9ms/step - loss: 0.5116 - mae: 0.5621 - val_loss: 0.6422 - val_mae: 0.6574\n",
            "Epoch 45/115\n",
            "17/17 [==============================] - 0s 9ms/step - loss: 0.5190 - mae: 0.5675 - val_loss: 0.6853 - val_mae: 0.6508\n",
            "Epoch 46/115\n",
            "17/17 [==============================] - 0s 9ms/step - loss: 0.5154 - mae: 0.5658 - val_loss: 0.6529 - val_mae: 0.6545\n",
            "Epoch 47/115\n",
            "17/17 [==============================] - 0s 9ms/step - loss: 0.5036 - mae: 0.5601 - val_loss: 0.6981 - val_mae: 0.6610\n",
            "Epoch 48/115\n",
            "17/17 [==============================] - 0s 10ms/step - loss: 0.5145 - mae: 0.5684 - val_loss: 0.6714 - val_mae: 0.6765\n",
            "Epoch 49/115\n",
            "17/17 [==============================] - 0s 9ms/step - loss: 0.5025 - mae: 0.5565 - val_loss: 0.6589 - val_mae: 0.6498\n",
            "Epoch 50/115\n",
            "17/17 [==============================] - 0s 9ms/step - loss: 0.5022 - mae: 0.5525 - val_loss: 0.6981 - val_mae: 0.6635\n",
            "Epoch 51/115\n",
            "17/17 [==============================] - 0s 9ms/step - loss: 0.4756 - mae: 0.5416 - val_loss: 0.6571 - val_mae: 0.6444\n",
            "Epoch 52/115\n",
            "17/17 [==============================] - 0s 9ms/step - loss: 0.4653 - mae: 0.5348 - val_loss: 0.6894 - val_mae: 0.6512\n",
            "Epoch 53/115\n",
            "17/17 [==============================] - 0s 10ms/step - loss: 0.4574 - mae: 0.5263 - val_loss: 0.6267 - val_mae: 0.6315\n",
            "Epoch 54/115\n",
            "17/17 [==============================] - 0s 10ms/step - loss: 0.4830 - mae: 0.5450 - val_loss: 0.6756 - val_mae: 0.6750\n",
            "Epoch 55/115\n",
            "17/17 [==============================] - 0s 9ms/step - loss: 0.5308 - mae: 0.5734 - val_loss: 0.6283 - val_mae: 0.6399\n",
            "Epoch 56/115\n",
            "17/17 [==============================] - 0s 9ms/step - loss: 0.4526 - mae: 0.5291 - val_loss: 0.6351 - val_mae: 0.6330\n",
            "Epoch 57/115\n",
            "17/17 [==============================] - 0s 9ms/step - loss: 0.5030 - mae: 0.5545 - val_loss: 0.6630 - val_mae: 0.6402\n",
            "Epoch 58/115\n",
            "17/17 [==============================] - 0s 10ms/step - loss: 0.4245 - mae: 0.5071 - val_loss: 0.6093 - val_mae: 0.6259\n",
            "Epoch 59/115\n",
            "17/17 [==============================] - 0s 9ms/step - loss: 0.4407 - mae: 0.5171 - val_loss: 0.6389 - val_mae: 0.6409\n",
            "Epoch 60/115\n",
            "17/17 [==============================] - 0s 10ms/step - loss: 0.4163 - mae: 0.4986 - val_loss: 0.6378 - val_mae: 0.6503\n",
            "Epoch 61/115\n",
            "17/17 [==============================] - 0s 10ms/step - loss: 0.4328 - mae: 0.5135 - val_loss: 0.6313 - val_mae: 0.6290\n",
            "Epoch 62/115\n",
            "17/17 [==============================] - 0s 9ms/step - loss: 0.4014 - mae: 0.4894 - val_loss: 0.6442 - val_mae: 0.6430\n",
            "Epoch 63/115\n",
            "17/17 [==============================] - 0s 9ms/step - loss: 0.4000 - mae: 0.4899 - val_loss: 0.6654 - val_mae: 0.6464\n",
            "Epoch 64/115\n",
            "17/17 [==============================] - 0s 9ms/step - loss: 0.3873 - mae: 0.4826 - val_loss: 0.6559 - val_mae: 0.6445\n",
            "Epoch 65/115\n",
            "17/17 [==============================] - 0s 10ms/step - loss: 0.4044 - mae: 0.5009 - val_loss: 0.7527 - val_mae: 0.7188\n",
            "Epoch 66/115\n",
            "17/17 [==============================] - 0s 10ms/step - loss: 0.5052 - mae: 0.5695 - val_loss: 0.7035 - val_mae: 0.6616\n",
            "Epoch 67/115\n",
            "17/17 [==============================] - 0s 9ms/step - loss: 0.4355 - mae: 0.5132 - val_loss: 0.7099 - val_mae: 0.6697\n",
            "Epoch 68/115\n",
            "17/17 [==============================] - 0s 9ms/step - loss: 0.3975 - mae: 0.4904 - val_loss: 0.6486 - val_mae: 0.6426\n",
            "Epoch 69/115\n",
            "17/17 [==============================] - 0s 9ms/step - loss: 0.3815 - mae: 0.4785 - val_loss: 0.6297 - val_mae: 0.6345\n",
            "Epoch 70/115\n",
            "17/17 [==============================] - 0s 9ms/step - loss: 0.3760 - mae: 0.4768 - val_loss: 0.6760 - val_mae: 0.6522\n",
            "Epoch 71/115\n",
            "17/17 [==============================] - 0s 9ms/step - loss: 0.3609 - mae: 0.4642 - val_loss: 0.6595 - val_mae: 0.6406\n",
            "Epoch 72/115\n",
            "17/17 [==============================] - 0s 9ms/step - loss: 0.3528 - mae: 0.4582 - val_loss: 0.8457 - val_mae: 0.7198\n",
            "Epoch 73/115\n",
            "17/17 [==============================] - 0s 11ms/step - loss: 0.4330 - mae: 0.5138 - val_loss: 0.6390 - val_mae: 0.6351\n",
            "Epoch 74/115\n",
            "17/17 [==============================] - 0s 10ms/step - loss: 0.3515 - mae: 0.4625 - val_loss: 0.6530 - val_mae: 0.6510\n",
            "Epoch 75/115\n",
            "17/17 [==============================] - 0s 9ms/step - loss: 0.3502 - mae: 0.4598 - val_loss: 0.6681 - val_mae: 0.6451\n",
            "Epoch 76/115\n",
            "17/17 [==============================] - 0s 9ms/step - loss: 0.3573 - mae: 0.4598 - val_loss: 0.6631 - val_mae: 0.6511\n",
            "Epoch 77/115\n",
            "17/17 [==============================] - 0s 10ms/step - loss: 0.3443 - mae: 0.4521 - val_loss: 0.6691 - val_mae: 0.6455\n",
            "Epoch 78/115\n",
            "17/17 [==============================] - 0s 9ms/step - loss: 0.3374 - mae: 0.4456 - val_loss: 0.6819 - val_mae: 0.6712\n",
            "Epoch 79/115\n",
            "17/17 [==============================] - 0s 10ms/step - loss: 0.3599 - mae: 0.4641 - val_loss: 0.6667 - val_mae: 0.6489\n",
            "Epoch 80/115\n",
            "17/17 [==============================] - 0s 9ms/step - loss: 0.3811 - mae: 0.4844 - val_loss: 0.6773 - val_mae: 0.6469\n",
            "Epoch 81/115\n",
            "17/17 [==============================] - 0s 9ms/step - loss: 0.3374 - mae: 0.4509 - val_loss: 0.7187 - val_mae: 0.6590\n",
            "Epoch 82/115\n",
            "17/17 [==============================] - 0s 9ms/step - loss: 0.3269 - mae: 0.4428 - val_loss: 0.7983 - val_mae: 0.6922\n",
            "Epoch 83/115\n",
            "17/17 [==============================] - 0s 10ms/step - loss: 0.3369 - mae: 0.4465 - val_loss: 0.6551 - val_mae: 0.6431\n",
            "Epoch 84/115\n",
            "17/17 [==============================] - 0s 9ms/step - loss: 0.3161 - mae: 0.4342 - val_loss: 0.7037 - val_mae: 0.6825\n",
            "Epoch 85/115\n",
            "17/17 [==============================] - 0s 10ms/step - loss: 0.3806 - mae: 0.4870 - val_loss: 0.9652 - val_mae: 0.7621\n",
            "Epoch 86/115\n",
            "17/17 [==============================] - 0s 10ms/step - loss: 0.4026 - mae: 0.5019 - val_loss: 0.6807 - val_mae: 0.6591\n",
            "Epoch 87/115\n",
            "17/17 [==============================] - 0s 9ms/step - loss: 0.3165 - mae: 0.4325 - val_loss: 0.6896 - val_mae: 0.6568\n",
            "Epoch 88/115\n",
            "17/17 [==============================] - 0s 10ms/step - loss: 0.3243 - mae: 0.4394 - val_loss: 0.7484 - val_mae: 0.7025\n",
            "Epoch 89/115\n",
            "17/17 [==============================] - 0s 10ms/step - loss: 0.4100 - mae: 0.5076 - val_loss: 0.7654 - val_mae: 0.6932\n",
            "Epoch 90/115\n",
            "17/17 [==============================] - 0s 10ms/step - loss: 0.3157 - mae: 0.4342 - val_loss: 0.6714 - val_mae: 0.6403\n",
            "Epoch 91/115\n",
            "17/17 [==============================] - 0s 10ms/step - loss: 0.3053 - mae: 0.4289 - val_loss: 0.6896 - val_mae: 0.6650\n",
            "Epoch 92/115\n",
            "17/17 [==============================] - 0s 10ms/step - loss: 0.3050 - mae: 0.4254 - val_loss: 0.7421 - val_mae: 0.6778\n",
            "Epoch 93/115\n",
            "17/17 [==============================] - 0s 10ms/step - loss: 0.2924 - mae: 0.4121 - val_loss: 0.7144 - val_mae: 0.6574\n",
            "Epoch 94/115\n",
            "17/17 [==============================] - 0s 10ms/step - loss: 0.3030 - mae: 0.4282 - val_loss: 0.7203 - val_mae: 0.6873\n",
            "Epoch 95/115\n",
            "17/17 [==============================] - 0s 10ms/step - loss: 0.3159 - mae: 0.4397 - val_loss: 0.7353 - val_mae: 0.6731\n",
            "Epoch 96/115\n",
            "17/17 [==============================] - 0s 10ms/step - loss: 0.2800 - mae: 0.4072 - val_loss: 0.7185 - val_mae: 0.6616\n",
            "Epoch 97/115\n",
            "17/17 [==============================] - 0s 10ms/step - loss: 0.2900 - mae: 0.4161 - val_loss: 0.6983 - val_mae: 0.6450\n",
            "Epoch 98/115\n",
            "17/17 [==============================] - 0s 10ms/step - loss: 0.3044 - mae: 0.4288 - val_loss: 0.7146 - val_mae: 0.6876\n",
            "Epoch 99/115\n",
            "17/17 [==============================] - 0s 10ms/step - loss: 0.3052 - mae: 0.4319 - val_loss: 0.6850 - val_mae: 0.6611\n",
            "Epoch 100/115\n",
            "17/17 [==============================] - 0s 11ms/step - loss: 0.2852 - mae: 0.4130 - val_loss: 0.7796 - val_mae: 0.6762\n",
            "Epoch 101/115\n",
            "17/17 [==============================] - 0s 11ms/step - loss: 0.2961 - mae: 0.4213 - val_loss: 0.7453 - val_mae: 0.6716\n",
            "Epoch 102/115\n",
            "17/17 [==============================] - 0s 11ms/step - loss: 0.3095 - mae: 0.4291 - val_loss: 0.7014 - val_mae: 0.6800\n",
            "Epoch 103/115\n",
            "17/17 [==============================] - 0s 10ms/step - loss: 0.2891 - mae: 0.4124 - val_loss: 0.6932 - val_mae: 0.6686\n",
            "Epoch 104/115\n",
            "17/17 [==============================] - 0s 10ms/step - loss: 0.2944 - mae: 0.4288 - val_loss: 0.7259 - val_mae: 0.6681\n",
            "Epoch 105/115\n",
            "17/17 [==============================] - 0s 10ms/step - loss: 0.2900 - mae: 0.4211 - val_loss: 0.8546 - val_mae: 0.7085\n",
            "Epoch 106/115\n",
            "17/17 [==============================] - 0s 11ms/step - loss: 0.2968 - mae: 0.4224 - val_loss: 0.7437 - val_mae: 0.6943\n",
            "Epoch 107/115\n",
            "17/17 [==============================] - 0s 11ms/step - loss: 0.2971 - mae: 0.4270 - val_loss: 0.7790 - val_mae: 0.6811\n",
            "Epoch 108/115\n",
            "17/17 [==============================] - 0s 11ms/step - loss: 0.2668 - mae: 0.3965 - val_loss: 0.7290 - val_mae: 0.6693\n",
            "Epoch 109/115\n",
            "17/17 [==============================] - 0s 10ms/step - loss: 0.2630 - mae: 0.3943 - val_loss: 0.7575 - val_mae: 0.6727\n",
            "Epoch 110/115\n",
            "17/17 [==============================] - 0s 10ms/step - loss: 0.2545 - mae: 0.3888 - val_loss: 0.7713 - val_mae: 0.6842\n",
            "Epoch 111/115\n",
            "17/17 [==============================] - 0s 10ms/step - loss: 0.2564 - mae: 0.3923 - val_loss: 0.7380 - val_mae: 0.6868\n",
            "Epoch 112/115\n",
            "17/17 [==============================] - 0s 10ms/step - loss: 0.3013 - mae: 0.4252 - val_loss: 0.8100 - val_mae: 0.6966\n",
            "Epoch 113/115\n",
            "17/17 [==============================] - 0s 12ms/step - loss: 0.2635 - mae: 0.3964 - val_loss: 0.7691 - val_mae: 0.6767\n",
            "Epoch 114/115\n",
            "17/17 [==============================] - 0s 10ms/step - loss: 0.2535 - mae: 0.3851 - val_loss: 0.7849 - val_mae: 0.6812\n",
            "Epoch 115/115\n",
            "17/17 [==============================] - 0s 10ms/step - loss: 0.2557 - mae: 0.3946 - val_loss: 0.7325 - val_mae: 0.6809\n"
          ],
          "name": "stdout"
        }
      ]
    },
    {
      "cell_type": "markdown",
      "metadata": {
        "id": "wTzqDGmtaKvu"
      },
      "source": [
        "Let's view the learning curve for the trained model.\n",
        "\n",
        "This code will generate a plot where we show the test and train errors (MSE) as a function of epoch (one pass of all training examples through the NN).\n",
        "\n",
        "The learning curve will tell us if the model is overfitting or underfitting."
      ]
    },
    {
      "cell_type": "code",
      "metadata": {
        "colab": {
          "base_uri": "https://localhost:8080/",
          "height": 295
        },
        "id": "NilcAldCaMGe",
        "outputId": "9cd7d2d3-0873-4eb8-c30a-de377aaf91f5"
      },
      "source": [
        "# plot the learning curve \n",
        "plt.plot(history.history['loss'])\n",
        "plt.plot(history.history['val_loss'])\n",
        "plt.title('Model accuracy')\n",
        "plt.ylabel('Error')\n",
        "plt.xlabel('Epoch')\n",
        "plt.xlim(0,)\n",
        "plt.legend(['Train', 'Validation',], loc='upper left')\n",
        "plt.show()"
      ],
      "execution_count": 148,
      "outputs": [
        {
          "output_type": "display_data",
          "data": {
            "image/png": "[encoded data removed]",
            "text/plain": [
              "<Figure size 432x288 with 1 Axes>"
            ]
          },
          "metadata": {
            "tags": [],
            "needs_background": "light"
          }
        }
      ]
    },
    {
      "cell_type": "markdown",
      "metadata": {
        "id": "LPD56MjHbwu4"
      },
      "source": [
        "Use CNN to make solubility predictions\n",
        "Now that we've trained our model, we can use it to make solubility predictions for any SMILES string! We just have to convert the SMILES string to 1-hot representation, then feed it to the solubility_model"
      ]
    },
    {
      "cell_type": "code",
      "metadata": {
        "colab": {
          "base_uri": "https://localhost:8080/"
        },
        "id": "gOAKEqraaUfv",
        "outputId": "c4736c11-1bdd-46bb-a081-5dd7f37c7822"
      },
      "source": [
        "example_smiles = [\n",
        "    'CC12CCC3C4:C:C:C(O):C:C:4CCC3C1CCC2O',\n",
        "    'CC1:O:C:C:C:1C(=O)NC1:C:C:C:C:C:1',\n",
        "    'C1:C:C:C2:C(:C:1):C:C:C1:C:2:C:C:C2:C3:C:C:C:C:C:3:C:C:C:2:1'\n",
        "]\n",
        "\n",
        "for smiles in example_smiles:\n",
        "    predict_test_input = smiles_to_onehots([smiles], charset, max_smiles_chars)\n",
        "    solubility_prediction = solubility_model.predict(predict_test_input)[0][0]\n",
        "    print(f'The predicted log solubility for SMILES {smiles} is {solubility_prediction}')"
      ],
      "execution_count": 158,
      "outputs": [
        {
          "output_type": "stream",
          "text": [
            "The predicted log solubility for SMILES CC12CCC3C4:C:C:C(O):C:C:4CCC3C1CCC2O is -4.587984085083008\n",
            "The predicted log solubility for SMILES CC1:O:C:C:C:1C(=O)NC1:C:C:C:C:C:1 is -2.831368923187256\n",
            "The predicted log solubility for SMILES C1:C:C:C2:C(:C:1):C:C:C1:C:2:C:C:C2:C3:C:C:C:C:C:3:C:C:C:2:1 is -7.788056373596191\n"
          ],
          "name": "stdout"
        }
      ]
    },
    {
      "cell_type": "markdown",
      "metadata": {
        "id": "9F_W2LltfNJO"
      },
      "source": [
        "We can now make a parity plot comparing the CNN model predictions to the ground truth data"
      ]
    },
    {
      "cell_type": "code",
      "metadata": {
        "colab": {
          "base_uri": "https://localhost:8080/",
          "height": 312
        },
        "id": "2kQegjhXfIh0",
        "outputId": "976a4bfe-0f75-42f8-f050-4eb3823a05b7"
      },
      "source": [
        "preds = solubility_model.predict(X_train)\n",
        "x_y_line = np.linspace(min(Y_train.flatten()), max(Y_train.flatten()), 500)\n",
        "plt.plot(Y_train.flatten(), preds.flatten(), 'o', label='predictions')\n",
        "plt.plot(x_y_line, x_y_line, label='y=x')\n",
        "plt.xlabel(\"Log solubility (ground truth)\")\n",
        "plt.ylabel(\"Log solubility (predicted)\")\n",
        "plt.title(\"Parity plot: predictions vs ground truth data\")\n",
        "plt.legend()"
      ],
      "execution_count": 145,
      "outputs": [
        {
          "output_type": "execute_result",
          "data": {
            "text/plain": [
              "<matplotlib.legend.Legend at 0x7f00e7716650>"
            ]
          },
          "metadata": {
            "tags": []
          },
          "execution_count": 145
        },
        {
          "output_type": "display_data",
          "data": {
            "image/png": "[encoded data removed]",
            "text/plain": [
              "<Figure size 432x288 with 1 Axes>"
            ]
          },
          "metadata": {
            "tags": [],
            "needs_background": "light"
          }
        }
      ]
    },
    {
      "cell_type": "code",
      "metadata": {
        "colab": {
          "base_uri": "https://localhost:8080/"
        },
        "id": "fdYc_TKUwDen",
        "outputId": "9a97f6fa-c391-4484-f9bc-d9e399d33688"
      },
      "source": [
        "### Comparartive prediction of y_test and y_test predicted .....\n",
        "Y_test_predited=solubility_model.predict(X_test)\n",
        "#print(Y_test_predited)\n",
        "\n",
        "print(np.concatenate((Y_test_predited.reshape(len(Y_test_predited),1), Y_test.reshape(len(Y_test),1)),1))"
      ],
      "execution_count": 155,
      "outputs": [
        {
          "output_type": "stream",
          "text": [
            "[[-1.15871012 -1.62      ]\n",
            " [-2.46863151 -1.93      ]\n",
            " [-1.24073827 -1.47      ]\n",
            " [-2.62885523 -2.484     ]\n",
            " [-1.83538783 -2.64      ]\n",
            " [-1.53074217 -1.01      ]\n",
            " [-4.86744452 -5.88      ]\n",
            " [-2.16045904 -2.22      ]\n",
            " [-1.91433001 -1.6       ]\n",
            " [-0.4507772  -1.92      ]\n",
            " [-0.8508516   0.36      ]\n",
            " [-2.6242516  -2.35      ]\n",
            " [-1.36177778 -2.21      ]\n",
            " [-4.92696905 -4.081     ]\n",
            " [-3.05038238 -1.877     ]\n",
            " [-3.27186084 -2.478     ]\n",
            " [ 0.51884806  1.34      ]\n",
            " [-5.92932701 -4.31      ]\n",
            " [-1.83653355 -2.55      ]\n",
            " [-1.80131924 -3.1       ]\n",
            " [-1.39669812 -1.803     ]\n",
            " [-5.02122688 -4.3       ]\n",
            " [-2.81778646 -3.6       ]\n",
            " [-5.33440542 -6.124     ]\n",
            " [-7.08795786 -8.01      ]\n",
            " [-3.89965749 -3.78      ]\n",
            " [ 0.30859312 -0.31      ]\n",
            " [-2.29145122 -2.266     ]\n",
            " [-0.57739305  0.009     ]\n",
            " [-0.79465026  0.38      ]\n",
            " [-1.76777554  0.51      ]\n",
            " [-2.93226337 -2.09      ]\n",
            " [-2.87906909 -3.12      ]\n",
            " [-2.88328648 -4.46      ]\n",
            " [-1.03343928 -2.273     ]\n",
            " [-5.65348053 -6.29      ]\n",
            " [-4.32131672 -4.862     ]\n",
            " [-2.9969101  -3.28      ]\n",
            " [-3.94086885 -2.63      ]\n",
            " [-8.41318893 -7.39      ]\n",
            " [-5.1483922  -5.26      ]\n",
            " [-4.94300747 -4.873     ]\n",
            " [-2.63945436 -3.46      ]\n",
            " [-5.2052722  -4.86      ]\n",
            " [-2.40540171 -2.658     ]\n",
            " [-4.57764053 -4.02      ]\n",
            " [-4.24275303 -4.14      ]\n",
            " [-2.65156841 -1.7       ]\n",
            " [-3.14288044 -3.05      ]\n",
            " [-8.55914402 -7.66      ]\n",
            " [ 0.17520219 -0.01      ]\n",
            " [-0.57029074 -0.8       ]\n",
            " [-3.7226727  -4.26      ]\n",
            " [-1.86134017 -2.016     ]\n",
            " [-3.67933655 -5.27      ]\n",
            " [-0.7129364  -1.89      ]\n",
            " [-4.63505936 -3.35      ]\n",
            " [-0.06562483  0.76      ]\n",
            " [ 0.46931368  0.7       ]\n",
            " [-6.18486977 -6.9       ]\n",
            " [-1.93676972 -2.09      ]\n",
            " [-4.51262951 -4.47      ]\n",
            " [-5.08743858 -4.8       ]\n",
            " [ 0.21286896  0.81      ]\n",
            " [-3.36912346 -3.3       ]\n",
            " [-2.42715073 -2.55      ]\n",
            " [-2.50895381 -2.85      ]\n",
            " [-1.4383198  -1.19      ]\n",
            " [-1.68972409 -1.99      ]\n",
            " [-2.80225277 -3.11      ]\n",
            " [-4.62012911 -4.5       ]\n",
            " [-1.28387082 -2.        ]\n",
            " [-1.16874421 -1.8       ]\n",
            " [-1.59719431 -1.85      ]\n",
            " [-4.35766411 -3.61      ]\n",
            " [-2.70665288 -3.27      ]\n",
            " [-6.66018391 -7.01      ]\n",
            " [ 0.19277704 -1.6       ]\n",
            " [-8.42785549 -7.85      ]\n",
            " [-1.34371006 -1.74      ]\n",
            " [-1.24590528 -2.523     ]\n",
            " [-1.99247539 -2.13      ]\n",
            " [-1.65927887 -1.96      ]\n",
            " [-6.02940655 -8.04      ]\n",
            " [-1.18831968 -0.85      ]\n",
            " [-4.89350939 -5.382     ]\n",
            " [-3.37145782 -1.13      ]\n",
            " [ 0.04737693 -0.8       ]\n",
            " [-2.16137242 -0.12      ]\n",
            " [-1.87046504 -1.52      ]\n",
            " [-1.88219798 -0.24      ]\n",
            " [-0.31064662 -1.36      ]\n",
            " [-4.86584091 -4.24      ]\n",
            " [ 0.26445508  1.02      ]\n",
            " [-0.70110643 -0.6       ]\n",
            " [-6.13705397 -5.16      ]\n",
            " [-2.88222051 -3.31      ]\n",
            " [-1.10821426 -1.64      ]\n",
            " [-7.08795786 -7.8       ]\n",
            " [-0.78357273 -0.99      ]]\n"
          ],
          "name": "stdout"
        }
      ]
    },
    {
      "cell_type": "code",
      "metadata": {
        "colab": {
          "base_uri": "https://localhost:8080/"
        },
        "id": "GY-Bfe-pyhVW",
        "outputId": "b7486a54-41c1-40f7-c290-9826518146a3"
      },
      "source": [
        "from sklearn.metrics import r2_score\n",
        "r2_score(Y_test, Y_test_predited)"
      ],
      "execution_count": 157,
      "outputs": [
        {
          "output_type": "execute_result",
          "data": {
            "text/plain": [
              "0.8457459612403097"
            ]
          },
          "metadata": {
            "tags": []
          },
          "execution_count": 157
        }
      ]
    },
    {
      "cell_type": "markdown",
      "metadata": {
        "id": "xpgRin7b18bX"
      },
      "source": [
        "Save model\n",
        "We can save/load this model for future use, using the save() and load_model() functions from Keras."
      ]
    },
    {
      "cell_type": "code",
      "metadata": {
        "id": "r3eleKjN17aZ"
      },
      "source": [
        "# Save the model\n",
        "solubility_model.save(\"solubility_model.hdf5\")\n",
        "\n",
        "# Load it back\n",
        "loaded_model = load_model(\"solubility_model.hdf5\")"
      ],
      "execution_count": 159,
      "outputs": []
    },
    {
      "cell_type": "code",
      "metadata": {
        "colab": {
          "base_uri": "https://localhost:8080/"
        },
        "id": "vJs45hIR2Q2K",
        "outputId": "8711f955-266d-422c-8ce4-206c19425526"
      },
      "source": [
        "!pwd"
      ],
      "execution_count": 162,
      "outputs": [
        {
          "output_type": "stream",
          "text": [
            "/content\n"
          ],
          "name": "stdout"
        }
      ]
    }
  ]
}