{
  "nbformat": 4,
  "nbformat_minor": 0,
  "metadata": {
    "colab": {
      "name": "cnn_solubility .ipynb",
      "provenance": [],
      "collapsed_sections": [],
      "mount_file_id": "1Pu2txkId_ukTb_LVxpEsZfhlPFUK9XHk",
      "authorship_tag": "ABX9TyM0QwLUfTP5AWzz8hsNzpMZ",
      "include_colab_link": true
    },
    "kernelspec": {
      "name": "python3",
      "display_name": "Python 3"
    },
    "language_info": {
      "name": "python"
    }
  },
  "cells": [
    {
      "cell_type": "markdown",
      "metadata": {
        "id": "view-in-github",
        "colab_type": "text"
      },
      "source": [
        "<a href=\"https://colab.research.google.com/github/ali1810/Deep_Chem/blob/main/cnn_solubility_.ipynb\" target=\"_parent\"><img src=\"https://colab.research.google.com/assets/colab-badge.svg\" alt=\"Open In Colab\"/></a>"
      ]
    },
    {
      "cell_type": "markdown",
      "metadata": {
        "id": "OwM0KC9nHVpt"
      },
      "source": [
        ""
      ]
    },
    {
      "cell_type": "markdown",
      "metadata": {
        "id": "BELdgHcMHUW7"
      },
      "source": [
        "# **Hands-on Deep Learning for Compounbds solubility **\n",
        "\n",
        "In this notebook, you will learn how to train deep learning models to predict the aqueous solubility of organic materials given their composition.\n",
        "\n",
        "The composition will be specified as SMILES strings, which are a convenient way to represent the structure of organic materials. You can learn more about SMILES strings here. We will use these SMILES strings as inputs to a convolutional neural network and predict the solubility of organic materials.\n",
        "\n",
        "Outline of this notebook:\n",
        "Load and pre-process training data\n",
        "Load solubility dataset containing many organic molecules and their associated solubilities\n",
        "Pre-process data and split to test/train sets\n",
        "Train a Convolutional neural network (CNN)\n",
        "Train a CNN to predict solubility\n",
        "Predict solubility from any given SMILES representation of a molecule"
      ]
    },
    {
      "cell_type": "code",
      "metadata": {
        "colab": {
          "base_uri": "https://localhost:8080/"
        },
        "id": "N-aBhT7xLXcE",
        "outputId": "2428c829-c331-40ca-d8e0-4eb0d860d67f"
      },
      "source": [
        "!pip install utils"
      ],
      "execution_count": null,
      "outputs": [
        {
          "output_type": "stream",
          "text": [
            "Collecting utils\n",
            "  Downloading utils-1.0.1-py2.py3-none-any.whl (21 kB)\n",
            "Installing collected packages: utils\n",
            "Successfully installed utils-1.0.1\n"
          ],
          "name": "stdout"
        }
      ]
    },
    {
      "cell_type": "code",
      "metadata": {
        "colab": {
          "base_uri": "https://localhost:8080/"
        },
        "id": "gARzDEdpLhTA",
        "outputId": "90cfb1c9-bc7b-48ea-d32b-b102fd76a1f6"
      },
      "source": [
        "! pip install keras_sequential_ascii"
      ],
      "execution_count": 29,
      "outputs": [
        {
          "output_type": "stream",
          "text": [
            "Collecting keras_sequential_ascii\n",
            "  Downloading keras_sequential_ascii-0.1.1.tar.gz (3.5 kB)\n",
            "Requirement already satisfied: keras in /usr/local/lib/python3.7/dist-packages (from keras_sequential_ascii) (2.4.3)\n",
            "Requirement already satisfied: h5py in /usr/local/lib/python3.7/dist-packages (from keras->keras_sequential_ascii) (3.1.0)\n",
            "Requirement already satisfied: numpy>=1.9.1 in /usr/local/lib/python3.7/dist-packages (from keras->keras_sequential_ascii) (1.19.5)\n",
            "Requirement already satisfied: pyyaml in /usr/local/lib/python3.7/dist-packages (from keras->keras_sequential_ascii) (3.13)\n",
            "Requirement already satisfied: scipy>=0.14 in /usr/local/lib/python3.7/dist-packages (from keras->keras_sequential_ascii) (1.4.1)\n",
            "Requirement already satisfied: cached-property in /usr/local/lib/python3.7/dist-packages (from h5py->keras->keras_sequential_ascii) (1.5.2)\n",
            "Building wheels for collected packages: keras-sequential-ascii\n",
            "  Building wheel for keras-sequential-ascii (setup.py) ... \u001b[?25l\u001b[?25hdone\n",
            "  Created wheel for keras-sequential-ascii: filename=keras_sequential_ascii-0.1.1-py3-none-any.whl size=3061 sha256=34de9019b90a69a8f3a308441b849d5d18c6a3671ec2e0dd08e3ba693a09890b\n",
            "  Stored in directory: /root/.cache/pip/wheels/4e/99/75/8910ced4b40e8c20088c237fa706b32ac758321482ae2659e3\n",
            "Successfully built keras-sequential-ascii\n",
            "Installing collected packages: keras-sequential-ascii\n",
            "Successfully installed keras-sequential-ascii-0.1.1\n"
          ],
          "name": "stdout"
        }
      ]
    },
    {
      "cell_type": "code",
      "metadata": {
        "id": "5SrBAIw4Hlgy"
      },
      "source": [
        "# general imports\n",
        "import pandas as pd\n",
        "import seaborn as sns\n",
        "import matplotlib.pyplot as plt\n",
        "import numpy as np\n",
        "\n",
        "# keras imports\n",
        "from keras.layers import (Input, Dense, Conv1D, MaxPool1D, Dropout, GRU, LSTM, \n",
        "                          TimeDistributed, Add, Flatten, RepeatVector, Lambda, Concatenate)\n",
        "from keras.models import Model, load_model\n",
        "from keras.metrics import binary_crossentropy\n",
        "from keras import initializers\n",
        "import keras.backend as K\n",
        "\n",
        "# Visualization\n",
        "from keras_sequential_ascii import keras2ascii\n",
        "\n",
        "# utils functions\n",
        "#from utils import *\n",
        "\n",
        "import os\n",
        "os.environ['KMP_DUPLICATE_LIB_OK']='True'\n",
        "\n",
        "# Remove warnings from output\n",
        "import warnings\n",
        "warnings.filterwarnings('ignore')"
      ],
      "execution_count": 30,
      "outputs": []
    },
    {
      "cell_type": "markdown",
      "metadata": {
        "id": "MSBp8obpLv0E"
      },
      "source": [
        "Load, view, and preprocess dataset\n",
        "We will use the ESOL dataset to train our models. The ESOL dataset contains the solubility of various small organic molecules. I will begin by loading the dataset as a dataframe and then inspecting some basic metadata. We'll also preprocess the dataset and create train/test splits for the Convolutional Neural Network (CNN) \n"
      ]
    },
    {
      "cell_type": "code",
      "metadata": {
        "colab": {
          "base_uri": "https://localhost:8080/",
          "height": 343
        },
        "id": "m3yZaYzkLyfo",
        "outputId": "45324ecd-92b1-410c-e16f-4f4bff8bfa4c"
      },
      "source": [
        "# read dataset as a dataframe\n",
        "dataset = pd.read_csv(\"/content/drive/MyDrive/ESOL_delaney-processed.csv\")\n",
        "\n",
        "# print column names in dataset\n",
        "print(f\"Columns in dataset: {list(dataset.columns)}\")\n",
        "\n",
        "# print number of rows in dataset\n",
        "print(f\"\\nLength of dataset: {len(dataset)}\")\n",
        "\n",
        "# shuffle rows of the dataset (we could do this later as well when doing train/test splits)\n",
        "dataset = dataset.sample(frac=1, random_state=0)\n",
        "\n",
        "# show first 5 rows of dataframe\n",
        "dataset.head()"
      ],
      "execution_count": 4,
      "outputs": [
        {
          "output_type": "stream",
          "text": [
            "Columns in dataset: ['Unnamed: 0', 'Compound ID', 'ESOL predicted log solubility in mols per litre', 'Minimum Degree', 'Molecular Weight', 'Number of H-Bond Donors', 'Number of Rings', 'Number of Rotatable Bonds', 'Polar Surface Area', 'measured log solubility in mols per litre', 'smiles']\n",
            "\n",
            "Length of dataset: 1128\n"
          ],
          "name": "stdout"
        },
        {
          "output_type": "execute_result",
          "data": {
            "text/html": [
              "<div>\n",
              "<style scoped>\n",
              "    .dataframe tbody tr th:only-of-type {\n",
              "        vertical-align: middle;\n",
              "    }\n",
              "\n",
              "    .dataframe tbody tr th {\n",
              "        vertical-align: top;\n",
              "    }\n",
              "\n",
              "    .dataframe thead th {\n",
              "        text-align: right;\n",
              "    }\n",
              "</style>\n",
              "<table border=\"1\" class=\"dataframe\">\n",
              "  <thead>\n",
              "    <tr style=\"text-align: right;\">\n",
              "      <th></th>\n",
              "      <th>Unnamed: 0</th>\n",
              "      <th>Compound ID</th>\n",
              "      <th>ESOL predicted log solubility in mols per litre</th>\n",
              "      <th>Minimum Degree</th>\n",
              "      <th>Molecular Weight</th>\n",
              "      <th>Number of H-Bond Donors</th>\n",
              "      <th>Number of Rings</th>\n",
              "      <th>Number of Rotatable Bonds</th>\n",
              "      <th>Polar Surface Area</th>\n",
              "      <th>measured log solubility in mols per litre</th>\n",
              "      <th>smiles</th>\n",
              "    </tr>\n",
              "  </thead>\n",
              "  <tbody>\n",
              "    <tr>\n",
              "      <th>873</th>\n",
              "      <td>873</td>\n",
              "      <td>2,4-Dimethyl-2-pentanol</td>\n",
              "      <td>-1.647</td>\n",
              "      <td>1</td>\n",
              "      <td>116.204</td>\n",
              "      <td>1</td>\n",
              "      <td>0</td>\n",
              "      <td>2</td>\n",
              "      <td>20.23</td>\n",
              "      <td>-0.92</td>\n",
              "      <td>CC(C)CC(C)(C)O</td>\n",
              "    </tr>\n",
              "    <tr>\n",
              "      <th>427</th>\n",
              "      <td>427</td>\n",
              "      <td>rhodanine</td>\n",
              "      <td>-0.396</td>\n",
              "      <td>1</td>\n",
              "      <td>133.197</td>\n",
              "      <td>1</td>\n",
              "      <td>1</td>\n",
              "      <td>0</td>\n",
              "      <td>29.10</td>\n",
              "      <td>-1.77</td>\n",
              "      <td>O=C1CSC(=S)N1</td>\n",
              "    </tr>\n",
              "    <tr>\n",
              "      <th>638</th>\n",
              "      <td>638</td>\n",
              "      <td>Bromoethane</td>\n",
              "      <td>-1.529</td>\n",
              "      <td>1</td>\n",
              "      <td>108.966</td>\n",
              "      <td>0</td>\n",
              "      <td>0</td>\n",
              "      <td>0</td>\n",
              "      <td>0.00</td>\n",
              "      <td>-1.09</td>\n",
              "      <td>CCBr</td>\n",
              "    </tr>\n",
              "    <tr>\n",
              "      <th>950</th>\n",
              "      <td>950</td>\n",
              "      <td>Chloropham</td>\n",
              "      <td>-3.544</td>\n",
              "      <td>1</td>\n",
              "      <td>213.664</td>\n",
              "      <td>1</td>\n",
              "      <td>1</td>\n",
              "      <td>2</td>\n",
              "      <td>38.33</td>\n",
              "      <td>-3.38</td>\n",
              "      <td>CC(C)OC(=O)NC1:C:C:C:C(Cl):C:1</td>\n",
              "    </tr>\n",
              "    <tr>\n",
              "      <th>436</th>\n",
              "      <td>436</td>\n",
              "      <td>Diethyl sulfide</td>\n",
              "      <td>-1.598</td>\n",
              "      <td>1</td>\n",
              "      <td>90.191</td>\n",
              "      <td>0</td>\n",
              "      <td>0</td>\n",
              "      <td>2</td>\n",
              "      <td>0.00</td>\n",
              "      <td>-1.34</td>\n",
              "      <td>CCSCC</td>\n",
              "    </tr>\n",
              "  </tbody>\n",
              "</table>\n",
              "</div>"
            ],
            "text/plain": [
              "     Unnamed: 0  ...                          smiles\n",
              "873         873  ...                  CC(C)CC(C)(C)O\n",
              "427         427  ...                   O=C1CSC(=S)N1\n",
              "638         638  ...                            CCBr\n",
              "950         950  ...  CC(C)OC(=O)NC1:C:C:C:C(Cl):C:1\n",
              "436         436  ...                           CCSCC\n",
              "\n",
              "[5 rows x 11 columns]"
            ]
          },
          "metadata": {
            "tags": []
          },
          "execution_count": 4
        }
      ]
    },
    {
      "cell_type": "code",
      "metadata": {
        "colab": {
          "base_uri": "https://localhost:8080/"
        },
        "id": "bmfWd1SeCuPB",
        "outputId": "384585c6-32e8-424c-ad52-2a9da1e011d9"
      },
      "source": [
        "smiles_lengths = max(dataset[\"smiles\"],key =len)\n",
        "print(smiles_lengths)"
      ],
      "execution_count": 6,
      "outputs": [
        {
          "output_type": "stream",
          "text": [
            "CC1OC(OC2C(O)CC(OC3C(O)CC(OC4CCC5(C)C(CCC6C5CC(O)C5(C)C(C7=CC(=O)OC7)CCC65O)C4)OC3C)OC2C)CC(O)C1O\n"
          ],
          "name": "stdout"
        }
      ]
    },
    {
      "cell_type": "markdown",
      "metadata": {
        "id": "FJRSVJ_OMucy"
      },
      "source": [
        "**We can explore the range of solubilities found in the dataset by plotting a histogram of solubility values from the dataset. Our machine learning models will aim to predict these solubilities.**"
      ]
    },
    {
      "cell_type": "code",
      "metadata": {
        "colab": {
          "base_uri": "https://localhost:8080/",
          "height": 296
        },
        "id": "Fult5Y0aMm5_",
        "outputId": "c4b0c150-ea68-4f9a-aacb-e0e0441a8fdc"
      },
      "source": [
        "sns.distplot(dataset[\"measured log solubility in mols per litre\"])"
      ],
      "execution_count": null,
      "outputs": [
        {
          "output_type": "execute_result",
          "data": {
            "text/plain": [
              "<matplotlib.axes._subplots.AxesSubplot at 0x7f24be26c290>"
            ]
          },
          "metadata": {
            "tags": []
          },
          "execution_count": 7
        },
        {
          "output_type": "display_data",
          "data": {
            "image/png": "[encoded data removed]",
            "text/plain": [
              "<Figure size 432x288 with 1 Axes>"
            ]
          },
          "metadata": {
            "tags": [],
            "needs_background": "light"
          }
        }
      ]
    },
    {
      "cell_type": "markdown",
      "metadata": {
        "id": "aO25OC2mMsvQ"
      },
      "source": [
        "In the next cell we will plot a histogram of SMILES string lengths from dataset. These lengths will be used to determine the length of the inputs for our CNN and VAE models. Below are examples of the SMILES representation:\n",
        "\n",
        "Methane: 'C'\n",
        "Pentane: 'CCCCC'\n",
        "Methanol and Ethanol: 'CO' and 'CCO'\n",
        "Pyridine: 'C1:C:C:N:C:C:1'\n",
        "To learn more about the SMILES representation, click here. "
      ]
    },
    {
      "cell_type": "code",
      "metadata": {
        "colab": {
          "base_uri": "https://localhost:8080/",
          "height": 282
        },
        "id": "1_yhe0GnMnNE",
        "outputId": "53c38d0a-bddb-4bc2-f2f1-fe144d7fe354"
      },
      "source": [
        "smiles_lengths = map(len, dataset.smiles.values)\n",
        "sns.distplot(list(smiles_lengths), bins=20, kde=False)"
      ],
      "execution_count": null,
      "outputs": [
        {
          "output_type": "execute_result",
          "data": {
            "text/plain": [
              "<matplotlib.axes._subplots.AxesSubplot at 0x7f24bb200c10>"
            ]
          },
          "metadata": {
            "tags": []
          },
          "execution_count": 8
        },
        {
          "output_type": "display_data",
          "data": {
            "image/png": "[encoded data removed]",
            "text/plain": [
              "<Figure size 432x288 with 1 Axes>"
            ]
          },
          "metadata": {
            "tags": [],
            "needs_background": "light"
          }
        }
      ]
    },
    {
      "cell_type": "markdown",
      "metadata": {
        "id": "ClNDUNFZOH17"
      },
      "source": [
        "Data preparation\n",
        "Now we will pre-process the dataset for the CNN models. First, we'll get the unique character set from all SMILES strings in the dataset. Then we will use the unique character set to convert our SMILES strings to a one-hot representation, which is a representation that converts raw strings of text to numerical inputs for our models.\n",
        "\n",
        "In a one-hot representation, each character of our SMILES string is encoded as a vector of zeros, except for one non-zero value. For instance, the character 'C' in the SMILES string is converted to a vector of length 31, consisting of 30 zeros and one non-zero entry of one. The length of this vector (31 in our case) is the total number of unique characters in the dataset.\n",
        "\n",
        "Given a string of 5 characters (say Pentane, which is represented as 'CCCCC'), we would thus get 5 vectors each of length 31. Since different molecules have different SMILES string lengths, we can pre-define the length of each string to be the maximum length from the database, with smaller molecules represented with additional characters. In our case, this maximum length is 40 and we represent the extra characters for smaller molecules with pre-defined one-hot vectors. This means that each molecule is now represented as a set of 40 vectors, each of length 31. We can represent this as a 40x31 matrix.\n",
        "\n",
        "One-hot encoding is commonly used in natural language processing, and you can learn more about one-hot encoding here.\n",
        "\n",
        "Finally, we will define our input and output and create test/train splits in the dataset."
      ]
    },
    {
      "cell_type": "code",
      "metadata": {
        "id": "Uk-ZFa3zQOcu"
      },
      "source": [
        "## Function to create unique character from string \n",
        "\n",
        "def generate_charset(full_char_list:list) -> list:\n",
        "    '''\n",
        "    Assumes full_char_list is a list of characters (e.g., ['c', 'c', '1']).\n",
        "    Returns a sorted list of unique characters, with index zero as a NULL character, and a PAD character.\n",
        "    '''\n",
        "    unique_chars = set(''.join(full_char_list))\n",
        "    charset = ['NULL', 'PAD'] + sorted(unique_chars)\n",
        "    return charset"
      ],
      "execution_count": 8,
      "outputs": []
    },
    {
      "cell_type": "code",
      "metadata": {
        "id": "GU9dKkZHVa4b"
      },
      "source": [
        "### Function to create one hot encoder ....\n",
        "\n",
        "def smiles_to_onehots(smiles_strings:list,\n",
        "                     unique_charset:list,\n",
        "                     max_smiles_chars:int) -> np.array:\n",
        "    one_hots = []\n",
        "    charset_length = len(unique_charset)\n",
        "\n",
        "    for smiles_string in smiles_strings:\n",
        "        one_hot_smiles = np.zeros(shape=(max_smiles_chars, charset_length))\n",
        "        for i in range(max_smiles_chars):\n",
        "            one_hot_col = [0]*charset_length\n",
        "            ind = None # Which index will we flip to be \"one-hot\"?\n",
        "            \n",
        "            if i < len(smiles_string):\n",
        "                try:\n",
        "                    ind = unique_charset.index(smiles_string[i])\n",
        "                    # one_hot_col[unique_charset.index(char)] = 1\n",
        "                except ValueError:\n",
        "                    ind = 0 # Treat as NULL if out-of-vocab  \n",
        "                    # one_hot_col[0] = 1 # Treat as NULL if out-of-vocab   \n",
        "            else:\n",
        "                ind = 1 # Add PAD as needed\n",
        "            \n",
        "            one_hot_col[ind] = 1\n",
        "            one_hot_smiles[i,:] = one_hot_col\n",
        "            \n",
        "        one_hots.append(one_hot_smiles)\n",
        "    return np.array(one_hots)"
      ],
      "execution_count": 10,
      "outputs": []
    },
    {
      "cell_type": "code",
      "metadata": {
        "id": "A8RQxPRbOJif",
        "colab": {
          "base_uri": "https://localhost:8080/"
        },
        "outputId": "b5fcc87e-5c13-40fb-d9fb-fe5623a98498"
      },
      "source": [
        "# get unique character set in all SMILES strings \n",
        "charset = generate_charset(dataset[\"smiles\"].values.ravel())\n",
        "\n",
        "# get the number of unique characters\n",
        "charset_length = len(charset)\n",
        "#print(charset_length)\n",
        "print(charset_length)\n",
        "\n",
        "# define max number of SMILES for model input vector\n",
        "max_smiles_chars = 91\n",
        "\n",
        "# dimension of input vector\n",
        "input_dim = charset_length * max_smiles_chars\n",
        "\n",
        "# get one-hot representation of the SMILES strings \n",
        "one_hots = smiles_to_onehots(dataset[\"smiles\"].values, charset, max_smiles_chars)\n",
        "\n",
        "# split input into train and test sets\n",
        "X_train = one_hots[:-100]\n",
        "X_test = one_hots[-100:]\n",
        "\n",
        "# split output to train and test sets\n",
        "output = dataset[\"measured log solubility in mols per litre\"].values\n",
        "Y_train = output[:-100]\n",
        "Y_test = output[-100:]"
      ],
      "execution_count": 25,
      "outputs": [
        {
          "output_type": "stream",
          "text": [
            "31\n"
          ],
          "name": "stdout"
        }
      ]
    },
    {
      "cell_type": "code",
      "metadata": {
        "colab": {
          "base_uri": "https://localhost:8080/"
        },
        "id": "xsO5GPNOwv29",
        "outputId": "60f776f5-4c25-4157-9ff1-bcf12d65abaa"
      },
      "source": [
        "print(len(Y_train))\n",
        "print(len(Y_test))"
      ],
      "execution_count": null,
      "outputs": [
        {
          "output_type": "stream",
          "text": [
            "1028\n",
            "100\n"
          ],
          "name": "stdout"
        }
      ]
    },
    {
      "cell_type": "markdown",
      "metadata": {
        "id": "B7byq7bpOwx3"
      },
      "source": [
        "Let's briefly visualize what our input data looks like using a heatmap that shows the position of each character in the SMILES string, you can change the index to see various molecules. Each molecule is represented by a 40x31 sparse matrix, the bright spots in the heatmap indicate the position at which a one is found in the matrix. For instance, the first row has a bright spot at index 18, indicating that the first character is 'C'. The second row has a bright spot at index 23, which indicates that the second character is 'O'. For the compound Dimethoxymethane with a SMILES string 'COCOC', we expect the matrix to have alternating bright spots at index 18 and index 23 for the first five rows. Beyond that, the rows all have a bright spot at index 1, which stands for the extra characters padded on to our string to make all SMILES strings the same length. The heatmap below is plotted using the Seaborn library."
      ]
    },
    {
      "cell_type": "code",
      "metadata": {
        "colab": {
          "base_uri": "https://localhost:8080/",
          "height": 300
        },
        "id": "v9BTS_bMOycQ",
        "outputId": "f59a4bdd-4e41-4ad7-ff40-e0b751ffd336"
      },
      "source": [
        "index = 761\n",
        "sns.heatmap(X_train[index]) # This is a single training example -- note that it is a matrix, not a single vector!\n",
        "plt.xlabel('Character')\n",
        "plt.ylabel('Position in SMILES String')\n",
        "print(dataset.iloc[index]['smiles'])"
      ],
      "execution_count": 12,
      "outputs": [
        {
          "output_type": "stream",
          "text": [
            "CC1:N:C:C([N+](=O)[O-]):N:1CCO\n"
          ],
          "name": "stdout"
        },
        {
          "output_type": "display_data",
          "data": {
            "image/png": "[encoded data removed]",
            "text/plain": [
              "<Figure size 432x288 with 2 Axes>"
            ]
          },
          "metadata": {
            "tags": [],
            "needs_background": "light"
          }
        }
      ]
    },
    {
      "cell_type": "markdown",
      "metadata": {
        "id": "g1jxL2cFW0T4"
      },
      "source": [
        "**Supervised CNN model for predicting solubility**\n",
        "In this section, we will set up a convolutional neural network to predict solubility using one-hot SMILES as input. A convolutional neural network is a machine learning model that is commonly used to classify images, and you can learn more about them here.\n",
        "\n",
        "Define model structure\n",
        "First, we will create the model structure, starting with the input layer. As described above, each training example is a 40x31 matrix, which is the shape we pass to the Input layer in Keras."
      ]
    },
    {
      "cell_type": "code",
      "metadata": {
        "id": "D6o9jYfEW93H"
      },
      "source": [
        "# Define the input layer\n",
        "# NOTE: We feed in a sequence here! We're inputting up to max_smiles_chars characters, \n",
        "# and each character is an array of length charset_length\n",
        "smiles_input = Input(shape=(max_smiles_chars, charset_length), name=\"SMILES-Input\")"
      ],
      "execution_count": 13,
      "outputs": []
    },
    {
      "cell_type": "markdown",
      "metadata": {
        "id": "KBbFBGB1XnGe"
      },
      "source": [
        "**Next we will define the convolution layers where each layer attempts to learn certain features of the images, such as edges and corners. The input to each layer (a matrix) is transformed via convolution operations, which are element by element multiplications of the input matrix and a filter matrix. The convolutional layer learns the filter matrix that will best identify unique features of the image. You can learn more about convolution operations and the math behind convolutional neural networks here.**"
      ]
    },
    {
      "cell_type": "code",
      "metadata": {
        "id": "mPWalBDQXj-x"
      },
      "source": [
        "# Set parameters for convolutional layers \n",
        "num_conv_filters = 16\n",
        "kernel_size = 3\n",
        "\n",
        "init_weights = initializers.glorot_normal(seed=0)\n",
        "\n",
        "# Define the convolutional layers\n",
        "# Multiple convolutions in a row is a common architecture (but there are many \"right\" choices here)\n",
        "conv_1_func = Conv1D(\n",
        "    filters=num_conv_filters, # What is the \"depth\" of the convolution? How many times do you look at the same spot?\n",
        "    kernel_size=kernel_size, # How \"wide\" of a spot does each filter look at?\n",
        "    name=\"Convolution-1\",\n",
        "    activation=\"relu\", # This is a common activation function: Rectified Linear Unit (ReLU)\n",
        "    kernel_initializer=init_weights #This defines the initial values for the weights\n",
        ")\n",
        "conv_2_func = Conv1D(\n",
        "    filters=num_conv_filters, \n",
        "    kernel_size=kernel_size, \n",
        "    name=\"Convolution-2\",\n",
        "    activation=\"relu\",\n",
        "    kernel_initializer=init_weights\n",
        ")\n",
        "conv_3_func = Conv1D(\n",
        "    filters=num_conv_filters, \n",
        "    kernel_size=kernel_size, \n",
        "    name=\"Convolution-3\",\n",
        "    activation=\"relu\",\n",
        "    kernel_initializer=init_weights\n",
        ")\n",
        "conv_4_func = Conv1D(\n",
        "    filters=num_conv_filters, \n",
        "    kernel_size=kernel_size,\n",
        "    name=\"Convolution-4\",\n",
        "    activation=\"relu\",\n",
        "    kernel_initializer=init_weights\n",
        ")"
      ],
      "execution_count": 14,
      "outputs": []
    },
    {
      "cell_type": "markdown",
      "metadata": {
        "id": "pH8ySmkdYB-m"
      },
      "source": [
        "The four convolution layers defined above will attempt to learn features of the SMILES string (represented as a 40x31 matrix) that are relevant to predicting the solubility. To get a numerical prediction, we now flatten the output of the convolution and pass it to a set of regular Dense layers, the last layer predicting one value for the solubility."
      ]
    },
    {
      "cell_type": "code",
      "metadata": {
        "id": "L9pxE6KCYDPp"
      },
      "source": [
        "# Define layer to flatten convolutions\n",
        "flatten_func = Flatten(name=\"Flattened-Convolutions\")\n",
        "\n",
        "# Define the activation function layer\n",
        "hidden_size = 32\n",
        "dense_1_func = Dense(hidden_size, activation=\"relu\", name=\"Fully-Connected\", kernel_initializer=init_weights)\n",
        "\n",
        "# Define output layer -- it's only one dimension since it is regression\n",
        "output_size = 1\n",
        "output_solubility_func = Dense(output_size, activation=\"linear\", name=\"Log-Solubility\", kernel_initializer=init_weights)"
      ],
      "execution_count": 15,
      "outputs": []
    },
    {
      "cell_type": "markdown",
      "metadata": {
        "id": "jb1djj7xYKm2"
      },
      "source": [
        "Now that we have defined all the layers, we will connect them together to make a graph:"
      ]
    },
    {
      "cell_type": "code",
      "metadata": {
        "id": "4hSBxCZhYLgm"
      },
      "source": [
        "# connect the CNN graph together\n",
        "conv_1_fwd = conv_1_func(smiles_input)\n",
        "conv_2_fwd = conv_2_func(conv_1_fwd)\n",
        "conv_3_fwd = conv_3_func(conv_2_fwd)\n",
        "conv_4_fwd = conv_4_func(conv_3_fwd)\n",
        "flattened_convs = flatten_func(conv_4_fwd)\n",
        "dense_1_fwd = dense_1_func(flattened_convs)\n",
        "output_solubility_fwd = output_solubility_func(flattened_convs)"
      ],
      "execution_count": 16,
      "outputs": []
    },
    {
      "cell_type": "markdown",
      "metadata": {
        "id": "WZ8IxymEYTvR"
      },
      "source": [
        "View model structure and metadata\n",
        "Now the model is ready to train! But first we will define the model as solubility_model and compile it, then view some information on the model using the keras2ascii tool, which visually represents the layers in our model."
      ]
    },
    {
      "cell_type": "code",
      "metadata": {
        "id": "d8aVXkQOYVRH"
      },
      "source": [
        "# create model\n",
        "solubility_model = Model(\n",
        "            inputs=[smiles_input],\n",
        "            outputs=[output_solubility_fwd]\n",
        ")\n",
        "\n",
        "# compile model\n",
        "solubility_model.compile(\n",
        "    optimizer=\"adam\",\n",
        "    loss=\"mse\",\n",
        "    metrics=[\"mae\"]\n",
        ")"
      ],
      "execution_count": 17,
      "outputs": []
    },
    {
      "cell_type": "code",
      "metadata": {
        "id": "BC7h258cYhgO"
      },
      "source": [
        "# view model as a graph\n",
        "#keras2ascii(solubility_model)"
      ],
      "execution_count": 32,
      "outputs": []
    },
    {
      "cell_type": "markdown",
      "metadata": {
        "id": "4b44omEAZyxq"
      },
      "source": [
        "Train CNN\n",
        "Now we will train our CNN solubility model to the training data! During training, we will see metrics printed after each epoch such as test/train loss (both as Mean Squared Error (MSE) and Mean Absolute Error (MAE))."
      ]
    },
    {
      "cell_type": "code",
      "metadata": {
        "colab": {
          "base_uri": "https://localhost:8080/"
        },
        "id": "Q_ZAGOwzZ0DK",
        "outputId": "b0bbab53-87ff-49d1-e84b-3d3cd396e8e1"
      },
      "source": [
        "history = solubility_model.fit(\n",
        "    X_train, # Inputs\n",
        "    Y_train, # Outputs\n",
        "    epochs=115, # How many times to pass over the data\n",
        "    batch_size=64, # How many data rows to compute at once\n",
        "    verbose=1,\n",
        "    validation_data=(X_test, Y_test), # You would usually use more splits of the data if you plan to tune hyperparams\n",
        ")"
      ],
      "execution_count": 18,
      "outputs": [
        {
          "output_type": "stream",
          "text": [
            "Epoch 1/115\n",
            "17/17 [==============================] - 14s 40ms/step - loss: 12.7386 - mae: 2.9072 - val_loss: 5.1996 - val_mae: 1.7654\n",
            "Epoch 2/115\n",
            "17/17 [==============================] - 0s 10ms/step - loss: 4.4062 - mae: 1.7014 - val_loss: 3.9691 - val_mae: 1.5288\n",
            "Epoch 3/115\n",
            "17/17 [==============================] - 0s 10ms/step - loss: 3.1628 - mae: 1.4070 - val_loss: 2.5862 - val_mae: 1.2734\n",
            "Epoch 4/115\n",
            "17/17 [==============================] - 0s 10ms/step - loss: 2.3312 - mae: 1.2154 - val_loss: 2.1727 - val_mae: 1.1560\n",
            "Epoch 5/115\n",
            "17/17 [==============================] - 0s 10ms/step - loss: 2.0658 - mae: 1.1336 - val_loss: 2.0376 - val_mae: 1.1071\n",
            "Epoch 6/115\n",
            "17/17 [==============================] - 0s 10ms/step - loss: 1.7751 - mae: 1.0628 - val_loss: 1.9036 - val_mae: 1.0608\n",
            "Epoch 7/115\n",
            "17/17 [==============================] - 0s 10ms/step - loss: 1.7210 - mae: 1.0329 - val_loss: 1.7859 - val_mae: 1.0248\n",
            "Epoch 8/115\n",
            "17/17 [==============================] - 0s 10ms/step - loss: 1.7477 - mae: 1.0353 - val_loss: 1.6251 - val_mae: 0.9735\n",
            "Epoch 9/115\n",
            "17/17 [==============================] - 0s 9ms/step - loss: 1.3560 - mae: 0.9148 - val_loss: 1.5608 - val_mae: 0.9372\n",
            "Epoch 10/115\n",
            "17/17 [==============================] - 0s 10ms/step - loss: 1.2577 - mae: 0.8955 - val_loss: 1.4091 - val_mae: 0.9002\n",
            "Epoch 11/115\n",
            "17/17 [==============================] - 0s 10ms/step - loss: 1.1400 - mae: 0.8506 - val_loss: 1.2733 - val_mae: 0.8814\n",
            "Epoch 12/115\n",
            "17/17 [==============================] - 0s 10ms/step - loss: 1.0479 - mae: 0.8104 - val_loss: 1.1912 - val_mae: 0.8598\n",
            "Epoch 13/115\n",
            "17/17 [==============================] - 0s 10ms/step - loss: 0.9978 - mae: 0.7905 - val_loss: 1.1673 - val_mae: 0.8325\n",
            "Epoch 14/115\n",
            "17/17 [==============================] - 0s 9ms/step - loss: 0.9433 - mae: 0.7697 - val_loss: 1.0841 - val_mae: 0.8054\n",
            "Epoch 15/115\n",
            "17/17 [==============================] - 0s 10ms/step - loss: 0.9325 - mae: 0.7696 - val_loss: 1.0379 - val_mae: 0.7644\n",
            "Epoch 16/115\n",
            "17/17 [==============================] - 0s 11ms/step - loss: 0.8667 - mae: 0.7394 - val_loss: 0.9301 - val_mae: 0.7440\n",
            "Epoch 17/115\n",
            "17/17 [==============================] - 0s 10ms/step - loss: 0.8099 - mae: 0.7101 - val_loss: 0.9424 - val_mae: 0.7280\n",
            "Epoch 18/115\n",
            "17/17 [==============================] - 0s 10ms/step - loss: 0.8413 - mae: 0.7153 - val_loss: 0.8702 - val_mae: 0.7192\n",
            "Epoch 19/115\n",
            "17/17 [==============================] - 0s 10ms/step - loss: 0.7748 - mae: 0.6835 - val_loss: 0.9066 - val_mae: 0.7215\n",
            "Epoch 20/115\n",
            "17/17 [==============================] - 0s 10ms/step - loss: 0.7286 - mae: 0.6819 - val_loss: 0.8585 - val_mae: 0.7039\n",
            "Epoch 21/115\n",
            "17/17 [==============================] - 0s 10ms/step - loss: 0.7030 - mae: 0.6545 - val_loss: 0.8071 - val_mae: 0.6956\n",
            "Epoch 22/115\n",
            "17/17 [==============================] - 0s 10ms/step - loss: 0.7530 - mae: 0.6852 - val_loss: 0.7960 - val_mae: 0.7019\n",
            "Epoch 23/115\n",
            "17/17 [==============================] - 0s 11ms/step - loss: 0.6872 - mae: 0.6552 - val_loss: 0.8275 - val_mae: 0.6865\n",
            "Epoch 24/115\n",
            "17/17 [==============================] - 0s 9ms/step - loss: 0.7032 - mae: 0.6568 - val_loss: 0.7672 - val_mae: 0.6786\n",
            "Epoch 25/115\n",
            "17/17 [==============================] - 0s 10ms/step - loss: 0.6246 - mae: 0.6252 - val_loss: 0.7915 - val_mae: 0.6689\n",
            "Epoch 26/115\n",
            "17/17 [==============================] - 0s 9ms/step - loss: 0.6593 - mae: 0.6461 - val_loss: 0.8186 - val_mae: 0.6751\n",
            "Epoch 27/115\n",
            "17/17 [==============================] - 0s 10ms/step - loss: 0.6491 - mae: 0.6177 - val_loss: 0.7477 - val_mae: 0.6722\n",
            "Epoch 28/115\n",
            "17/17 [==============================] - 0s 10ms/step - loss: 0.6383 - mae: 0.6268 - val_loss: 0.7762 - val_mae: 0.6592\n",
            "Epoch 29/115\n",
            "17/17 [==============================] - 0s 10ms/step - loss: 0.6321 - mae: 0.6284 - val_loss: 0.7236 - val_mae: 0.6544\n",
            "Epoch 30/115\n",
            "17/17 [==============================] - 0s 10ms/step - loss: 0.6050 - mae: 0.6067 - val_loss: 0.7560 - val_mae: 0.6491\n",
            "Epoch 31/115\n",
            "17/17 [==============================] - 0s 10ms/step - loss: 0.6470 - mae: 0.6368 - val_loss: 0.8369 - val_mae: 0.7287\n",
            "Epoch 32/115\n",
            "17/17 [==============================] - 0s 9ms/step - loss: 0.7655 - mae: 0.6829 - val_loss: 0.8113 - val_mae: 0.6736\n",
            "Epoch 33/115\n",
            "17/17 [==============================] - 0s 10ms/step - loss: 0.5683 - mae: 0.5928 - val_loss: 0.8196 - val_mae: 0.7194\n",
            "Epoch 34/115\n",
            "17/17 [==============================] - 0s 11ms/step - loss: 0.7093 - mae: 0.6674 - val_loss: 0.8306 - val_mae: 0.6863\n",
            "Epoch 35/115\n",
            "17/17 [==============================] - 0s 10ms/step - loss: 0.6385 - mae: 0.6107 - val_loss: 0.7313 - val_mae: 0.6728\n",
            "Epoch 36/115\n",
            "17/17 [==============================] - 0s 10ms/step - loss: 0.5598 - mae: 0.5895 - val_loss: 0.7074 - val_mae: 0.6456\n",
            "Epoch 37/115\n",
            "17/17 [==============================] - 0s 9ms/step - loss: 0.5397 - mae: 0.5755 - val_loss: 0.7215 - val_mae: 0.6436\n",
            "Epoch 38/115\n",
            "17/17 [==============================] - 0s 10ms/step - loss: 0.5445 - mae: 0.5817 - val_loss: 0.7072 - val_mae: 0.6506\n",
            "Epoch 39/115\n",
            "17/17 [==============================] - 0s 10ms/step - loss: 0.6030 - mae: 0.5997 - val_loss: 0.6945 - val_mae: 0.6388\n",
            "Epoch 40/115\n",
            "17/17 [==============================] - 0s 11ms/step - loss: 0.5234 - mae: 0.5590 - val_loss: 0.7152 - val_mae: 0.6419\n",
            "Epoch 41/115\n",
            "17/17 [==============================] - 0s 10ms/step - loss: 0.5604 - mae: 0.5850 - val_loss: 0.7479 - val_mae: 0.6506\n",
            "Epoch 42/115\n",
            "17/17 [==============================] - 0s 10ms/step - loss: 0.5990 - mae: 0.6002 - val_loss: 0.6860 - val_mae: 0.6288\n",
            "Epoch 43/115\n",
            "17/17 [==============================] - 0s 9ms/step - loss: 0.4968 - mae: 0.5452 - val_loss: 0.6761 - val_mae: 0.6259\n",
            "Epoch 44/115\n",
            "17/17 [==============================] - 0s 11ms/step - loss: 0.5492 - mae: 0.5726 - val_loss: 0.6592 - val_mae: 0.6403\n",
            "Epoch 45/115\n",
            "17/17 [==============================] - 0s 10ms/step - loss: 0.5359 - mae: 0.5723 - val_loss: 0.6606 - val_mae: 0.6331\n",
            "Epoch 46/115\n",
            "17/17 [==============================] - 0s 10ms/step - loss: 0.4696 - mae: 0.5328 - val_loss: 0.6581 - val_mae: 0.6423\n",
            "Epoch 47/115\n",
            "17/17 [==============================] - 0s 10ms/step - loss: 0.6107 - mae: 0.6073 - val_loss: 0.7669 - val_mae: 0.6614\n",
            "Epoch 48/115\n",
            "17/17 [==============================] - 0s 10ms/step - loss: 0.6499 - mae: 0.6331 - val_loss: 0.7228 - val_mae: 0.6731\n",
            "Epoch 49/115\n",
            "17/17 [==============================] - 0s 10ms/step - loss: 0.5070 - mae: 0.5682 - val_loss: 0.9252 - val_mae: 0.7428\n",
            "Epoch 50/115\n",
            "17/17 [==============================] - 0s 10ms/step - loss: 0.5660 - mae: 0.5909 - val_loss: 0.6661 - val_mae: 0.6564\n",
            "Epoch 51/115\n",
            "17/17 [==============================] - 0s 10ms/step - loss: 0.4329 - mae: 0.5091 - val_loss: 0.6654 - val_mae: 0.6424\n",
            "Epoch 52/115\n",
            "17/17 [==============================] - 0s 10ms/step - loss: 0.4671 - mae: 0.5289 - val_loss: 0.6546 - val_mae: 0.6283\n",
            "Epoch 53/115\n",
            "17/17 [==============================] - 0s 10ms/step - loss: 0.4723 - mae: 0.5376 - val_loss: 0.6720 - val_mae: 0.6640\n",
            "Epoch 54/115\n",
            "17/17 [==============================] - 0s 10ms/step - loss: 0.4967 - mae: 0.5494 - val_loss: 0.6378 - val_mae: 0.6389\n",
            "Epoch 55/115\n",
            "17/17 [==============================] - 0s 9ms/step - loss: 0.4719 - mae: 0.5341 - val_loss: 0.6561 - val_mae: 0.6212\n",
            "Epoch 56/115\n",
            "17/17 [==============================] - 0s 9ms/step - loss: 0.4266 - mae: 0.5051 - val_loss: 0.6453 - val_mae: 0.6221\n",
            "Epoch 57/115\n",
            "17/17 [==============================] - 0s 10ms/step - loss: 0.4687 - mae: 0.5319 - val_loss: 0.6260 - val_mae: 0.6238\n",
            "Epoch 58/115\n",
            "17/17 [==============================] - 0s 10ms/step - loss: 0.4117 - mae: 0.4993 - val_loss: 0.6265 - val_mae: 0.6405\n",
            "Epoch 59/115\n",
            "17/17 [==============================] - 0s 10ms/step - loss: 0.4042 - mae: 0.4916 - val_loss: 0.6562 - val_mae: 0.6287\n",
            "Epoch 60/115\n",
            "17/17 [==============================] - 0s 10ms/step - loss: 0.4573 - mae: 0.5327 - val_loss: 0.6480 - val_mae: 0.6211\n",
            "Epoch 61/115\n",
            "17/17 [==============================] - 0s 10ms/step - loss: 0.4350 - mae: 0.5172 - val_loss: 0.6245 - val_mae: 0.6145\n",
            "Epoch 62/115\n",
            "17/17 [==============================] - 0s 10ms/step - loss: 0.4006 - mae: 0.4845 - val_loss: 0.6032 - val_mae: 0.6289\n",
            "Epoch 63/115\n",
            "17/17 [==============================] - 0s 10ms/step - loss: 0.3882 - mae: 0.4846 - val_loss: 0.6575 - val_mae: 0.6182\n",
            "Epoch 64/115\n",
            "17/17 [==============================] - 0s 10ms/step - loss: 0.4385 - mae: 0.5069 - val_loss: 0.5968 - val_mae: 0.6132\n",
            "Epoch 65/115\n",
            "17/17 [==============================] - 0s 10ms/step - loss: 0.4038 - mae: 0.4906 - val_loss: 0.5947 - val_mae: 0.6111\n",
            "Epoch 66/115\n",
            "17/17 [==============================] - 0s 10ms/step - loss: 0.3764 - mae: 0.4786 - val_loss: 0.7459 - val_mae: 0.6714\n",
            "Epoch 67/115\n",
            "17/17 [==============================] - 0s 11ms/step - loss: 0.4615 - mae: 0.5373 - val_loss: 0.5975 - val_mae: 0.6040\n",
            "Epoch 68/115\n",
            "17/17 [==============================] - 0s 10ms/step - loss: 0.3896 - mae: 0.4845 - val_loss: 0.6022 - val_mae: 0.6055\n",
            "Epoch 69/115\n",
            "17/17 [==============================] - 0s 11ms/step - loss: 0.3425 - mae: 0.4533 - val_loss: 0.5915 - val_mae: 0.6049\n",
            "Epoch 70/115\n",
            "17/17 [==============================] - 0s 11ms/step - loss: 0.3557 - mae: 0.4611 - val_loss: 0.7100 - val_mae: 0.6515\n",
            "Epoch 71/115\n",
            "17/17 [==============================] - 0s 11ms/step - loss: 0.3909 - mae: 0.4835 - val_loss: 0.5956 - val_mae: 0.6212\n",
            "Epoch 72/115\n",
            "17/17 [==============================] - 0s 11ms/step - loss: 0.3408 - mae: 0.4552 - val_loss: 0.5700 - val_mae: 0.6108\n",
            "Epoch 73/115\n",
            "17/17 [==============================] - 0s 10ms/step - loss: 0.3517 - mae: 0.4605 - val_loss: 0.7030 - val_mae: 0.6521\n",
            "Epoch 74/115\n",
            "17/17 [==============================] - 0s 10ms/step - loss: 0.4305 - mae: 0.5017 - val_loss: 0.5887 - val_mae: 0.6158\n",
            "Epoch 75/115\n",
            "17/17 [==============================] - 0s 12ms/step - loss: 0.3890 - mae: 0.4917 - val_loss: 0.5759 - val_mae: 0.5977\n",
            "Epoch 76/115\n",
            "17/17 [==============================] - 0s 10ms/step - loss: 0.3665 - mae: 0.4643 - val_loss: 0.6205 - val_mae: 0.6529\n",
            "Epoch 77/115\n",
            "17/17 [==============================] - 0s 10ms/step - loss: 0.3528 - mae: 0.4675 - val_loss: 0.6076 - val_mae: 0.6062\n",
            "Epoch 78/115\n",
            "17/17 [==============================] - 0s 10ms/step - loss: 0.3283 - mae: 0.4409 - val_loss: 0.6450 - val_mae: 0.6362\n",
            "Epoch 79/115\n",
            "17/17 [==============================] - 0s 10ms/step - loss: 0.3460 - mae: 0.4561 - val_loss: 0.6012 - val_mae: 0.6364\n",
            "Epoch 80/115\n",
            "17/17 [==============================] - 0s 11ms/step - loss: 0.3504 - mae: 0.4679 - val_loss: 0.6387 - val_mae: 0.6271\n",
            "Epoch 81/115\n",
            "17/17 [==============================] - 0s 9ms/step - loss: 0.3510 - mae: 0.4637 - val_loss: 0.6721 - val_mae: 0.6860\n",
            "Epoch 82/115\n",
            "17/17 [==============================] - 0s 11ms/step - loss: 0.3388 - mae: 0.4566 - val_loss: 0.6035 - val_mae: 0.6372\n",
            "Epoch 83/115\n",
            "17/17 [==============================] - 0s 10ms/step - loss: 0.3209 - mae: 0.4416 - val_loss: 0.5884 - val_mae: 0.5991\n",
            "Epoch 84/115\n",
            "17/17 [==============================] - 0s 10ms/step - loss: 0.3163 - mae: 0.4370 - val_loss: 0.5690 - val_mae: 0.6001\n",
            "Epoch 85/115\n",
            "17/17 [==============================] - 0s 10ms/step - loss: 0.3098 - mae: 0.4316 - val_loss: 0.6047 - val_mae: 0.6291\n",
            "Epoch 86/115\n",
            "17/17 [==============================] - 0s 10ms/step - loss: 0.3357 - mae: 0.4474 - val_loss: 0.6559 - val_mae: 0.6753\n",
            "Epoch 87/115\n",
            "17/17 [==============================] - 0s 10ms/step - loss: 0.3418 - mae: 0.4583 - val_loss: 0.7464 - val_mae: 0.6653\n",
            "Epoch 88/115\n",
            "17/17 [==============================] - 0s 11ms/step - loss: 0.3836 - mae: 0.4863 - val_loss: 0.6334 - val_mae: 0.6071\n",
            "Epoch 89/115\n",
            "17/17 [==============================] - 0s 10ms/step - loss: 0.3373 - mae: 0.4499 - val_loss: 0.6670 - val_mae: 0.6826\n",
            "Epoch 90/115\n",
            "17/17 [==============================] - 0s 10ms/step - loss: 0.3389 - mae: 0.4553 - val_loss: 0.5619 - val_mae: 0.5991\n",
            "Epoch 91/115\n",
            "17/17 [==============================] - 0s 10ms/step - loss: 0.2949 - mae: 0.4177 - val_loss: 0.5483 - val_mae: 0.5793\n",
            "Epoch 92/115\n",
            "17/17 [==============================] - 0s 10ms/step - loss: 0.2741 - mae: 0.4029 - val_loss: 0.5806 - val_mae: 0.5854\n",
            "Epoch 93/115\n",
            "17/17 [==============================] - 0s 10ms/step - loss: 0.2745 - mae: 0.3997 - val_loss: 0.5733 - val_mae: 0.5867\n",
            "Epoch 94/115\n",
            "17/17 [==============================] - 0s 10ms/step - loss: 0.2780 - mae: 0.4111 - val_loss: 0.5873 - val_mae: 0.6111\n",
            "Epoch 95/115\n",
            "17/17 [==============================] - 0s 10ms/step - loss: 0.2643 - mae: 0.3970 - val_loss: 0.5859 - val_mae: 0.5929\n",
            "Epoch 96/115\n",
            "17/17 [==============================] - 0s 10ms/step - loss: 0.2685 - mae: 0.4027 - val_loss: 0.5868 - val_mae: 0.5993\n",
            "Epoch 97/115\n",
            "17/17 [==============================] - 0s 10ms/step - loss: 0.2739 - mae: 0.4043 - val_loss: 0.5790 - val_mae: 0.6035\n",
            "Epoch 98/115\n",
            "17/17 [==============================] - 0s 10ms/step - loss: 0.2816 - mae: 0.4080 - val_loss: 0.5712 - val_mae: 0.5911\n",
            "Epoch 99/115\n",
            "17/17 [==============================] - 0s 10ms/step - loss: 0.2761 - mae: 0.4026 - val_loss: 0.5948 - val_mae: 0.6285\n",
            "Epoch 100/115\n",
            "17/17 [==============================] - 0s 10ms/step - loss: 0.2716 - mae: 0.3979 - val_loss: 0.6045 - val_mae: 0.6313\n",
            "Epoch 101/115\n",
            "17/17 [==============================] - 0s 10ms/step - loss: 0.2741 - mae: 0.4055 - val_loss: 0.5956 - val_mae: 0.5968\n",
            "Epoch 102/115\n",
            "17/17 [==============================] - 0s 10ms/step - loss: 0.2618 - mae: 0.3973 - val_loss: 0.6132 - val_mae: 0.6094\n",
            "Epoch 103/115\n",
            "17/17 [==============================] - 0s 10ms/step - loss: 0.2537 - mae: 0.3884 - val_loss: 0.6053 - val_mae: 0.5975\n",
            "Epoch 104/115\n",
            "17/17 [==============================] - 0s 10ms/step - loss: 0.2518 - mae: 0.3869 - val_loss: 0.5934 - val_mae: 0.6108\n",
            "Epoch 105/115\n",
            "17/17 [==============================] - 0s 10ms/step - loss: 0.2424 - mae: 0.3759 - val_loss: 0.5872 - val_mae: 0.5935\n",
            "Epoch 106/115\n",
            "17/17 [==============================] - 0s 10ms/step - loss: 0.2496 - mae: 0.3827 - val_loss: 0.6148 - val_mae: 0.5933\n",
            "Epoch 107/115\n",
            "17/17 [==============================] - 0s 10ms/step - loss: 0.2565 - mae: 0.3960 - val_loss: 0.5949 - val_mae: 0.5865\n",
            "Epoch 108/115\n",
            "17/17 [==============================] - 0s 10ms/step - loss: 0.2289 - mae: 0.3710 - val_loss: 0.6008 - val_mae: 0.6074\n",
            "Epoch 109/115\n",
            "17/17 [==============================] - 0s 10ms/step - loss: 0.2326 - mae: 0.3797 - val_loss: 0.5877 - val_mae: 0.6071\n",
            "Epoch 110/115\n",
            "17/17 [==============================] - 0s 11ms/step - loss: 0.2287 - mae: 0.3680 - val_loss: 0.6197 - val_mae: 0.6337\n",
            "Epoch 111/115\n",
            "17/17 [==============================] - 0s 10ms/step - loss: 0.2304 - mae: 0.3758 - val_loss: 0.5963 - val_mae: 0.6146\n",
            "Epoch 112/115\n",
            "17/17 [==============================] - 0s 11ms/step - loss: 0.2280 - mae: 0.3684 - val_loss: 0.6040 - val_mae: 0.6142\n",
            "Epoch 113/115\n",
            "17/17 [==============================] - 0s 10ms/step - loss: 0.2585 - mae: 0.3924 - val_loss: 0.5970 - val_mae: 0.6007\n",
            "Epoch 114/115\n",
            "17/17 [==============================] - 0s 10ms/step - loss: 0.2636 - mae: 0.3959 - val_loss: 0.5999 - val_mae: 0.6004\n",
            "Epoch 115/115\n",
            "17/17 [==============================] - 0s 10ms/step - loss: 0.2213 - mae: 0.3629 - val_loss: 0.6091 - val_mae: 0.6190\n"
          ],
          "name": "stdout"
        }
      ]
    },
    {
      "cell_type": "markdown",
      "metadata": {
        "id": "wTzqDGmtaKvu"
      },
      "source": [
        "Let's view the learning curve for the trained model.\n",
        "\n",
        "This code will generate a plot where we show the test and train errors (MSE) as a function of epoch (one pass of all training examples through the NN).\n",
        "\n",
        "The learning curve will tell us if the model is overfitting or underfitting."
      ]
    },
    {
      "cell_type": "code",
      "metadata": {
        "colab": {
          "base_uri": "https://localhost:8080/",
          "height": 295
        },
        "id": "NilcAldCaMGe",
        "outputId": "9846031e-a201-47a0-a7f8-ddd9dcafc39e"
      },
      "source": [
        "# plot the learning curve \n",
        "plt.plot(history.history['loss'])\n",
        "plt.plot(history.history['val_loss'])\n",
        "plt.title('Model accuracy')\n",
        "plt.ylabel('Error')\n",
        "plt.xlabel('Epoch')\n",
        "plt.xlim(0,)\n",
        "plt.legend(['Train', 'Validation',], loc='upper left')\n",
        "plt.show()"
      ],
      "execution_count": 19,
      "outputs": [
        {
          "output_type": "display_data",
          "data": {
            "image/png": "[encoded data removed]",
            "text/plain": [
              "<Figure size 432x288 with 1 Axes>"
            ]
          },
          "metadata": {
            "tags": [],
            "needs_background": "light"
          }
        }
      ]
    },
    {
      "cell_type": "markdown",
      "metadata": {
        "id": "LPD56MjHbwu4"
      },
      "source": [
        "Use CNN to make solubility predictions\n",
        "Now that we've trained our model, we can use it to make solubility predictions for any SMILES string! We just have to convert the SMILES string to 1-hot representation, then feed it to the solubility_model"
      ]
    },
    {
      "cell_type": "code",
      "metadata": {
        "colab": {
          "base_uri": "https://localhost:8080/"
        },
        "id": "gOAKEqraaUfv",
        "outputId": "36e48c9c-ee0e-4546-d7b2-7109317bb812"
      },
      "source": [
        "example_smiles = [\n",
        "    'CC12CCC3C4:C:C:C(O):C:C:4CCC3C1CCC2O',\n",
        "    'CC1:O:C:C:C:1C(=O)NC1:C:C:C:C:C:1',\n",
        "    'C1:C:C:C2:C(:C:1):C:C:C1:C:2:C:C:C2:C3:C:C:C:C:C:3:C:C:C:2:1'\n",
        "]\n",
        "\n",
        "for smiles in example_smiles:\n",
        "    predict_test_input = smiles_to_onehots([smiles], charset, max_smiles_chars)\n",
        "    solubility_prediction = solubility_model.predict(predict_test_input)[0][0]\n",
        "    print(f'The predicted log solubility for SMILES {smiles} is {solubility_prediction}')"
      ],
      "execution_count": 20,
      "outputs": [
        {
          "output_type": "stream",
          "text": [
            "The predicted log solubility for SMILES CC12CCC3C4:C:C:C(O):C:C:4CCC3C1CCC2O is -4.493330478668213\n",
            "The predicted log solubility for SMILES CC1:O:C:C:C:1C(=O)NC1:C:C:C:C:C:1 is -2.9573428630828857\n",
            "The predicted log solubility for SMILES C1:C:C:C2:C(:C:1):C:C:C1:C:2:C:C:C2:C3:C:C:C:C:C:3:C:C:C:2:1 is -8.06627368927002\n"
          ],
          "name": "stdout"
        }
      ]
    },
    {
      "cell_type": "markdown",
      "metadata": {
        "id": "9F_W2LltfNJO"
      },
      "source": [
        "We can now make a parity plot comparing the CNN model predictions to the ground truth data"
      ]
    },
    {
      "cell_type": "code",
      "metadata": {
        "colab": {
          "base_uri": "https://localhost:8080/",
          "height": 312
        },
        "id": "2kQegjhXfIh0",
        "outputId": "784b1ca2-40b2-49fd-80e8-0edbd938e106"
      },
      "source": [
        "preds = solubility_model.predict(X_train)\n",
        "x_y_line = np.linspace(min(Y_train.flatten()), max(Y_train.flatten()), 500)\n",
        "plt.plot(Y_train.flatten(), preds.flatten(), 'o', label='predictions')\n",
        "plt.plot(x_y_line, x_y_line, label='y=x')\n",
        "plt.xlabel(\"Log solubility (ground truth)\")\n",
        "plt.ylabel(\"Log solubility (predicted)\")\n",
        "plt.title(\"Parity plot: predictions vs ground truth data\")\n",
        "plt.legend()"
      ],
      "execution_count": 21,
      "outputs": [
        {
          "output_type": "execute_result",
          "data": {
            "text/plain": [
              "<matplotlib.legend.Legend at 0x7feb4ee4a710>"
            ]
          },
          "metadata": {
            "tags": []
          },
          "execution_count": 21
        },
        {
          "output_type": "display_data",
          "data": {
            "image/png": "[encoded data removed]",
            "text/plain": [
              "<Figure size 432x288 with 1 Axes>"
            ]
          },
          "metadata": {
            "tags": [],
            "needs_background": "light"
          }
        }
      ]
    },
    {
      "cell_type": "code",
      "metadata": {
        "colab": {
          "base_uri": "https://localhost:8080/"
        },
        "id": "fdYc_TKUwDen",
        "outputId": "82f747ad-f358-4c4b-a667-65f09000b4d0"
      },
      "source": [
        "### Comparartive prediction of y_test and y_test predicted .....\n",
        "Y_test_predited=solubility_model.predict(X_test)\n",
        "#print(Y_test_predited)\n",
        "\n",
        "print(np.concatenate((Y_test_predited.reshape(len(Y_test_predited),1), Y_test.reshape(len(Y_test),1)),1))"
      ],
      "execution_count": 22,
      "outputs": [
        {
          "output_type": "stream",
          "text": [
            "[[-1.17642844 -1.62      ]\n",
            " [-3.05220509 -1.93      ]\n",
            " [-1.29823124 -1.47      ]\n",
            " [-1.26783955 -2.484     ]\n",
            " [-2.0328939  -2.64      ]\n",
            " [-1.60117447 -1.01      ]\n",
            " [-4.81868076 -5.88      ]\n",
            " [-2.40302229 -2.22      ]\n",
            " [-1.7714076  -1.6       ]\n",
            " [-0.51049477 -1.92      ]\n",
            " [-1.10245156  0.36      ]\n",
            " [-2.2445035  -2.35      ]\n",
            " [-1.39371395 -2.21      ]\n",
            " [-3.90363598 -4.081     ]\n",
            " [-1.04946923 -1.877     ]\n",
            " [-3.04681516 -2.478     ]\n",
            " [ 0.71593124  1.34      ]\n",
            " [-4.97619629 -4.31      ]\n",
            " [-2.45961523 -2.55      ]\n",
            " [-2.26143479 -3.1       ]\n",
            " [-1.54626489 -1.803     ]\n",
            " [-4.8920579  -4.3       ]\n",
            " [-2.76303172 -3.6       ]\n",
            " [-5.73411608 -6.124     ]\n",
            " [-7.69976473 -8.01      ]\n",
            " [-5.16784811 -3.78      ]\n",
            " [ 1.14353383 -0.31      ]\n",
            " [-1.96467233 -2.266     ]\n",
            " [-0.27399755  0.009     ]\n",
            " [-1.0876987   0.38      ]\n",
            " [-1.02622175  0.51      ]\n",
            " [-2.79272413 -2.09      ]\n",
            " [-2.87581277 -3.12      ]\n",
            " [-3.38198972 -4.46      ]\n",
            " [-1.77993226 -2.273     ]\n",
            " [-5.94664192 -6.29      ]\n",
            " [-4.02658606 -4.862     ]\n",
            " [-3.05894947 -3.28      ]\n",
            " [-2.39203644 -2.63      ]\n",
            " [-8.38300896 -7.39      ]\n",
            " [-4.62705278 -5.26      ]\n",
            " [-5.15651369 -4.873     ]\n",
            " [-2.76169157 -3.46      ]\n",
            " [-3.48939061 -4.86      ]\n",
            " [-2.56936312 -2.658     ]\n",
            " [-4.11208105 -4.02      ]\n",
            " [-3.99044466 -4.14      ]\n",
            " [-2.43582392 -1.7       ]\n",
            " [-2.23146296 -3.05      ]\n",
            " [-8.84864807 -7.66      ]\n",
            " [ 0.50565928 -0.01      ]\n",
            " [-0.36539194 -0.8       ]\n",
            " [-3.3019588  -4.26      ]\n",
            " [-2.08062482 -2.016     ]\n",
            " [-4.39707232 -5.27      ]\n",
            " [-0.05171483 -1.89      ]\n",
            " [-3.49524951 -3.35      ]\n",
            " [ 0.10339981  0.76      ]\n",
            " [ 1.14858079  0.7       ]\n",
            " [-6.71392107 -6.9       ]\n",
            " [-1.72313118 -2.09      ]\n",
            " [-3.31983852 -4.47      ]\n",
            " [-4.70306206 -4.8       ]\n",
            " [ 0.37260783  0.81      ]\n",
            " [-3.43838978 -3.3       ]\n",
            " [-2.20111942 -2.55      ]\n",
            " [-3.19364333 -2.85      ]\n",
            " [-1.5079397  -1.19      ]\n",
            " [-1.44277298 -1.99      ]\n",
            " [-2.88088632 -3.11      ]\n",
            " [-4.95607758 -4.5       ]\n",
            " [-1.4628123  -2.        ]\n",
            " [-1.27406311 -1.8       ]\n",
            " [-1.97004342 -1.85      ]\n",
            " [-4.45984697 -3.61      ]\n",
            " [-2.89730906 -3.27      ]\n",
            " [-6.74344397 -7.01      ]\n",
            " [ 0.1492506  -1.6       ]\n",
            " [-7.87675905 -7.85      ]\n",
            " [-1.54719019 -1.74      ]\n",
            " [-0.67389816 -2.523     ]\n",
            " [-1.85061097 -2.13      ]\n",
            " [-2.5593102  -1.96      ]\n",
            " [-6.5700202  -8.04      ]\n",
            " [-1.23444891 -0.85      ]\n",
            " [-5.39587975 -5.382     ]\n",
            " [-1.40260684 -1.13      ]\n",
            " [ 0.07029444 -0.8       ]\n",
            " [-2.29640007 -0.12      ]\n",
            " [-1.63780236 -1.52      ]\n",
            " [-1.5537684  -0.24      ]\n",
            " [-0.71119702 -1.36      ]\n",
            " [-4.03273821 -4.24      ]\n",
            " [ 0.59357136  1.02      ]\n",
            " [-1.11136401 -0.6       ]\n",
            " [-4.60746002 -5.16      ]\n",
            " [-2.92466998 -3.31      ]\n",
            " [-0.85071796 -1.64      ]\n",
            " [-7.22581482 -7.8       ]\n",
            " [-0.90780973 -0.99      ]]\n"
          ],
          "name": "stdout"
        }
      ]
    },
    {
      "cell_type": "code",
      "metadata": {
        "colab": {
          "base_uri": "https://localhost:8080/"
        },
        "id": "GY-Bfe-pyhVW",
        "outputId": "ae43c504-b9e9-4d1e-a356-c6a88a284b92"
      },
      "source": [
        "from sklearn.metrics import r2_score\n",
        "r2_score(Y_test, Y_test_predited)"
      ],
      "execution_count": 23,
      "outputs": [
        {
          "output_type": "execute_result",
          "data": {
            "text/plain": [
              "0.8717274242772675"
            ]
          },
          "metadata": {
            "tags": []
          },
          "execution_count": 23
        }
      ]
    },
    {
      "cell_type": "markdown",
      "metadata": {
        "id": "xpgRin7b18bX"
      },
      "source": [
        "Save model\n",
        "We can save/load this model for future use, using the save() and load_model() functions from Keras."
      ]
    },
    {
      "cell_type": "code",
      "metadata": {
        "id": "r3eleKjN17aZ"
      },
      "source": [
        "# Save the model\n",
        "solubility_model.save(\"solubility_model_87.hdf5\")\n",
        "\n",
        "# Load it back\n",
        "loaded_model = load_model(\"solubility_model_87.hdf5\")"
      ],
      "execution_count": 24,
      "outputs": []
    },
    {
      "cell_type": "code",
      "metadata": {
        "colab": {
          "base_uri": "https://localhost:8080/"
        },
        "id": "vJs45hIR2Q2K",
        "outputId": "8711f955-266d-422c-8ce4-206c19425526"
      },
      "source": [
        "!pwd"
      ],
      "execution_count": null,
      "outputs": [
        {
          "output_type": "stream",
          "text": [
            "/content\n"
          ],
          "name": "stdout"
        }
      ]
    }
  ]
}