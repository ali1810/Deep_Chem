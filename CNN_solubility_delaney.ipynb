{
  "nbformat": 4,
  "nbformat_minor": 0,
  "metadata": {
    "colab": {
      "name": "CNN_solubility_delaney.ipynb",
      "provenance": [],
      "collapsed_sections": [],
      "mount_file_id": "1SNvf5WsPumvFay1DfyE2sN29e5WBazQx",
      "authorship_tag": "ABX9TyOSKhAxwXxcriLA9DjDpQuC",
      "include_colab_link": true
    },
    "kernelspec": {
      "name": "python3",
      "display_name": "Python 3"
    },
    "language_info": {
      "name": "python"
    }
  },
  "cells": [
    {
      "cell_type": "markdown",
      "metadata": {
        "id": "view-in-github",
        "colab_type": "text"
      },
      "source": [
        "<a href=\"https://colab.research.google.com/github/ali1810/Deep_Chem/blob/main/CNN_solubility_delaney.ipynb\" target=\"_parent\"><img src=\"https://colab.research.google.com/assets/colab-badge.svg\" alt=\"Open In Colab\"/></a>"
      ]
    },
    {
      "cell_type": "code",
      "metadata": {
        "id": "3eSEwX-yHWYL"
      },
      "source": [
        ""
      ],
      "execution_count": 346,
      "outputs": []
    },
    {
      "cell_type": "markdown",
      "metadata": {
        "id": "uVsKe_wHHbwq"
      },
      "source": [
        "### In this notebook, I am going to train deep learning models Convolutional Neural Network to predict the aqueous solubility of organic materials based on their smiles.\n",
        "\n",
        "The composition will be specified as SMILES strings, which are a convenient way to represent the structure of organic materials. I will use these SMILES strings as inputs to a convolutional neural network and predict the solubility of organic materials.\n",
        "\n",
        "Outline of this notebook: Load and pre-process training data Load solubility dataset containing many organic molecules and their associated solubilities Pre-process data and split to test/train sets Train a Convolutional neural network (CNN) Train a CNN to predict solubility Predict solubility from any given SMILES representation of a molecule\n",
        "## Dataset : ESOL delaney processed data "
      ]
    },
    {
      "cell_type": "code",
      "metadata": {
        "id": "l4Ll6TSRKLb1"
      },
      "source": [
        "# general imports\n",
        "import pandas as pd\n",
        "import seaborn as sns\n",
        "import matplotlib.pyplot as plt\n",
        "import numpy as np\n",
        "\n",
        "# keras imports\n",
        "from keras.layers import (Input, Dense, Conv1D, MaxPool1D, Dropout, GRU, LSTM, \n",
        "                          TimeDistributed, Add, Flatten, RepeatVector, Lambda, Concatenate)\n",
        "from keras.models import Model, load_model\n",
        "from keras.metrics import binary_crossentropy\n",
        "from keras import initializers\n",
        "import keras.backend as K\n",
        "\n",
        "# Visualization\n",
        "#from keras_sequential_ascii import keras2ascii\n",
        "\n",
        "# utils functions\n",
        "#from utils import *\n",
        "\n",
        "import os\n",
        "os.environ['KMP_DUPLICATE_LIB_OK']='True'\n",
        "\n",
        "# Remove warnings from output\n",
        "import warnings\n",
        "warnings.filterwarnings('ignore')"
      ],
      "execution_count": 19,
      "outputs": []
    },
    {
      "cell_type": "markdown",
      "metadata": {
        "id": "J1E0ps07KVaR"
      },
      "source": [
        "###Load, view, and preprocess dataset We will use the ESOL dataset to train our models. The ESOL dataset contains the solubility of various small organic molecules. I will begin by loading the dataset as a dataframe and then inspecting some basic metadata. We'll also preprocess the dataset and create train/test splits for the Convolutional Neural Network (CNN)"
      ]
    },
    {
      "cell_type": "code",
      "metadata": {
        "colab": {
          "base_uri": "https://localhost:8080/",
          "height": 401
        },
        "id": "cD7kZ8ymKZdx",
        "outputId": "ae54fd23-aebc-4a42-abc4-9b2a02d2e4ec"
      },
      "source": [
        "# read dataset as a dataframe\n",
        "dataset = pd.read_csv(\"/content/drive/MyDrive/ESOL_delaney-processed.csv\")\n",
        "\n",
        "# print column names in dataset\n",
        "print(f\"Columns in dataset: {list(dataset.columns)}\")\n",
        "\n",
        "# print number of rows in dataset\n",
        "print(f\"\\nLength of dataset: {len(dataset)}\")\n",
        "\n",
        "# shuffle rows of the dataset (we could do this later as well when doing train/test splits)\n",
        "dataset = dataset.sample(frac=1, random_state=0)\n",
        "\n",
        "# show first 5 rows of dataframe\n",
        "dataset.head()"
      ],
      "execution_count": 20,
      "outputs": [
        {
          "output_type": "stream",
          "text": [
            "Columns in dataset: ['Unnamed: 0', 'Compound ID', 'ESOL predicted log solubility in mols per litre', 'Minimum Degree', 'Molecular Weight', 'Number of H-Bond Donors', 'Number of Rings', 'Number of Rotatable Bonds', 'Polar Surface Area', 'measured log solubility in mols per litre', 'smiles']\n",
            "\n",
            "Length of dataset: 1128\n"
          ],
          "name": "stdout"
        },
        {
          "output_type": "execute_result",
          "data": {
            "text/html": [
              "<div>\n",
              "<style scoped>\n",
              "    .dataframe tbody tr th:only-of-type {\n",
              "        vertical-align: middle;\n",
              "    }\n",
              "\n",
              "    .dataframe tbody tr th {\n",
              "        vertical-align: top;\n",
              "    }\n",
              "\n",
              "    .dataframe thead th {\n",
              "        text-align: right;\n",
              "    }\n",
              "</style>\n",
              "<table border=\"1\" class=\"dataframe\">\n",
              "  <thead>\n",
              "    <tr style=\"text-align: right;\">\n",
              "      <th></th>\n",
              "      <th>Unnamed: 0</th>\n",
              "      <th>Compound ID</th>\n",
              "      <th>ESOL predicted log solubility in mols per litre</th>\n",
              "      <th>Minimum Degree</th>\n",
              "      <th>Molecular Weight</th>\n",
              "      <th>Number of H-Bond Donors</th>\n",
              "      <th>Number of Rings</th>\n",
              "      <th>Number of Rotatable Bonds</th>\n",
              "      <th>Polar Surface Area</th>\n",
              "      <th>measured log solubility in mols per litre</th>\n",
              "      <th>smiles</th>\n",
              "    </tr>\n",
              "  </thead>\n",
              "  <tbody>\n",
              "    <tr>\n",
              "      <th>873</th>\n",
              "      <td>873</td>\n",
              "      <td>2,4-Dimethyl-2-pentanol</td>\n",
              "      <td>-1.647</td>\n",
              "      <td>1</td>\n",
              "      <td>116.204</td>\n",
              "      <td>1</td>\n",
              "      <td>0</td>\n",
              "      <td>2</td>\n",
              "      <td>20.23</td>\n",
              "      <td>-0.92</td>\n",
              "      <td>CC(C)CC(C)(C)O</td>\n",
              "    </tr>\n",
              "    <tr>\n",
              "      <th>427</th>\n",
              "      <td>427</td>\n",
              "      <td>rhodanine</td>\n",
              "      <td>-0.396</td>\n",
              "      <td>1</td>\n",
              "      <td>133.197</td>\n",
              "      <td>1</td>\n",
              "      <td>1</td>\n",
              "      <td>0</td>\n",
              "      <td>29.10</td>\n",
              "      <td>-1.77</td>\n",
              "      <td>O=C1CSC(=S)N1</td>\n",
              "    </tr>\n",
              "    <tr>\n",
              "      <th>638</th>\n",
              "      <td>638</td>\n",
              "      <td>Bromoethane</td>\n",
              "      <td>-1.529</td>\n",
              "      <td>1</td>\n",
              "      <td>108.966</td>\n",
              "      <td>0</td>\n",
              "      <td>0</td>\n",
              "      <td>0</td>\n",
              "      <td>0.00</td>\n",
              "      <td>-1.09</td>\n",
              "      <td>CCBr</td>\n",
              "    </tr>\n",
              "    <tr>\n",
              "      <th>950</th>\n",
              "      <td>950</td>\n",
              "      <td>Chloropham</td>\n",
              "      <td>-3.544</td>\n",
              "      <td>1</td>\n",
              "      <td>213.664</td>\n",
              "      <td>1</td>\n",
              "      <td>1</td>\n",
              "      <td>2</td>\n",
              "      <td>38.33</td>\n",
              "      <td>-3.38</td>\n",
              "      <td>CC(C)OC(=O)NC1:C:C:C:C(Cl):C:1</td>\n",
              "    </tr>\n",
              "    <tr>\n",
              "      <th>436</th>\n",
              "      <td>436</td>\n",
              "      <td>Diethyl sulfide</td>\n",
              "      <td>-1.598</td>\n",
              "      <td>1</td>\n",
              "      <td>90.191</td>\n",
              "      <td>0</td>\n",
              "      <td>0</td>\n",
              "      <td>2</td>\n",
              "      <td>0.00</td>\n",
              "      <td>-1.34</td>\n",
              "      <td>CCSCC</td>\n",
              "    </tr>\n",
              "  </tbody>\n",
              "</table>\n",
              "</div>"
            ],
            "text/plain": [
              "     Unnamed: 0  ...                          smiles\n",
              "873         873  ...                  CC(C)CC(C)(C)O\n",
              "427         427  ...                   O=C1CSC(=S)N1\n",
              "638         638  ...                            CCBr\n",
              "950         950  ...  CC(C)OC(=O)NC1:C:C:C:C(Cl):C:1\n",
              "436         436  ...                           CCSCC\n",
              "\n",
              "[5 rows x 11 columns]"
            ]
          },
          "metadata": {},
          "execution_count": 20
        }
      ]
    },
    {
      "cell_type": "code",
      "metadata": {
        "id": "YO7CYmwHKye_"
      },
      "source": [
        "###  Creating New \"smiles_length\" column to reduce the feature of smiles ....\n",
        "\n",
        "dataset[\"smiles_length\"]= dataset[\"smiles\"].apply(len)"
      ],
      "execution_count": 349,
      "outputs": []
    },
    {
      "cell_type": "code",
      "metadata": {
        "colab": {
          "base_uri": "https://localhost:8080/"
        },
        "id": "GU0FhZHSLDRf",
        "outputId": "a8bf0e68-3b7e-4427-f879-23fd88cfc79a"
      },
      "source": [
        "### Maximum length of smiles in the dataset \n",
        "max_lenghth=max(dataset[\"smiles_length\"])\n",
        "max_lenghth"
      ],
      "execution_count": 350,
      "outputs": [
        {
          "output_type": "execute_result",
          "data": {
            "text/plain": [
              "97"
            ]
          },
          "metadata": {},
          "execution_count": 350
        }
      ]
    },
    {
      "cell_type": "code",
      "metadata": {
        "id": "CFZUkIT5LSZj"
      },
      "source": [
        "## To select specific length of smiles ...\n",
        "\n",
        "#dataset1  = dataset[dataset['smiles_length'] < 65]"
      ],
      "execution_count": 351,
      "outputs": []
    },
    {
      "cell_type": "markdown",
      "metadata": {
        "id": "NsgHI-zcLk41"
      },
      "source": [
        "### We can explore the range of solubilities found in the dataset by plotting a histogram of solubility values from the dataset. Our machine learning models will aim to predict these solubilities."
      ]
    },
    {
      "cell_type": "code",
      "metadata": {
        "colab": {
          "base_uri": "https://localhost:8080/",
          "height": 297
        },
        "id": "-3Jw99vNLj24",
        "outputId": "aa8b42c9-5dc3-47e1-c081-2589c5d0e25e"
      },
      "source": [
        "sns.distplot(dataset[\"measured log solubility in mols per litre\"])"
      ],
      "execution_count": 352,
      "outputs": [
        {
          "output_type": "execute_result",
          "data": {
            "text/plain": [
              "<matplotlib.axes._subplots.AxesSubplot at 0x7f6c0a1bdb10>"
            ]
          },
          "metadata": {},
          "execution_count": 352
        },
        {
          "output_type": "display_data",
          "data": {
            "image/png": "[encoded data removed]",
            "text/plain": [
              "<Figure size 432x288 with 1 Axes>"
            ]
          },
          "metadata": {
            "needs_background": "light"
          }
        }
      ]
    },
    {
      "cell_type": "code",
      "metadata": {
        "id": "YHjRIjq1MciN"
      },
      "source": [
        "## Function to create unique character from string \n",
        "\n",
        "def generate_charset(full_char_list:list) -> list:\n",
        "    '''\n",
        "    Assumes full_char_list is a list of characters (e.g., ['c', 'c', '1']).\n",
        "    Returns a sorted list of unique characters, with index zero as a NULL character, and a PAD character.\n",
        "    '''\n",
        "    unique_chars = set(''.join(full_char_list))\n",
        "    charset = ['NULL', 'PAD'] + sorted(unique_chars)\n",
        "    return charset"
      ],
      "execution_count": 11,
      "outputs": []
    },
    {
      "cell_type": "code",
      "metadata": {
        "id": "XaP0YctzMh5r"
      },
      "source": [
        "### Function to create one hot encoder ....\n",
        "import numpy as np \n",
        "def smiles_to_onehots(smiles_strings:list,\n",
        "                     unique_charset:list,\n",
        "                     max_smiles_chars:int) -> np.array:\n",
        "    one_hots = []\n",
        "    charset_length = len(unique_charset)\n",
        "\n",
        "    for smiles_string in smiles_strings:\n",
        "        one_hot_smiles = np.zeros(shape=(max_smiles_chars, charset_length))\n",
        "        for i in range(max_smiles_chars):\n",
        "            one_hot_col = [0]*charset_length\n",
        "            ind = None # Which index will we flip to be \"one-hot\"?\n",
        "            \n",
        "            if i < len(smiles_string):\n",
        "                try:\n",
        "                    ind = unique_charset.index(smiles_string[i])\n",
        "                    # one_hot_col[unique_charset.index(char)] = 1\n",
        "                except ValueError:\n",
        "                    ind = 0 # Treat as NULL if out-of-vocab  \n",
        "                    # one_hot_col[0] = 1 # Treat as NULL if out-of-vocab   \n",
        "            else:\n",
        "                ind = 1 # Add PAD as needed\n",
        "            \n",
        "            one_hot_col[ind] = 1\n",
        "            one_hot_smiles[i,:] = one_hot_col\n",
        "            \n",
        "        one_hots.append(one_hot_smiles)\n",
        "    return np.array(one_hots)"
      ],
      "execution_count": 12,
      "outputs": []
    },
    {
      "cell_type": "code",
      "metadata": {
        "colab": {
          "base_uri": "https://localhost:8080/"
        },
        "id": "1_F5wT_fMmLo",
        "outputId": "a11e0c0f-0049-45f2-8c34-07a38a25a981"
      },
      "source": [
        "# get unique character set in all SMILES strings \n",
        "charset = generate_charset(dataset[\"smiles\"].values.ravel())\n",
        "print(charset )\n",
        "# get the number of unique characters\n",
        "charset_length = len(charset)\n",
        "#print(charset_length)\n",
        "print(charset_length)\n",
        "\n",
        "# define max number of SMILES for model input vector\n",
        "max_smiles_chars = 97\n",
        "\n",
        "# dimension of input vector\n",
        "input_dim = charset_length * max_smiles_chars\n",
        "\n",
        "# get one-hot representation of the SMILES strings \n",
        "one_hots = smiles_to_onehots(dataset[\"smiles\"].values, charset, max_smiles_chars)\n",
        "\n",
        "# split input into train and test sets\n",
        "X_train = one_hots[:-100]\n",
        "X_test = one_hots[-100:]\n",
        "\n",
        "# split output to train and test sets\n",
        "output = dataset[\"measured log solubility in mols per litre\"].values\n",
        "Y_train = output[:-100]\n",
        "Y_test = output[-100:]"
      ],
      "execution_count": 21,
      "outputs": [
        {
          "output_type": "stream",
          "text": [
            "['NULL', 'PAD', '#', '(', ')', '+', '-', '/', '1', '2', '3', '4', '5', '6', '7', ':', '=', 'B', 'C', 'F', 'H', 'I', 'N', 'O', 'P', 'S', '[', '\\\\', ']', 'l', 'r']\n",
            "31\n"
          ],
          "name": "stdout"
        }
      ]
    },
    {
      "cell_type": "markdown",
      "metadata": {
        "id": "4IdBorIkL-4T"
      },
      "source": [
        "### Data preparation Now we will pre-process the dataset for the CNN models. First, we'll get the unique character set from all SMILES strings in the dataset. Then we will use the unique character set to convert our SMILES strings to a one-hot representation, which is a representation that converts raw strings of text to numerical inputs for our models.\n",
        "\n",
        "In a one-hot representation, each character of our SMILES string is encoded as a vector of zeros, except for one non-zero value. For instance, the character 'C' in the SMILES string is converted to a vector of length 31, consisting of 30 zeros and one non-zero entry of one. The length of this vector (31 in our case) is the total number of unique characters in the dataset.\n",
        "\n",
        "Given a string of 5 characters (say Pentane, which is represented as 'CCCCC'), we would thus get 5 vectors each of length 31. Since different molecules have different SMILES string lengths, we can pre-define the length of each string to be the maximum length from the database, with smaller molecules represented with additional characters. In our case, this maximum length is 40 and we represent the extra characters for smaller molecules with pre-defined one-hot vectors. This means that each molecule is now represented as a set of 97 vectors, each of length 31. We can represent this as a 97x31 matrix.\n",
        "\n",
        "One-hot encoding is commonly used in natural language processing, and you can learn more about one-hot encoding here.\n",
        "\n",
        "Finally, we will define our input and output and create test/train splits in the dataset.\n",
        "\n"
      ]
    },
    {
      "cell_type": "markdown",
      "metadata": {
        "id": "-Xld0zVZN0_I"
      },
      "source": [
        "####Let's briefly visualize what our input data looks like using a heatmap that shows the position of each character in the SMILES string, you can change the index to see various molecules. Each molecule is represented by a 40x31 sparse matrix, the bright spots in the heatmap indicate the position at which a one is found in the matrix"
      ]
    },
    {
      "cell_type": "code",
      "metadata": {
        "colab": {
          "base_uri": "https://localhost:8080/",
          "height": 301
        },
        "id": "As4fW4QBMETI",
        "outputId": "5a76f8f3-05b6-4486-e2b0-85b743516f3b"
      },
      "source": [
        "index = 761\n",
        "sns.heatmap(X_train[index]) # This is a single training example -- note that it is a matrix, not a single vector!\n",
        "plt.xlabel('Character')\n",
        "plt.ylabel('Position in SMILES String')\n",
        "print(dataset.iloc[index]['smiles'])"
      ],
      "execution_count": 356,
      "outputs": [
        {
          "output_type": "stream",
          "text": [
            "CC1:N:C:C([N+](=O)[O-]):N:1CCO\n"
          ],
          "name": "stdout"
        },
        {
          "output_type": "display_data",
          "data": {
            "image/png": "[encoded data removed]",
            "text/plain": [
              "<Figure size 432x288 with 2 Axes>"
            ]
          },
          "metadata": {
            "needs_background": "light"
          }
        }
      ]
    },
    {
      "cell_type": "markdown",
      "metadata": {
        "id": "VSeZQgX1ODB4"
      },
      "source": [
        "####Supervised CNN model for predicting solubility In this section, we will set up a convolutional neural network to predict solubility using one-hot SMILES as input. A convolutional neural network is a machine learning model that is commonly used to classify images, and you can learn more about them here.\n",
        "\n",
        "Define model structure First, we will create the model structure, starting with the input layer. As described above, each training example is a 97x31 matrix, which is the shape we pass to the Input layer in Keras."
      ]
    },
    {
      "cell_type": "code",
      "metadata": {
        "id": "-5ISaEHCPbWt"
      },
      "source": [
        "# Define the input layer\n",
        "# NOTE: We feed in a sequence here! We're inputting up to max_smiles_chars characters, \n",
        "# and each character is an array of length charset_length\n",
        "smiles_input = Input(shape=(max_smiles_chars, charset_length), name=\"SMILES-Input\")"
      ],
      "execution_count": 357,
      "outputs": []
    },
    {
      "cell_type": "markdown",
      "metadata": {
        "id": "9l73E42pNxJV"
      },
      "source": [
        ""
      ]
    },
    {
      "cell_type": "markdown",
      "metadata": {
        "id": "FCM86N3XPhX7"
      },
      "source": [
        "###Next we will define the convolution layers where each layer attempts to learn certain features of the images, such as edges and corners. The input to each layer (a matrix) is transformed via convolution operations, which are element by element multiplications of the input matrix and a filter matrix. The convolutional layer learns the filter matrix that will best identify unique features of the image. You can learn more about convolution operations and the math behind convolutional neural networks here."
      ]
    },
    {
      "cell_type": "code",
      "metadata": {
        "id": "rZAyWBm4Prtm"
      },
      "source": [
        "# Set parameters for convolutional layers \n",
        "num_conv_filters = 64\n",
        "kernel_size = 3\n",
        "\n",
        "init_weights = initializers.glorot_normal(seed=0)\n",
        "\n",
        "# Define the convolutional layers\n",
        "# Multiple convolutions in a row is a common architecture (but there are many \"right\" choices here)\n",
        "conv_1_func = Conv1D(\n",
        "    filters=num_conv_filters, # What is the \"depth\" of the convolution? How many times do you look at the same spot?\n",
        "    kernel_size=kernel_size, # How \"wide\" of a spot does each filter look at?\n",
        "    name=\"Convolution-1\",\n",
        "    activation=\"relu\", # This is a common activation function: Rectified Linear Unit (ReLU)\n",
        "    kernel_initializer=init_weights #This defines the initial values for the weights\n",
        ")\n",
        "conv_2_func = Conv1D(\n",
        "    filters=num_conv_filters, \n",
        "    kernel_size=kernel_size, \n",
        "    name=\"Convolution-2\",\n",
        "    activation=\"relu\",\n",
        "    kernel_initializer=init_weights\n",
        ")\n",
        "conv_3_func = Conv1D(\n",
        "    filters=num_conv_filters, \n",
        "    kernel_size=kernel_size, \n",
        "    name=\"Convolution-3\",\n",
        "    activation=\"relu\",\n",
        "    kernel_initializer=init_weights\n",
        ")\n",
        "conv_4_func = Conv1D(\n",
        "    filters=num_conv_filters, \n",
        "    kernel_size=kernel_size,\n",
        "    name=\"Convolution-4\",\n",
        "    activation=\"relu\",\n",
        "    kernel_initializer=init_weights\n",
        ")\n",
        "conv_5_func = Conv1D(\n",
        "    filters=num_conv_filters, \n",
        "    kernel_size=kernel_size,\n",
        "    name=\"Convolution-5\",\n",
        "    activation=\"relu\",\n",
        "    kernel_initializer=init_weights\n",
        ")\n"
      ],
      "execution_count": 358,
      "outputs": []
    },
    {
      "cell_type": "markdown",
      "metadata": {
        "id": "PP22U4tYPzUq"
      },
      "source": [
        "###The four convolution layers defined above will attempt to learn features of the SMILES string (represented as a 97x31 matrix) that are relevant to predicting the solubility. To get a numerical prediction, we now flatten the output of the convolution and pass it to a set of regular Dense layers, the last layer predicting one value for the solubility."
      ]
    },
    {
      "cell_type": "code",
      "metadata": {
        "id": "tioliIwAP_qe"
      },
      "source": [
        "# Define layer to flatten convolutions\n",
        "flatten_func = Flatten(name=\"Flattened-Convolutions\")\n",
        "\n",
        "# Define the activation function layer\n",
        "hidden_size = 64\n",
        "dense_1_func = Dense(hidden_size, activation=\"relu\", name=\"Fully-Connected\", kernel_initializer=init_weights)\n",
        "\n",
        "# Define output layer -- it's only one dimension since it is regression\n",
        "output_size = 1\n",
        "output_solubility_func = Dense(output_size, activation=\"linear\", name=\"Log-Solubility\", kernel_initializer=init_weights)"
      ],
      "execution_count": 359,
      "outputs": []
    },
    {
      "cell_type": "markdown",
      "metadata": {
        "id": "vP5nehxjQX-U"
      },
      "source": [
        "######Now that we have defined all the layers, we will connect them together to make a graph:"
      ]
    },
    {
      "cell_type": "code",
      "metadata": {
        "id": "aQXXdWA8QXKH"
      },
      "source": [
        "# connect the CNN graph together\n",
        "conv_1_fwd = conv_1_func(smiles_input)\n",
        "conv_2_fwd = conv_2_func(conv_1_fwd)\n",
        "conv_3_fwd = conv_3_func(conv_2_fwd)\n",
        "conv_4_fwd = conv_4_func(conv_3_fwd)\n",
        "conv_5_fwd = conv_5_func(conv_4_fwd)\n",
        "#conv_6_fwd = conv_6_func(conv_5_fwd)\n",
        "#conv_7_fwd = conv_7_func(conv_6_fwd)\n",
        "flattened_convs = flatten_func(conv_5_fwd)\n",
        "dense_1_fwd = dense_1_func(flattened_convs)\n",
        "output_solubility_fwd = output_solubility_func(flattened_convs)"
      ],
      "execution_count": 360,
      "outputs": []
    },
    {
      "cell_type": "markdown",
      "metadata": {
        "id": "Q37_ftO6RXlA"
      },
      "source": [
        "######View model structure and metadata Now the model is ready to train! But first we will define the model as solubility_model and compile it, then view some information on the model using the keras2ascii tool, which visually represents the layers in our model."
      ]
    },
    {
      "cell_type": "code",
      "metadata": {
        "id": "axLFQylnRigf"
      },
      "source": [
        "# create model\n",
        "solubility_model = Model(\n",
        "            inputs=[smiles_input],\n",
        "            outputs=[output_solubility_fwd]\n",
        ")\n",
        "\n",
        "# compile model\n",
        "solubility_model.compile(\n",
        "    optimizer=\"adam\",\n",
        "    loss=\"mse\",\n",
        "    metrics=[\"mae\"]\n",
        ")"
      ],
      "execution_count": 361,
      "outputs": []
    },
    {
      "cell_type": "markdown",
      "metadata": {
        "id": "CtMf7preSZXk"
      },
      "source": [
        "#####Train CNN Now we will train our CNN solubility model to the training data! During training, we will see metrics printed after each epoch such as test/train loss (both as Mean Squared Error (MSE) and Mean Absolute Error (MAE))."
      ]
    },
    {
      "cell_type": "code",
      "metadata": {
        "colab": {
          "base_uri": "https://localhost:8080/"
        },
        "id": "LJRA1VdRSetz",
        "outputId": "916efda5-9386-43f7-f52a-69fb51b5b84d"
      },
      "source": [
        "history = solubility_model.fit(\n",
        "    X_train, # Inputs\n",
        "    Y_train, # Outputs\n",
        "    epochs=115, # How many times to pass over the data\n",
        "    batch_size=64, # How many data rows to compute at once\n",
        "    verbose=1,\n",
        "    validation_data=(X_test, Y_test), # You would usually use more splits of the data if you plan to tune hyperparams\n",
        ")"
      ],
      "execution_count": 362,
      "outputs": [
        {
          "output_type": "stream",
          "text": [
            "Epoch 1/115\n",
            "17/17 [==============================] - 2s 77ms/step - loss: 6.9804 - mae: 2.0713 - val_loss: 2.8719 - val_mae: 1.2819\n",
            "Epoch 2/115\n",
            "17/17 [==============================] - 1s 65ms/step - loss: 2.4513 - mae: 1.2283 - val_loss: 1.9702 - val_mae: 1.0971\n",
            "Epoch 3/115\n",
            "17/17 [==============================] - 1s 62ms/step - loss: 1.9446 - mae: 1.0915 - val_loss: 2.1591 - val_mae: 1.1330\n",
            "Epoch 4/115\n",
            "17/17 [==============================] - 1s 65ms/step - loss: 1.8312 - mae: 1.0669 - val_loss: 1.4512 - val_mae: 0.9413\n",
            "Epoch 5/115\n",
            "17/17 [==============================] - 1s 65ms/step - loss: 1.2936 - mae: 0.9035 - val_loss: 1.4722 - val_mae: 0.9386\n",
            "Epoch 6/115\n",
            "17/17 [==============================] - 1s 62ms/step - loss: 1.1692 - mae: 0.8640 - val_loss: 1.0718 - val_mae: 0.8035\n",
            "Epoch 7/115\n",
            "17/17 [==============================] - 1s 63ms/step - loss: 1.0489 - mae: 0.8087 - val_loss: 0.9208 - val_mae: 0.7536\n",
            "Epoch 8/115\n",
            "17/17 [==============================] - 1s 60ms/step - loss: 0.8931 - mae: 0.7466 - val_loss: 1.1644 - val_mae: 0.8950\n",
            "Epoch 9/115\n",
            "17/17 [==============================] - 1s 63ms/step - loss: 1.0121 - mae: 0.7918 - val_loss: 0.8306 - val_mae: 0.7131\n",
            "Epoch 10/115\n",
            "17/17 [==============================] - 1s 63ms/step - loss: 0.7891 - mae: 0.7054 - val_loss: 0.7494 - val_mae: 0.6824\n",
            "Epoch 11/115\n",
            "17/17 [==============================] - 1s 64ms/step - loss: 0.7385 - mae: 0.6784 - val_loss: 0.7457 - val_mae: 0.6762\n",
            "Epoch 12/115\n",
            "17/17 [==============================] - 1s 63ms/step - loss: 0.7112 - mae: 0.6582 - val_loss: 0.6988 - val_mae: 0.6614\n",
            "Epoch 13/115\n",
            "17/17 [==============================] - 1s 64ms/step - loss: 0.6784 - mae: 0.6486 - val_loss: 0.7117 - val_mae: 0.6504\n",
            "Epoch 14/115\n",
            "17/17 [==============================] - 1s 64ms/step - loss: 0.6735 - mae: 0.6380 - val_loss: 0.8864 - val_mae: 0.7697\n",
            "Epoch 15/115\n",
            "17/17 [==============================] - 1s 62ms/step - loss: 0.7626 - mae: 0.6852 - val_loss: 0.9008 - val_mae: 0.7262\n",
            "Epoch 16/115\n",
            "17/17 [==============================] - 1s 63ms/step - loss: 0.7020 - mae: 0.6636 - val_loss: 0.7778 - val_mae: 0.6751\n",
            "Epoch 17/115\n",
            "17/17 [==============================] - 1s 66ms/step - loss: 0.6182 - mae: 0.6134 - val_loss: 0.6882 - val_mae: 0.6433\n",
            "Epoch 18/115\n",
            "17/17 [==============================] - 1s 64ms/step - loss: 0.5958 - mae: 0.6084 - val_loss: 1.5098 - val_mae: 1.0703\n",
            "Epoch 19/115\n",
            "17/17 [==============================] - 1s 64ms/step - loss: 1.1463 - mae: 0.8350 - val_loss: 0.9885 - val_mae: 0.7349\n",
            "Epoch 20/115\n",
            "17/17 [==============================] - 1s 62ms/step - loss: 0.6763 - mae: 0.6482 - val_loss: 0.7060 - val_mae: 0.6456\n",
            "Epoch 21/115\n",
            "17/17 [==============================] - 1s 65ms/step - loss: 0.5986 - mae: 0.6022 - val_loss: 0.6811 - val_mae: 0.6232\n",
            "Epoch 22/115\n",
            "17/17 [==============================] - 1s 62ms/step - loss: 0.5419 - mae: 0.5722 - val_loss: 0.7310 - val_mae: 0.6554\n",
            "Epoch 23/115\n",
            "17/17 [==============================] - 1s 63ms/step - loss: 0.5253 - mae: 0.5680 - val_loss: 0.6595 - val_mae: 0.6160\n",
            "Epoch 24/115\n",
            "17/17 [==============================] - 1s 64ms/step - loss: 0.4867 - mae: 0.5432 - val_loss: 0.6706 - val_mae: 0.6355\n",
            "Epoch 25/115\n",
            "17/17 [==============================] - 1s 64ms/step - loss: 0.5179 - mae: 0.5656 - val_loss: 0.7351 - val_mae: 0.6786\n",
            "Epoch 26/115\n",
            "17/17 [==============================] - 1s 64ms/step - loss: 0.5558 - mae: 0.5871 - val_loss: 0.8143 - val_mae: 0.7047\n",
            "Epoch 27/115\n",
            "17/17 [==============================] - 1s 64ms/step - loss: 0.5761 - mae: 0.5908 - val_loss: 0.6412 - val_mae: 0.6080\n",
            "Epoch 28/115\n",
            "17/17 [==============================] - 1s 62ms/step - loss: 0.4343 - mae: 0.5127 - val_loss: 0.7080 - val_mae: 0.6508\n",
            "Epoch 29/115\n",
            "17/17 [==============================] - 1s 63ms/step - loss: 0.4296 - mae: 0.5108 - val_loss: 0.5431 - val_mae: 0.5659\n",
            "Epoch 30/115\n",
            "17/17 [==============================] - 1s 64ms/step - loss: 0.3849 - mae: 0.4800 - val_loss: 0.6506 - val_mae: 0.6460\n",
            "Epoch 31/115\n",
            "17/17 [==============================] - 1s 64ms/step - loss: 0.4149 - mae: 0.5054 - val_loss: 0.6670 - val_mae: 0.6465\n",
            "Epoch 32/115\n",
            "17/17 [==============================] - 1s 66ms/step - loss: 0.3866 - mae: 0.4845 - val_loss: 0.5823 - val_mae: 0.5866\n",
            "Epoch 33/115\n",
            "17/17 [==============================] - 1s 64ms/step - loss: 0.3765 - mae: 0.4745 - val_loss: 0.6807 - val_mae: 0.6483\n",
            "Epoch 34/115\n",
            "17/17 [==============================] - 1s 68ms/step - loss: 0.3575 - mae: 0.4612 - val_loss: 0.5771 - val_mae: 0.5802\n",
            "Epoch 35/115\n",
            "17/17 [==============================] - 1s 66ms/step - loss: 0.3258 - mae: 0.4399 - val_loss: 0.5800 - val_mae: 0.5996\n",
            "Epoch 36/115\n",
            "17/17 [==============================] - 1s 65ms/step - loss: 0.3479 - mae: 0.4582 - val_loss: 0.5651 - val_mae: 0.5786\n",
            "Epoch 37/115\n",
            "17/17 [==============================] - 1s 62ms/step - loss: 0.2950 - mae: 0.4163 - val_loss: 0.5424 - val_mae: 0.5785\n",
            "Epoch 38/115\n",
            "17/17 [==============================] - 1s 65ms/step - loss: 0.3175 - mae: 0.4348 - val_loss: 0.5377 - val_mae: 0.5629\n",
            "Epoch 39/115\n",
            "17/17 [==============================] - 1s 66ms/step - loss: 0.3200 - mae: 0.4358 - val_loss: 0.5966 - val_mae: 0.5946\n",
            "Epoch 40/115\n",
            "17/17 [==============================] - 1s 62ms/step - loss: 0.3220 - mae: 0.4377 - val_loss: 0.5674 - val_mae: 0.5912\n",
            "Epoch 41/115\n",
            "17/17 [==============================] - 1s 62ms/step - loss: 0.2528 - mae: 0.3903 - val_loss: 0.5570 - val_mae: 0.5747\n",
            "Epoch 42/115\n",
            "17/17 [==============================] - 1s 65ms/step - loss: 0.2356 - mae: 0.3729 - val_loss: 0.5148 - val_mae: 0.5362\n",
            "Epoch 43/115\n",
            "17/17 [==============================] - 1s 63ms/step - loss: 0.2470 - mae: 0.3823 - val_loss: 0.5171 - val_mae: 0.5441\n",
            "Epoch 44/115\n",
            "17/17 [==============================] - 1s 64ms/step - loss: 0.2290 - mae: 0.3699 - val_loss: 0.4901 - val_mae: 0.5293\n",
            "Epoch 45/115\n",
            "17/17 [==============================] - 1s 64ms/step - loss: 0.2211 - mae: 0.3626 - val_loss: 0.5440 - val_mae: 0.5690\n",
            "Epoch 46/115\n",
            "17/17 [==============================] - 1s 63ms/step - loss: 0.2115 - mae: 0.3559 - val_loss: 0.5130 - val_mae: 0.5459\n",
            "Epoch 47/115\n",
            "17/17 [==============================] - 1s 65ms/step - loss: 0.1926 - mae: 0.3415 - val_loss: 0.5413 - val_mae: 0.5702\n",
            "Epoch 48/115\n",
            "17/17 [==============================] - 1s 64ms/step - loss: 0.2120 - mae: 0.3583 - val_loss: 0.5998 - val_mae: 0.5985\n",
            "Epoch 49/115\n",
            "17/17 [==============================] - 1s 64ms/step - loss: 0.1864 - mae: 0.3334 - val_loss: 0.5097 - val_mae: 0.5430\n",
            "Epoch 50/115\n",
            "17/17 [==============================] - 1s 64ms/step - loss: 0.1682 - mae: 0.3201 - val_loss: 0.6359 - val_mae: 0.6288\n",
            "Epoch 51/115\n",
            "17/17 [==============================] - 1s 67ms/step - loss: 0.1987 - mae: 0.3507 - val_loss: 0.5088 - val_mae: 0.5489\n",
            "Epoch 52/115\n",
            "17/17 [==============================] - 1s 65ms/step - loss: 0.1585 - mae: 0.3053 - val_loss: 0.5574 - val_mae: 0.5662\n",
            "Epoch 53/115\n",
            "17/17 [==============================] - 1s 65ms/step - loss: 0.1391 - mae: 0.2855 - val_loss: 0.5869 - val_mae: 0.5848\n",
            "Epoch 54/115\n",
            "17/17 [==============================] - 1s 64ms/step - loss: 0.1626 - mae: 0.3124 - val_loss: 0.5424 - val_mae: 0.5678\n",
            "Epoch 55/115\n",
            "17/17 [==============================] - 1s 63ms/step - loss: 0.1239 - mae: 0.2693 - val_loss: 0.5166 - val_mae: 0.5354\n",
            "Epoch 56/115\n",
            "17/17 [==============================] - 1s 64ms/step - loss: 0.1264 - mae: 0.2709 - val_loss: 0.6432 - val_mae: 0.6265\n",
            "Epoch 57/115\n",
            "17/17 [==============================] - 1s 66ms/step - loss: 0.1513 - mae: 0.3083 - val_loss: 0.5442 - val_mae: 0.5540\n",
            "Epoch 58/115\n",
            "17/17 [==============================] - 1s 63ms/step - loss: 0.1326 - mae: 0.2812 - val_loss: 0.5299 - val_mae: 0.5320\n",
            "Epoch 59/115\n",
            "17/17 [==============================] - 1s 65ms/step - loss: 0.1082 - mae: 0.2516 - val_loss: 0.5710 - val_mae: 0.5523\n",
            "Epoch 60/115\n",
            "17/17 [==============================] - 1s 65ms/step - loss: 0.0984 - mae: 0.2424 - val_loss: 0.5518 - val_mae: 0.5499\n",
            "Epoch 61/115\n",
            "17/17 [==============================] - 1s 64ms/step - loss: 0.1038 - mae: 0.2456 - val_loss: 0.5322 - val_mae: 0.5354\n",
            "Epoch 62/115\n",
            "17/17 [==============================] - 1s 66ms/step - loss: 0.1041 - mae: 0.2434 - val_loss: 0.5482 - val_mae: 0.5486\n",
            "Epoch 63/115\n",
            "17/17 [==============================] - 1s 64ms/step - loss: 0.0847 - mae: 0.2237 - val_loss: 0.5100 - val_mae: 0.5320\n",
            "Epoch 64/115\n",
            "17/17 [==============================] - 1s 64ms/step - loss: 0.0982 - mae: 0.2456 - val_loss: 0.5625 - val_mae: 0.5585\n",
            "Epoch 65/115\n",
            "17/17 [==============================] - 1s 66ms/step - loss: 0.1042 - mae: 0.2473 - val_loss: 0.5402 - val_mae: 0.5392\n",
            "Epoch 66/115\n",
            "17/17 [==============================] - 1s 65ms/step - loss: 0.0941 - mae: 0.2361 - val_loss: 0.6167 - val_mae: 0.5865\n",
            "Epoch 67/115\n",
            "17/17 [==============================] - 1s 65ms/step - loss: 0.0876 - mae: 0.2261 - val_loss: 0.5600 - val_mae: 0.5719\n",
            "Epoch 68/115\n",
            "17/17 [==============================] - 1s 65ms/step - loss: 0.0897 - mae: 0.2338 - val_loss: 0.5847 - val_mae: 0.5683\n",
            "Epoch 69/115\n",
            "17/17 [==============================] - 1s 66ms/step - loss: 0.0837 - mae: 0.2261 - val_loss: 0.5249 - val_mae: 0.5225\n",
            "Epoch 70/115\n",
            "17/17 [==============================] - 1s 64ms/step - loss: 0.0694 - mae: 0.1970 - val_loss: 0.5669 - val_mae: 0.5495\n",
            "Epoch 71/115\n",
            "17/17 [==============================] - 1s 65ms/step - loss: 0.0866 - mae: 0.2253 - val_loss: 0.5430 - val_mae: 0.5424\n",
            "Epoch 72/115\n",
            "17/17 [==============================] - 1s 65ms/step - loss: 0.0698 - mae: 0.1977 - val_loss: 0.5739 - val_mae: 0.5619\n",
            "Epoch 73/115\n",
            "17/17 [==============================] - 1s 65ms/step - loss: 0.0650 - mae: 0.1945 - val_loss: 0.5776 - val_mae: 0.5516\n",
            "Epoch 74/115\n",
            "17/17 [==============================] - 1s 65ms/step - loss: 0.0805 - mae: 0.2225 - val_loss: 0.5422 - val_mae: 0.5292\n",
            "Epoch 75/115\n",
            "17/17 [==============================] - 1s 65ms/step - loss: 0.0757 - mae: 0.2117 - val_loss: 0.6389 - val_mae: 0.6042\n",
            "Epoch 76/115\n",
            "17/17 [==============================] - 1s 72ms/step - loss: 0.1019 - mae: 0.2466 - val_loss: 0.5285 - val_mae: 0.5545\n",
            "Epoch 77/115\n",
            "17/17 [==============================] - 1s 69ms/step - loss: 0.0813 - mae: 0.2187 - val_loss: 0.5391 - val_mae: 0.5395\n",
            "Epoch 78/115\n",
            "17/17 [==============================] - 1s 64ms/step - loss: 0.0743 - mae: 0.2104 - val_loss: 0.5462 - val_mae: 0.5592\n",
            "Epoch 79/115\n",
            "17/17 [==============================] - 1s 66ms/step - loss: 0.0650 - mae: 0.1976 - val_loss: 0.5242 - val_mae: 0.5248\n",
            "Epoch 80/115\n",
            "17/17 [==============================] - 1s 67ms/step - loss: 0.0775 - mae: 0.2169 - val_loss: 0.5480 - val_mae: 0.5352\n",
            "Epoch 81/115\n",
            "17/17 [==============================] - 1s 66ms/step - loss: 0.0852 - mae: 0.2259 - val_loss: 0.6222 - val_mae: 0.5996\n",
            "Epoch 82/115\n",
            "17/17 [==============================] - 1s 66ms/step - loss: 0.1028 - mae: 0.2482 - val_loss: 0.6523 - val_mae: 0.5891\n",
            "Epoch 83/115\n",
            "17/17 [==============================] - 1s 66ms/step - loss: 0.0847 - mae: 0.2252 - val_loss: 0.5854 - val_mae: 0.5499\n",
            "Epoch 84/115\n",
            "17/17 [==============================] - 1s 65ms/step - loss: 0.0700 - mae: 0.2035 - val_loss: 0.5577 - val_mae: 0.5484\n",
            "Epoch 85/115\n",
            "17/17 [==============================] - 1s 64ms/step - loss: 0.0547 - mae: 0.1735 - val_loss: 0.5970 - val_mae: 0.5660\n",
            "Epoch 86/115\n",
            "17/17 [==============================] - 1s 64ms/step - loss: 0.0478 - mae: 0.1637 - val_loss: 0.5901 - val_mae: 0.5580\n",
            "Epoch 87/115\n",
            "17/17 [==============================] - 1s 67ms/step - loss: 0.0662 - mae: 0.1984 - val_loss: 0.5823 - val_mae: 0.5643\n",
            "Epoch 88/115\n",
            "17/17 [==============================] - 1s 67ms/step - loss: 0.0557 - mae: 0.1817 - val_loss: 0.5594 - val_mae: 0.5443\n",
            "Epoch 89/115\n",
            "17/17 [==============================] - 1s 66ms/step - loss: 0.0497 - mae: 0.1708 - val_loss: 0.6112 - val_mae: 0.5713\n",
            "Epoch 90/115\n",
            "17/17 [==============================] - 1s 66ms/step - loss: 0.0507 - mae: 0.1698 - val_loss: 0.5848 - val_mae: 0.5506\n",
            "Epoch 91/115\n",
            "17/17 [==============================] - 1s 66ms/step - loss: 0.0527 - mae: 0.1713 - val_loss: 0.5675 - val_mae: 0.5584\n",
            "Epoch 92/115\n",
            "17/17 [==============================] - 1s 65ms/step - loss: 0.0520 - mae: 0.1754 - val_loss: 0.5850 - val_mae: 0.5604\n",
            "Epoch 93/115\n",
            "17/17 [==============================] - 1s 66ms/step - loss: 0.0435 - mae: 0.1575 - val_loss: 0.6874 - val_mae: 0.6341\n",
            "Epoch 94/115\n",
            "17/17 [==============================] - 1s 64ms/step - loss: 0.0607 - mae: 0.1851 - val_loss: 0.5771 - val_mae: 0.5646\n",
            "Epoch 95/115\n",
            "17/17 [==============================] - 1s 66ms/step - loss: 0.0474 - mae: 0.1668 - val_loss: 0.5550 - val_mae: 0.5431\n",
            "Epoch 96/115\n",
            "17/17 [==============================] - 1s 64ms/step - loss: 0.0468 - mae: 0.1636 - val_loss: 0.5988 - val_mae: 0.5787\n",
            "Epoch 97/115\n",
            "17/17 [==============================] - 1s 66ms/step - loss: 0.0392 - mae: 0.1475 - val_loss: 0.6398 - val_mae: 0.5941\n",
            "Epoch 98/115\n",
            "17/17 [==============================] - 1s 67ms/step - loss: 0.0624 - mae: 0.1944 - val_loss: 0.6397 - val_mae: 0.5964\n",
            "Epoch 99/115\n",
            "17/17 [==============================] - 1s 65ms/step - loss: 0.0518 - mae: 0.1761 - val_loss: 0.5727 - val_mae: 0.5452\n",
            "Epoch 100/115\n",
            "17/17 [==============================] - 1s 65ms/step - loss: 0.0465 - mae: 0.1630 - val_loss: 0.5983 - val_mae: 0.5620\n",
            "Epoch 101/115\n",
            "17/17 [==============================] - 1s 66ms/step - loss: 0.0410 - mae: 0.1501 - val_loss: 0.5935 - val_mae: 0.5695\n",
            "Epoch 102/115\n",
            "17/17 [==============================] - 1s 64ms/step - loss: 0.0375 - mae: 0.1449 - val_loss: 0.5961 - val_mae: 0.5724\n",
            "Epoch 103/115\n",
            "17/17 [==============================] - 1s 64ms/step - loss: 0.0283 - mae: 0.1200 - val_loss: 0.5798 - val_mae: 0.5551\n",
            "Epoch 104/115\n",
            "17/17 [==============================] - 1s 66ms/step - loss: 0.0266 - mae: 0.1168 - val_loss: 0.6027 - val_mae: 0.5717\n",
            "Epoch 105/115\n",
            "17/17 [==============================] - 1s 65ms/step - loss: 0.0288 - mae: 0.1237 - val_loss: 0.5801 - val_mae: 0.5599\n",
            "Epoch 106/115\n",
            "17/17 [==============================] - 1s 66ms/step - loss: 0.0281 - mae: 0.1222 - val_loss: 0.6236 - val_mae: 0.5881\n",
            "Epoch 107/115\n",
            "17/17 [==============================] - 1s 68ms/step - loss: 0.0308 - mae: 0.1321 - val_loss: 0.6234 - val_mae: 0.5912\n",
            "Epoch 108/115\n",
            "17/17 [==============================] - 1s 65ms/step - loss: 0.0326 - mae: 0.1366 - val_loss: 0.5868 - val_mae: 0.5623\n",
            "Epoch 109/115\n",
            "17/17 [==============================] - 1s 65ms/step - loss: 0.0268 - mae: 0.1183 - val_loss: 0.6140 - val_mae: 0.5764\n",
            "Epoch 110/115\n",
            "17/17 [==============================] - 1s 69ms/step - loss: 0.0280 - mae: 0.1228 - val_loss: 0.6121 - val_mae: 0.5784\n",
            "Epoch 111/115\n",
            "17/17 [==============================] - 1s 67ms/step - loss: 0.0377 - mae: 0.1416 - val_loss: 0.5991 - val_mae: 0.5665\n",
            "Epoch 112/115\n",
            "17/17 [==============================] - 1s 69ms/step - loss: 0.0324 - mae: 0.1304 - val_loss: 0.6643 - val_mae: 0.6043\n",
            "Epoch 113/115\n",
            "17/17 [==============================] - 1s 69ms/step - loss: 0.0350 - mae: 0.1408 - val_loss: 0.6176 - val_mae: 0.5823\n",
            "Epoch 114/115\n",
            "17/17 [==============================] - 1s 71ms/step - loss: 0.0366 - mae: 0.1470 - val_loss: 0.6231 - val_mae: 0.5792\n",
            "Epoch 115/115\n",
            "17/17 [==============================] - 1s 72ms/step - loss: 0.0379 - mae: 0.1520 - val_loss: 0.6015 - val_mae: 0.5730\n"
          ],
          "name": "stdout"
        }
      ]
    },
    {
      "cell_type": "markdown",
      "metadata": {
        "id": "rTblO5F6V_4T"
      },
      "source": [
        "######Let's view the learning curve for the trained model.\n",
        "\n",
        "This code will generate a plot where we show the test and train errors (MSE) as a function of epoch (one pass of all training examples through the NN).\n",
        "\n",
        "The learning curve will tell us if the model is overfitting or underfitting."
      ]
    },
    {
      "cell_type": "code",
      "metadata": {
        "colab": {
          "base_uri": "https://localhost:8080/",
          "height": 295
        },
        "id": "3xyZonx5V-n1",
        "outputId": "7bb1172d-57c6-467b-922a-0d1f8a8b355a"
      },
      "source": [
        "# plot the learning curve \n",
        "plt.plot(history.history['loss'])\n",
        "plt.plot(history.history['val_loss'])\n",
        "plt.title('Model accuracy')\n",
        "plt.ylabel('Error')\n",
        "plt.xlabel('Epoch')\n",
        "plt.xlim(0,)\n",
        "plt.legend(['Train', 'Validation',], loc='upper left')\n",
        "plt.show()"
      ],
      "execution_count": 363,
      "outputs": [
        {
          "output_type": "display_data",
          "data": {
            "image/png": "[encoded data removed]",
            "text/plain": [
              "<Figure size 432x288 with 1 Axes>"
            ]
          },
          "metadata": {
            "needs_background": "light"
          }
        }
      ]
    },
    {
      "cell_type": "markdown",
      "metadata": {
        "id": "4Q56hP6OWSWG"
      },
      "source": [
        "#####We can now make a parity plot comparing the CNN model predictions to the ground truth data"
      ]
    },
    {
      "cell_type": "code",
      "metadata": {
        "colab": {
          "base_uri": "https://localhost:8080/",
          "height": 313
        },
        "id": "q5vH3SCzWYJo",
        "outputId": "c30af57d-4f5d-4e3f-8f23-a5f199b1d410"
      },
      "source": [
        "preds = solubility_model.predict(X_train)\n",
        "x_y_line = np.linspace(min(Y_train.flatten()), max(Y_train.flatten()), 500)\n",
        "plt.plot(Y_train.flatten(), preds.flatten(), 'o', label='predictions')\n",
        "plt.plot(x_y_line, x_y_line, label='y=x')\n",
        "plt.xlabel(\"Log solubility (ground truth)\")\n",
        "plt.ylabel(\"Log solubility (predicted)\")\n",
        "plt.title(\"Parity plot: predictions vs ground truth data\")\n",
        "plt.legend()"
      ],
      "execution_count": 364,
      "outputs": [
        {
          "output_type": "execute_result",
          "data": {
            "text/plain": [
              "<matplotlib.legend.Legend at 0x7f6c0db5ea10>"
            ]
          },
          "metadata": {},
          "execution_count": 364
        },
        {
          "output_type": "display_data",
          "data": {
            "image/png": "[encoded data removed]",
            "text/plain": [
              "<Figure size 432x288 with 1 Axes>"
            ]
          },
          "metadata": {
            "needs_background": "light"
          }
        }
      ]
    },
    {
      "cell_type": "code",
      "metadata": {
        "id": "bI24buInWjh2"
      },
      "source": [
        "### Comparartive prediction of y_test and y_test predicted .....\n",
        "preds=solubility_model.predict(X_test)\n",
        "\n",
        "#print(np.concatenate((Y_test_predited.reshape(len(Y_test_predited),1), Y_test.reshape(len(Y_test),1)),1))"
      ],
      "execution_count": 365,
      "outputs": []
    },
    {
      "cell_type": "code",
      "metadata": {
        "colab": {
          "base_uri": "https://localhost:8080/"
        },
        "id": "A8GniNbrZ_7k",
        "outputId": "a8d7811e-ced2-4835-a778-ebaca80fff27"
      },
      "source": [
        "from sklearn.metrics import r2_score\n",
        "r2_score(Y_test, preds)"
      ],
      "execution_count": 366,
      "outputs": [
        {
          "output_type": "execute_result",
          "data": {
            "text/plain": [
              "0.8733236917596319"
            ]
          },
          "metadata": {},
          "execution_count": 366
        }
      ]
    },
    {
      "cell_type": "code",
      "metadata": {
        "id": "k0JSQ0Bya6-W"
      },
      "source": [
        "####  Saving the model for future use ....\n",
        "\n",
        "# Save the model\n",
        "solubility_model.save(\"/content/drive/MyDrive/solubility_model_8733.hdf5\")\n",
        "\n",
        "\n"
      ],
      "execution_count": 368,
      "outputs": []
    },
    {
      "cell_type": "code",
      "metadata": {
        "id": "fxPN9Av_vxrE"
      },
      "source": [
        "# Load it back\n",
        "loaded_model = load_model(\"/content/drive/MyDrive/solubility_model_8733.hdf5\")"
      ],
      "execution_count": 23,
      "outputs": []
    },
    {
      "cell_type": "code",
      "metadata": {
        "colab": {
          "base_uri": "https://localhost:8080/"
        },
        "id": "19IoXQ7-v1Of",
        "outputId": "492c8f93-1eab-4767-929c-03ec054a528e"
      },
      "source": [
        "#smilesstr = input(\"Please enter a string to predict solubility\")\n",
        "example_smiles = [\n",
        "    'BrCc1ccc(cc1)c2ccccc2C#N'\n",
        "  #  'N#CC1:C:C:C:C:C:1',\n",
        "  #  '[Na+].[Na+].OCC1=CC(=N/Nc2ccc(c3ccccc23)[S]([O-])(=O)=O)\\C(=O)/C(=N/Nc4ccc(c5ccccc45)[S]([O-])(=O)=O)C1=O'\n",
        "]\n",
        "\n",
        "for smiles in example_smiles:\n",
        "       predict_test_input = smiles_to_onehots([smiles], charset, max_smiles_chars)\n",
        "       solubility_prediction = loaded_model.predict(predict_test_input)\n",
        "  # solublilty_prediction =np.array(solubility_prediction)\n",
        "       print(f'The predicted log solubility for SMILES {smiles} is {solubility_prediction}')\n",
        "    #print(predict_test_input)\n",
        "    #print(predict_test_input.shape)"
      ],
      "execution_count": 60,
      "outputs": [
        {
          "output_type": "stream",
          "text": [
            "The predicted log solubility for SMILES BrCc1ccc(cc1)c2ccccc2C#N is [[-2.4959102]]\n"
          ],
          "name": "stdout"
        }
      ]
    }
  ]
}