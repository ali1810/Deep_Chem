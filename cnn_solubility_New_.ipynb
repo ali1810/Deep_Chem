{
  "nbformat": 4,
  "nbformat_minor": 0,
  "metadata": {
    "colab": {
      "name": "cnn_solubility_New .ipynb",
      "provenance": [],
      "collapsed_sections": [],
      "mount_file_id": "1Pu2txkId_ukTb_LVxpEsZfhlPFUK9XHk",
      "authorship_tag": "ABX9TyMbm15yctpe7Fj3iwUL4+63",
      "include_colab_link": true
    },
    "kernelspec": {
      "name": "python3",
      "display_name": "Python 3"
    },
    "language_info": {
      "name": "python"
    }
  },
  "cells": [
    {
      "cell_type": "markdown",
      "metadata": {
        "id": "view-in-github",
        "colab_type": "text"
      },
      "source": [
        "<a href=\"https://colab.research.google.com/github/ali1810/Deep_Chem/blob/main/cnn_solubility_New_.ipynb\" target=\"_parent\"><img src=\"https://colab.research.google.com/assets/colab-badge.svg\" alt=\"Open In Colab\"/></a>"
      ]
    },
    {
      "cell_type": "markdown",
      "metadata": {
        "id": "OwM0KC9nHVpt"
      },
      "source": [
        ""
      ]
    },
    {
      "cell_type": "markdown",
      "metadata": {
        "id": "BELdgHcMHUW7"
      },
      "source": [
        "# **Hands-on Deep Learning for Compounbds solubility **\n",
        "\n",
        "In this notebook, you will learn how to train deep learning models to predict the aqueous solubility of organic materials given their composition.\n",
        "\n",
        "The composition will be specified as SMILES strings, which are a convenient way to represent the structure of organic materials. You can learn more about SMILES strings here. We will use these SMILES strings as inputs to a convolutional neural network and predict the solubility of organic materials.\n",
        "\n",
        "Outline of this notebook:\n",
        "Load and pre-process training data\n",
        "Load solubility dataset containing many organic molecules and their associated solubilities\n",
        "Pre-process data and split to test/train sets\n",
        "Train a Convolutional neural network (CNN)\n",
        "Train a CNN to predict solubility\n",
        "Predict solubility from any given SMILES representation of a molecule"
      ]
    },
    {
      "cell_type": "code",
      "metadata": {
        "colab": {
          "base_uri": "https://localhost:8080/"
        },
        "id": "N-aBhT7xLXcE",
        "outputId": "fb296684-ea7b-403a-ea74-65ac301afb8b"
      },
      "source": [
        "!pip install utils"
      ],
      "execution_count": 1,
      "outputs": [
        {
          "output_type": "stream",
          "text": [
            "Collecting utils\n",
            "  Downloading utils-1.0.1-py2.py3-none-any.whl (21 kB)\n",
            "Installing collected packages: utils\n",
            "Successfully installed utils-1.0.1\n"
          ],
          "name": "stdout"
        }
      ]
    },
    {
      "cell_type": "code",
      "metadata": {
        "colab": {
          "base_uri": "https://localhost:8080/"
        },
        "id": "gARzDEdpLhTA",
        "outputId": "42f31430-3cc8-4be7-8a9b-60be89c08270"
      },
      "source": [
        "! pip install keras_sequential_ascii"
      ],
      "execution_count": 2,
      "outputs": [
        {
          "output_type": "stream",
          "text": [
            "Collecting keras_sequential_ascii\n",
            "  Downloading keras_sequential_ascii-0.1.1.tar.gz (3.5 kB)\n",
            "Requirement already satisfied: keras in /usr/local/lib/python3.7/dist-packages (from keras_sequential_ascii) (2.6.0)\n",
            "Building wheels for collected packages: keras-sequential-ascii\n",
            "  Building wheel for keras-sequential-ascii (setup.py) ... \u001b[?25l\u001b[?25hdone\n",
            "  Created wheel for keras-sequential-ascii: filename=keras_sequential_ascii-0.1.1-py3-none-any.whl size=3062 sha256=5cdd5f39490f63961eca51a34646d38c8cfb6cd7ad630242fc27999c47cde967\n",
            "  Stored in directory: /root/.cache/pip/wheels/4e/99/75/8910ced4b40e8c20088c237fa706b32ac758321482ae2659e3\n",
            "Successfully built keras-sequential-ascii\n",
            "Installing collected packages: keras-sequential-ascii\n",
            "Successfully installed keras-sequential-ascii-0.1.1\n"
          ],
          "name": "stdout"
        }
      ]
    },
    {
      "cell_type": "code",
      "metadata": {
        "id": "5SrBAIw4Hlgy"
      },
      "source": [
        "# general imports\n",
        "import pandas as pd\n",
        "import seaborn as sns\n",
        "import matplotlib.pyplot as plt\n",
        "import numpy as np\n",
        "\n",
        "# keras imports\n",
        "from keras.layers import (Input, Dense, Conv1D, MaxPool1D, Dropout, GRU, LSTM, \n",
        "                          TimeDistributed, Add, Flatten, RepeatVector, Lambda, Concatenate)\n",
        "from keras.models import Model, load_model\n",
        "from keras.metrics import binary_crossentropy\n",
        "from keras import initializers\n",
        "import keras.backend as K\n",
        "\n",
        "# Visualization\n",
        "#from keras_sequential_ascii import keras2ascii\n",
        "\n",
        "# utils functions\n",
        "#from utils import *\n",
        "\n",
        "import os\n",
        "os.environ['KMP_DUPLICATE_LIB_OK']='True'\n",
        "\n",
        "# Remove warnings from output\n",
        "import warnings\n",
        "warnings.filterwarnings('ignore')"
      ],
      "execution_count": 3,
      "outputs": []
    },
    {
      "cell_type": "markdown",
      "metadata": {
        "id": "MSBp8obpLv0E"
      },
      "source": [
        "Load, view, and preprocess dataset\n",
        "We will use the ESOL dataset to train our models. The ESOL dataset contains the solubility of various small organic molecules. I will begin by loading the dataset as a dataframe and then inspecting some basic metadata. We'll also preprocess the dataset and create train/test splits for the Convolutional Neural Network (CNN) \n"
      ]
    },
    {
      "cell_type": "code",
      "metadata": {
        "colab": {
          "base_uri": "https://localhost:8080/",
          "height": 343
        },
        "id": "m3yZaYzkLyfo",
        "outputId": "a28321fa-6861-49f8-909f-ad1136cb56b1"
      },
      "source": [
        "# read dataset as a dataframe\n",
        "dataset = pd.read_csv(\"/content/drive/MyDrive/ESOL_delaney-processed.csv\")\n",
        "\n",
        "# print column names in dataset\n",
        "print(f\"Columns in dataset: {list(dataset.columns)}\")\n",
        "\n",
        "# print number of rows in dataset\n",
        "print(f\"\\nLength of dataset: {len(dataset)}\")\n",
        "\n",
        "# shuffle rows of the dataset (we could do this later as well when doing train/test splits)\n",
        "dataset = dataset.sample(frac=1, random_state=0)\n",
        "\n",
        "# show first 5 rows of dataframe\n",
        "dataset.head()"
      ],
      "execution_count": 4,
      "outputs": [
        {
          "output_type": "stream",
          "text": [
            "Columns in dataset: ['Unnamed: 0', 'Compound ID', 'ESOL predicted log solubility in mols per litre', 'Minimum Degree', 'Molecular Weight', 'Number of H-Bond Donors', 'Number of Rings', 'Number of Rotatable Bonds', 'Polar Surface Area', 'measured log solubility in mols per litre', 'smiles']\n",
            "\n",
            "Length of dataset: 1128\n"
          ],
          "name": "stdout"
        },
        {
          "output_type": "execute_result",
          "data": {
            "text/html": [
              "<div>\n",
              "<style scoped>\n",
              "    .dataframe tbody tr th:only-of-type {\n",
              "        vertical-align: middle;\n",
              "    }\n",
              "\n",
              "    .dataframe tbody tr th {\n",
              "        vertical-align: top;\n",
              "    }\n",
              "\n",
              "    .dataframe thead th {\n",
              "        text-align: right;\n",
              "    }\n",
              "</style>\n",
              "<table border=\"1\" class=\"dataframe\">\n",
              "  <thead>\n",
              "    <tr style=\"text-align: right;\">\n",
              "      <th></th>\n",
              "      <th>Unnamed: 0</th>\n",
              "      <th>Compound ID</th>\n",
              "      <th>ESOL predicted log solubility in mols per litre</th>\n",
              "      <th>Minimum Degree</th>\n",
              "      <th>Molecular Weight</th>\n",
              "      <th>Number of H-Bond Donors</th>\n",
              "      <th>Number of Rings</th>\n",
              "      <th>Number of Rotatable Bonds</th>\n",
              "      <th>Polar Surface Area</th>\n",
              "      <th>measured log solubility in mols per litre</th>\n",
              "      <th>smiles</th>\n",
              "    </tr>\n",
              "  </thead>\n",
              "  <tbody>\n",
              "    <tr>\n",
              "      <th>873</th>\n",
              "      <td>873</td>\n",
              "      <td>2,4-Dimethyl-2-pentanol</td>\n",
              "      <td>-1.647</td>\n",
              "      <td>1</td>\n",
              "      <td>116.204</td>\n",
              "      <td>1</td>\n",
              "      <td>0</td>\n",
              "      <td>2</td>\n",
              "      <td>20.23</td>\n",
              "      <td>-0.92</td>\n",
              "      <td>CC(C)CC(C)(C)O</td>\n",
              "    </tr>\n",
              "    <tr>\n",
              "      <th>427</th>\n",
              "      <td>427</td>\n",
              "      <td>rhodanine</td>\n",
              "      <td>-0.396</td>\n",
              "      <td>1</td>\n",
              "      <td>133.197</td>\n",
              "      <td>1</td>\n",
              "      <td>1</td>\n",
              "      <td>0</td>\n",
              "      <td>29.10</td>\n",
              "      <td>-1.77</td>\n",
              "      <td>O=C1CSC(=S)N1</td>\n",
              "    </tr>\n",
              "    <tr>\n",
              "      <th>638</th>\n",
              "      <td>638</td>\n",
              "      <td>Bromoethane</td>\n",
              "      <td>-1.529</td>\n",
              "      <td>1</td>\n",
              "      <td>108.966</td>\n",
              "      <td>0</td>\n",
              "      <td>0</td>\n",
              "      <td>0</td>\n",
              "      <td>0.00</td>\n",
              "      <td>-1.09</td>\n",
              "      <td>CCBr</td>\n",
              "    </tr>\n",
              "    <tr>\n",
              "      <th>950</th>\n",
              "      <td>950</td>\n",
              "      <td>Chloropham</td>\n",
              "      <td>-3.544</td>\n",
              "      <td>1</td>\n",
              "      <td>213.664</td>\n",
              "      <td>1</td>\n",
              "      <td>1</td>\n",
              "      <td>2</td>\n",
              "      <td>38.33</td>\n",
              "      <td>-3.38</td>\n",
              "      <td>CC(C)OC(=O)NC1:C:C:C:C(Cl):C:1</td>\n",
              "    </tr>\n",
              "    <tr>\n",
              "      <th>436</th>\n",
              "      <td>436</td>\n",
              "      <td>Diethyl sulfide</td>\n",
              "      <td>-1.598</td>\n",
              "      <td>1</td>\n",
              "      <td>90.191</td>\n",
              "      <td>0</td>\n",
              "      <td>0</td>\n",
              "      <td>2</td>\n",
              "      <td>0.00</td>\n",
              "      <td>-1.34</td>\n",
              "      <td>CCSCC</td>\n",
              "    </tr>\n",
              "  </tbody>\n",
              "</table>\n",
              "</div>"
            ],
            "text/plain": [
              "     Unnamed: 0  ...                          smiles\n",
              "873         873  ...                  CC(C)CC(C)(C)O\n",
              "427         427  ...                   O=C1CSC(=S)N1\n",
              "638         638  ...                            CCBr\n",
              "950         950  ...  CC(C)OC(=O)NC1:C:C:C:C(Cl):C:1\n",
              "436         436  ...                           CCSCC\n",
              "\n",
              "[5 rows x 11 columns]"
            ]
          },
          "metadata": {},
          "execution_count": 4
        }
      ]
    },
    {
      "cell_type": "code",
      "metadata": {
        "id": "zZLuvCtZAdEM"
      },
      "source": [
        "###  Creating New SMILES column to reduce the feature of smiles ....\n",
        "\n",
        "dataset[\"smiles_length\"]= dataset[\"smiles\"].apply(len)\n"
      ],
      "execution_count": 5,
      "outputs": []
    },
    {
      "cell_type": "code",
      "metadata": {
        "colab": {
          "base_uri": "https://localhost:8080/"
        },
        "id": "ER3DGF9GrSki",
        "outputId": "061f4a58-f603-4942-f76a-505cd21ec55f"
      },
      "source": [
        "max_lenghth=max(dataset[\"smiles_length\"])\n",
        "max_lenghth"
      ],
      "execution_count": 6,
      "outputs": [
        {
          "output_type": "execute_result",
          "data": {
            "text/plain": [
              "97"
            ]
          },
          "metadata": {},
          "execution_count": 6
        }
      ]
    },
    {
      "cell_type": "code",
      "metadata": {
        "id": "gAuYbcEsArWV"
      },
      "source": [
        "#smiles_length = dataset[\"SMILES\"],key =len\n",
        "#print(smiles_length)\n",
        "#dataset1  = dataset[dataset['smiles_length'] > 10]"
      ],
      "execution_count": 7,
      "outputs": []
    },
    {
      "cell_type": "markdown",
      "metadata": {
        "id": "FJRSVJ_OMucy"
      },
      "source": [
        "**We can explore the range of solubilities found in the dataset by plotting a histogram of solubility values from the dataset. Our machine learning models will aim to predict these solubilities.**"
      ]
    },
    {
      "cell_type": "code",
      "metadata": {
        "colab": {
          "base_uri": "https://localhost:8080/",
          "height": 296
        },
        "id": "Fult5Y0aMm5_",
        "outputId": "0a98bd06-9337-428f-8802-757af589ed25"
      },
      "source": [
        "sns.distplot(dataset[\"measured log solubility in mols per litre\"])"
      ],
      "execution_count": 8,
      "outputs": [
        {
          "output_type": "execute_result",
          "data": {
            "text/plain": [
              "<matplotlib.axes._subplots.AxesSubplot at 0x7fd32e678d10>"
            ]
          },
          "metadata": {},
          "execution_count": 8
        },
        {
          "output_type": "display_data",
          "data": {
            "image/png": "[encoded data removed]",
            "text/plain": [
              "<Figure size 432x288 with 1 Axes>"
            ]
          },
          "metadata": {
            "needs_background": "light"
          }
        }
      ]
    },
    {
      "cell_type": "markdown",
      "metadata": {
        "id": "aO25OC2mMsvQ"
      },
      "source": [
        "In the next cell we will plot a histogram of SMILES string lengths from dataset. These lengths will be used to determine the length of the inputs for our CNN and VAE models. Below are examples of the SMILES representation:\n",
        "\n",
        "Methane: 'C'\n",
        "Pentane: 'CCCCC'\n",
        "Methanol and Ethanol: 'CO' and 'CCO'\n",
        "Pyridine: 'C1:C:C:N:C:C:1'\n",
        "To learn more about the SMILES representation, click here. "
      ]
    },
    {
      "cell_type": "code",
      "metadata": {
        "colab": {
          "base_uri": "https://localhost:8080/",
          "height": 282
        },
        "id": "1_yhe0GnMnNE",
        "outputId": "01f5ca63-e099-4792-a5c7-bf0ceaa49872"
      },
      "source": [
        "smiles_lengths = map(len, dataset.smiles.values)\n",
        "sns.distplot(list(smiles_lengths), bins=20, kde=False)"
      ],
      "execution_count": 9,
      "outputs": [
        {
          "output_type": "execute_result",
          "data": {
            "text/plain": [
              "<matplotlib.axes._subplots.AxesSubplot at 0x7fd32b2a3b50>"
            ]
          },
          "metadata": {},
          "execution_count": 9
        },
        {
          "output_type": "display_data",
          "data": {
            "image/png": "[encoded data removed]",
            "text/plain": [
              "<Figure size 432x288 with 1 Axes>"
            ]
          },
          "metadata": {
            "needs_background": "light"
          }
        }
      ]
    },
    {
      "cell_type": "markdown",
      "metadata": {
        "id": "ClNDUNFZOH17"
      },
      "source": [
        "Data preparation\n",
        "Now we will pre-process the dataset for the CNN models. First, we'll get the unique character set from all SMILES strings in the dataset. Then we will use the unique character set to convert our SMILES strings to a one-hot representation, which is a representation that converts raw strings of text to numerical inputs for our models.\n",
        "\n",
        "In a one-hot representation, each character of our SMILES string is encoded as a vector of zeros, except for one non-zero value. For instance, the character 'C' in the SMILES string is converted to a vector of length 31, consisting of 30 zeros and one non-zero entry of one. The length of this vector (31 in our case) is the total number of unique characters in the dataset.\n",
        "\n",
        "Given a string of 5 characters (say Pentane, which is represented as 'CCCCC'), we would thus get 5 vectors each of length 31. Since different molecules have different SMILES string lengths, we can pre-define the length of each string to be the maximum length from the database, with smaller molecules represented with additional characters. In our case, this maximum length is 40 and we represent the extra characters for smaller molecules with pre-defined one-hot vectors. This means that each molecule is now represented as a set of 40 vectors, each of length 31. We can represent this as a 40x31 matrix.\n",
        "\n",
        "One-hot encoding is commonly used in natural language processing, and you can learn more about one-hot encoding here.\n",
        "\n",
        "Finally, we will define our input and output and create test/train splits in the dataset."
      ]
    },
    {
      "cell_type": "code",
      "metadata": {
        "colab": {
          "base_uri": "https://localhost:8080/"
        },
        "id": "YAV8Vm3Eskfo",
        "outputId": "41b38172-8aa1-4df0-b4e2-53b0c346c231"
      },
      "source": [
        "print(len(dataset))"
      ],
      "execution_count": 10,
      "outputs": [
        {
          "output_type": "stream",
          "text": [
            "1128\n"
          ],
          "name": "stdout"
        }
      ]
    },
    {
      "cell_type": "code",
      "metadata": {
        "id": "SADekwo5IHkY"
      },
      "source": [
        "#dataset1  = dataset[dataset['smiles_length'] < 150]\n",
        "#dataset1"
      ],
      "execution_count": 11,
      "outputs": []
    },
    {
      "cell_type": "code",
      "metadata": {
        "id": "IETMj8TBIcBu"
      },
      "source": [
        "#print(len(dataset1))"
      ],
      "execution_count": 12,
      "outputs": []
    },
    {
      "cell_type": "code",
      "metadata": {
        "id": "Uk-ZFa3zQOcu"
      },
      "source": [
        "## Function to create unique character from string \n",
        "\n",
        "def generate_charset(full_char_list:list) -> list:\n",
        "    '''\n",
        "    Assumes full_char_list is a list of characters (e.g., ['c', 'c', '1']).\n",
        "    Returns a sorted list of unique characters, with index zero as a NULL character, and a PAD character.\n",
        "    '''\n",
        "    unique_chars = set(''.join(full_char_list))\n",
        "    charset = ['NULL', 'PAD'] + sorted(unique_chars)\n",
        "    return charset"
      ],
      "execution_count": 13,
      "outputs": []
    },
    {
      "cell_type": "code",
      "metadata": {
        "id": "GU9dKkZHVa4b"
      },
      "source": [
        "### Function to create one hot encoder ....\n",
        "\n",
        "def smiles_to_onehots(smiles_strings:list,\n",
        "                     unique_charset:list,\n",
        "                     max_smiles_chars:int) -> np.array:\n",
        "    one_hots = []\n",
        "    charset_length = len(unique_charset)\n",
        "\n",
        "    for smiles_string in smiles_strings:\n",
        "        one_hot_smiles = np.zeros(shape=(max_smiles_chars, charset_length))\n",
        "        for i in range(max_smiles_chars):\n",
        "            one_hot_col = [0]*charset_length\n",
        "            ind = None # Which index will we flip to be \"one-hot\"?\n",
        "            \n",
        "            if i < len(smiles_string):\n",
        "                try:\n",
        "                    ind = unique_charset.index(smiles_string[i])\n",
        "                    # one_hot_col[unique_charset.index(char)] = 1\n",
        "                except ValueError:\n",
        "                    ind = 0 # Treat as NULL if out-of-vocab  \n",
        "                    # one_hot_col[0] = 1 # Treat as NULL if out-of-vocab   \n",
        "            else:\n",
        "                ind = 1 # Add PAD as needed\n",
        "            \n",
        "            one_hot_col[ind] = 1\n",
        "            one_hot_smiles[i,:] = one_hot_col\n",
        "            \n",
        "        one_hots.append(one_hot_smiles)\n",
        "    return np.array(one_hots)"
      ],
      "execution_count": 14,
      "outputs": []
    },
    {
      "cell_type": "code",
      "metadata": {
        "id": "A8RQxPRbOJif",
        "colab": {
          "base_uri": "https://localhost:8080/"
        },
        "outputId": "3fe8c559-f749-45f8-d9f5-b6e2852a8004"
      },
      "source": [
        "# get unique character set in all SMILES strings \n",
        "charset = generate_charset(dataset[\"smiles\"].values.ravel())\n",
        "print(charset )\n",
        "# get the number of unique characters\n",
        "charset_length = len(charset)\n",
        "#print(charset_length)\n",
        "print(charset_length)\n",
        "\n",
        "# define max number of SMILES for model input vector\n",
        "max_smiles_chars = 97\n",
        "\n",
        "# dimension of input vector\n",
        "input_dim = charset_length * max_smiles_chars\n",
        "\n",
        "# get one-hot representation of the SMILES strings \n",
        "one_hots = smiles_to_onehots(dataset[\"smiles\"].values, charset, max_smiles_chars)\n",
        "\n",
        "# split input into train and test sets\n",
        "X_train = one_hots[:-100]\n",
        "X_test = one_hots[-100:]\n",
        "\n",
        "# split output to train and test sets\n",
        "output = dataset[\"measured log solubility in mols per litre\"].values\n",
        "Y_train = output[:-100]\n",
        "Y_test = output[-100:]"
      ],
      "execution_count": 15,
      "outputs": [
        {
          "output_type": "stream",
          "text": [
            "['NULL', 'PAD', '#', '(', ')', '+', '-', '/', '1', '2', '3', '4', '5', '6', '7', ':', '=', 'B', 'C', 'F', 'H', 'I', 'N', 'O', 'P', 'S', '[', '\\\\', ']', 'l', 'r']\n",
            "31\n"
          ],
          "name": "stdout"
        }
      ]
    },
    {
      "cell_type": "code",
      "metadata": {
        "id": "xsO5GPNOwv29"
      },
      "source": [
        "#df = dataset[[\"Molecular Weight\",\t\"Number of H-Bond Donors\",\t\"Number of Rings\",\t\"Number of Rotatable Bonds\",\"Polar Surface Area\"]]\n",
        "#print(type(one_hots))\n",
        "#print(one_hots.shape)\n",
        "#df=np.array(df)\n",
        "#print(type(df))\n",
        "#print(df.shape )\n",
        "#df_new=np.dstack((one_hots,df))\n",
        "#np.concatenate((one_hots,df[:,None]),axis=1)\n",
        "#df_new=np.column_stack((one_hots, df))\n",
        "#print(df_new.shape )"
      ],
      "execution_count": 16,
      "outputs": []
    },
    {
      "cell_type": "markdown",
      "metadata": {
        "id": "B7byq7bpOwx3"
      },
      "source": [
        "Let's briefly visualize what our input data looks like using a heatmap that shows the position of each character in the SMILES string, you can change the index to see various molecules. Each molecule is represented by a 40x31 sparse matrix, the bright spots in the heatmap indicate the position at which a one is found in the matrix. For instance, the first row has a bright spot at index 18, indicating that the first character is 'C'. The second row has a bright spot at index 23, which indicates that the second character is 'O'. For the compound Dimethoxymethane with a SMILES string 'COCOC', we expect the matrix to have alternating bright spots at index 18 and index 23 for the first five rows. Beyond that, the rows all have a bright spot at index 1, which stands for the extra characters padded on to our string to make all SMILES strings the same length. The heatmap below is plotted using the Seaborn library."
      ]
    },
    {
      "cell_type": "code",
      "metadata": {
        "id": "v9BTS_bMOycQ",
        "colab": {
          "base_uri": "https://localhost:8080/",
          "height": 300
        },
        "outputId": "203247ba-2f8b-4abe-d33d-cc96d4605711"
      },
      "source": [
        "index = 761\n",
        "sns.heatmap(X_train[index]) # This is a single training example -- note that it is a matrix, not a single vector!\n",
        "plt.xlabel('Character')\n",
        "plt.ylabel('Position in SMILES String')\n",
        "print(dataset.iloc[index]['smiles'])"
      ],
      "execution_count": 17,
      "outputs": [
        {
          "output_type": "stream",
          "text": [
            "CC1:N:C:C([N+](=O)[O-]):N:1CCO\n"
          ],
          "name": "stdout"
        },
        {
          "output_type": "display_data",
          "data": {
            "image/png": "[encoded data removed]",
            "text/plain": [
              "<Figure size 432x288 with 2 Axes>"
            ]
          },
          "metadata": {
            "needs_background": "light"
          }
        }
      ]
    },
    {
      "cell_type": "markdown",
      "metadata": {
        "id": "g1jxL2cFW0T4"
      },
      "source": [
        "**Supervised CNN model for predicting solubility**\n",
        "In this section, we will set up a convolutional neural network to predict solubility using one-hot SMILES as input. A convolutional neural network is a machine learning model that is commonly used to classify images, and you can learn more about them here.\n",
        "\n",
        "Define model structure\n",
        "First, we will create the model structure, starting with the input layer. As described above, each training example is a 40x31 matrix, which is the shape we pass to the Input layer in Keras."
      ]
    },
    {
      "cell_type": "code",
      "metadata": {
        "id": "D6o9jYfEW93H"
      },
      "source": [
        "# Define the input layer\n",
        "# NOTE: We feed in a sequence here! We're inputting up to max_smiles_chars characters, \n",
        "# and each character is an array of length charset_length\n",
        "smiles_input = Input(shape=(max_smiles_chars, charset_length), name=\"SMILES-Input\")"
      ],
      "execution_count": 18,
      "outputs": []
    },
    {
      "cell_type": "markdown",
      "metadata": {
        "id": "KBbFBGB1XnGe"
      },
      "source": [
        "**Next we will define the convolution layers where each layer attempts to learn certain features of the images, such as edges and corners. The input to each layer (a matrix) is transformed via convolution operations, which are element by element multiplications of the input matrix and a filter matrix. The convolutional layer learns the filter matrix that will best identify unique features of the image. You can learn more about convolution operations and the math behind convolutional neural networks here.**"
      ]
    },
    {
      "cell_type": "code",
      "metadata": {
        "id": "mPWalBDQXj-x"
      },
      "source": [
        "# Set parameters for convolutional layers \n",
        "num_conv_filters = 16\n",
        "kernel_size = 3\n",
        "\n",
        "init_weights = initializers.glorot_normal(seed=0)\n",
        "\n",
        "# Define the convolutional layers\n",
        "# Multiple convolutions in a row is a common architecture (but there are many \"right\" choices here)\n",
        "conv_1_func = Conv1D(\n",
        "    filters=num_conv_filters, # What is the \"depth\" of the convolution? How many times do you look at the same spot?\n",
        "    kernel_size=kernel_size, # How \"wide\" of a spot does each filter look at?\n",
        "    name=\"Convolution-1\",\n",
        "    activation=\"relu\", # This is a common activation function: Rectified Linear Unit (ReLU)\n",
        "    kernel_initializer=init_weights #This defines the initial values for the weights\n",
        ")\n",
        "conv_2_func = Conv1D(\n",
        "    filters=num_conv_filters, \n",
        "    kernel_size=kernel_size, \n",
        "    name=\"Convolution-2\",\n",
        "    activation=\"relu\",\n",
        "    kernel_initializer=init_weights\n",
        ")\n",
        "conv_3_func = Conv1D(\n",
        "    filters=num_conv_filters, \n",
        "    kernel_size=kernel_size, \n",
        "    name=\"Convolution-3\",\n",
        "    activation=\"relu\",\n",
        "    kernel_initializer=init_weights\n",
        ")\n",
        "conv_4_func = Conv1D(\n",
        "    filters=num_conv_filters, \n",
        "    kernel_size=kernel_size,\n",
        "    name=\"Convolution-4\",\n",
        "    activation=\"relu\",\n",
        "    kernel_initializer=init_weights\n",
        ")"
      ],
      "execution_count": 19,
      "outputs": []
    },
    {
      "cell_type": "markdown",
      "metadata": {
        "id": "pH8ySmkdYB-m"
      },
      "source": [
        "The four convolution layers defined above will attempt to learn features of the SMILES string (represented as a 40x31 matrix) that are relevant to predicting the solubility. To get a numerical prediction, we now flatten the output of the convolution and pass it to a set of regular Dense layers, the last layer predicting one value for the solubility."
      ]
    },
    {
      "cell_type": "code",
      "metadata": {
        "id": "L9pxE6KCYDPp"
      },
      "source": [
        "# Define layer to flatten convolutions\n",
        "flatten_func = Flatten(name=\"Flattened-Convolutions\")\n",
        "\n",
        "# Define the activation function layer\n",
        "hidden_size = 32\n",
        "dense_1_func = Dense(hidden_size, activation=\"relu\", name=\"Fully-Connected\", kernel_initializer=init_weights)\n",
        "\n",
        "# Define output layer -- it's only one dimension since it is regression\n",
        "output_size = 1\n",
        "output_solubility_func = Dense(output_size, activation=\"linear\", name=\"Log-Solubility\", kernel_initializer=init_weights)"
      ],
      "execution_count": 20,
      "outputs": []
    },
    {
      "cell_type": "markdown",
      "metadata": {
        "id": "jb1djj7xYKm2"
      },
      "source": [
        "Now that we have defined all the layers, we will connect them together to make a graph:"
      ]
    },
    {
      "cell_type": "code",
      "metadata": {
        "id": "4hSBxCZhYLgm"
      },
      "source": [
        "# connect the CNN graph together\n",
        "conv_1_fwd = conv_1_func(smiles_input)\n",
        "conv_2_fwd = conv_2_func(conv_1_fwd)\n",
        "conv_3_fwd = conv_3_func(conv_2_fwd)\n",
        "conv_4_fwd = conv_4_func(conv_3_fwd)\n",
        "flattened_convs = flatten_func(conv_4_fwd)\n",
        "dense_1_fwd = dense_1_func(flattened_convs)\n",
        "output_solubility_fwd = output_solubility_func(flattened_convs)"
      ],
      "execution_count": 21,
      "outputs": []
    },
    {
      "cell_type": "markdown",
      "metadata": {
        "id": "WZ8IxymEYTvR"
      },
      "source": [
        "View model structure and metadata\n",
        "Now the model is ready to train! But first we will define the model as solubility_model and compile it, then view some information on the model using the keras2ascii tool, which visually represents the layers in our model."
      ]
    },
    {
      "cell_type": "code",
      "metadata": {
        "id": "d8aVXkQOYVRH"
      },
      "source": [
        "# create model\n",
        "solubility_model = Model(\n",
        "            inputs=[smiles_input],\n",
        "            outputs=[output_solubility_fwd]\n",
        ")\n",
        "\n",
        "# compile model\n",
        "solubility_model.compile(\n",
        "    optimizer=\"adam\",\n",
        "    loss=\"mse\",\n",
        "    metrics=[\"mae\"]\n",
        ")"
      ],
      "execution_count": 22,
      "outputs": []
    },
    {
      "cell_type": "code",
      "metadata": {
        "id": "BC7h258cYhgO"
      },
      "source": [
        "# view model as a graph\n",
        "#keras2ascii(solubility_model)"
      ],
      "execution_count": 23,
      "outputs": []
    },
    {
      "cell_type": "markdown",
      "metadata": {
        "id": "4b44omEAZyxq"
      },
      "source": [
        "Train CNN\n",
        "Now we will train our CNN solubility model to the training data! During training, we will see metrics printed after each epoch such as test/train loss (both as Mean Squared Error (MSE) and Mean Absolute Error (MAE))."
      ]
    },
    {
      "cell_type": "code",
      "metadata": {
        "id": "Q_ZAGOwzZ0DK",
        "colab": {
          "base_uri": "https://localhost:8080/"
        },
        "outputId": "fb60834c-11f7-45d2-88cf-cd4a5372ea5e"
      },
      "source": [
        "history = solubility_model.fit(\n",
        "    X_train, # Inputs\n",
        "    Y_train, # Outputs\n",
        "    epochs=115, # How many times to pass over the data\n",
        "    batch_size=64, # How many data rows to compute at once\n",
        "    verbose=1,\n",
        "    validation_data=(X_test, Y_test), # You would usually use more splits of the data if you plan to tune hyperparams\n",
        ")"
      ],
      "execution_count": 24,
      "outputs": [
        {
          "output_type": "stream",
          "text": [
            "Epoch 1/115\n",
            "17/17 [==============================] - 2s 28ms/step - loss: 10.0725 - mae: 2.5519 - val_loss: 5.1016 - val_mae: 1.7859\n",
            "Epoch 2/115\n",
            "17/17 [==============================] - 0s 18ms/step - loss: 4.5129 - mae: 1.6968 - val_loss: 3.8294 - val_mae: 1.5064\n",
            "Epoch 3/115\n",
            "17/17 [==============================] - 0s 17ms/step - loss: 3.0405 - mae: 1.3792 - val_loss: 2.5582 - val_mae: 1.2317\n",
            "Epoch 4/115\n",
            "17/17 [==============================] - 0s 18ms/step - loss: 2.3933 - mae: 1.2114 - val_loss: 2.2226 - val_mae: 1.1837\n",
            "Epoch 5/115\n",
            "17/17 [==============================] - 0s 20ms/step - loss: 2.0708 - mae: 1.1292 - val_loss: 2.3825 - val_mae: 1.2026\n",
            "Epoch 6/115\n",
            "17/17 [==============================] - 0s 17ms/step - loss: 1.9552 - mae: 1.0971 - val_loss: 2.0117 - val_mae: 1.0880\n",
            "Epoch 7/115\n",
            "17/17 [==============================] - 0s 19ms/step - loss: 1.6440 - mae: 1.0151 - val_loss: 1.6946 - val_mae: 0.9885\n",
            "Epoch 8/115\n",
            "17/17 [==============================] - 0s 19ms/step - loss: 1.3770 - mae: 0.9293 - val_loss: 1.5134 - val_mae: 0.9512\n",
            "Epoch 9/115\n",
            "17/17 [==============================] - 0s 17ms/step - loss: 1.1922 - mae: 0.8668 - val_loss: 1.4880 - val_mae: 0.9182\n",
            "Epoch 10/115\n",
            "17/17 [==============================] - 0s 18ms/step - loss: 1.0918 - mae: 0.8303 - val_loss: 1.2357 - val_mae: 0.8711\n",
            "Epoch 11/115\n",
            "17/17 [==============================] - 0s 18ms/step - loss: 0.9696 - mae: 0.7779 - val_loss: 1.1417 - val_mae: 0.8325\n",
            "Epoch 12/115\n",
            "17/17 [==============================] - 0s 19ms/step - loss: 0.9316 - mae: 0.7650 - val_loss: 1.1308 - val_mae: 0.8153\n",
            "Epoch 13/115\n",
            "17/17 [==============================] - 0s 17ms/step - loss: 0.8616 - mae: 0.7333 - val_loss: 1.0018 - val_mae: 0.8013\n",
            "Epoch 14/115\n",
            "17/17 [==============================] - 0s 18ms/step - loss: 0.8746 - mae: 0.7364 - val_loss: 0.9670 - val_mae: 0.7637\n",
            "Epoch 15/115\n",
            "17/17 [==============================] - 0s 20ms/step - loss: 0.8381 - mae: 0.7253 - val_loss: 0.9877 - val_mae: 0.7652\n",
            "Epoch 16/115\n",
            "17/17 [==============================] - 0s 19ms/step - loss: 0.7789 - mae: 0.6974 - val_loss: 0.9485 - val_mae: 0.7455\n",
            "Epoch 17/115\n",
            "17/17 [==============================] - 0s 19ms/step - loss: 0.7515 - mae: 0.6840 - val_loss: 0.8907 - val_mae: 0.7238\n",
            "Epoch 18/115\n",
            "17/17 [==============================] - 0s 18ms/step - loss: 0.7464 - mae: 0.6742 - val_loss: 0.8589 - val_mae: 0.7154\n",
            "Epoch 19/115\n",
            "17/17 [==============================] - 0s 18ms/step - loss: 0.9657 - mae: 0.7782 - val_loss: 0.8558 - val_mae: 0.7389\n",
            "Epoch 20/115\n",
            "17/17 [==============================] - 0s 18ms/step - loss: 0.8069 - mae: 0.7105 - val_loss: 0.8299 - val_mae: 0.7096\n",
            "Epoch 21/115\n",
            "17/17 [==============================] - 0s 20ms/step - loss: 0.7238 - mae: 0.6658 - val_loss: 0.8082 - val_mae: 0.6962\n",
            "Epoch 22/115\n",
            "17/17 [==============================] - 0s 18ms/step - loss: 0.6985 - mae: 0.6568 - val_loss: 0.7706 - val_mae: 0.6917\n",
            "Epoch 23/115\n",
            "17/17 [==============================] - 0s 19ms/step - loss: 0.7334 - mae: 0.6763 - val_loss: 0.7713 - val_mae: 0.6728\n",
            "Epoch 24/115\n",
            "17/17 [==============================] - 0s 17ms/step - loss: 0.6938 - mae: 0.6576 - val_loss: 0.8378 - val_mae: 0.6881\n",
            "Epoch 25/115\n",
            "17/17 [==============================] - 0s 17ms/step - loss: 0.7126 - mae: 0.6676 - val_loss: 0.7840 - val_mae: 0.7077\n",
            "Epoch 26/115\n",
            "17/17 [==============================] - 0s 19ms/step - loss: 0.7051 - mae: 0.6575 - val_loss: 0.7468 - val_mae: 0.6748\n",
            "Epoch 27/115\n",
            "17/17 [==============================] - 0s 19ms/step - loss: 0.6470 - mae: 0.6326 - val_loss: 0.7391 - val_mae: 0.6727\n",
            "Epoch 28/115\n",
            "17/17 [==============================] - 0s 18ms/step - loss: 0.6440 - mae: 0.6317 - val_loss: 0.8013 - val_mae: 0.6773\n",
            "Epoch 29/115\n",
            "17/17 [==============================] - 0s 19ms/step - loss: 0.6490 - mae: 0.6303 - val_loss: 0.7267 - val_mae: 0.6642\n",
            "Epoch 30/115\n",
            "17/17 [==============================] - 0s 19ms/step - loss: 0.6222 - mae: 0.6163 - val_loss: 0.7511 - val_mae: 0.6904\n",
            "Epoch 31/115\n",
            "17/17 [==============================] - 0s 20ms/step - loss: 0.6339 - mae: 0.6172 - val_loss: 0.7459 - val_mae: 0.6612\n",
            "Epoch 32/115\n",
            "17/17 [==============================] - 0s 18ms/step - loss: 0.6054 - mae: 0.6119 - val_loss: 0.7265 - val_mae: 0.6651\n",
            "Epoch 33/115\n",
            "17/17 [==============================] - 0s 18ms/step - loss: 0.5998 - mae: 0.6049 - val_loss: 0.7484 - val_mae: 0.6576\n",
            "Epoch 34/115\n",
            "17/17 [==============================] - 0s 19ms/step - loss: 0.5885 - mae: 0.6007 - val_loss: 0.7308 - val_mae: 0.6588\n",
            "Epoch 35/115\n",
            "17/17 [==============================] - 0s 18ms/step - loss: 0.5757 - mae: 0.5926 - val_loss: 0.7111 - val_mae: 0.6586\n",
            "Epoch 36/115\n",
            "17/17 [==============================] - 0s 18ms/step - loss: 0.5937 - mae: 0.6018 - val_loss: 0.7047 - val_mae: 0.6668\n",
            "Epoch 37/115\n",
            "17/17 [==============================] - 0s 19ms/step - loss: 0.5709 - mae: 0.5918 - val_loss: 0.6966 - val_mae: 0.6697\n",
            "Epoch 38/115\n",
            "17/17 [==============================] - 0s 20ms/step - loss: 0.5749 - mae: 0.5940 - val_loss: 0.6897 - val_mae: 0.6679\n",
            "Epoch 39/115\n",
            "17/17 [==============================] - 0s 17ms/step - loss: 0.5779 - mae: 0.5937 - val_loss: 0.7041 - val_mae: 0.6629\n",
            "Epoch 40/115\n",
            "17/17 [==============================] - 0s 18ms/step - loss: 0.5654 - mae: 0.5894 - val_loss: 0.7480 - val_mae: 0.6656\n",
            "Epoch 41/115\n",
            "17/17 [==============================] - 0s 18ms/step - loss: 0.5613 - mae: 0.5884 - val_loss: 0.6743 - val_mae: 0.6594\n",
            "Epoch 42/115\n",
            "17/17 [==============================] - 0s 18ms/step - loss: 0.5474 - mae: 0.5777 - val_loss: 0.6750 - val_mae: 0.6590\n",
            "Epoch 43/115\n",
            "17/17 [==============================] - 0s 19ms/step - loss: 0.5558 - mae: 0.5848 - val_loss: 0.7435 - val_mae: 0.6727\n",
            "Epoch 44/115\n",
            "17/17 [==============================] - 0s 20ms/step - loss: 0.5548 - mae: 0.5868 - val_loss: 0.6625 - val_mae: 0.6461\n",
            "Epoch 45/115\n",
            "17/17 [==============================] - 0s 19ms/step - loss: 0.5451 - mae: 0.5810 - val_loss: 0.6860 - val_mae: 0.6681\n",
            "Epoch 46/115\n",
            "17/17 [==============================] - 0s 19ms/step - loss: 0.5206 - mae: 0.5658 - val_loss: 0.7880 - val_mae: 0.6849\n",
            "Epoch 47/115\n",
            "17/17 [==============================] - 0s 21ms/step - loss: 0.5701 - mae: 0.5907 - val_loss: 0.7580 - val_mae: 0.7152\n",
            "Epoch 48/115\n",
            "17/17 [==============================] - 0s 19ms/step - loss: 0.5225 - mae: 0.5694 - val_loss: 0.6722 - val_mae: 0.6539\n",
            "Epoch 49/115\n",
            "17/17 [==============================] - 0s 19ms/step - loss: 0.5038 - mae: 0.5529 - val_loss: 0.6740 - val_mae: 0.6432\n",
            "Epoch 50/115\n",
            "17/17 [==============================] - 0s 18ms/step - loss: 0.4848 - mae: 0.5424 - val_loss: 0.6572 - val_mae: 0.6384\n",
            "Epoch 51/115\n",
            "17/17 [==============================] - 0s 19ms/step - loss: 0.4761 - mae: 0.5352 - val_loss: 0.6597 - val_mae: 0.6409\n",
            "Epoch 52/115\n",
            "17/17 [==============================] - 0s 20ms/step - loss: 0.4692 - mae: 0.5320 - val_loss: 0.6506 - val_mae: 0.6426\n",
            "Epoch 53/115\n",
            "17/17 [==============================] - 0s 18ms/step - loss: 0.4808 - mae: 0.5442 - val_loss: 0.6968 - val_mae: 0.6460\n",
            "Epoch 54/115\n",
            "17/17 [==============================] - 0s 18ms/step - loss: 0.4577 - mae: 0.5266 - val_loss: 0.6950 - val_mae: 0.6451\n",
            "Epoch 55/115\n",
            "17/17 [==============================] - 0s 19ms/step - loss: 0.4656 - mae: 0.5339 - val_loss: 0.6455 - val_mae: 0.6429\n",
            "Epoch 56/115\n",
            "17/17 [==============================] - 0s 20ms/step - loss: 0.4704 - mae: 0.5289 - val_loss: 0.6973 - val_mae: 0.6534\n",
            "Epoch 57/115\n",
            "17/17 [==============================] - 0s 19ms/step - loss: 0.4647 - mae: 0.5284 - val_loss: 0.7994 - val_mae: 0.6942\n",
            "Epoch 58/115\n",
            "17/17 [==============================] - 0s 17ms/step - loss: 0.4689 - mae: 0.5311 - val_loss: 0.7702 - val_mae: 0.7132\n",
            "Epoch 59/115\n",
            "17/17 [==============================] - 0s 20ms/step - loss: 0.4594 - mae: 0.5286 - val_loss: 0.6748 - val_mae: 0.6387\n",
            "Epoch 60/115\n",
            "17/17 [==============================] - 0s 19ms/step - loss: 0.4565 - mae: 0.5231 - val_loss: 0.6632 - val_mae: 0.6372\n",
            "Epoch 61/115\n",
            "17/17 [==============================] - 0s 18ms/step - loss: 0.4561 - mae: 0.5230 - val_loss: 0.6556 - val_mae: 0.6333\n",
            "Epoch 62/115\n",
            "17/17 [==============================] - 0s 18ms/step - loss: 0.4193 - mae: 0.5040 - val_loss: 0.6238 - val_mae: 0.6390\n",
            "Epoch 63/115\n",
            "17/17 [==============================] - 0s 19ms/step - loss: 0.4286 - mae: 0.5125 - val_loss: 0.8106 - val_mae: 0.7032\n",
            "Epoch 64/115\n",
            "17/17 [==============================] - 0s 18ms/step - loss: 0.4858 - mae: 0.5576 - val_loss: 0.7342 - val_mae: 0.6905\n",
            "Epoch 65/115\n",
            "17/17 [==============================] - 0s 19ms/step - loss: 0.4253 - mae: 0.5067 - val_loss: 0.7392 - val_mae: 0.6727\n",
            "Epoch 66/115\n",
            "17/17 [==============================] - 0s 20ms/step - loss: 0.4393 - mae: 0.5218 - val_loss: 0.6418 - val_mae: 0.6520\n",
            "Epoch 67/115\n",
            "17/17 [==============================] - 0s 19ms/step - loss: 0.3885 - mae: 0.4834 - val_loss: 0.6231 - val_mae: 0.6372\n",
            "Epoch 68/115\n",
            "17/17 [==============================] - 0s 19ms/step - loss: 0.3968 - mae: 0.4896 - val_loss: 0.6394 - val_mae: 0.6366\n",
            "Epoch 69/115\n",
            "17/17 [==============================] - 0s 20ms/step - loss: 0.3793 - mae: 0.4781 - val_loss: 0.6988 - val_mae: 0.6812\n",
            "Epoch 70/115\n",
            "17/17 [==============================] - 0s 19ms/step - loss: 0.4082 - mae: 0.5046 - val_loss: 0.6481 - val_mae: 0.6260\n",
            "Epoch 71/115\n",
            "17/17 [==============================] - 0s 20ms/step - loss: 0.4069 - mae: 0.4967 - val_loss: 0.7038 - val_mae: 0.6544\n",
            "Epoch 72/115\n",
            "17/17 [==============================] - 0s 21ms/step - loss: 0.3921 - mae: 0.4898 - val_loss: 0.6373 - val_mae: 0.6290\n",
            "Epoch 73/115\n",
            "17/17 [==============================] - 0s 19ms/step - loss: 0.3768 - mae: 0.4749 - val_loss: 0.6302 - val_mae: 0.6258\n",
            "Epoch 74/115\n",
            "17/17 [==============================] - 0s 19ms/step - loss: 0.3623 - mae: 0.4628 - val_loss: 0.6364 - val_mae: 0.6331\n",
            "Epoch 75/115\n",
            "17/17 [==============================] - 0s 19ms/step - loss: 0.3524 - mae: 0.4547 - val_loss: 0.6688 - val_mae: 0.6351\n",
            "Epoch 76/115\n",
            "17/17 [==============================] - 0s 18ms/step - loss: 0.3692 - mae: 0.4689 - val_loss: 0.6447 - val_mae: 0.6459\n",
            "Epoch 77/115\n",
            "17/17 [==============================] - 0s 21ms/step - loss: 0.3665 - mae: 0.4683 - val_loss: 0.6524 - val_mae: 0.6322\n",
            "Epoch 78/115\n",
            "17/17 [==============================] - 0s 20ms/step - loss: 0.3350 - mae: 0.4437 - val_loss: 0.6181 - val_mae: 0.6190\n",
            "Epoch 79/115\n",
            "17/17 [==============================] - 0s 19ms/step - loss: 0.3280 - mae: 0.4379 - val_loss: 0.6217 - val_mae: 0.6288\n",
            "Epoch 80/115\n",
            "17/17 [==============================] - 0s 20ms/step - loss: 0.3393 - mae: 0.4504 - val_loss: 0.6122 - val_mae: 0.6148\n",
            "Epoch 81/115\n",
            "17/17 [==============================] - 0s 20ms/step - loss: 0.3304 - mae: 0.4425 - val_loss: 0.6306 - val_mae: 0.6253\n",
            "Epoch 82/115\n",
            "17/17 [==============================] - 0s 20ms/step - loss: 0.3528 - mae: 0.4589 - val_loss: 0.6514 - val_mae: 0.6334\n",
            "Epoch 83/115\n",
            "17/17 [==============================] - 0s 20ms/step - loss: 0.3341 - mae: 0.4465 - val_loss: 0.6268 - val_mae: 0.6234\n",
            "Epoch 84/115\n",
            "17/17 [==============================] - 0s 20ms/step - loss: 0.3248 - mae: 0.4374 - val_loss: 0.6885 - val_mae: 0.6680\n",
            "Epoch 85/115\n",
            "17/17 [==============================] - 0s 20ms/step - loss: 0.4612 - mae: 0.5362 - val_loss: 0.7976 - val_mae: 0.6793\n",
            "Epoch 86/115\n",
            "17/17 [==============================] - 0s 20ms/step - loss: 0.4273 - mae: 0.5071 - val_loss: 0.6935 - val_mae: 0.6651\n",
            "Epoch 87/115\n",
            "17/17 [==============================] - 0s 20ms/step - loss: 0.3287 - mae: 0.4443 - val_loss: 0.6513 - val_mae: 0.6503\n",
            "Epoch 88/115\n",
            "17/17 [==============================] - 0s 19ms/step - loss: 0.3381 - mae: 0.4542 - val_loss: 0.6449 - val_mae: 0.6393\n",
            "Epoch 89/115\n",
            "17/17 [==============================] - 0s 20ms/step - loss: 0.3272 - mae: 0.4406 - val_loss: 0.6290 - val_mae: 0.6206\n",
            "Epoch 90/115\n",
            "17/17 [==============================] - 0s 20ms/step - loss: 0.2988 - mae: 0.4238 - val_loss: 0.7317 - val_mae: 0.6704\n",
            "Epoch 91/115\n",
            "17/17 [==============================] - 0s 19ms/step - loss: 0.3040 - mae: 0.4277 - val_loss: 0.6155 - val_mae: 0.6275\n",
            "Epoch 92/115\n",
            "17/17 [==============================] - 0s 20ms/step - loss: 0.2916 - mae: 0.4133 - val_loss: 0.6361 - val_mae: 0.6256\n",
            "Epoch 93/115\n",
            "17/17 [==============================] - 0s 20ms/step - loss: 0.2817 - mae: 0.4011 - val_loss: 0.6100 - val_mae: 0.6160\n",
            "Epoch 94/115\n",
            "17/17 [==============================] - 0s 19ms/step - loss: 0.2847 - mae: 0.4113 - val_loss: 0.6145 - val_mae: 0.6085\n",
            "Epoch 95/115\n",
            "17/17 [==============================] - 0s 20ms/step - loss: 0.2832 - mae: 0.4110 - val_loss: 0.6703 - val_mae: 0.6578\n",
            "Epoch 96/115\n",
            "17/17 [==============================] - 0s 20ms/step - loss: 0.3042 - mae: 0.4278 - val_loss: 0.6341 - val_mae: 0.6205\n",
            "Epoch 97/115\n",
            "17/17 [==============================] - 0s 20ms/step - loss: 0.2822 - mae: 0.4082 - val_loss: 0.6349 - val_mae: 0.6288\n",
            "Epoch 98/115\n",
            "17/17 [==============================] - 0s 21ms/step - loss: 0.2719 - mae: 0.3996 - val_loss: 0.6637 - val_mae: 0.6333\n",
            "Epoch 99/115\n",
            "17/17 [==============================] - 0s 20ms/step - loss: 0.2792 - mae: 0.4043 - val_loss: 0.6133 - val_mae: 0.6119\n",
            "Epoch 100/115\n",
            "17/17 [==============================] - 0s 20ms/step - loss: 0.2622 - mae: 0.3916 - val_loss: 0.6384 - val_mae: 0.6400\n",
            "Epoch 101/115\n",
            "17/17 [==============================] - 0s 20ms/step - loss: 0.3071 - mae: 0.4324 - val_loss: 0.6357 - val_mae: 0.6137\n",
            "Epoch 102/115\n",
            "17/17 [==============================] - 0s 19ms/step - loss: 0.3072 - mae: 0.4351 - val_loss: 0.6327 - val_mae: 0.6166\n",
            "Epoch 103/115\n",
            "17/17 [==============================] - 0s 20ms/step - loss: 0.2840 - mae: 0.4119 - val_loss: 0.6450 - val_mae: 0.6272\n",
            "Epoch 104/115\n",
            "17/17 [==============================] - 0s 21ms/step - loss: 0.2753 - mae: 0.4061 - val_loss: 0.6963 - val_mae: 0.6706\n",
            "Epoch 105/115\n",
            "17/17 [==============================] - 0s 20ms/step - loss: 0.2704 - mae: 0.4024 - val_loss: 0.6392 - val_mae: 0.6251\n",
            "Epoch 106/115\n",
            "17/17 [==============================] - 0s 20ms/step - loss: 0.2441 - mae: 0.3764 - val_loss: 0.6264 - val_mae: 0.6254\n",
            "Epoch 107/115\n",
            "17/17 [==============================] - 0s 21ms/step - loss: 0.2600 - mae: 0.3954 - val_loss: 0.6250 - val_mae: 0.6153\n",
            "Epoch 108/115\n",
            "17/17 [==============================] - 0s 19ms/step - loss: 0.2494 - mae: 0.3824 - val_loss: 0.6619 - val_mae: 0.6224\n",
            "Epoch 109/115\n",
            "17/17 [==============================] - 0s 21ms/step - loss: 0.2517 - mae: 0.3883 - val_loss: 0.6303 - val_mae: 0.6285\n",
            "Epoch 110/115\n",
            "17/17 [==============================] - 0s 20ms/step - loss: 0.2502 - mae: 0.3876 - val_loss: 0.7218 - val_mae: 0.6585\n",
            "Epoch 111/115\n",
            "17/17 [==============================] - 0s 21ms/step - loss: 0.2876 - mae: 0.4182 - val_loss: 0.6378 - val_mae: 0.6351\n",
            "Epoch 112/115\n",
            "17/17 [==============================] - 0s 20ms/step - loss: 0.2447 - mae: 0.3807 - val_loss: 0.6452 - val_mae: 0.6351\n",
            "Epoch 113/115\n",
            "17/17 [==============================] - 0s 21ms/step - loss: 0.2537 - mae: 0.3890 - val_loss: 0.6404 - val_mae: 0.6354\n",
            "Epoch 114/115\n",
            "17/17 [==============================] - 0s 20ms/step - loss: 0.2396 - mae: 0.3774 - val_loss: 0.6234 - val_mae: 0.6216\n",
            "Epoch 115/115\n",
            "17/17 [==============================] - 0s 20ms/step - loss: 0.2347 - mae: 0.3701 - val_loss: 0.6591 - val_mae: 0.6313\n"
          ],
          "name": "stdout"
        }
      ]
    },
    {
      "cell_type": "markdown",
      "metadata": {
        "id": "wTzqDGmtaKvu"
      },
      "source": [
        "Let's view the learning curve for the trained model.\n",
        "\n",
        "This code will generate a plot where we show the test and train errors (MSE) as a function of epoch (one pass of all training examples through the NN).\n",
        "\n",
        "The learning curve will tell us if the model is overfitting or underfitting."
      ]
    },
    {
      "cell_type": "code",
      "metadata": {
        "id": "NilcAldCaMGe",
        "colab": {
          "base_uri": "https://localhost:8080/",
          "height": 295
        },
        "outputId": "7397cd1e-9156-4afe-eb5e-7ba6b64976ac"
      },
      "source": [
        "# plot the learning curve \n",
        "plt.plot(history.history['loss'])\n",
        "plt.plot(history.history['val_loss'])\n",
        "plt.title('Model accuracy')\n",
        "plt.ylabel('Error')\n",
        "plt.xlabel('Epoch')\n",
        "plt.xlim(0,)\n",
        "plt.legend(['Train', 'Validation',], loc='upper left')\n",
        "plt.show()"
      ],
      "execution_count": 25,
      "outputs": [
        {
          "output_type": "display_data",
          "data": {
            "image/png": "[encoded data removed]",
            "text/plain": [
              "<Figure size 432x288 with 1 Axes>"
            ]
          },
          "metadata": {
            "needs_background": "light"
          }
        }
      ]
    },
    {
      "cell_type": "markdown",
      "metadata": {
        "id": "LPD56MjHbwu4"
      },
      "source": [
        "Use CNN to make solubility predictions\n",
        "Now that we've trained our model, we can use it to make solubility predictions for any SMILES string! We just have to convert the SMILES string to 1-hot representation, then feed it to the solubility_model"
      ]
    },
    {
      "cell_type": "code",
      "metadata": {
        "id": "gOAKEqraaUfv",
        "colab": {
          "base_uri": "https://localhost:8080/"
        },
        "outputId": "31f2bdbf-ead1-4f73-fd7e-0cb0bb313815"
      },
      "source": [
        "example_smiles = [\n",
        "    'CC12CCC3C4:C:C:C(O):C:C:4CCC3C1CCC2O',\n",
        "    'CC1:O:C:C:C:1C(=O)NC1:C:C:C:C:C:1',\n",
        "    'C1:C:C:C2:C(:C:1):C:C:C1:C:2:C:C:C2:C3:C:C:C:C:C:3:C:C:C:2:1'\n",
        "]\n",
        "\n",
        "for smiles in example_smiles:\n",
        "    predict_test_input = smiles_to_onehots([smiles], charset, max_smiles_chars)\n",
        "    solubility_prediction = solubility_model.predict(predict_test_input)[0][0]\n",
        "    print(f'The predicted log solubility for SMILES {smiles} is {solubility_prediction}')"
      ],
      "execution_count": 26,
      "outputs": [
        {
          "output_type": "stream",
          "text": [
            "The predicted log solubility for SMILES CC12CCC3C4:C:C:C(O):C:C:4CCC3C1CCC2O is -4.788034439086914\n",
            "The predicted log solubility for SMILES CC1:O:C:C:C:1C(=O)NC1:C:C:C:C:C:1 is -3.3437976837158203\n",
            "The predicted log solubility for SMILES C1:C:C:C2:C(:C:1):C:C:C1:C:2:C:C:C2:C3:C:C:C:C:C:3:C:C:C:2:1 is -7.975548267364502\n"
          ],
          "name": "stdout"
        }
      ]
    },
    {
      "cell_type": "markdown",
      "metadata": {
        "id": "9F_W2LltfNJO"
      },
      "source": [
        "We can now make a parity plot comparing the CNN model predictions to the ground truth data"
      ]
    },
    {
      "cell_type": "code",
      "metadata": {
        "id": "2kQegjhXfIh0",
        "colab": {
          "base_uri": "https://localhost:8080/",
          "height": 312
        },
        "outputId": "13b00ae2-802e-4481-91ca-55dc44459a62"
      },
      "source": [
        "preds = solubility_model.predict(X_train)\n",
        "x_y_line = np.linspace(min(Y_train.flatten()), max(Y_train.flatten()), 500)\n",
        "plt.plot(Y_train.flatten(), preds.flatten(), 'o', label='predictions')\n",
        "plt.plot(x_y_line, x_y_line, label='y=x')\n",
        "plt.xlabel(\"Log solubility (ground truth)\")\n",
        "plt.ylabel(\"Log solubility (predicted)\")\n",
        "plt.title(\"Parity plot: predictions vs ground truth data\")\n",
        "plt.legend()"
      ],
      "execution_count": 27,
      "outputs": [
        {
          "output_type": "execute_result",
          "data": {
            "text/plain": [
              "<matplotlib.legend.Legend at 0x7fd31e1bca90>"
            ]
          },
          "metadata": {},
          "execution_count": 27
        },
        {
          "output_type": "display_data",
          "data": {
            "image/png": "[encoded data removed]",
            "text/plain": [
              "<Figure size 432x288 with 1 Axes>"
            ]
          },
          "metadata": {
            "needs_background": "light"
          }
        }
      ]
    },
    {
      "cell_type": "code",
      "metadata": {
        "id": "fdYc_TKUwDen",
        "colab": {
          "base_uri": "https://localhost:8080/"
        },
        "outputId": "15d8a2fc-45af-4b5a-eca4-57d7c2e02831"
      },
      "source": [
        "### Comparartive prediction of y_test and y_test predicted .....\n",
        "Y_test_predited=solubility_model.predict(X_test)\n",
        "#print(Y_test_predited)\n",
        "\n",
        "print(np.concatenate((Y_test_predited.reshape(len(Y_test_predited),1), Y_test.reshape(len(Y_test),1)),1))"
      ],
      "execution_count": 28,
      "outputs": [
        {
          "output_type": "stream",
          "text": [
            "[[-1.54464829e+00 -1.62000000e+00]\n",
            " [-3.03839469e+00 -1.93000000e+00]\n",
            " [-1.69377017e+00 -1.47000000e+00]\n",
            " [-1.53017426e+00 -2.48400000e+00]\n",
            " [-2.20475864e+00 -2.64000000e+00]\n",
            " [-1.89878428e+00 -1.01000000e+00]\n",
            " [-5.20429087e+00 -5.88000000e+00]\n",
            " [-2.57938147e+00 -2.22000000e+00]\n",
            " [-2.51526499e+00 -1.60000000e+00]\n",
            " [-6.78301334e-01 -1.92000000e+00]\n",
            " [-1.28881729e+00  3.60000000e-01]\n",
            " [-2.74992085e+00 -2.35000000e+00]\n",
            " [-1.64032185e+00 -2.21000000e+00]\n",
            " [-3.38089156e+00 -4.08100000e+00]\n",
            " [-1.33847487e+00 -1.87700000e+00]\n",
            " [-3.42478037e+00 -2.47800000e+00]\n",
            " [ 4.24533963e-01  1.34000000e+00]\n",
            " [-5.05135107e+00 -4.31000000e+00]\n",
            " [-2.71717763e+00 -2.55000000e+00]\n",
            " [-2.50594163e+00 -3.10000000e+00]\n",
            " [-1.84392524e+00 -1.80300000e+00]\n",
            " [-5.11276531e+00 -4.30000000e+00]\n",
            " [-2.77977657e+00 -3.60000000e+00]\n",
            " [-5.23013020e+00 -6.12400000e+00]\n",
            " [-8.24362087e+00 -8.01000000e+00]\n",
            " [-5.21970224e+00 -3.78000000e+00]\n",
            " [ 8.96823823e-01 -3.10000000e-01]\n",
            " [-2.53340960e+00 -2.26600000e+00]\n",
            " [-5.81510007e-01  9.00000000e-03]\n",
            " [-1.61824524e+00  3.80000000e-01]\n",
            " [-1.54653561e+00  5.10000000e-01]\n",
            " [-3.23505354e+00 -2.09000000e+00]\n",
            " [-3.13692784e+00 -3.12000000e+00]\n",
            " [-3.61951113e+00 -4.46000000e+00]\n",
            " [-2.11301994e+00 -2.27300000e+00]\n",
            " [-6.08321428e+00 -6.29000000e+00]\n",
            " [-4.15199327e+00 -4.86200000e+00]\n",
            " [-3.34215474e+00 -3.28000000e+00]\n",
            " [-2.67824841e+00 -2.63000000e+00]\n",
            " [-8.48934460e+00 -7.39000000e+00]\n",
            " [-5.04297256e+00 -5.26000000e+00]\n",
            " [-5.03390455e+00 -4.87300000e+00]\n",
            " [-3.57206488e+00 -3.46000000e+00]\n",
            " [-3.24715948e+00 -4.86000000e+00]\n",
            " [-2.84810448e+00 -2.65800000e+00]\n",
            " [-4.55118370e+00 -4.02000000e+00]\n",
            " [-4.43969917e+00 -4.14000000e+00]\n",
            " [-2.75456262e+00 -1.70000000e+00]\n",
            " [-2.24972939e+00 -3.05000000e+00]\n",
            " [-9.28620052e+00 -7.66000000e+00]\n",
            " [ 4.17464554e-01 -1.00000000e-02]\n",
            " [-5.18827021e-01 -8.00000000e-01]\n",
            " [-3.71238732e+00 -4.26000000e+00]\n",
            " [-2.67114258e+00 -2.01600000e+00]\n",
            " [-4.81896973e+00 -5.27000000e+00]\n",
            " [-2.15117991e-01 -1.89000000e+00]\n",
            " [-4.39094687e+00 -3.35000000e+00]\n",
            " [-2.02361047e-01  7.60000000e-01]\n",
            " [ 7.43104100e-01  7.00000000e-01]\n",
            " [-6.88857174e+00 -6.90000000e+00]\n",
            " [-2.20842409e+00 -2.09000000e+00]\n",
            " [-3.16970754e+00 -4.47000000e+00]\n",
            " [-4.29505444e+00 -4.80000000e+00]\n",
            " [ 1.89531386e-01  8.10000000e-01]\n",
            " [-3.82346153e+00 -3.30000000e+00]\n",
            " [-2.47866607e+00 -2.55000000e+00]\n",
            " [-3.04634428e+00 -2.85000000e+00]\n",
            " [-1.86923647e+00 -1.19000000e+00]\n",
            " [-2.49421310e+00 -1.99000000e+00]\n",
            " [-3.33275223e+00 -3.11000000e+00]\n",
            " [-5.49533224e+00 -4.50000000e+00]\n",
            " [-1.94609702e+00 -2.00000000e+00]\n",
            " [-1.65012085e+00 -1.80000000e+00]\n",
            " [-1.83555448e+00 -1.85000000e+00]\n",
            " [-4.53505087e+00 -3.61000000e+00]\n",
            " [-3.28255296e+00 -3.27000000e+00]\n",
            " [-7.77551889e+00 -7.01000000e+00]\n",
            " [-2.33989164e-01 -1.60000000e+00]\n",
            " [-8.34955597e+00 -7.85000000e+00]\n",
            " [-2.11490011e+00 -1.74000000e+00]\n",
            " [-1.94020414e+00 -2.52300000e+00]\n",
            " [-2.07760596e+00 -2.13000000e+00]\n",
            " [-2.48778939e+00 -1.96000000e+00]\n",
            " [-7.13174009e+00 -8.04000000e+00]\n",
            " [-9.85645533e-01 -8.50000000e-01]\n",
            " [-5.69654751e+00 -5.38200000e+00]\n",
            " [-2.17542958e+00 -1.13000000e+00]\n",
            " [-3.84428144e-01 -8.00000000e-01]\n",
            " [-2.37605643e+00 -1.20000000e-01]\n",
            " [-1.85450065e+00 -1.52000000e+00]\n",
            " [-2.07417226e+00 -2.40000000e-01]\n",
            " [-5.82796991e-01 -1.36000000e+00]\n",
            " [-4.40636587e+00 -4.24000000e+00]\n",
            " [ 2.29037285e-01  1.02000000e+00]\n",
            " [-1.10603046e+00 -6.00000000e-01]\n",
            " [-5.01748705e+00 -5.16000000e+00]\n",
            " [-3.39273977e+00 -3.31000000e+00]\n",
            " [-1.08169901e+00 -1.64000000e+00]\n",
            " [-7.59766054e+00 -7.80000000e+00]\n",
            " [-8.37622464e-01 -9.90000000e-01]]\n"
          ],
          "name": "stdout"
        }
      ]
    },
    {
      "cell_type": "code",
      "metadata": {
        "id": "GY-Bfe-pyhVW",
        "colab": {
          "base_uri": "https://localhost:8080/"
        },
        "outputId": "aadf8a5a-6ed1-493f-a01e-d1f69a11ee48"
      },
      "source": [
        "from sklearn.metrics import r2_score\n",
        "r2_score(Y_test, Y_test_predited)"
      ],
      "execution_count": 29,
      "outputs": [
        {
          "output_type": "execute_result",
          "data": {
            "text/plain": [
              "0.8612069607924235"
            ]
          },
          "metadata": {},
          "execution_count": 29
        }
      ]
    },
    {
      "cell_type": "code",
      "metadata": {
        "id": "-mWgjPrsuvCk"
      },
      "source": [
        "df_x = dataset[[\"Molecular Weight\",\t\"Number of H-Bond Donors\",\t\"Number of Rings\",\t\"Number of Rotatable Bonds\",\"Polar Surface Area\",]]\n"
      ],
      "execution_count": 30,
      "outputs": []
    },
    {
      "cell_type": "code",
      "metadata": {
        "id": "Lp44xXoExjed"
      },
      "source": [
        "df_x=np.array(df_x)"
      ],
      "execution_count": 31,
      "outputs": []
    },
    {
      "cell_type": "code",
      "metadata": {
        "id": "hxBSGhuLwhwC"
      },
      "source": [
        "y_new=dataset[[\"measured log solubility in mols per litre\"]]"
      ],
      "execution_count": 32,
      "outputs": []
    },
    {
      "cell_type": "code",
      "metadata": {
        "id": "UsumIFgpxcB7"
      },
      "source": [
        "X_train = df_x[:-100]\n",
        "X_test = df_x[-100:]\n",
        "\n",
        "# split output to train and test sets\n",
        "#output = dataset[\"measured log solubility in mols per litre\"].values\n",
        "Y_train = y_new[:-100]\n",
        "Y_test = y_new[-100:]"
      ],
      "execution_count": 33,
      "outputs": []
    },
    {
      "cell_type": "code",
      "metadata": {
        "id": "9tlTsmLtikdE"
      },
      "source": [
        "Y_train=np.array(Y_train)\n",
        "Y_test=np.array(Y_test)"
      ],
      "execution_count": 34,
      "outputs": []
    },
    {
      "cell_type": "code",
      "metadata": {
        "colab": {
          "base_uri": "https://localhost:8080/"
        },
        "id": "nxjulVHGh42M",
        "outputId": "0cd019a9-090f-41c0-821b-a44e9f2ed0d2"
      },
      "source": [
        "print(type(X_train))\n",
        "print(type(X_test))\n",
        "print(type(Y_train))\n",
        "print(type(Y_test))\n",
        "\n"
      ],
      "execution_count": 35,
      "outputs": [
        {
          "output_type": "stream",
          "text": [
            "<class 'numpy.ndarray'>\n",
            "<class 'numpy.ndarray'>\n",
            "<class 'numpy.ndarray'>\n",
            "<class 'numpy.ndarray'>\n"
          ],
          "name": "stdout"
        }
      ]
    },
    {
      "cell_type": "code",
      "metadata": {
        "id": "ODBu0_xAxcKL"
      },
      "source": [
        "\n",
        "from sklearn.svm import SVR\n",
        "from sklearn.ensemble import RandomForestRegressor\n",
        "from sklearn.metrics import mean_squared_error, r2_score"
      ],
      "execution_count": 36,
      "outputs": []
    },
    {
      "cell_type": "code",
      "metadata": {
        "colab": {
          "base_uri": "https://localhost:8080/"
        },
        "id": "FHeku6XRzSmI",
        "outputId": "9e701635-6235-46e4-e5ca-f5918b3ecc04"
      },
      "source": [
        "model_svr=SVR(kernel='rbf')\n",
        "model_svr.fit(X_train, Y_train)"
      ],
      "execution_count": 37,
      "outputs": [
        {
          "output_type": "execute_result",
          "data": {
            "text/plain": [
              "SVR(C=1.0, cache_size=200, coef0=0.0, degree=3, epsilon=0.1, gamma='scale',\n",
              "    kernel='rbf', max_iter=-1, shrinking=True, tol=0.001, verbose=False)"
            ]
          },
          "metadata": {},
          "execution_count": 37
        }
      ]
    },
    {
      "cell_type": "code",
      "metadata": {
        "id": "4w4VmpgKzYIX"
      },
      "source": [
        "Y_pred_svr = model_svr.predict(X_test)"
      ],
      "execution_count": 38,
      "outputs": []
    },
    {
      "cell_type": "code",
      "metadata": {
        "colab": {
          "base_uri": "https://localhost:8080/"
        },
        "id": "-egmmcbCzcI4",
        "outputId": "4e1699bc-247d-4066-c2bf-006aa12ef319"
      },
      "source": [
        "from sklearn.metrics import r2_score\n",
        "r2_score(Y_test, Y_pred_svr)"
      ],
      "execution_count": 39,
      "outputs": [
        {
          "output_type": "execute_result",
          "data": {
            "text/plain": [
              "0.7305660338561666"
            ]
          },
          "metadata": {},
          "execution_count": 39
        }
      ]
    },
    {
      "cell_type": "code",
      "metadata": {
        "colab": {
          "base_uri": "https://localhost:8080/"
        },
        "id": "VFnLZZJ3zcTQ",
        "outputId": "dd1e73cf-1da4-44bf-d90a-ec3f9f8a6a5b"
      },
      "source": [
        "model_rf = RandomForestRegressor(n_estimators = 10000, random_state = 0)\n",
        "model_rf.fit(X_train, Y_train)"
      ],
      "execution_count": 40,
      "outputs": [
        {
          "output_type": "execute_result",
          "data": {
            "text/plain": [
              "RandomForestRegressor(bootstrap=True, ccp_alpha=0.0, criterion='mse',\n",
              "                      max_depth=None, max_features='auto', max_leaf_nodes=None,\n",
              "                      max_samples=None, min_impurity_decrease=0.0,\n",
              "                      min_impurity_split=None, min_samples_leaf=1,\n",
              "                      min_samples_split=2, min_weight_fraction_leaf=0.0,\n",
              "                      n_estimators=10000, n_jobs=None, oob_score=False,\n",
              "                      random_state=0, verbose=0, warm_start=False)"
            ]
          },
          "metadata": {},
          "execution_count": 40
        }
      ]
    },
    {
      "cell_type": "code",
      "metadata": {
        "id": "rUPKl3KY0PsG"
      },
      "source": [
        "Y_pred_rf = model_rf.predict(X_test)"
      ],
      "execution_count": 41,
      "outputs": []
    },
    {
      "cell_type": "code",
      "metadata": {
        "colab": {
          "base_uri": "https://localhost:8080/"
        },
        "id": "ZWRewiaL0WcG",
        "outputId": "829f20e4-4fc8-4145-f7ab-d083eac38b83"
      },
      "source": [
        "r2_score(Y_test, Y_pred_rf)"
      ],
      "execution_count": 42,
      "outputs": [
        {
          "output_type": "execute_result",
          "data": {
            "text/plain": [
              "0.8790093535645791"
            ]
          },
          "metadata": {},
          "execution_count": 42
        }
      ]
    },
    {
      "cell_type": "code",
      "metadata": {
        "colab": {
          "base_uri": "https://localhost:8080/"
        },
        "id": "qqT4qjVqHVkJ",
        "outputId": "d529b1d0-0c97-4dbe-f502-61eefaf581f0"
      },
      "source": [
        "Y_pred_fin=(Y_pred_rf+Y_test_predited)/2.\n",
        "type(Y_pred_fin)"
      ],
      "execution_count": 43,
      "outputs": [
        {
          "output_type": "execute_result",
          "data": {
            "text/plain": [
              "numpy.ndarray"
            ]
          },
          "metadata": {},
          "execution_count": 43
        }
      ]
    },
    {
      "cell_type": "code",
      "metadata": {
        "colab": {
          "base_uri": "https://localhost:8080/"
        },
        "id": "E3u2spKmJLyh",
        "outputId": "b532b9f9-80fc-4362-9380-98da7416fcd1"
      },
      "source": [
        "Y_pred_fin=np.array(Y_pred_fin)\n",
        "r2_score(Y_test, Y_pred_rf)"
      ],
      "execution_count": 44,
      "outputs": [
        {
          "output_type": "execute_result",
          "data": {
            "text/plain": [
              "0.8790093535645791"
            ]
          },
          "metadata": {},
          "execution_count": 44
        }
      ]
    },
    {
      "cell_type": "code",
      "metadata": {
        "colab": {
          "base_uri": "https://localhost:8080/"
        },
        "id": "1Mqg1oaHRCFl",
        "outputId": "fd4159ab-bb63-49ba-965e-2463922caed8"
      },
      "source": [
        "Y_pred_rf=np.array(Y_pred_rf)\n",
        "print(Y_test_predited.shape)"
      ],
      "execution_count": 45,
      "outputs": [
        {
          "output_type": "stream",
          "text": [
            "(100, 1)\n"
          ],
          "name": "stdout"
        }
      ]
    },
    {
      "cell_type": "code",
      "metadata": {
        "id": "1VJF2AL4WJTY",
        "colab": {
          "base_uri": "https://localhost:8080/"
        },
        "outputId": "59e7d715-3c69-4296-c39e-d8f387cee3b1"
      },
      "source": [
        "print(Y_pred_rf.shape)\n",
        "print(Y_test_predited.shape)\n",
        "Y_test=np.array(Y_test)"
      ],
      "execution_count": 46,
      "outputs": [
        {
          "output_type": "stream",
          "text": [
            "(100,)\n",
            "(100, 1)\n"
          ],
          "name": "stdout"
        }
      ]
    },
    {
      "cell_type": "code",
      "metadata": {
        "id": "wro9ovHJfuBT"
      },
      "source": [
        "Y_pred_fin=np.add(Y_pred_rf,Y_test_predited)\n",
        "Y_pred_fin=Y_pred_fin/2\n"
      ],
      "execution_count": 64,
      "outputs": []
    },
    {
      "cell_type": "code",
      "metadata": {
        "colab": {
          "base_uri": "https://localhost:8080/"
        },
        "id": "sRiLVgV9XIgL",
        "outputId": "15329f84-206f-44fc-b2c2-ab9db3470e07"
      },
      "source": [
        "#print(Y_pred_rf)\n",
        "#Y_pred_rf = np.reshape((1, Y_pred_rf.size),Y_pred_rf)\n",
        "Y_pred_rf = np.reshape(Y_pred_rf, (100, 1))\n",
        "print(Y_pred_rf.shape)\n",
        "print(Y_test_predited.shape)\n",
        "print(Y_pred_fin.shape)\n",
        "#Y_pred_fin = np.reshape(Y_pred_fin, (100, 1))\n",
        "print(Y_test.shape)\n",
        "print(type(Y_pred_rf))\n",
        "print(type(Y_test_predited))\n",
        "print(type(Y_pred_fin))\n",
        "print(type(Y_test))"
      ],
      "execution_count": 65,
      "outputs": [
        {
          "output_type": "stream",
          "text": [
            "(100, 1)\n",
            "(100, 1)\n",
            "(100, 1)\n",
            "(100, 1)\n",
            "<class 'numpy.ndarray'>\n",
            "<class 'numpy.ndarray'>\n",
            "<class 'numpy.ndarray'>\n",
            "<class 'numpy.ndarray'>\n"
          ],
          "name": "stdout"
        }
      ]
    },
    {
      "cell_type": "code",
      "metadata": {
        "colab": {
          "base_uri": "https://localhost:8080/"
        },
        "id": "ggPm2Ur1-kEE",
        "outputId": "bbd53015-a9f9-4779-f4bc-c2ecb2beb06d"
      },
      "source": [
        "print(Y_pred_rf.shape)"
      ],
      "execution_count": 66,
      "outputs": [
        {
          "output_type": "stream",
          "text": [
            "(100, 1)\n"
          ],
          "name": "stdout"
        }
      ]
    },
    {
      "cell_type": "code",
      "metadata": {
        "id": "ju7T6gG9Q2os",
        "colab": {
          "base_uri": "https://localhost:8080/"
        },
        "outputId": "d0aa8795-1be7-416d-819b-32a081e7507b"
      },
      "source": [
        "print(np.concatenate((Y_pred_rf.reshape(len(Y_pred_rf),1), Y_test.reshape(len(Y_test),1)),1))"
      ],
      "execution_count": 50,
      "outputs": [
        {
          "output_type": "stream",
          "text": [
            "[[-1.33228558 -1.62      ]\n",
            " [-3.032912   -1.93      ]\n",
            " [-2.44012596 -1.47      ]\n",
            " [-2.64167456 -2.484     ]\n",
            " [-2.18882371 -2.64      ]\n",
            " [-1.30409916 -1.01      ]\n",
            " [-4.792504   -5.88      ]\n",
            " [-2.14007888 -2.22      ]\n",
            " [-1.05748317 -1.6       ]\n",
            " [-0.70101184 -1.92      ]\n",
            " [ 0.31944868  0.36      ]\n",
            " [-2.6075941  -2.35      ]\n",
            " [-2.28344691 -2.21      ]\n",
            " [-1.608347   -4.081     ]\n",
            " [-2.8637646  -1.877     ]\n",
            " [-2.84028005 -2.478     ]\n",
            " [ 1.1171448   1.34      ]\n",
            " [-4.6907367  -4.31      ]\n",
            " [-2.75932982 -2.55      ]\n",
            " [-2.7606052  -3.1       ]\n",
            " [-1.86785285 -1.803     ]\n",
            " [-4.62940313 -4.3       ]\n",
            " [-3.91226778 -3.6       ]\n",
            " [-5.42253173 -6.124     ]\n",
            " [-8.12897008 -8.01      ]\n",
            " [-3.4998389  -3.78      ]\n",
            " [ 0.64974805 -0.31      ]\n",
            " [-2.11600565 -2.266     ]\n",
            " [-1.92086489  0.009     ]\n",
            " [ 0.31944868  0.38      ]\n",
            " [-0.28269557  0.51      ]\n",
            " [-2.059631   -2.09      ]\n",
            " [-3.52783303 -3.12      ]\n",
            " [-4.23793753 -4.46      ]\n",
            " [-1.73533982 -2.273     ]\n",
            " [-6.17089445 -6.29      ]\n",
            " [-3.90188915 -4.862     ]\n",
            " [-3.92845184 -3.28      ]\n",
            " [-3.0238617  -2.63      ]\n",
            " [-8.12897008 -7.39      ]\n",
            " [-5.8358575  -5.26      ]\n",
            " [-4.52753411 -4.873     ]\n",
            " [-3.4096722  -3.46      ]\n",
            " [-4.7461638  -4.86      ]\n",
            " [-2.45476073 -2.658     ]\n",
            " [-3.79545805 -4.02      ]\n",
            " [-4.63552197 -4.14      ]\n",
            " [-1.23914483 -1.7       ]\n",
            " [-3.95700995 -3.05      ]\n",
            " [-8.36377882 -7.66      ]\n",
            " [-0.0396112  -0.01      ]\n",
            " [-1.00388174 -0.8       ]\n",
            " [-4.14758459 -4.26      ]\n",
            " [-2.47307623 -2.016     ]\n",
            " [-4.73118223 -5.27      ]\n",
            " [-1.94754837 -1.89      ]\n",
            " [-3.8152651  -3.35      ]\n",
            " [ 0.05884355  0.76      ]\n",
            " [-0.38000545  0.7       ]\n",
            " [-7.07759214 -6.9       ]\n",
            " [-2.38594676 -2.09      ]\n",
            " [-3.93346915 -4.47      ]\n",
            " [-3.9999571  -4.8       ]\n",
            " [ 0.09382679  0.81      ]\n",
            " [-3.02544576 -3.3       ]\n",
            " [-4.58887963 -2.55      ]\n",
            " [-3.01160564 -2.85      ]\n",
            " [-1.33702105 -1.19      ]\n",
            " [-1.41993395 -1.99      ]\n",
            " [-3.04051112 -3.11      ]\n",
            " [-5.24731671 -4.5       ]\n",
            " [-1.74149932 -2.        ]\n",
            " [-3.84830255 -1.8       ]\n",
            " [-2.06498372 -1.85      ]\n",
            " [-4.10187577 -3.61      ]\n",
            " [-3.04051112 -3.27      ]\n",
            " [-6.820638   -7.01      ]\n",
            " [-1.7062701  -1.6       ]\n",
            " [-8.17028349 -7.85      ]\n",
            " [-2.28393505 -1.74      ]\n",
            " [-1.73648158 -2.523     ]\n",
            " [-2.02421009 -2.13      ]\n",
            " [-2.06498372 -1.96      ]\n",
            " [-6.52052854 -8.04      ]\n",
            " [-3.0197114  -0.85      ]\n",
            " [-5.206743   -5.382     ]\n",
            " [-3.9497365  -1.13      ]\n",
            " [-0.43039255 -0.8       ]\n",
            " [-0.82803928 -0.12      ]\n",
            " [-0.97789127 -1.52      ]\n",
            " [-0.20367545 -0.24      ]\n",
            " [-0.277668   -1.36      ]\n",
            " [-3.99933853 -4.24      ]\n",
            " [ 0.61023369  1.02      ]\n",
            " [-0.9070975  -0.6       ]\n",
            " [-4.4025052  -5.16      ]\n",
            " [-3.23776039 -3.31      ]\n",
            " [-2.10608571 -1.64      ]\n",
            " [-7.46195617 -7.8       ]\n",
            " [-0.66088191 -0.99      ]]\n"
          ],
          "name": "stdout"
        }
      ]
    },
    {
      "cell_type": "code",
      "metadata": {
        "id": "ikzfv0HdGs2F",
        "colab": {
          "base_uri": "https://localhost:8080/"
        },
        "outputId": "40717643-8178-41f9-fea5-e513011e18fe"
      },
      "source": [
        "#print(Y_pred_fin)\n",
        "print(Y_pred_fin.shape)"
      ],
      "execution_count": 67,
      "outputs": [
        {
          "output_type": "stream",
          "text": [
            "(100, 1)\n"
          ],
          "name": "stdout"
        }
      ]
    },
    {
      "cell_type": "code",
      "metadata": {
        "colab": {
          "base_uri": "https://localhost:8080/"
        },
        "id": "dLO7ZFscupPf",
        "outputId": "430859b3-5ced-49c6-8758-4ad30d34efb9"
      },
      "source": [
        "print(len(preds))\n",
        "print(len(Y_test))\n",
        "print(preds.shape)\n",
        "print(Y_test.shape)\n",
        "\n"
      ],
      "execution_count": 68,
      "outputs": [
        {
          "output_type": "stream",
          "text": [
            "1028\n",
            "100\n",
            "(1028, 1)\n",
            "(100, 1)\n"
          ],
          "name": "stdout"
        }
      ]
    },
    {
      "cell_type": "code",
      "metadata": {
        "id": "yT228EQJs_6K"
      },
      "source": [
        "#preds = solubility_model.predict(X_test)\n",
        "#x_y_line = np.linspace(min(Y_test.flatten()), max(Y_test.flatten()), 500)\n",
        "#plt.plot(Y_train.flatten(), preds.flatten(), 'o', label='predictions')\n",
        "#plt.plot(x_y_line, x_y_line, label='y=x')\n",
        "#plt.xlabel(\"Log solubility (ground truth)\")\n",
        "#plt.ylabel(\"Log solubility (predicted)\")\n",
        "#plt.title(\"Parity plot: predictions vs ground truth data\")\n",
        "#plt.legend()"
      ],
      "execution_count": 53,
      "outputs": []
    },
    {
      "cell_type": "code",
      "metadata": {
        "id": "fRBeFv-HulP4",
        "colab": {
          "base_uri": "https://localhost:8080/",
          "height": 340
        },
        "outputId": "b8eb388e-e874-4ae3-c504-eae0bc997b59"
      },
      "source": [
        ""
      ],
      "execution_count": 59,
      "outputs": [
        {
          "output_type": "error",
          "ename": "ValueError",
          "evalue": "ignored",
          "traceback": [
            "\u001b[0;31m---------------------------------------------------------------------------\u001b[0m",
            "\u001b[0;31mValueError\u001b[0m                                Traceback (most recent call last)",
            "\u001b[0;32m<ipython-input-59-305f63a9e6ec>\u001b[0m in \u001b[0;36m<module>\u001b[0;34m()\u001b[0m\n\u001b[0;32m----> 1\u001b[0;31m \u001b[0mY_pred_fin\u001b[0m\u001b[0;34m=\u001b[0m\u001b[0mnp\u001b[0m\u001b[0;34m.\u001b[0m\u001b[0mreshape\u001b[0m\u001b[0;34m(\u001b[0m\u001b[0mY_pred_fin\u001b[0m\u001b[0;34m,\u001b[0m\u001b[0;34m(\u001b[0m\u001b[0;36m100\u001b[0m\u001b[0;34m,\u001b[0m\u001b[0;36m1\u001b[0m\u001b[0;34m)\u001b[0m\u001b[0;34m)\u001b[0m\u001b[0;34m\u001b[0m\u001b[0;34m\u001b[0m\u001b[0m\n\u001b[0m",
            "\u001b[0;32m<__array_function__ internals>\u001b[0m in \u001b[0;36mreshape\u001b[0;34m(*args, **kwargs)\u001b[0m\n",
            "\u001b[0;32m/usr/local/lib/python3.7/dist-packages/numpy/core/fromnumeric.py\u001b[0m in \u001b[0;36mreshape\u001b[0;34m(a, newshape, order)\u001b[0m\n\u001b[1;32m    297\u001b[0m            [5, 6]])\n\u001b[1;32m    298\u001b[0m     \"\"\"\n\u001b[0;32m--> 299\u001b[0;31m     \u001b[0;32mreturn\u001b[0m \u001b[0m_wrapfunc\u001b[0m\u001b[0;34m(\u001b[0m\u001b[0ma\u001b[0m\u001b[0;34m,\u001b[0m \u001b[0;34m'reshape'\u001b[0m\u001b[0;34m,\u001b[0m \u001b[0mnewshape\u001b[0m\u001b[0;34m,\u001b[0m \u001b[0morder\u001b[0m\u001b[0;34m=\u001b[0m\u001b[0morder\u001b[0m\u001b[0;34m)\u001b[0m\u001b[0;34m\u001b[0m\u001b[0;34m\u001b[0m\u001b[0m\n\u001b[0m\u001b[1;32m    300\u001b[0m \u001b[0;34m\u001b[0m\u001b[0m\n\u001b[1;32m    301\u001b[0m \u001b[0;34m\u001b[0m\u001b[0m\n",
            "\u001b[0;32m/usr/local/lib/python3.7/dist-packages/numpy/core/fromnumeric.py\u001b[0m in \u001b[0;36m_wrapfunc\u001b[0;34m(obj, method, *args, **kwds)\u001b[0m\n\u001b[1;32m     56\u001b[0m \u001b[0;34m\u001b[0m\u001b[0m\n\u001b[1;32m     57\u001b[0m     \u001b[0;32mtry\u001b[0m\u001b[0;34m:\u001b[0m\u001b[0;34m\u001b[0m\u001b[0;34m\u001b[0m\u001b[0m\n\u001b[0;32m---> 58\u001b[0;31m         \u001b[0;32mreturn\u001b[0m \u001b[0mbound\u001b[0m\u001b[0;34m(\u001b[0m\u001b[0;34m*\u001b[0m\u001b[0margs\u001b[0m\u001b[0;34m,\u001b[0m \u001b[0;34m**\u001b[0m\u001b[0mkwds\u001b[0m\u001b[0;34m)\u001b[0m\u001b[0;34m\u001b[0m\u001b[0;34m\u001b[0m\u001b[0m\n\u001b[0m\u001b[1;32m     59\u001b[0m     \u001b[0;32mexcept\u001b[0m \u001b[0mTypeError\u001b[0m\u001b[0;34m:\u001b[0m\u001b[0;34m\u001b[0m\u001b[0;34m\u001b[0m\u001b[0m\n\u001b[1;32m     60\u001b[0m         \u001b[0;31m# A TypeError occurs if the object does have such a method in its\u001b[0m\u001b[0;34m\u001b[0m\u001b[0;34m\u001b[0m\u001b[0;34m\u001b[0m\u001b[0m\n",
            "\u001b[0;31mValueError\u001b[0m: cannot reshape array of size 10000 into shape (100,1)"
          ]
        }
      ]
    },
    {
      "cell_type": "code",
      "metadata": {
        "id": "AcAw_Qe9IZDi",
        "colab": {
          "base_uri": "https://localhost:8080/",
          "height": 163
        },
        "outputId": "2649c71f-6283-4333-dbfc-7d1c41c90946"
      },
      "source": [
        "print(np.concatenate((Y_pred_fin.reshape(len(Y_pred_fin),1), Y_test.reshape(len(Y_test),1)),1))"
      ],
      "execution_count": 55,
      "outputs": [
        {
          "output_type": "error",
          "ename": "ValueError",
          "evalue": "ignored",
          "traceback": [
            "\u001b[0;31m---------------------------------------------------------------------------\u001b[0m",
            "\u001b[0;31mValueError\u001b[0m                                Traceback (most recent call last)",
            "\u001b[0;32m<ipython-input-55-feecf5726d08>\u001b[0m in \u001b[0;36m<module>\u001b[0;34m()\u001b[0m\n\u001b[0;32m----> 1\u001b[0;31m \u001b[0mprint\u001b[0m\u001b[0;34m(\u001b[0m\u001b[0mnp\u001b[0m\u001b[0;34m.\u001b[0m\u001b[0mconcatenate\u001b[0m\u001b[0;34m(\u001b[0m\u001b[0;34m(\u001b[0m\u001b[0mY_pred_fin\u001b[0m\u001b[0;34m.\u001b[0m\u001b[0mreshape\u001b[0m\u001b[0;34m(\u001b[0m\u001b[0mlen\u001b[0m\u001b[0;34m(\u001b[0m\u001b[0mY_pred_fin\u001b[0m\u001b[0;34m)\u001b[0m\u001b[0;34m,\u001b[0m\u001b[0;36m1\u001b[0m\u001b[0;34m)\u001b[0m\u001b[0;34m,\u001b[0m \u001b[0mY_test\u001b[0m\u001b[0;34m.\u001b[0m\u001b[0mreshape\u001b[0m\u001b[0;34m(\u001b[0m\u001b[0mlen\u001b[0m\u001b[0;34m(\u001b[0m\u001b[0mY_test\u001b[0m\u001b[0;34m)\u001b[0m\u001b[0;34m,\u001b[0m\u001b[0;36m1\u001b[0m\u001b[0;34m)\u001b[0m\u001b[0;34m)\u001b[0m\u001b[0;34m,\u001b[0m\u001b[0;36m1\u001b[0m\u001b[0;34m)\u001b[0m\u001b[0;34m)\u001b[0m\u001b[0;34m\u001b[0m\u001b[0;34m\u001b[0m\u001b[0m\n\u001b[0m",
            "\u001b[0;31mValueError\u001b[0m: cannot reshape array of size 10000 into shape (100,1)"
          ]
        }
      ]
    },
    {
      "cell_type": "code",
      "metadata": {
        "id": "TvA_YU8RAreU",
        "colab": {
          "base_uri": "https://localhost:8080/"
        },
        "outputId": "35f98b17-b3ec-4175-8ef4-1f87943eb3f7"
      },
      "source": [
        "r2_score(Y_test, Y_pred_fin)"
      ],
      "execution_count": 69,
      "outputs": [
        {
          "output_type": "execute_result",
          "data": {
            "text/plain": [
              "0.9104407219685248"
            ]
          },
          "metadata": {},
          "execution_count": 69
        }
      ]
    },
    {
      "cell_type": "markdown",
      "metadata": {
        "id": "xpgRin7b18bX"
      },
      "source": [
        "Save model\n",
        "We can save/load this model for future use, using the save() and load_model() functions from Keras."
      ]
    },
    {
      "cell_type": "code",
      "metadata": {
        "id": "r3eleKjN17aZ"
      },
      "source": [
        "# Save the model\n",
        "#solubility_model.save(\"solubility_model_91.hdf5\")\n",
        "\n",
        "# Load it back\n",
        "#loaded_model = load_model(\"solubility_model_91.hdf5\")"
      ],
      "execution_count": 70,
      "outputs": []
    },
    {
      "cell_type": "code",
      "metadata": {
        "id": "vJs45hIR2Q2K"
      },
      "source": [
        "!pwd"
      ],
      "execution_count": null,
      "outputs": []
    }
  ]
}