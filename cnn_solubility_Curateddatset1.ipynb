{
  "nbformat": 4,
  "nbformat_minor": 0,
  "metadata": {
    "colab": {
      "name": "cnn_solubility_Curateddatset.ipynb",
      "provenance": [],
      "collapsed_sections": [],
      "mount_file_id": "1i-mLeGng_i1wWZri9SHJJ2oRzwjHSou6",
      "authorship_tag": "ABX9TyNysQ6/fNtmneD1Fs027XYI",
      "include_colab_link": true
    },
    "kernelspec": {
      "name": "python3",
      "display_name": "Python 3"
    },
    "language_info": {
      "name": "python"
    }
  },
  "cells": [
    {
      "cell_type": "markdown",
      "metadata": {
        "id": "view-in-github",
        "colab_type": "text"
      },
      "source": [
        "<a href=\"https://colab.research.google.com/github/ali1810/Deep_Chem/blob/main/cnn_solubility_Curateddatset1.ipynb\" target=\"_parent\"><img src=\"https://colab.research.google.com/assets/colab-badge.svg\" alt=\"Open In Colab\"/></a>"
      ]
    },
    {
      "cell_type": "code",
      "metadata": {
        "id": "_yW6lm08y_df"
      },
      "source": [
        "# general imports\n",
        "import pandas as pd\n",
        "import seaborn as sns\n",
        "import matplotlib.pyplot as plt\n",
        "import numpy as np\n",
        "\n",
        "# keras imports\n",
        "from keras.layers import (Input, Dense, Conv1D, MaxPool1D, Dropout, GRU, LSTM, \n",
        "                          TimeDistributed, Add, Flatten, RepeatVector, Lambda, Concatenate)\n",
        "from keras.models import Model, load_model\n",
        "from keras.metrics import binary_crossentropy\n",
        "from keras import initializers\n",
        "import keras.backend as K\n",
        "\n",
        "# Visualization\n",
        "#from keras_sequential_ascii import keras2ascii\n",
        "\n",
        "# utils functions\n",
        "#from utils import *\n",
        "\n",
        "import os\n",
        "os.environ['KMP_DUPLICATE_LIB_OK']='True'\n",
        "\n",
        "# Remove warnings from output\n",
        "import warnings\n",
        "warnings.filterwarnings('ignore')"
      ],
      "execution_count": 3,
      "outputs": []
    },
    {
      "cell_type": "code",
      "metadata": {
        "colab": {
          "base_uri": "https://localhost:8080/",
          "height": 360
        },
        "id": "IDVt2Epgzyl6",
        "outputId": "a4fe7b8f-799f-4ab4-8354-d1a9db632ef2"
      },
      "source": [
        "## read dataset as a dataframe\n",
        "dataset = pd.read_csv(\"/content/drive/MyDrive/curated-solubility-dataset.csv\")\n",
        "\n",
        "# print column names in dataset\n",
        "print(f\"Columns in dataset: {list(dataset.columns)}\")\n",
        "\n",
        "# print number of rows in dataset\n",
        "print(f\"\\nLength of dataset: {len(dataset)}\")\n",
        "\n",
        "# shuffle rows of the dataset (we could do this later as well when doing train/test splits)\n",
        "dataset = dataset.sample(frac=1, random_state=0)\n",
        "\n",
        "# show first 5 rows of dataframe\n",
        "dataset.head()"
      ],
      "execution_count": 4,
      "outputs": [
        {
          "output_type": "stream",
          "text": [
            "Columns in dataset: ['ID', 'Name', 'InChI', 'InChIKey', 'SMILES', 'Solubility', 'SD', 'Ocurrences', 'Group', 'MolWt', 'MolLogP', 'MolMR', 'HeavyAtomCount', 'NumHAcceptors', 'NumHDonors', 'NumHeteroatoms', 'NumRotatableBonds', 'NumValenceElectrons', 'NumAromaticRings', 'NumSaturatedRings', 'NumAliphaticRings', 'RingCount', 'TPSA', 'LabuteASA', 'BalabanJ', 'BertzCT']\n",
            "\n",
            "Length of dataset: 9982\n"
          ],
          "name": "stdout"
        },
        {
          "output_type": "execute_result",
          "data": {
            "text/html": [
              "<div>\n",
              "<style scoped>\n",
              "    .dataframe tbody tr th:only-of-type {\n",
              "        vertical-align: middle;\n",
              "    }\n",
              "\n",
              "    .dataframe tbody tr th {\n",
              "        vertical-align: top;\n",
              "    }\n",
              "\n",
              "    .dataframe thead th {\n",
              "        text-align: right;\n",
              "    }\n",
              "</style>\n",
              "<table border=\"1\" class=\"dataframe\">\n",
              "  <thead>\n",
              "    <tr style=\"text-align: right;\">\n",
              "      <th></th>\n",
              "      <th>ID</th>\n",
              "      <th>Name</th>\n",
              "      <th>InChI</th>\n",
              "      <th>InChIKey</th>\n",
              "      <th>SMILES</th>\n",
              "      <th>Solubility</th>\n",
              "      <th>SD</th>\n",
              "      <th>Ocurrences</th>\n",
              "      <th>Group</th>\n",
              "      <th>MolWt</th>\n",
              "      <th>MolLogP</th>\n",
              "      <th>MolMR</th>\n",
              "      <th>HeavyAtomCount</th>\n",
              "      <th>NumHAcceptors</th>\n",
              "      <th>NumHDonors</th>\n",
              "      <th>NumHeteroatoms</th>\n",
              "      <th>NumRotatableBonds</th>\n",
              "      <th>NumValenceElectrons</th>\n",
              "      <th>NumAromaticRings</th>\n",
              "      <th>NumSaturatedRings</th>\n",
              "      <th>NumAliphaticRings</th>\n",
              "      <th>RingCount</th>\n",
              "      <th>TPSA</th>\n",
              "      <th>LabuteASA</th>\n",
              "      <th>BalabanJ</th>\n",
              "      <th>BertzCT</th>\n",
              "    </tr>\n",
              "  </thead>\n",
              "  <tbody>\n",
              "    <tr>\n",
              "      <th>6907</th>\n",
              "      <td>B-4206</td>\n",
              "      <td>diuron</td>\n",
              "      <td>InChI=1S/C9H10Cl2N2O/c1-13(2)9(14)12-6-3-4-7(1...</td>\n",
              "      <td>XMTQQYYKAHVGBJ-UHFFFAOYSA-N</td>\n",
              "      <td>CN(C)C(=O)Nc1ccc(Cl)c(Cl)c1</td>\n",
              "      <td>-3.744300</td>\n",
              "      <td>1.227164</td>\n",
              "      <td>5</td>\n",
              "      <td>G4</td>\n",
              "      <td>233.098</td>\n",
              "      <td>3.0869</td>\n",
              "      <td>59.1677</td>\n",
              "      <td>14.0</td>\n",
              "      <td>1.0</td>\n",
              "      <td>1.0</td>\n",
              "      <td>5.0</td>\n",
              "      <td>1.0</td>\n",
              "      <td>76.0</td>\n",
              "      <td>1.0</td>\n",
              "      <td>0.0</td>\n",
              "      <td>0.0</td>\n",
              "      <td>1.0</td>\n",
              "      <td>32.34</td>\n",
              "      <td>92.603980</td>\n",
              "      <td>2.781208</td>\n",
              "      <td>352.665233</td>\n",
              "    </tr>\n",
              "    <tr>\n",
              "      <th>9567</th>\n",
              "      <td>F-988</td>\n",
              "      <td>7-(3-amino-3-methylazetidin-1-yl)-8-chloro-1-c...</td>\n",
              "      <td>InChI=1S/C17H17ClFN3O3/c1-17(20)6-21(7-17)14-1...</td>\n",
              "      <td>DUNZFXZSFJLIKR-UHFFFAOYSA-N</td>\n",
              "      <td>CC1(N)CN(C2=C(Cl)C3=C(C=C2F)C(=O)C(C(=O)O)=CN3...</td>\n",
              "      <td>-5.330000</td>\n",
              "      <td>0.000000</td>\n",
              "      <td>1</td>\n",
              "      <td>G1</td>\n",
              "      <td>365.792</td>\n",
              "      <td>2.3645</td>\n",
              "      <td>93.2117</td>\n",
              "      <td>25.0</td>\n",
              "      <td>5.0</td>\n",
              "      <td>2.0</td>\n",
              "      <td>8.0</td>\n",
              "      <td>3.0</td>\n",
              "      <td>132.0</td>\n",
              "      <td>2.0</td>\n",
              "      <td>2.0</td>\n",
              "      <td>2.0</td>\n",
              "      <td>4.0</td>\n",
              "      <td>88.56</td>\n",
              "      <td>147.136366</td>\n",
              "      <td>2.001398</td>\n",
              "      <td>973.487509</td>\n",
              "    </tr>\n",
              "    <tr>\n",
              "      <th>8083</th>\n",
              "      <td>C-1996</td>\n",
              "      <td>4-acetoxybiphenyl;  4-biphenylyl  acetate</td>\n",
              "      <td>InChI=1S/C14H12O2/c1-11(15)16-14-9-7-13(8-10-1...</td>\n",
              "      <td>MISFQCBPASYYGV-UHFFFAOYSA-N</td>\n",
              "      <td>CC(=O)OC1=CC=C(C=C1)C2=CC=CC=C2</td>\n",
              "      <td>-4.400000</td>\n",
              "      <td>0.000000</td>\n",
              "      <td>1</td>\n",
              "      <td>G1</td>\n",
              "      <td>212.248</td>\n",
              "      <td>3.2789</td>\n",
              "      <td>63.1870</td>\n",
              "      <td>16.0</td>\n",
              "      <td>2.0</td>\n",
              "      <td>0.0</td>\n",
              "      <td>2.0</td>\n",
              "      <td>2.0</td>\n",
              "      <td>80.0</td>\n",
              "      <td>2.0</td>\n",
              "      <td>0.0</td>\n",
              "      <td>0.0</td>\n",
              "      <td>2.0</td>\n",
              "      <td>26.30</td>\n",
              "      <td>94.493449</td>\n",
              "      <td>2.228677</td>\n",
              "      <td>471.848345</td>\n",
              "    </tr>\n",
              "    <tr>\n",
              "      <th>1861</th>\n",
              "      <td>A-3055</td>\n",
              "      <td>methane dimolybdenum</td>\n",
              "      <td>InChI=1S/CH4.2Mo/h1H4;;</td>\n",
              "      <td>JAGQSESDQXCFCH-UHFFFAOYSA-N</td>\n",
              "      <td>C.[Mo].[Mo]</td>\n",
              "      <td>-3.420275</td>\n",
              "      <td>0.409223</td>\n",
              "      <td>2</td>\n",
              "      <td>G3</td>\n",
              "      <td>207.923</td>\n",
              "      <td>0.6311</td>\n",
              "      <td>6.7310</td>\n",
              "      <td>3.0</td>\n",
              "      <td>0.0</td>\n",
              "      <td>0.0</td>\n",
              "      <td>2.0</td>\n",
              "      <td>0.0</td>\n",
              "      <td>20.0</td>\n",
              "      <td>0.0</td>\n",
              "      <td>0.0</td>\n",
              "      <td>0.0</td>\n",
              "      <td>0.0</td>\n",
              "      <td>0.00</td>\n",
              "      <td>49.515427</td>\n",
              "      <td>-0.000000</td>\n",
              "      <td>2.754888</td>\n",
              "    </tr>\n",
              "    <tr>\n",
              "      <th>1509</th>\n",
              "      <td>A-2575</td>\n",
              "      <td>ethyl 4-[[(methylphenylamino)methylene]amino]b...</td>\n",
              "      <td>InChI=1S/C17H18N2O2/c1-3-21-17(20)14-9-11-15(1...</td>\n",
              "      <td>GNGYPJUKIKDJQT-UHFFFAOYSA-N</td>\n",
              "      <td>CCOC(=O)c1ccc(cc1)N=CN(C)c2ccccc2</td>\n",
              "      <td>-5.450777</td>\n",
              "      <td>0.000000</td>\n",
              "      <td>1</td>\n",
              "      <td>G1</td>\n",
              "      <td>282.343</td>\n",
              "      <td>3.6595</td>\n",
              "      <td>85.3955</td>\n",
              "      <td>21.0</td>\n",
              "      <td>3.0</td>\n",
              "      <td>0.0</td>\n",
              "      <td>4.0</td>\n",
              "      <td>5.0</td>\n",
              "      <td>108.0</td>\n",
              "      <td>2.0</td>\n",
              "      <td>0.0</td>\n",
              "      <td>0.0</td>\n",
              "      <td>2.0</td>\n",
              "      <td>41.90</td>\n",
              "      <td>124.243431</td>\n",
              "      <td>2.028889</td>\n",
              "      <td>606.447052</td>\n",
              "    </tr>\n",
              "  </tbody>\n",
              "</table>\n",
              "</div>"
            ],
            "text/plain": [
              "          ID  ...     BertzCT\n",
              "6907  B-4206  ...  352.665233\n",
              "9567   F-988  ...  973.487509\n",
              "8083  C-1996  ...  471.848345\n",
              "1861  A-3055  ...    2.754888\n",
              "1509  A-2575  ...  606.447052\n",
              "\n",
              "[5 rows x 26 columns]"
            ]
          },
          "metadata": {
            "tags": []
          },
          "execution_count": 4
        }
      ]
    },
    {
      "cell_type": "code",
      "metadata": {
        "id": "DdEk2quxVyWu"
      },
      "source": [
        ""
      ],
      "execution_count": null,
      "outputs": []
    },
    {
      "cell_type": "markdown",
      "metadata": {
        "id": "lB-dKWq-9Kny"
      },
      "source": [
        "We can explore the range of solubilities found in the dataset by plotting a histogram of solubility values from the dataset. Our machine learning models will aim to predict these solubilities."
      ]
    },
    {
      "cell_type": "code",
      "metadata": {
        "colab": {
          "base_uri": "https://localhost:8080/",
          "height": 296
        },
        "id": "H00k9o-Q9L2z",
        "outputId": "c4bd4fc4-6727-4bd9-f5f2-e040d0052a76"
      },
      "source": [
        "sns.distplot(dataset[\"Solubility\"])"
      ],
      "execution_count": 5,
      "outputs": [
        {
          "output_type": "execute_result",
          "data": {
            "text/plain": [
              "<matplotlib.axes._subplots.AxesSubplot at 0x7fb7d45c9d90>"
            ]
          },
          "metadata": {
            "tags": []
          },
          "execution_count": 5
        },
        {
          "output_type": "display_data",
          "data": {
            "image/png": "[encoded data removed]",
            "text/plain": [
              "<Figure size 432x288 with 1 Axes>"
            ]
          },
          "metadata": {
            "tags": [],
            "needs_background": "light"
          }
        }
      ]
    },
    {
      "cell_type": "markdown",
      "metadata": {
        "id": "SU1tROL39j7h"
      },
      "source": [
        "In the next cell we will plot a histogram of SMILES string lengths from dataset. These lengths will be used to determine the length of the inputs for our CNN model. Below are examples of the SMILES representation:\n",
        "\n",
        "Methane: 'C' Pentane: 'CCCCC' Methanol and Ethanol: 'CO' and 'CCO' Pyridine: 'C1:C:C:N:C:C:1' To learn more about the SMILES representation, click here."
      ]
    },
    {
      "cell_type": "code",
      "metadata": {
        "colab": {
          "base_uri": "https://localhost:8080/",
          "height": 282
        },
        "id": "cbzAeJPH9olR",
        "outputId": "eeb583fa-2bd6-4dff-b539-9ee40a6b4efb"
      },
      "source": [
        "smiles_lengths = map(len, dataset.SMILES.values)\n",
        "sns.distplot(list(smiles_lengths), bins=20, kde=False)"
      ],
      "execution_count": 6,
      "outputs": [
        {
          "output_type": "execute_result",
          "data": {
            "text/plain": [
              "<matplotlib.axes._subplots.AxesSubplot at 0x7fb7912150d0>"
            ]
          },
          "metadata": {
            "tags": []
          },
          "execution_count": 6
        },
        {
          "output_type": "display_data",
          "data": {
            "image/png": "[encoded data removed]",
            "text/plain": [
              "<Figure size 432x288 with 1 Axes>"
            ]
          },
          "metadata": {
            "tags": [],
            "needs_background": "light"
          }
        }
      ]
    },
    {
      "cell_type": "markdown",
      "metadata": {
        "id": "BeKJsla5-EH-"
      },
      "source": [
        "Data preparation Now we will pre-process the dataset for the CNN models. First, we'll get the unique character set from all SMILES strings in the dataset. Then we will use the unique character set to convert our SMILES strings to a one-hot representation, which is a representation that converts raw strings of text to numerical inputs for our models.\n",
        "\n",
        "In a one-hot representation, each character of our SMILES string is encoded as a vector of zeros, except for one non-zero value. For instance, the character 'C' in the SMILES string is converted to a vector of length 31, consisting of 30 zeros and one non-zero entry of one. The length of this vector (31 in our case) is the total number of unique characters in the dataset.\n",
        "\n",
        "Given a string of 5 characters (say Pentane, which is represented as 'CCCCC'), we would thus get 5 vectors each of length 31. Since different molecules have different SMILES string lengths, we can pre-define the length of each string to be the maximum length from the database, with smaller molecules represented with additional characters. In our case, this maximum length is 40 and we represent the extra characters for smaller molecules with pre-defined one-hot vectors. This means that each molecule is now represented as a set of 40 vectors, each of length 31. We can represent this as a 40x31 matrix.\n",
        "\n",
        "One-hot encoding is commonly used in natural language processing, and you can learn more about one-hot encoding here.\n",
        "\n",
        "Finally, we will define our input and output and create test/train splits in the dataset."
      ]
    },
    {
      "cell_type": "code",
      "metadata": {
        "id": "nOzTB620-GD0"
      },
      "source": [
        "## Function to create unique character from string \n",
        "\n",
        "def generate_charset(full_char_list:list) -> list:\n",
        "    '''\n",
        "    Assumes full_char_list is a list of characters (e.g., ['c', 'c', '1']).\n",
        "    Returns a sorted list of unique characters, with index zero as a NULL character, and a PAD character.\n",
        "    '''\n",
        "    unique_chars = set(''.join(full_char_list))\n",
        "    charset = ['NULL', 'PAD'] + sorted(unique_chars)\n",
        "    return charset"
      ],
      "execution_count": 7,
      "outputs": []
    },
    {
      "cell_type": "code",
      "metadata": {
        "id": "jVaBuuO3-RPF"
      },
      "source": [
        "### Function to create one hot encoder ....\n",
        "\n",
        "def smiles_to_onehots(smiles_strings:list,\n",
        "                     unique_charset:list,\n",
        "                     max_smiles_chars:int) -> np.array:\n",
        "    one_hots = []\n",
        "    charset_length = len(unique_charset)\n",
        "\n",
        "    for smiles_string in smiles_strings:\n",
        "        one_hot_smiles = np.zeros(shape=(max_smiles_chars, charset_length))\n",
        "        for i in range(max_smiles_chars):\n",
        "            one_hot_col = [0]*charset_length\n",
        "            ind = None # Which index will we flip to be \"one-hot\"?\n",
        "            \n",
        "            if i < len(smiles_string):\n",
        "                try:\n",
        "                    ind = unique_charset.index(smiles_string[i])\n",
        "                    # one_hot_col[unique_charset.index(char)] = 1\n",
        "                except ValueError:\n",
        "                    ind = 0 # Treat as NULL if out-of-vocab  \n",
        "                    # one_hot_col[0] = 1 # Treat as NULL if out-of-vocab   \n",
        "            else:\n",
        "                ind = 1 # Add PAD as needed\n",
        "            \n",
        "            one_hot_col[ind] = 1\n",
        "            one_hot_smiles[i,:] = one_hot_col\n",
        "            \n",
        "        one_hots.append(one_hot_smiles)\n",
        "    return np.array(one_hots)"
      ],
      "execution_count": 8,
      "outputs": []
    },
    {
      "cell_type": "code",
      "metadata": {
        "colab": {
          "base_uri": "https://localhost:8080/"
        },
        "id": "ww8yv2UDBIAD",
        "outputId": "2b7c44f7-63b5-4de5-fca1-0bf2e1fcd8f4"
      },
      "source": [
        "### Getting Max Character of the Smiles string ......\n",
        "\n",
        "smiles_lengths = max(dataset1[\"SMILES\"],key =len)\n",
        "print(len(smiles_lengths))"
      ],
      "execution_count": 13,
      "outputs": [
        {
          "output_type": "stream",
          "text": [
            "84\n"
          ],
          "name": "stdout"
        }
      ]
    },
    {
      "cell_type": "code",
      "metadata": {
        "id": "mN8yfRvPpigh"
      },
      "source": [
        "###  Creating New SMILES column to reduce the feature of smiles ....\n",
        "\n",
        "dataset[\"SMILES_LENGTH\"]= dataset[\"SMILES\"].apply(len)\n",
        "\n"
      ],
      "execution_count": 11,
      "outputs": []
    },
    {
      "cell_type": "code",
      "metadata": {
        "id": "aE6pJ5V3Pnq9"
      },
      "source": [
        "#smiles_length = dataset[\"SMILES\"],key =len\n",
        "#print(smiles_length)\n",
        "dataset1  = dataset[dataset['SMILES_LENGTH'] < 85]"
      ],
      "execution_count": 12,
      "outputs": []
    },
    {
      "cell_type": "code",
      "metadata": {
        "colab": {
          "base_uri": "https://localhost:8080/"
        },
        "id": "GW2SIgrfPoul",
        "outputId": "6482c372-ffdf-462f-d30b-62e1ff92ed86"
      },
      "source": [
        "len(dataset1)"
      ],
      "execution_count": null,
      "outputs": [
        {
          "output_type": "execute_result",
          "data": {
            "text/plain": [
              "8511"
            ]
          },
          "metadata": {
            "tags": []
          },
          "execution_count": 27
        }
      ]
    },
    {
      "cell_type": "code",
      "metadata": {
        "colab": {
          "base_uri": "https://localhost:8080/",
          "height": 309
        },
        "id": "1D7_-rV9_9xL",
        "outputId": "a90882d0-7ce9-49af-d801-ccf292f84f88"
      },
      "source": [
        "dataset.head()"
      ],
      "execution_count": null,
      "outputs": [
        {
          "output_type": "execute_result",
          "data": {
            "text/html": [
              "<div>\n",
              "<style scoped>\n",
              "    .dataframe tbody tr th:only-of-type {\n",
              "        vertical-align: middle;\n",
              "    }\n",
              "\n",
              "    .dataframe tbody tr th {\n",
              "        vertical-align: top;\n",
              "    }\n",
              "\n",
              "    .dataframe thead th {\n",
              "        text-align: right;\n",
              "    }\n",
              "</style>\n",
              "<table border=\"1\" class=\"dataframe\">\n",
              "  <thead>\n",
              "    <tr style=\"text-align: right;\">\n",
              "      <th></th>\n",
              "      <th>ID</th>\n",
              "      <th>Name</th>\n",
              "      <th>InChI</th>\n",
              "      <th>InChIKey</th>\n",
              "      <th>SMILES</th>\n",
              "      <th>Solubility</th>\n",
              "      <th>SD</th>\n",
              "      <th>Ocurrences</th>\n",
              "      <th>Group</th>\n",
              "      <th>MolWt</th>\n",
              "      <th>MolLogP</th>\n",
              "      <th>MolMR</th>\n",
              "      <th>HeavyAtomCount</th>\n",
              "      <th>NumHAcceptors</th>\n",
              "      <th>NumHDonors</th>\n",
              "      <th>NumHeteroatoms</th>\n",
              "      <th>NumRotatableBonds</th>\n",
              "      <th>NumValenceElectrons</th>\n",
              "      <th>NumAromaticRings</th>\n",
              "      <th>NumSaturatedRings</th>\n",
              "      <th>NumAliphaticRings</th>\n",
              "      <th>RingCount</th>\n",
              "      <th>TPSA</th>\n",
              "      <th>LabuteASA</th>\n",
              "      <th>BalabanJ</th>\n",
              "      <th>BertzCT</th>\n",
              "      <th>SMILES_NEW</th>\n",
              "      <th>SMILES_LENGTH</th>\n",
              "    </tr>\n",
              "  </thead>\n",
              "  <tbody>\n",
              "    <tr>\n",
              "      <th>6907</th>\n",
              "      <td>B-4206</td>\n",
              "      <td>diuron</td>\n",
              "      <td>InChI=1S/C9H10Cl2N2O/c1-13(2)9(14)12-6-3-4-7(1...</td>\n",
              "      <td>XMTQQYYKAHVGBJ-UHFFFAOYSA-N</td>\n",
              "      <td>CN(C)C(=O)Nc1ccc(Cl)c(Cl)c1</td>\n",
              "      <td>-3.744300</td>\n",
              "      <td>1.227164</td>\n",
              "      <td>5</td>\n",
              "      <td>G4</td>\n",
              "      <td>233.098</td>\n",
              "      <td>3.0869</td>\n",
              "      <td>59.1677</td>\n",
              "      <td>14.0</td>\n",
              "      <td>1.0</td>\n",
              "      <td>1.0</td>\n",
              "      <td>5.0</td>\n",
              "      <td>1.0</td>\n",
              "      <td>76.0</td>\n",
              "      <td>1.0</td>\n",
              "      <td>0.0</td>\n",
              "      <td>0.0</td>\n",
              "      <td>1.0</td>\n",
              "      <td>32.34</td>\n",
              "      <td>92.603980</td>\n",
              "      <td>2.781208</td>\n",
              "      <td>352.665233</td>\n",
              "      <td>False</td>\n",
              "      <td>27</td>\n",
              "    </tr>\n",
              "    <tr>\n",
              "      <th>9567</th>\n",
              "      <td>F-988</td>\n",
              "      <td>7-(3-amino-3-methylazetidin-1-yl)-8-chloro-1-c...</td>\n",
              "      <td>InChI=1S/C17H17ClFN3O3/c1-17(20)6-21(7-17)14-1...</td>\n",
              "      <td>DUNZFXZSFJLIKR-UHFFFAOYSA-N</td>\n",
              "      <td>CC1(N)CN(C2=C(Cl)C3=C(C=C2F)C(=O)C(C(=O)O)=CN3...</td>\n",
              "      <td>-5.330000</td>\n",
              "      <td>0.000000</td>\n",
              "      <td>1</td>\n",
              "      <td>G1</td>\n",
              "      <td>365.792</td>\n",
              "      <td>2.3645</td>\n",
              "      <td>93.2117</td>\n",
              "      <td>25.0</td>\n",
              "      <td>5.0</td>\n",
              "      <td>2.0</td>\n",
              "      <td>8.0</td>\n",
              "      <td>3.0</td>\n",
              "      <td>132.0</td>\n",
              "      <td>2.0</td>\n",
              "      <td>2.0</td>\n",
              "      <td>2.0</td>\n",
              "      <td>4.0</td>\n",
              "      <td>88.56</td>\n",
              "      <td>147.136366</td>\n",
              "      <td>2.001398</td>\n",
              "      <td>973.487509</td>\n",
              "      <td>False</td>\n",
              "      <td>54</td>\n",
              "    </tr>\n",
              "    <tr>\n",
              "      <th>8083</th>\n",
              "      <td>C-1996</td>\n",
              "      <td>4-acetoxybiphenyl;  4-biphenylyl  acetate</td>\n",
              "      <td>InChI=1S/C14H12O2/c1-11(15)16-14-9-7-13(8-10-1...</td>\n",
              "      <td>MISFQCBPASYYGV-UHFFFAOYSA-N</td>\n",
              "      <td>CC(=O)OC1=CC=C(C=C1)C2=CC=CC=C2</td>\n",
              "      <td>-4.400000</td>\n",
              "      <td>0.000000</td>\n",
              "      <td>1</td>\n",
              "      <td>G1</td>\n",
              "      <td>212.248</td>\n",
              "      <td>3.2789</td>\n",
              "      <td>63.1870</td>\n",
              "      <td>16.0</td>\n",
              "      <td>2.0</td>\n",
              "      <td>0.0</td>\n",
              "      <td>2.0</td>\n",
              "      <td>2.0</td>\n",
              "      <td>80.0</td>\n",
              "      <td>2.0</td>\n",
              "      <td>0.0</td>\n",
              "      <td>0.0</td>\n",
              "      <td>2.0</td>\n",
              "      <td>26.30</td>\n",
              "      <td>94.493449</td>\n",
              "      <td>2.228677</td>\n",
              "      <td>471.848345</td>\n",
              "      <td>False</td>\n",
              "      <td>31</td>\n",
              "    </tr>\n",
              "    <tr>\n",
              "      <th>1861</th>\n",
              "      <td>A-3055</td>\n",
              "      <td>methane dimolybdenum</td>\n",
              "      <td>InChI=1S/CH4.2Mo/h1H4;;</td>\n",
              "      <td>JAGQSESDQXCFCH-UHFFFAOYSA-N</td>\n",
              "      <td>C.[Mo].[Mo]</td>\n",
              "      <td>-3.420275</td>\n",
              "      <td>0.409223</td>\n",
              "      <td>2</td>\n",
              "      <td>G3</td>\n",
              "      <td>207.923</td>\n",
              "      <td>0.6311</td>\n",
              "      <td>6.7310</td>\n",
              "      <td>3.0</td>\n",
              "      <td>0.0</td>\n",
              "      <td>0.0</td>\n",
              "      <td>2.0</td>\n",
              "      <td>0.0</td>\n",
              "      <td>20.0</td>\n",
              "      <td>0.0</td>\n",
              "      <td>0.0</td>\n",
              "      <td>0.0</td>\n",
              "      <td>0.0</td>\n",
              "      <td>0.00</td>\n",
              "      <td>49.515427</td>\n",
              "      <td>-0.000000</td>\n",
              "      <td>2.754888</td>\n",
              "      <td>False</td>\n",
              "      <td>11</td>\n",
              "    </tr>\n",
              "    <tr>\n",
              "      <th>1509</th>\n",
              "      <td>A-2575</td>\n",
              "      <td>ethyl 4-[[(methylphenylamino)methylene]amino]b...</td>\n",
              "      <td>InChI=1S/C17H18N2O2/c1-3-21-17(20)14-9-11-15(1...</td>\n",
              "      <td>GNGYPJUKIKDJQT-UHFFFAOYSA-N</td>\n",
              "      <td>CCOC(=O)c1ccc(cc1)N=CN(C)c2ccccc2</td>\n",
              "      <td>-5.450777</td>\n",
              "      <td>0.000000</td>\n",
              "      <td>1</td>\n",
              "      <td>G1</td>\n",
              "      <td>282.343</td>\n",
              "      <td>3.6595</td>\n",
              "      <td>85.3955</td>\n",
              "      <td>21.0</td>\n",
              "      <td>3.0</td>\n",
              "      <td>0.0</td>\n",
              "      <td>4.0</td>\n",
              "      <td>5.0</td>\n",
              "      <td>108.0</td>\n",
              "      <td>2.0</td>\n",
              "      <td>0.0</td>\n",
              "      <td>0.0</td>\n",
              "      <td>2.0</td>\n",
              "      <td>41.90</td>\n",
              "      <td>124.243431</td>\n",
              "      <td>2.028889</td>\n",
              "      <td>606.447052</td>\n",
              "      <td>False</td>\n",
              "      <td>33</td>\n",
              "    </tr>\n",
              "  </tbody>\n",
              "</table>\n",
              "</div>"
            ],
            "text/plain": [
              "          ID  ... SMILES_LENGTH\n",
              "6907  B-4206  ...            27\n",
              "9567   F-988  ...            54\n",
              "8083  C-1996  ...            31\n",
              "1861  A-3055  ...            11\n",
              "1509  A-2575  ...            33\n",
              "\n",
              "[5 rows x 28 columns]"
            ]
          },
          "metadata": {
            "tags": []
          },
          "execution_count": 100
        }
      ]
    },
    {
      "cell_type": "code",
      "metadata": {
        "colab": {
          "base_uri": "https://localhost:8080/",
          "height": 609
        },
        "id": "0y-fb29gq_oo",
        "outputId": "8a127d1c-ed59-484a-994d-66ad40994f0c"
      },
      "source": [
        "dataset.head()"
      ],
      "execution_count": null,
      "outputs": [
        {
          "output_type": "execute_result",
          "data": {
            "text/html": [
              "<div>\n",
              "<style scoped>\n",
              "    .dataframe tbody tr th:only-of-type {\n",
              "        vertical-align: middle;\n",
              "    }\n",
              "\n",
              "    .dataframe tbody tr th {\n",
              "        vertical-align: top;\n",
              "    }\n",
              "\n",
              "    .dataframe thead th {\n",
              "        text-align: right;\n",
              "    }\n",
              "</style>\n",
              "<table border=\"1\" class=\"dataframe\">\n",
              "  <thead>\n",
              "    <tr style=\"text-align: right;\">\n",
              "      <th></th>\n",
              "      <th>ID</th>\n",
              "      <th>Name</th>\n",
              "      <th>InChI</th>\n",
              "      <th>InChIKey</th>\n",
              "      <th>SMILES</th>\n",
              "      <th>Solubility</th>\n",
              "      <th>SD</th>\n",
              "      <th>Ocurrences</th>\n",
              "      <th>Group</th>\n",
              "      <th>MolWt</th>\n",
              "      <th>MolLogP</th>\n",
              "      <th>MolMR</th>\n",
              "      <th>HeavyAtomCount</th>\n",
              "      <th>NumHAcceptors</th>\n",
              "      <th>NumHDonors</th>\n",
              "      <th>NumHeteroatoms</th>\n",
              "      <th>NumRotatableBonds</th>\n",
              "      <th>NumValenceElectrons</th>\n",
              "      <th>NumAromaticRings</th>\n",
              "      <th>NumSaturatedRings</th>\n",
              "      <th>NumAliphaticRings</th>\n",
              "      <th>RingCount</th>\n",
              "      <th>TPSA</th>\n",
              "      <th>LabuteASA</th>\n",
              "      <th>BalabanJ</th>\n",
              "      <th>BertzCT</th>\n",
              "      <th>SMILES_NEW</th>\n",
              "    </tr>\n",
              "  </thead>\n",
              "  <tbody>\n",
              "    <tr>\n",
              "      <th>6907</th>\n",
              "      <td>B-4206</td>\n",
              "      <td>diuron</td>\n",
              "      <td>InChI=1S/C9H10Cl2N2O/c1-13(2)9(14)12-6-3-4-7(1...</td>\n",
              "      <td>XMTQQYYKAHVGBJ-UHFFFAOYSA-N</td>\n",
              "      <td>CN(C)C(=O)Nc1ccc(Cl)c(Cl)c1</td>\n",
              "      <td>-3.744300</td>\n",
              "      <td>1.227164</td>\n",
              "      <td>5</td>\n",
              "      <td>G4</td>\n",
              "      <td>233.098</td>\n",
              "      <td>3.0869</td>\n",
              "      <td>59.1677</td>\n",
              "      <td>14.0</td>\n",
              "      <td>1.0</td>\n",
              "      <td>1.0</td>\n",
              "      <td>5.0</td>\n",
              "      <td>1.0</td>\n",
              "      <td>76.0</td>\n",
              "      <td>1.0</td>\n",
              "      <td>0.0</td>\n",
              "      <td>0.0</td>\n",
              "      <td>1.0</td>\n",
              "      <td>32.34</td>\n",
              "      <td>92.603980</td>\n",
              "      <td>2.781208</td>\n",
              "      <td>352.665233</td>\n",
              "      <td>False</td>\n",
              "    </tr>\n",
              "    <tr>\n",
              "      <th>9567</th>\n",
              "      <td>F-988</td>\n",
              "      <td>7-(3-amino-3-methylazetidin-1-yl)-8-chloro-1-c...</td>\n",
              "      <td>InChI=1S/C17H17ClFN3O3/c1-17(20)6-21(7-17)14-1...</td>\n",
              "      <td>DUNZFXZSFJLIKR-UHFFFAOYSA-N</td>\n",
              "      <td>CC1(N)CN(C2=C(Cl)C3=C(C=C2F)C(=O)C(C(=O)O)=CN3...</td>\n",
              "      <td>-5.330000</td>\n",
              "      <td>0.000000</td>\n",
              "      <td>1</td>\n",
              "      <td>G1</td>\n",
              "      <td>365.792</td>\n",
              "      <td>2.3645</td>\n",
              "      <td>93.2117</td>\n",
              "      <td>25.0</td>\n",
              "      <td>5.0</td>\n",
              "      <td>2.0</td>\n",
              "      <td>8.0</td>\n",
              "      <td>3.0</td>\n",
              "      <td>132.0</td>\n",
              "      <td>2.0</td>\n",
              "      <td>2.0</td>\n",
              "      <td>2.0</td>\n",
              "      <td>4.0</td>\n",
              "      <td>88.56</td>\n",
              "      <td>147.136366</td>\n",
              "      <td>2.001398</td>\n",
              "      <td>973.487509</td>\n",
              "      <td>False</td>\n",
              "    </tr>\n",
              "    <tr>\n",
              "      <th>8083</th>\n",
              "      <td>C-1996</td>\n",
              "      <td>4-acetoxybiphenyl;  4-biphenylyl  acetate</td>\n",
              "      <td>InChI=1S/C14H12O2/c1-11(15)16-14-9-7-13(8-10-1...</td>\n",
              "      <td>MISFQCBPASYYGV-UHFFFAOYSA-N</td>\n",
              "      <td>CC(=O)OC1=CC=C(C=C1)C2=CC=CC=C2</td>\n",
              "      <td>-4.400000</td>\n",
              "      <td>0.000000</td>\n",
              "      <td>1</td>\n",
              "      <td>G1</td>\n",
              "      <td>212.248</td>\n",
              "      <td>3.2789</td>\n",
              "      <td>63.1870</td>\n",
              "      <td>16.0</td>\n",
              "      <td>2.0</td>\n",
              "      <td>0.0</td>\n",
              "      <td>2.0</td>\n",
              "      <td>2.0</td>\n",
              "      <td>80.0</td>\n",
              "      <td>2.0</td>\n",
              "      <td>0.0</td>\n",
              "      <td>0.0</td>\n",
              "      <td>2.0</td>\n",
              "      <td>26.30</td>\n",
              "      <td>94.493449</td>\n",
              "      <td>2.228677</td>\n",
              "      <td>471.848345</td>\n",
              "      <td>False</td>\n",
              "    </tr>\n",
              "    <tr>\n",
              "      <th>1861</th>\n",
              "      <td>A-3055</td>\n",
              "      <td>methane dimolybdenum</td>\n",
              "      <td>InChI=1S/CH4.2Mo/h1H4;;</td>\n",
              "      <td>JAGQSESDQXCFCH-UHFFFAOYSA-N</td>\n",
              "      <td>C.[Mo].[Mo]</td>\n",
              "      <td>-3.420275</td>\n",
              "      <td>0.409223</td>\n",
              "      <td>2</td>\n",
              "      <td>G3</td>\n",
              "      <td>207.923</td>\n",
              "      <td>0.6311</td>\n",
              "      <td>6.7310</td>\n",
              "      <td>3.0</td>\n",
              "      <td>0.0</td>\n",
              "      <td>0.0</td>\n",
              "      <td>2.0</td>\n",
              "      <td>0.0</td>\n",
              "      <td>20.0</td>\n",
              "      <td>0.0</td>\n",
              "      <td>0.0</td>\n",
              "      <td>0.0</td>\n",
              "      <td>0.0</td>\n",
              "      <td>0.00</td>\n",
              "      <td>49.515427</td>\n",
              "      <td>-0.000000</td>\n",
              "      <td>2.754888</td>\n",
              "      <td>False</td>\n",
              "    </tr>\n",
              "    <tr>\n",
              "      <th>1509</th>\n",
              "      <td>A-2575</td>\n",
              "      <td>ethyl 4-[[(methylphenylamino)methylene]amino]b...</td>\n",
              "      <td>InChI=1S/C17H18N2O2/c1-3-21-17(20)14-9-11-15(1...</td>\n",
              "      <td>GNGYPJUKIKDJQT-UHFFFAOYSA-N</td>\n",
              "      <td>CCOC(=O)c1ccc(cc1)N=CN(C)c2ccccc2</td>\n",
              "      <td>-5.450777</td>\n",
              "      <td>0.000000</td>\n",
              "      <td>1</td>\n",
              "      <td>G1</td>\n",
              "      <td>282.343</td>\n",
              "      <td>3.6595</td>\n",
              "      <td>85.3955</td>\n",
              "      <td>21.0</td>\n",
              "      <td>3.0</td>\n",
              "      <td>0.0</td>\n",
              "      <td>4.0</td>\n",
              "      <td>5.0</td>\n",
              "      <td>108.0</td>\n",
              "      <td>2.0</td>\n",
              "      <td>0.0</td>\n",
              "      <td>0.0</td>\n",
              "      <td>2.0</td>\n",
              "      <td>41.90</td>\n",
              "      <td>124.243431</td>\n",
              "      <td>2.028889</td>\n",
              "      <td>606.447052</td>\n",
              "      <td>False</td>\n",
              "    </tr>\n",
              "    <tr>\n",
              "      <th>...</th>\n",
              "      <td>...</td>\n",
              "      <td>...</td>\n",
              "      <td>...</td>\n",
              "      <td>...</td>\n",
              "      <td>...</td>\n",
              "      <td>...</td>\n",
              "      <td>...</td>\n",
              "      <td>...</td>\n",
              "      <td>...</td>\n",
              "      <td>...</td>\n",
              "      <td>...</td>\n",
              "      <td>...</td>\n",
              "      <td>...</td>\n",
              "      <td>...</td>\n",
              "      <td>...</td>\n",
              "      <td>...</td>\n",
              "      <td>...</td>\n",
              "      <td>...</td>\n",
              "      <td>...</td>\n",
              "      <td>...</td>\n",
              "      <td>...</td>\n",
              "      <td>...</td>\n",
              "      <td>...</td>\n",
              "      <td>...</td>\n",
              "      <td>...</td>\n",
              "      <td>...</td>\n",
              "      <td>...</td>\n",
              "    </tr>\n",
              "    <tr>\n",
              "      <th>3719</th>\n",
              "      <td>B-99</td>\n",
              "      <td>dieldrin</td>\n",
              "      <td>InChI=1S/C12H8Cl6O/c13-8-9(14)11(16)5-3-1-2(6-...</td>\n",
              "      <td>DFBKLUNHFCTMDC-UHFFFAOYSA-N</td>\n",
              "      <td>ClC1=C(Cl)C2(Cl)C3C4CC(C5OC45)C3C1(Cl)C2(Cl)Cl</td>\n",
              "      <td>-6.290800</td>\n",
              "      <td>0.069177</td>\n",
              "      <td>3</td>\n",
              "      <td>G5</td>\n",
              "      <td>380.913</td>\n",
              "      <td>4.4814</td>\n",
              "      <td>77.5750</td>\n",
              "      <td>19.0</td>\n",
              "      <td>1.0</td>\n",
              "      <td>0.0</td>\n",
              "      <td>7.0</td>\n",
              "      <td>0.0</td>\n",
              "      <td>104.0</td>\n",
              "      <td>0.0</td>\n",
              "      <td>4.0</td>\n",
              "      <td>5.0</td>\n",
              "      <td>5.0</td>\n",
              "      <td>12.53</td>\n",
              "      <td>139.967998</td>\n",
              "      <td>1.802907</td>\n",
              "      <td>516.422862</td>\n",
              "      <td>False</td>\n",
              "    </tr>\n",
              "    <tr>\n",
              "      <th>1231</th>\n",
              "      <td>A-2131</td>\n",
              "      <td>Benzenamine, N-phenyl-, styrenated</td>\n",
              "      <td>InChI=1S/C28H27N/c1-21(23-9-5-3-6-10-23)25-13-...</td>\n",
              "      <td>BRWSDEFCJGIRLV-UHFFFAOYSA-N</td>\n",
              "      <td>CC(c1ccccc1)c2ccc(Nc3ccc(cc3)C(C)c4ccccc4)cc2</td>\n",
              "      <td>-5.964169</td>\n",
              "      <td>0.000000</td>\n",
              "      <td>1</td>\n",
              "      <td>G1</td>\n",
              "      <td>377.531</td>\n",
              "      <td>7.7338</td>\n",
              "      <td>124.0847</td>\n",
              "      <td>29.0</td>\n",
              "      <td>1.0</td>\n",
              "      <td>1.0</td>\n",
              "      <td>1.0</td>\n",
              "      <td>6.0</td>\n",
              "      <td>144.0</td>\n",
              "      <td>4.0</td>\n",
              "      <td>0.0</td>\n",
              "      <td>0.0</td>\n",
              "      <td>4.0</td>\n",
              "      <td>12.03</td>\n",
              "      <td>173.612316</td>\n",
              "      <td>1.428792</td>\n",
              "      <td>932.165538</td>\n",
              "      <td>False</td>\n",
              "    </tr>\n",
              "    <tr>\n",
              "      <th>9034</th>\n",
              "      <td>F-180</td>\n",
              "      <td>2-[(2-amino-4-methylpentanoyl)amino]-4-methylp...</td>\n",
              "      <td>InChI=1S/C12H24N2O3/c1-7(2)5-9(13)11(15)14-10(...</td>\n",
              "      <td>LCPYQJIKPJDLLB-UHFFFAOYSA-N</td>\n",
              "      <td>CC(C)CC(N)C(=O)NC(CC(C)C)C(=O)O</td>\n",
              "      <td>-0.690000</td>\n",
              "      <td>0.000000</td>\n",
              "      <td>1</td>\n",
              "      <td>G1</td>\n",
              "      <td>244.335</td>\n",
              "      <td>0.9753</td>\n",
              "      <td>66.4519</td>\n",
              "      <td>17.0</td>\n",
              "      <td>3.0</td>\n",
              "      <td>3.0</td>\n",
              "      <td>5.0</td>\n",
              "      <td>7.0</td>\n",
              "      <td>100.0</td>\n",
              "      <td>0.0</td>\n",
              "      <td>0.0</td>\n",
              "      <td>0.0</td>\n",
              "      <td>0.0</td>\n",
              "      <td>92.42</td>\n",
              "      <td>102.760645</td>\n",
              "      <td>4.345632</td>\n",
              "      <td>264.476356</td>\n",
              "      <td>False</td>\n",
              "    </tr>\n",
              "    <tr>\n",
              "      <th>3613</th>\n",
              "      <td>A-6047</td>\n",
              "      <td>2,2'-[[4-[(3,5-dinitro-2-thienyl)azo]phenyl]im...</td>\n",
              "      <td>InChI=1S/C18H19N5O8S/c1-12(24)30-9-7-21(8-10-3...</td>\n",
              "      <td>YPNBSXJSFUWYMV-UHFFFAOYSA-N</td>\n",
              "      <td>CC(=O)OCCN(CCOC(C)=O)c1ccc(cc1)N=Nc2sc(cc2[N+]...</td>\n",
              "      <td>-7.547294</td>\n",
              "      <td>0.000000</td>\n",
              "      <td>1</td>\n",
              "      <td>G1</td>\n",
              "      <td>465.444</td>\n",
              "      <td>3.9125</td>\n",
              "      <td>113.7248</td>\n",
              "      <td>32.0</td>\n",
              "      <td>12.0</td>\n",
              "      <td>0.0</td>\n",
              "      <td>14.0</td>\n",
              "      <td>11.0</td>\n",
              "      <td>170.0</td>\n",
              "      <td>2.0</td>\n",
              "      <td>0.0</td>\n",
              "      <td>0.0</td>\n",
              "      <td>2.0</td>\n",
              "      <td>166.84</td>\n",
              "      <td>185.111095</td>\n",
              "      <td>2.142720</td>\n",
              "      <td>1000.877400</td>\n",
              "      <td>False</td>\n",
              "    </tr>\n",
              "    <tr>\n",
              "      <th>1238</th>\n",
              "      <td>A-2142</td>\n",
              "      <td>3,7-dimethyloct-6-en-1-yl (2E)-2-methylbut-2-e...</td>\n",
              "      <td>InChI=1S/C15H26O2/c1-6-14(5)15(16)17-11-10-13(...</td>\n",
              "      <td>UCFQYMKLDPWFHZ-MKMNVTDBSA-N</td>\n",
              "      <td>C\\C=C(/C)C(=O)OCCC(C)CCC=C(C)C</td>\n",
              "      <td>-5.791793</td>\n",
              "      <td>0.000000</td>\n",
              "      <td>1</td>\n",
              "      <td>G1</td>\n",
              "      <td>238.371</td>\n",
              "      <td>4.2684</td>\n",
              "      <td>72.8360</td>\n",
              "      <td>17.0</td>\n",
              "      <td>2.0</td>\n",
              "      <td>0.0</td>\n",
              "      <td>2.0</td>\n",
              "      <td>7.0</td>\n",
              "      <td>98.0</td>\n",
              "      <td>0.0</td>\n",
              "      <td>0.0</td>\n",
              "      <td>0.0</td>\n",
              "      <td>0.0</td>\n",
              "      <td>26.30</td>\n",
              "      <td>105.744302</td>\n",
              "      <td>3.679637</td>\n",
              "      <td>283.296945</td>\n",
              "      <td>False</td>\n",
              "    </tr>\n",
              "  </tbody>\n",
              "</table>\n",
              "<p>200 rows × 27 columns</p>\n",
              "</div>"
            ],
            "text/plain": [
              "          ID  ... SMILES_NEW\n",
              "6907  B-4206  ...      False\n",
              "9567   F-988  ...      False\n",
              "8083  C-1996  ...      False\n",
              "1861  A-3055  ...      False\n",
              "1509  A-2575  ...      False\n",
              "...      ...  ...        ...\n",
              "3719    B-99  ...      False\n",
              "1231  A-2131  ...      False\n",
              "9034   F-180  ...      False\n",
              "3613  A-6047  ...      False\n",
              "1238  A-2142  ...      False\n",
              "\n",
              "[200 rows x 27 columns]"
            ]
          },
          "metadata": {
            "tags": []
          },
          "execution_count": 85
        }
      ]
    },
    {
      "cell_type": "code",
      "metadata": {
        "colab": {
          "base_uri": "https://localhost:8080/"
        },
        "id": "HO2AsHzn-Xju",
        "outputId": "9dcf7af2-64f1-4473-b90a-ad94fc17812b"
      },
      "source": [
        "# get unique character set in all SMILES strings \n",
        "charset = generate_charset(dataset1[\"SMILES\"].values.ravel())\n",
        "\n",
        "# get the number of unique characters\n",
        "charset_length = len(charset)\n",
        "print(charset_length)\n",
        "\n",
        "# define max number of SMILES for model input vector\n",
        "max_smiles_chars = 84\n",
        "\n",
        "# dimension of input vector\n",
        "input_dim = charset_length * max_smiles_chars\n",
        "\n",
        "# get one-hot representation of the SMILES strings \n",
        "one_hots = smiles_to_onehots(dataset1[\"SMILES\"].values, charset, max_smiles_chars)\n",
        "\n",
        "# split input into train and test sets\n",
        "X_train = one_hots[:-100]\n",
        "X_test = one_hots[-100:]\n",
        "\n",
        "# split output to train and test sets\n",
        "output = dataset1[\"Solubility\"].values\n",
        "Y_train = output[:-100]\n",
        "Y_test = output[-100:]"
      ],
      "execution_count": 17,
      "outputs": [
        {
          "output_type": "stream",
          "text": [
            "65\n"
          ],
          "name": "stdout"
        }
      ]
    },
    {
      "cell_type": "code",
      "metadata": {
        "colab": {
          "base_uri": "https://localhost:8080/"
        },
        "id": "T_02_PT6hRV1",
        "outputId": "710be689-ef23-4537-ab37-f472da99f246"
      },
      "source": [
        "type(one_hots) \n",
        "#type(new_df)\n",
        "one_hots.shape\n",
        "#new_df.shape \n",
        "#df = pd.DataFrame(one_hots)\n",
        "### Comining in single dataframe ...  \n",
        "### To make X matrix \n",
        "#age_sex = titanic[[\"Age\", \"Sex\"]]\n",
        "#new_df=dataset1[[\"MolWt\",\t\"MolLogP\"]]\n",
        "#print(new_df)\n",
        "#X = pd.concat([X_train,new_df], axis=1)\n",
        "#X"
      ],
      "execution_count": 15,
      "outputs": [
        {
          "output_type": "execute_result",
          "data": {
            "text/plain": [
              "(9608, 84, 65)"
            ]
          },
          "metadata": {
            "tags": []
          },
          "execution_count": 15
        }
      ]
    },
    {
      "cell_type": "code",
      "metadata": {
        "id": "iiuczu-Q2gVD"
      },
      "source": [
        "#df = pd.DataFrame(data=one_hots, index=None, columns=None)\n",
        "#df = pd.DataFrame(one_hots[:,0,0])\n",
        "#df\n",
        "#df = pd.Panel(one_hots).to_frame()\n",
        "#print (df)\n",
        "\n",
        "#arr = one_hots.transpose(0,1,2)\n",
        "#df = pd.concat([pd.DataFrame(x) for x in arr], keys=np.arange(arr.shape[2]))\n",
        "#print (df)\n",
        "   "
      ],
      "execution_count": null,
      "outputs": []
    },
    {
      "cell_type": "code",
      "metadata": {
        "colab": {
          "base_uri": "https://localhost:8080/",
          "height": 197
        },
        "id": "bEgUhE4rq-l9",
        "outputId": "58c977fd-d451-4588-cf34-f30c06b19c4b"
      },
      "source": [
        "df1 = new_df.set_index(new_df.groupby(level=0).cumcount(), append=True)\n",
        "df2 = one_hots.set.set_index(X_train.groupby(level=0).cumcount(), append=True)\n",
        "df = pd.concat([df1, df2], axis=1, ignore_index=True).reset_index(drop=True, level=1)"
      ],
      "execution_count": null,
      "outputs": [
        {
          "output_type": "error",
          "ename": "AttributeError",
          "evalue": "ignored",
          "traceback": [
            "\u001b[0;31m---------------------------------------------------------------------------\u001b[0m",
            "\u001b[0;31mAttributeError\u001b[0m                            Traceback (most recent call last)",
            "\u001b[0;32m<ipython-input-38-bfbb98028f66>\u001b[0m in \u001b[0;36m<module>\u001b[0;34m()\u001b[0m\n\u001b[1;32m      1\u001b[0m \u001b[0mdf1\u001b[0m \u001b[0;34m=\u001b[0m \u001b[0mnew_df\u001b[0m\u001b[0;34m.\u001b[0m\u001b[0mset_index\u001b[0m\u001b[0;34m(\u001b[0m\u001b[0mnew_df\u001b[0m\u001b[0;34m.\u001b[0m\u001b[0mgroupby\u001b[0m\u001b[0;34m(\u001b[0m\u001b[0mlevel\u001b[0m\u001b[0;34m=\u001b[0m\u001b[0;36m0\u001b[0m\u001b[0;34m)\u001b[0m\u001b[0;34m.\u001b[0m\u001b[0mcumcount\u001b[0m\u001b[0;34m(\u001b[0m\u001b[0;34m)\u001b[0m\u001b[0;34m,\u001b[0m \u001b[0mappend\u001b[0m\u001b[0;34m=\u001b[0m\u001b[0;32mTrue\u001b[0m\u001b[0;34m)\u001b[0m\u001b[0;34m\u001b[0m\u001b[0;34m\u001b[0m\u001b[0m\n\u001b[0;32m----> 2\u001b[0;31m \u001b[0mdf2\u001b[0m \u001b[0;34m=\u001b[0m \u001b[0mone_hots\u001b[0m\u001b[0;34m.\u001b[0m\u001b[0mset_index\u001b[0m\u001b[0;34m(\u001b[0m\u001b[0mX_train\u001b[0m\u001b[0;34m.\u001b[0m\u001b[0mgroupby\u001b[0m\u001b[0;34m(\u001b[0m\u001b[0mlevel\u001b[0m\u001b[0;34m=\u001b[0m\u001b[0;36m0\u001b[0m\u001b[0;34m)\u001b[0m\u001b[0;34m.\u001b[0m\u001b[0mcumcount\u001b[0m\u001b[0;34m(\u001b[0m\u001b[0;34m)\u001b[0m\u001b[0;34m,\u001b[0m \u001b[0mappend\u001b[0m\u001b[0;34m=\u001b[0m\u001b[0;32mTrue\u001b[0m\u001b[0;34m)\u001b[0m\u001b[0;34m\u001b[0m\u001b[0;34m\u001b[0m\u001b[0m\n\u001b[0m\u001b[1;32m      3\u001b[0m \u001b[0mdf\u001b[0m \u001b[0;34m=\u001b[0m \u001b[0mpd\u001b[0m\u001b[0;34m.\u001b[0m\u001b[0mconcat\u001b[0m\u001b[0;34m(\u001b[0m\u001b[0;34m[\u001b[0m\u001b[0mdf1\u001b[0m\u001b[0;34m,\u001b[0m \u001b[0mdf2\u001b[0m\u001b[0;34m]\u001b[0m\u001b[0;34m,\u001b[0m \u001b[0maxis\u001b[0m\u001b[0;34m=\u001b[0m\u001b[0;36m1\u001b[0m\u001b[0;34m,\u001b[0m \u001b[0mignore_index\u001b[0m\u001b[0;34m=\u001b[0m\u001b[0;32mTrue\u001b[0m\u001b[0;34m)\u001b[0m\u001b[0;34m.\u001b[0m\u001b[0mreset_index\u001b[0m\u001b[0;34m(\u001b[0m\u001b[0mdrop\u001b[0m\u001b[0;34m=\u001b[0m\u001b[0;32mTrue\u001b[0m\u001b[0;34m,\u001b[0m \u001b[0mlevel\u001b[0m\u001b[0;34m=\u001b[0m\u001b[0;36m1\u001b[0m\u001b[0;34m)\u001b[0m\u001b[0;34m\u001b[0m\u001b[0;34m\u001b[0m\u001b[0m\n",
            "\u001b[0;31mAttributeError\u001b[0m: 'numpy.ndarray' object has no attribute 'set_index'"
          ]
        }
      ]
    },
    {
      "cell_type": "markdown",
      "metadata": {
        "id": "GAnYkVAhJbwn"
      },
      "source": [
        ""
      ]
    },
    {
      "cell_type": "code",
      "metadata": {
        "colab": {
          "base_uri": "https://localhost:8080/"
        },
        "id": "ERglhiYVF1UH",
        "outputId": "20677014-0ed1-4880-afb9-523a1bbfa70e"
      },
      "source": [
        "### Now we can have look for the input data ....\n",
        "X_train_length = len(X_train)\n",
        "X_test_length = len(X_test)\n",
        "Y_train_length = len(Y_train)\n",
        "Y_test_length = len(Y_test)\n",
        "\n",
        "print(\" Numebr of X_train data ::\",X_train_length)\n",
        "print(\" Numebr of X_test data ::\",X_test_length)\n",
        "print(\" Numebr of Y_train data ::\",Y_train_length)\n",
        "print(\" Numebr of Y_test data ::\",Y_test_length)\n"
      ],
      "execution_count": 18,
      "outputs": [
        {
          "output_type": "stream",
          "text": [
            " Numebr of X_train data :: 9508\n",
            " Numebr of X_test data :: 100\n",
            " Numebr of Y_train data :: 9508\n",
            " Numebr of Y_test data :: 100\n"
          ],
          "name": "stdout"
        }
      ]
    },
    {
      "cell_type": "code",
      "metadata": {
        "colab": {
          "base_uri": "https://localhost:8080/",
          "height": 303
        },
        "id": "1_czMDKOHxmc",
        "outputId": "7b9fdd8e-160e-40ad-a5e6-ed268961b333"
      },
      "source": [
        "### Visulaization of one hot encoder string as SMILES \n",
        "index = 7221\n",
        "sns.heatmap(X_train[index]) # This is a single training example -- note that it is a matrix, not a single vector!\n",
        "plt.xlabel('Character')\n",
        "plt.ylabel('Position in SMILES String')\n",
        "print(dataset.iloc[index]['SMILES'])"
      ],
      "execution_count": 19,
      "outputs": [
        {
          "output_type": "stream",
          "text": [
            "[Na+].[Na+].[O-][S](=O)(=O)c1ccc2c(C=CC(=O)/C2=N/Nc3ccc(N=Nc4ccc(Nc5ccccc5)c(c4)[S]([O-])(=O)=O)c6ccccc36)c1\n"
          ],
          "name": "stdout"
        },
        {
          "output_type": "display_data",
          "data": {
            "image/png": "[encoded data removed]",
            "text/plain": [
              "<Figure size 432x288 with 2 Axes>"
            ]
          },
          "metadata": {
            "tags": [],
            "needs_background": "light"
          }
        }
      ]
    },
    {
      "cell_type": "markdown",
      "metadata": {
        "id": "SsxRbLU-JfDo"
      },
      "source": [
        "Supervised CNN model for predicting solubility In this section, we will set up a convolutional neural network to predict solubility using one-hot SMILES as input. A convolutional neural network is a machine learning model that is commonly used to classify images, and you can learn more about them here.\n",
        "\n",
        "Define model structure First, we will create the model structure, starting with the input layer. As described above, each training example is a 783x65 matrix, which is the shape we pass to the Input layer in Keras."
      ]
    },
    {
      "cell_type": "code",
      "metadata": {
        "id": "jl_eNFbsJrWV"
      },
      "source": [
        "# Define the input layer\n",
        "# NOTE: We feed in a sequence here! We're inputting up to max_smiles_chars characters, \n",
        "# and each character is an array of length charset_length\n",
        "smiles_input = Input(shape=(max_smiles_chars, charset_length), name=\"SMILES-Input\")"
      ],
      "execution_count": 20,
      "outputs": []
    },
    {
      "cell_type": "code",
      "metadata": {
        "colab": {
          "base_uri": "https://localhost:8080/"
        },
        "id": "ztUrBgA5JhFc",
        "outputId": "3d544059-6f2d-441a-fa46-27b348714a92"
      },
      "source": [
        "## Shape of the input layer ....\n",
        "smiles_input.shape"
      ],
      "execution_count": 21,
      "outputs": [
        {
          "output_type": "execute_result",
          "data": {
            "text/plain": [
              "TensorShape([None, 84, 65])"
            ]
          },
          "metadata": {
            "tags": []
          },
          "execution_count": 21
        }
      ]
    },
    {
      "cell_type": "markdown",
      "metadata": {
        "id": "hwsAPaufJ-wl"
      },
      "source": [
        "**Next we will define the convolution layers where each layer attempts to learn certain features of the images, such as edges and corners. The input to each layer (a matrix) is transformed via convolution operations, which are element by element multiplications of the input matrix and a filter matrix. The convolutional layer learns the filter matrix that will best identify unique features of the image. You can learn more about convolution operations and the math behind convolutional neural networks here.**\n",
        "\n"
      ]
    },
    {
      "cell_type": "code",
      "metadata": {
        "id": "zT92n1UtKCP9"
      },
      "source": [
        "# Set parameters for convolutional layers \n",
        "num_conv_filters = 16\n",
        "kernel_size = 3\n",
        "\n",
        "init_weights = initializers.glorot_normal(seed=0)\n",
        "\n",
        "# Define the convolutional layers\n",
        "# Multiple convolutions in a row is a common architecture (but there are many \"right\" choices here)\n",
        "conv_1_func = Conv1D(\n",
        "    filters=num_conv_filters, # What is the \"depth\" of the convolution? How many times do you look at the same spot?\n",
        "    kernel_size=kernel_size, # How \"wide\" of a spot does each filter look at?\n",
        "    name=\"Convolution-1\",\n",
        "    activation=\"relu\", # This is a common activation function: Rectified Linear Unit (ReLU)\n",
        "    kernel_initializer=init_weights #This defines the initial values for the weights\n",
        ")\n",
        "conv_2_func = Conv1D(\n",
        "    filters=num_conv_filters, \n",
        "    kernel_size=kernel_size, \n",
        "    name=\"Convolution-2\",\n",
        "    activation=\"relu\",\n",
        "    kernel_initializer=init_weights\n",
        ")\n",
        "conv_3_func = Conv1D(\n",
        "    filters=num_conv_filters, \n",
        "    kernel_size=kernel_size, \n",
        "    name=\"Convolution-3\",\n",
        "    activation=\"relu\",\n",
        "    kernel_initializer=init_weights\n",
        ")\n",
        "conv_4_func = Conv1D(\n",
        "    filters=num_conv_filters, \n",
        "    kernel_size=kernel_size,\n",
        "    name=\"Convolution-4\",\n",
        "    activation=\"relu\",\n",
        "    kernel_initializer=init_weights\n",
        ")\n",
        "\n"
      ],
      "execution_count": 22,
      "outputs": []
    },
    {
      "cell_type": "markdown",
      "metadata": {
        "id": "P8NMuxsSKRn6"
      },
      "source": [
        "The four convolution layers defined above will attempt to learn features of the SMILES string (represented as a 783x65 matrix) that are relevant to predicting the solubility. To get a numerical prediction, we now flatten the output of the convolution and pass it to a set of regular Dense layers, the last layer predicting one value for the solubility."
      ]
    },
    {
      "cell_type": "code",
      "metadata": {
        "id": "oWtz4LvNKXoq"
      },
      "source": [
        "# Define layer to flatten convolutions\n",
        "flatten_func = Flatten(name=\"Flattened-Convolutions\")\n",
        "\n",
        "# Define the activation function layer\n",
        "hidden_size = 32\n",
        "dense_1_func = Dense(hidden_size, activation=\"relu\", name=\"Fully-Connected\", kernel_initializer=init_weights)\n",
        "\n",
        "# Define output layer -- it's only one dimension since it is regression\n",
        "output_size = 1\n",
        "output_solubility_func = Dense(output_size, activation=\"linear\", name=\"Log-Solubility\", kernel_initializer=init_weights)"
      ],
      "execution_count": 23,
      "outputs": []
    },
    {
      "cell_type": "code",
      "metadata": {
        "id": "EOucUD8PKfdh"
      },
      "source": [
        "# connect the CNN graph together\n",
        "conv_1_fwd = conv_1_func(smiles_input)\n",
        "conv_2_fwd = conv_2_func(conv_1_fwd)\n",
        "conv_3_fwd = conv_3_func(conv_2_fwd)\n",
        "conv_4_fwd = conv_4_func(conv_3_fwd)\n",
        "flattened_convs = flatten_func(conv_4_fwd)\n",
        "dense_1_fwd = dense_1_func(flattened_convs)\n",
        "output_solubility_fwd = output_solubility_func(flattened_convs)"
      ],
      "execution_count": 24,
      "outputs": []
    },
    {
      "cell_type": "markdown",
      "metadata": {
        "id": "n64J10CzLG7n"
      },
      "source": [
        "View model structure and metadata Now the model is ready to train! But first we will define the model as solubility_model and compile it, then view some information on the model using the keras2ascii tool, which visually represents the layers in our model."
      ]
    },
    {
      "cell_type": "code",
      "metadata": {
        "id": "jCqPpp-_LFmI"
      },
      "source": [
        "# create model\n",
        "solubility_model = Model(\n",
        "            inputs=[smiles_input],\n",
        "            outputs=[output_solubility_fwd]\n",
        ")\n",
        "\n",
        "# compile model\n",
        "solubility_model.compile(\n",
        "    optimizer=\"adam\",\n",
        "    loss=\"mse\",\n",
        "    metrics=[\"mae\"]\n",
        ")"
      ],
      "execution_count": 25,
      "outputs": []
    },
    {
      "cell_type": "markdown",
      "metadata": {
        "id": "XNXA3HmJLOib"
      },
      "source": [
        "Train CNN Now we will train our CNN solubility model to the training data! During training, we will see metrics printed after each epoch such as test/train loss (both as Mean Squared Error (MSE) and Mean Absolute Error (MAE)).\n",
        "\n"
      ]
    },
    {
      "cell_type": "code",
      "metadata": {
        "colab": {
          "base_uri": "https://localhost:8080/"
        },
        "id": "wk48EN4RLK_i",
        "outputId": "22befdbf-8ac2-4ed2-b8c6-252a13daaf48"
      },
      "source": [
        "history = solubility_model.fit(\n",
        "    X_train, # Inputs\n",
        "    Y_train, # Outputs\n",
        "    epochs=100, # How many times to pass over the data\n",
        "    batch_size=32, # How many data rows to compute at once\n",
        "    verbose=1,\n",
        "    validation_data=(X_test, Y_test), # You would usually use more splits of the data if you plan to tune hyperparams\n",
        ")"
      ],
      "execution_count": 26,
      "outputs": [
        {
          "output_type": "stream",
          "text": [
            "Epoch 1/100\n",
            "298/298 [==============================] - 18s 12ms/step - loss: 5.7255 - mae: 1.8077 - val_loss: 2.4966 - val_mae: 1.1996\n",
            "Epoch 2/100\n",
            "298/298 [==============================] - 3s 10ms/step - loss: 2.2936 - mae: 1.1436 - val_loss: 2.2294 - val_mae: 1.0779\n",
            "Epoch 3/100\n",
            "298/298 [==============================] - 3s 10ms/step - loss: 1.8931 - mae: 1.0280 - val_loss: 1.8348 - val_mae: 0.9739\n",
            "Epoch 4/100\n",
            "298/298 [==============================] - 3s 10ms/step - loss: 1.7041 - mae: 0.9708 - val_loss: 1.6890 - val_mae: 0.9484\n",
            "Epoch 5/100\n",
            "298/298 [==============================] - 3s 10ms/step - loss: 1.5676 - mae: 0.9385 - val_loss: 1.7177 - val_mae: 0.9706\n",
            "Epoch 6/100\n",
            "298/298 [==============================] - 3s 10ms/step - loss: 1.5645 - mae: 0.9317 - val_loss: 1.8105 - val_mae: 0.9589\n",
            "Epoch 7/100\n",
            "298/298 [==============================] - 3s 10ms/step - loss: 1.4494 - mae: 0.9028 - val_loss: 1.6249 - val_mae: 0.9491\n",
            "Epoch 8/100\n",
            "298/298 [==============================] - 3s 11ms/step - loss: 1.4290 - mae: 0.8903 - val_loss: 1.5206 - val_mae: 0.9266\n",
            "Epoch 9/100\n",
            "298/298 [==============================] - 3s 11ms/step - loss: 1.3509 - mae: 0.8635 - val_loss: 1.4192 - val_mae: 0.8921\n",
            "Epoch 10/100\n",
            "298/298 [==============================] - 3s 11ms/step - loss: 1.3499 - mae: 0.8635 - val_loss: 1.4381 - val_mae: 0.9038\n",
            "Epoch 11/100\n",
            "298/298 [==============================] - 3s 11ms/step - loss: 1.2921 - mae: 0.8447 - val_loss: 1.3613 - val_mae: 0.8870\n",
            "Epoch 12/100\n",
            "298/298 [==============================] - 3s 11ms/step - loss: 1.2936 - mae: 0.8449 - val_loss: 1.4374 - val_mae: 0.9193\n",
            "Epoch 13/100\n",
            "298/298 [==============================] - 3s 11ms/step - loss: 1.2264 - mae: 0.8230 - val_loss: 1.3099 - val_mae: 0.8718\n",
            "Epoch 14/100\n",
            "298/298 [==============================] - 3s 11ms/step - loss: 1.2373 - mae: 0.8228 - val_loss: 1.3406 - val_mae: 0.8618\n",
            "Epoch 15/100\n",
            "298/298 [==============================] - 3s 11ms/step - loss: 1.1722 - mae: 0.8097 - val_loss: 1.6375 - val_mae: 1.0050\n",
            "Epoch 16/100\n",
            "298/298 [==============================] - 3s 11ms/step - loss: 1.2542 - mae: 0.8273 - val_loss: 1.4489 - val_mae: 0.9433\n",
            "Epoch 17/100\n",
            "298/298 [==============================] - 3s 11ms/step - loss: 1.1565 - mae: 0.7928 - val_loss: 1.3297 - val_mae: 0.8848\n",
            "Epoch 18/100\n",
            "298/298 [==============================] - 3s 11ms/step - loss: 1.2518 - mae: 0.8416 - val_loss: 1.2666 - val_mae: 0.8716\n",
            "Epoch 19/100\n",
            "298/298 [==============================] - 3s 11ms/step - loss: 1.0624 - mae: 0.7670 - val_loss: 1.3383 - val_mae: 0.8837\n",
            "Epoch 20/100\n",
            "298/298 [==============================] - 3s 11ms/step - loss: 1.0956 - mae: 0.7881 - val_loss: 1.2601 - val_mae: 0.8880\n",
            "Epoch 21/100\n",
            "298/298 [==============================] - 3s 11ms/step - loss: 1.1197 - mae: 0.7799 - val_loss: 1.2720 - val_mae: 0.8739\n",
            "Epoch 22/100\n",
            "298/298 [==============================] - 3s 11ms/step - loss: 1.0649 - mae: 0.7663 - val_loss: 1.2628 - val_mae: 0.8783\n",
            "Epoch 23/100\n",
            "298/298 [==============================] - 3s 11ms/step - loss: 1.0361 - mae: 0.7593 - val_loss: 1.1213 - val_mae: 0.8260\n",
            "Epoch 24/100\n",
            "298/298 [==============================] - 3s 11ms/step - loss: 1.0359 - mae: 0.7581 - val_loss: 1.1503 - val_mae: 0.8401\n",
            "Epoch 25/100\n",
            "298/298 [==============================] - 3s 11ms/step - loss: 1.0146 - mae: 0.7567 - val_loss: 1.1095 - val_mae: 0.8206\n",
            "Epoch 26/100\n",
            "298/298 [==============================] - 3s 11ms/step - loss: 0.9840 - mae: 0.7434 - val_loss: 1.1409 - val_mae: 0.8326\n",
            "Epoch 27/100\n",
            "298/298 [==============================] - 3s 11ms/step - loss: 1.0035 - mae: 0.7472 - val_loss: 1.2324 - val_mae: 0.8667\n",
            "Epoch 28/100\n",
            "298/298 [==============================] - 3s 11ms/step - loss: 1.0023 - mae: 0.7442 - val_loss: 1.3898 - val_mae: 0.9064\n",
            "Epoch 29/100\n",
            "298/298 [==============================] - 3s 11ms/step - loss: 0.9669 - mae: 0.7402 - val_loss: 1.2349 - val_mae: 0.8535\n",
            "Epoch 30/100\n",
            "298/298 [==============================] - 3s 11ms/step - loss: 0.9734 - mae: 0.7357 - val_loss: 1.1293 - val_mae: 0.8162\n",
            "Epoch 31/100\n",
            "298/298 [==============================] - 3s 11ms/step - loss: 0.9470 - mae: 0.7284 - val_loss: 1.1518 - val_mae: 0.8456\n",
            "Epoch 32/100\n",
            "298/298 [==============================] - 3s 11ms/step - loss: 0.9225 - mae: 0.7199 - val_loss: 1.2984 - val_mae: 0.8663\n",
            "Epoch 33/100\n",
            "298/298 [==============================] - 3s 11ms/step - loss: 0.9243 - mae: 0.7205 - val_loss: 1.1923 - val_mae: 0.8526\n",
            "Epoch 34/100\n",
            "298/298 [==============================] - 3s 11ms/step - loss: 0.9042 - mae: 0.7080 - val_loss: 1.1482 - val_mae: 0.8342\n",
            "Epoch 35/100\n",
            "298/298 [==============================] - 3s 11ms/step - loss: 0.9109 - mae: 0.7109 - val_loss: 1.2922 - val_mae: 0.8809\n",
            "Epoch 36/100\n",
            "298/298 [==============================] - 3s 11ms/step - loss: 0.8922 - mae: 0.7058 - val_loss: 1.2256 - val_mae: 0.8514\n",
            "Epoch 37/100\n",
            "298/298 [==============================] - 3s 11ms/step - loss: 0.8880 - mae: 0.7082 - val_loss: 1.2187 - val_mae: 0.8639\n",
            "Epoch 38/100\n",
            "298/298 [==============================] - 3s 11ms/step - loss: 0.8640 - mae: 0.7050 - val_loss: 1.3569 - val_mae: 0.8865\n",
            "Epoch 39/100\n",
            "298/298 [==============================] - 3s 11ms/step - loss: 0.8550 - mae: 0.6945 - val_loss: 1.1838 - val_mae: 0.8554\n",
            "Epoch 40/100\n",
            "298/298 [==============================] - 3s 11ms/step - loss: 0.8334 - mae: 0.6869 - val_loss: 1.3739 - val_mae: 0.8848\n",
            "Epoch 41/100\n",
            "298/298 [==============================] - 3s 11ms/step - loss: 0.8487 - mae: 0.6899 - val_loss: 1.2219 - val_mae: 0.8546\n",
            "Epoch 42/100\n",
            "298/298 [==============================] - 3s 11ms/step - loss: 0.8024 - mae: 0.6777 - val_loss: 1.2403 - val_mae: 0.8769\n",
            "Epoch 43/100\n",
            "298/298 [==============================] - 3s 11ms/step - loss: 0.8184 - mae: 0.6812 - val_loss: 1.1806 - val_mae: 0.8620\n",
            "Epoch 44/100\n",
            "298/298 [==============================] - 3s 11ms/step - loss: 0.8196 - mae: 0.6750 - val_loss: 1.2484 - val_mae: 0.8588\n",
            "Epoch 45/100\n",
            "298/298 [==============================] - 3s 11ms/step - loss: 0.8016 - mae: 0.6758 - val_loss: 1.1869 - val_mae: 0.8385\n",
            "Epoch 46/100\n",
            "298/298 [==============================] - 3s 11ms/step - loss: 0.7978 - mae: 0.6724 - val_loss: 1.2366 - val_mae: 0.8619\n",
            "Epoch 47/100\n",
            "298/298 [==============================] - 3s 11ms/step - loss: 0.7723 - mae: 0.6636 - val_loss: 1.2115 - val_mae: 0.8462\n",
            "Epoch 48/100\n",
            "298/298 [==============================] - 3s 11ms/step - loss: 0.7560 - mae: 0.6589 - val_loss: 1.2744 - val_mae: 0.8650\n",
            "Epoch 49/100\n",
            "298/298 [==============================] - 3s 11ms/step - loss: 0.7704 - mae: 0.6631 - val_loss: 1.2963 - val_mae: 0.8630\n",
            "Epoch 50/100\n",
            "298/298 [==============================] - 3s 11ms/step - loss: 0.7602 - mae: 0.6559 - val_loss: 1.3038 - val_mae: 0.8575\n",
            "Epoch 51/100\n",
            "298/298 [==============================] - 3s 11ms/step - loss: 0.7320 - mae: 0.6454 - val_loss: 1.3347 - val_mae: 0.8858\n",
            "Epoch 52/100\n",
            "298/298 [==============================] - 3s 11ms/step - loss: 0.7365 - mae: 0.6467 - val_loss: 1.3082 - val_mae: 0.8647\n",
            "Epoch 53/100\n",
            "298/298 [==============================] - 3s 11ms/step - loss: 0.7527 - mae: 0.6557 - val_loss: 1.2461 - val_mae: 0.8440\n",
            "Epoch 54/100\n",
            "298/298 [==============================] - 3s 11ms/step - loss: 0.7387 - mae: 0.6394 - val_loss: 1.3653 - val_mae: 0.8991\n",
            "Epoch 55/100\n",
            "298/298 [==============================] - 3s 11ms/step - loss: 0.7625 - mae: 0.6573 - val_loss: 1.3613 - val_mae: 0.8669\n",
            "Epoch 56/100\n",
            "298/298 [==============================] - 3s 11ms/step - loss: 0.7086 - mae: 0.6425 - val_loss: 1.4109 - val_mae: 0.8662\n",
            "Epoch 57/100\n",
            "298/298 [==============================] - 3s 11ms/step - loss: 0.7091 - mae: 0.6335 - val_loss: 1.3678 - val_mae: 0.8877\n",
            "Epoch 58/100\n",
            "298/298 [==============================] - 3s 11ms/step - loss: 0.6924 - mae: 0.6295 - val_loss: 1.3353 - val_mae: 0.8697\n",
            "Epoch 59/100\n",
            "298/298 [==============================] - 3s 11ms/step - loss: 0.7041 - mae: 0.6307 - val_loss: 1.3174 - val_mae: 0.8769\n",
            "Epoch 60/100\n",
            "298/298 [==============================] - 3s 11ms/step - loss: 0.6811 - mae: 0.6285 - val_loss: 1.3787 - val_mae: 0.8733\n",
            "Epoch 61/100\n",
            "298/298 [==============================] - 3s 11ms/step - loss: 0.6725 - mae: 0.6146 - val_loss: 1.2645 - val_mae: 0.8497\n",
            "Epoch 62/100\n",
            "298/298 [==============================] - 3s 11ms/step - loss: 0.6612 - mae: 0.6132 - val_loss: 1.4214 - val_mae: 0.9264\n",
            "Epoch 63/100\n",
            "298/298 [==============================] - 3s 11ms/step - loss: 0.6520 - mae: 0.6126 - val_loss: 1.5976 - val_mae: 0.9080\n",
            "Epoch 64/100\n",
            "298/298 [==============================] - 3s 11ms/step - loss: 0.6834 - mae: 0.6274 - val_loss: 1.2431 - val_mae: 0.8180\n",
            "Epoch 65/100\n",
            "298/298 [==============================] - 3s 11ms/step - loss: 0.6553 - mae: 0.6088 - val_loss: 1.3042 - val_mae: 0.8606\n",
            "Epoch 66/100\n",
            "298/298 [==============================] - 3s 11ms/step - loss: 0.6421 - mae: 0.6069 - val_loss: 1.4057 - val_mae: 0.8696\n",
            "Epoch 67/100\n",
            "298/298 [==============================] - 3s 11ms/step - loss: 0.6288 - mae: 0.6026 - val_loss: 1.3093 - val_mae: 0.8578\n",
            "Epoch 68/100\n",
            "298/298 [==============================] - 3s 11ms/step - loss: 0.6357 - mae: 0.6011 - val_loss: 1.3155 - val_mae: 0.8540\n",
            "Epoch 69/100\n",
            "298/298 [==============================] - 3s 11ms/step - loss: 0.6413 - mae: 0.6044 - val_loss: 1.2756 - val_mae: 0.8418\n",
            "Epoch 70/100\n",
            "298/298 [==============================] - 3s 11ms/step - loss: 0.6050 - mae: 0.5842 - val_loss: 1.4170 - val_mae: 0.8872\n",
            "Epoch 71/100\n",
            "298/298 [==============================] - 3s 11ms/step - loss: 0.6303 - mae: 0.6028 - val_loss: 1.2324 - val_mae: 0.8336\n",
            "Epoch 72/100\n",
            "298/298 [==============================] - 3s 11ms/step - loss: 0.6219 - mae: 0.5976 - val_loss: 1.2687 - val_mae: 0.8221\n",
            "Epoch 73/100\n",
            "298/298 [==============================] - 3s 11ms/step - loss: 0.6261 - mae: 0.5994 - val_loss: 1.3239 - val_mae: 0.8653\n",
            "Epoch 74/100\n",
            "298/298 [==============================] - 3s 11ms/step - loss: 0.6014 - mae: 0.5893 - val_loss: 1.2163 - val_mae: 0.7934\n",
            "Epoch 75/100\n",
            "298/298 [==============================] - 3s 11ms/step - loss: 0.6114 - mae: 0.5884 - val_loss: 1.3199 - val_mae: 0.8336\n",
            "Epoch 76/100\n",
            "298/298 [==============================] - 3s 11ms/step - loss: 0.6098 - mae: 0.5887 - val_loss: 1.4125 - val_mae: 0.8655\n",
            "Epoch 77/100\n",
            "298/298 [==============================] - 3s 11ms/step - loss: 0.5727 - mae: 0.5740 - val_loss: 1.3289 - val_mae: 0.8333\n",
            "Epoch 78/100\n",
            "298/298 [==============================] - 3s 11ms/step - loss: 0.5856 - mae: 0.5819 - val_loss: 1.3787 - val_mae: 0.8671\n",
            "Epoch 79/100\n",
            "298/298 [==============================] - 3s 11ms/step - loss: 0.6069 - mae: 0.5924 - val_loss: 1.3112 - val_mae: 0.8197\n",
            "Epoch 80/100\n",
            "298/298 [==============================] - 3s 11ms/step - loss: 0.5895 - mae: 0.5808 - val_loss: 1.3819 - val_mae: 0.8377\n",
            "Epoch 81/100\n",
            "298/298 [==============================] - 3s 11ms/step - loss: 0.6022 - mae: 0.5848 - val_loss: 1.3983 - val_mae: 0.8431\n",
            "Epoch 82/100\n",
            "298/298 [==============================] - 3s 11ms/step - loss: 0.5550 - mae: 0.5679 - val_loss: 1.3049 - val_mae: 0.8194\n",
            "Epoch 83/100\n",
            "298/298 [==============================] - 3s 11ms/step - loss: 0.5683 - mae: 0.5709 - val_loss: 1.2762 - val_mae: 0.8169\n",
            "Epoch 84/100\n",
            "298/298 [==============================] - 3s 11ms/step - loss: 0.6016 - mae: 0.5856 - val_loss: 1.2478 - val_mae: 0.8068\n",
            "Epoch 85/100\n",
            "298/298 [==============================] - 3s 11ms/step - loss: 0.5568 - mae: 0.5693 - val_loss: 1.3989 - val_mae: 0.8390\n",
            "Epoch 86/100\n",
            "298/298 [==============================] - 3s 11ms/step - loss: 0.5533 - mae: 0.5642 - val_loss: 1.3334 - val_mae: 0.8327\n",
            "Epoch 87/100\n",
            "298/298 [==============================] - 3s 11ms/step - loss: 0.5578 - mae: 0.5705 - val_loss: 1.2800 - val_mae: 0.8360\n",
            "Epoch 88/100\n",
            "298/298 [==============================] - 3s 11ms/step - loss: 0.5443 - mae: 0.5595 - val_loss: 1.4001 - val_mae: 0.8476\n",
            "Epoch 89/100\n",
            "298/298 [==============================] - 3s 11ms/step - loss: 0.5542 - mae: 0.5698 - val_loss: 1.3748 - val_mae: 0.8230\n",
            "Epoch 90/100\n",
            "298/298 [==============================] - 3s 11ms/step - loss: 0.5559 - mae: 0.5678 - val_loss: 1.3441 - val_mae: 0.8444\n",
            "Epoch 91/100\n",
            "298/298 [==============================] - 3s 11ms/step - loss: 0.5358 - mae: 0.5528 - val_loss: 1.2626 - val_mae: 0.8207\n",
            "Epoch 92/100\n",
            "298/298 [==============================] - 3s 11ms/step - loss: 0.5513 - mae: 0.5655 - val_loss: 1.3973 - val_mae: 0.8513\n",
            "Epoch 93/100\n",
            "298/298 [==============================] - 3s 11ms/step - loss: 0.5312 - mae: 0.5567 - val_loss: 1.4592 - val_mae: 0.8572\n",
            "Epoch 94/100\n",
            "298/298 [==============================] - 3s 11ms/step - loss: 0.5602 - mae: 0.5723 - val_loss: 1.3835 - val_mae: 0.8289\n",
            "Epoch 95/100\n",
            "298/298 [==============================] - 3s 11ms/step - loss: 0.5072 - mae: 0.5423 - val_loss: 1.3175 - val_mae: 0.8167\n",
            "Epoch 96/100\n",
            "298/298 [==============================] - 3s 11ms/step - loss: 0.5089 - mae: 0.5399 - val_loss: 1.3240 - val_mae: 0.8354\n",
            "Epoch 97/100\n",
            "298/298 [==============================] - 3s 11ms/step - loss: 0.5101 - mae: 0.5461 - val_loss: 1.3556 - val_mae: 0.8289\n",
            "Epoch 98/100\n",
            "298/298 [==============================] - 3s 11ms/step - loss: 0.5108 - mae: 0.5444 - val_loss: 1.5053 - val_mae: 0.8875\n",
            "Epoch 99/100\n",
            "298/298 [==============================] - 3s 11ms/step - loss: 0.5105 - mae: 0.5495 - val_loss: 1.3873 - val_mae: 0.8190\n",
            "Epoch 100/100\n",
            "298/298 [==============================] - 3s 11ms/step - loss: 0.5025 - mae: 0.5401 - val_loss: 1.3526 - val_mae: 0.8391\n"
          ],
          "name": "stdout"
        }
      ]
    },
    {
      "cell_type": "markdown",
      "metadata": {
        "id": "6Y11XN2hjqWR"
      },
      "source": [
        "Let's view the learning curve for the trained model.\n",
        "\n",
        "This code will generate a plot where we show the test and train errors (MSE) as a function of epoch (one pass of all training examples through the NN).\n",
        "\n",
        "The learning curve will tell us if the model is overfitting or underfitting."
      ]
    },
    {
      "cell_type": "code",
      "metadata": {
        "colab": {
          "base_uri": "https://localhost:8080/",
          "height": 295
        },
        "id": "Le3eywCgjrM6",
        "outputId": "b38237ce-b42f-4b8a-db98-1747b019ece5"
      },
      "source": [
        "# plot the learning curve \n",
        "plt.plot(history.history['loss'])\n",
        "plt.plot(history.history['val_loss'])\n",
        "plt.title('Model accuracy')\n",
        "plt.ylabel('Error')\n",
        "plt.xlabel('Epoch')\n",
        "plt.xlim(0,)\n",
        "plt.legend(['Train', 'Validation',], loc='upper left')\n",
        "plt.show()"
      ],
      "execution_count": 27,
      "outputs": [
        {
          "output_type": "display_data",
          "data": {
            "image/png": "[encoded data removed]",
            "text/plain": [
              "<Figure size 432x288 with 1 Axes>"
            ]
          },
          "metadata": {
            "tags": [],
            "needs_background": "light"
          }
        }
      ]
    },
    {
      "cell_type": "markdown",
      "metadata": {
        "id": "9nvjBxOVj3rK"
      },
      "source": [
        "Use CNN to make solubility predictions Now that we've trained our model, we can use it to make solubility predictions for any SMILES string! We just have to convert the SMILES string to 1-hot representation, then feed it to the solubility_model\n",
        "\n"
      ]
    },
    {
      "cell_type": "code",
      "metadata": {
        "colab": {
          "base_uri": "https://localhost:8080/"
        },
        "id": "SXNsydFAj76z",
        "outputId": "a4f064cb-956e-4ac5-b87e-5b1e94e08ec4"
      },
      "source": [
        "example_smiles = [\n",
        "    'CC12CCC3C4:C:C:C(O):C:C:4CCC3C1CCC2O',\n",
        "    'CC1:O:C:C:C:1C(=O)NC1:C:C:C:C:C:1',\n",
        "    'C1:C:C:C2:C(:C:1):C:C:C1:C:2:C:C:C2:C3:C:C:C:C:C:3:C:C:C:2:1'\n",
        "]\n",
        "\n",
        "for smiles in example_smiles:\n",
        "    predict_test_input = smiles_to_onehots([smiles], charset, max_smiles_chars)\n",
        "    solubility_prediction = solubility_model.predict(predict_test_input)[0][0]\n",
        "    print(f'The predicted log solubility for SMILES {smiles} is {solubility_prediction}')"
      ],
      "execution_count": 28,
      "outputs": [
        {
          "output_type": "stream",
          "text": [
            "The predicted log solubility for SMILES CC12CCC3C4:C:C:C(O):C:C:4CCC3C1CCC2O is -4.009276866912842\n",
            "The predicted log solubility for SMILES CC1:O:C:C:C:1C(=O)NC1:C:C:C:C:C:1 is -3.491084098815918\n",
            "The predicted log solubility for SMILES C1:C:C:C2:C(:C:1):C:C:C1:C:2:C:C:C2:C3:C:C:C:C:C:3:C:C:C:2:1 is -6.323359489440918\n"
          ],
          "name": "stdout"
        }
      ]
    },
    {
      "cell_type": "markdown",
      "metadata": {
        "id": "HbkTL5h3kLcD"
      },
      "source": [
        "We can now make a parity plot comparing the CNN model predictions to the ground truth data\n",
        "\n"
      ]
    },
    {
      "cell_type": "code",
      "metadata": {
        "colab": {
          "base_uri": "https://localhost:8080/",
          "height": 312
        },
        "id": "Mom-jsN4kMZp",
        "outputId": "40d50b03-381f-42a4-b2c1-44378901aee4"
      },
      "source": [
        "preds = solubility_model.predict(X_train)\n",
        "x_y_line = np.linspace(min(Y_train.flatten()), max(Y_train.flatten()), 500)\n",
        "plt.plot(Y_train.flatten(), preds.flatten(), 'o', label='predictions')\n",
        "plt.plot(x_y_line, x_y_line, label='y=x')\n",
        "plt.xlabel(\"Log solubility (ground truth)\")\n",
        "plt.ylabel(\"Log solubility (predicted)\")\n",
        "plt.title(\"Parity plot: predictions vs ground truth data\")\n",
        "plt.legend()"
      ],
      "execution_count": 29,
      "outputs": [
        {
          "output_type": "execute_result",
          "data": {
            "text/plain": [
              "<matplotlib.legend.Legend at 0x7fb7836a5b10>"
            ]
          },
          "metadata": {
            "tags": []
          },
          "execution_count": 29
        },
        {
          "output_type": "display_data",
          "data": {
            "image/png": "[encoded data removed]",
            "text/plain": [
              "<Figure size 432x288 with 1 Axes>"
            ]
          },
          "metadata": {
            "tags": [],
            "needs_background": "light"
          }
        }
      ]
    },
    {
      "cell_type": "code",
      "metadata": {
        "colab": {
          "base_uri": "https://localhost:8080/"
        },
        "id": "6udHhxsnkYZI",
        "outputId": "843bcf63-e2be-45a5-8c68-de9663b829af"
      },
      "source": [
        "### Comparartive prediction of y_test and y_test predicted .....\n",
        "Y_test_predited=solubility_model.predict(X_test)\n",
        "#print(Y_test_predited)\n",
        "\n",
        "print(np.concatenate((Y_test_predited.reshape(len(Y_test_predited),1), Y_test.reshape(len(Y_test),1)),1))"
      ],
      "execution_count": 30,
      "outputs": [
        {
          "output_type": "stream",
          "text": [
            "[[-0.36034784 -1.011     ]\n",
            " [-1.56543612  0.86612289]\n",
            " [-6.85283184 -5.5083    ]\n",
            " [-5.45434761 -4.43      ]\n",
            " [-2.14488363 -2.14728672]\n",
            " [-0.53058833  0.1474    ]\n",
            " [-1.44244492 -0.73      ]\n",
            " [-3.14599776 -4.52      ]\n",
            " [-8.71226025 -8.9706    ]\n",
            " [-4.7918992  -3.6037    ]\n",
            " [-1.38425612 -1.113     ]\n",
            " [-3.14457369 -4.8487    ]\n",
            " [-5.20854235 -7.71183298]\n",
            " [ 1.23272991  0.41455855]\n",
            " [-2.76012611 -3.56      ]\n",
            " [-2.90378809 -1.2722    ]\n",
            " [-4.35969019 -1.64278627]\n",
            " [-6.55267286 -6.75508784]\n",
            " [ 0.95234478  1.35228504]\n",
            " [-1.42566931 -2.49      ]\n",
            " [-0.54551524 -2.0843    ]\n",
            " [-7.46068907 -7.0502    ]\n",
            " [-4.20348692 -3.88      ]\n",
            " [-4.38184309 -4.97      ]\n",
            " [-1.7447958  -1.06      ]\n",
            " [-2.19995308 -5.15636041]\n",
            " [-2.11639357 -1.1709    ]\n",
            " [-1.86298752 -2.35      ]\n",
            " [-1.32962811 -1.41      ]\n",
            " [-0.41467041  0.2179    ]\n",
            " [-4.76988316 -3.63124561]\n",
            " [-2.22899151 -2.4107    ]\n",
            " [-7.35976076 -7.78200708]\n",
            " [-6.37590361 -2.13      ]\n",
            " [-2.35127306 -1.9197    ]\n",
            " [-1.75450683 -1.9       ]\n",
            " [-4.68773651 -4.5412    ]\n",
            " [-3.02123046 -3.4833    ]\n",
            " [-4.28465748 -4.61992383]\n",
            " [-3.37975979 -4.207     ]\n",
            " [-1.81446397 -1.1443    ]\n",
            " [-1.88121116 -1.47432132]\n",
            " [-4.21359158 -3.58351004]\n",
            " [-1.48239636 -0.88      ]\n",
            " [-1.27179265 -0.97755017]\n",
            " [ 0.70785969  0.067     ]\n",
            " [-4.15800619 -5.23      ]\n",
            " [-1.64269793 -1.174     ]\n",
            " [-2.17704916 -2.1562    ]\n",
            " [-3.20687675 -4.3128    ]\n",
            " [-6.84278965 -7.05752005]\n",
            " [-3.52578282 -3.89      ]\n",
            " [-6.43874216 -5.27339871]\n",
            " [-4.52020025 -8.4024    ]\n",
            " [-2.56941652 -1.89      ]\n",
            " [-1.22860622 -1.28      ]\n",
            " [-1.83225775 -1.1428    ]\n",
            " [-4.44104671 -5.46231129]\n",
            " [-3.88325739 -2.79      ]\n",
            " [-1.30581355 -0.01892303]\n",
            " [-3.17647982 -2.92262005]\n",
            " [-1.80689692 -2.0655    ]\n",
            " [-1.56216359 -0.72      ]\n",
            " [-4.43331623 -1.5883    ]\n",
            " [-2.4905324  -2.04391217]\n",
            " [-4.97382307 -5.17123485]\n",
            " [-2.7087357  -2.88      ]\n",
            " [-2.29122472 -1.507     ]\n",
            " [ 0.93987072  0.65309766]\n",
            " [-2.52030849 -2.77822679]\n",
            " [-2.01068687 -1.9111656 ]\n",
            " [-3.8935163  -4.04366292]\n",
            " [-3.68621516 -3.71      ]\n",
            " [-1.83448017 -1.74423286]\n",
            " [-2.08256173 -2.08      ]\n",
            " [-0.58557284 -0.16577524]\n",
            " [ 0.71593589  1.00171781]\n",
            " [-3.79633427 -3.71      ]\n",
            " [-1.92544317 -2.9549    ]\n",
            " [-7.02170849 -7.31      ]\n",
            " [-1.0222733  -0.46079398]\n",
            " [-3.55149984 -5.5263    ]\n",
            " [-3.66983747 -3.4365    ]\n",
            " [-1.0112524   0.5413    ]\n",
            " [-2.97768331 -2.83047019]\n",
            " [-2.57148314 -0.29      ]\n",
            " [-1.65598512 -3.11      ]\n",
            " [-0.45426232  0.2728975 ]\n",
            " [-0.52335691  0.03847382]\n",
            " [-1.35534465 -0.81768141]\n",
            " [-8.66422367 -8.25209834]\n",
            " [-1.19664264 -1.9302    ]\n",
            " [-1.96694994 -1.2025    ]\n",
            " [-1.07620561  0.5402    ]\n",
            " [-2.21459675 -3.64      ]\n",
            " [-0.94476527  0.01      ]\n",
            " [-3.47894406 -4.796     ]\n",
            " [ 0.21085529  0.72547731]\n",
            " [-4.42088175 -4.634     ]\n",
            " [-3.5741396  -1.59240604]]\n"
          ],
          "name": "stdout"
        }
      ]
    },
    {
      "cell_type": "code",
      "metadata": {
        "colab": {
          "base_uri": "https://localhost:8080/"
        },
        "id": "D0mcoEQgkmU7",
        "outputId": "f1ff5055-9df2-4927-b10d-becf26537794"
      },
      "source": [
        "from sklearn.metrics import r2_score\n",
        "r2_score(Y_test, Y_test_predited)"
      ],
      "execution_count": 31,
      "outputs": [
        {
          "output_type": "execute_result",
          "data": {
            "text/plain": [
              "0.7548102658411036"
            ]
          },
          "metadata": {
            "tags": []
          },
          "execution_count": 31
        }
      ]
    }
  ]
}