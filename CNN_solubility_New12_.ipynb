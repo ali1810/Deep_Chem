{
  "nbformat": 4,
  "nbformat_minor": 0,
  "metadata": {
    "colab": {
      "name": "CNN_solubility_New12 .ipynb",
      "provenance": [],
      "collapsed_sections": [],
      "mount_file_id": "1u7lkv46UPik_KJiqn9iL8QDGzOeDU6QE",
      "authorship_tag": "ABX9TyMRlMyBDyoxklAt9tikOvG3",
      "include_colab_link": true
    },
    "kernelspec": {
      "name": "python3",
      "display_name": "Python 3"
    },
    "language_info": {
      "name": "python"
    }
  },
  "cells": [
    {
      "cell_type": "markdown",
      "metadata": {
        "id": "view-in-github",
        "colab_type": "text"
      },
      "source": [
        "<a href=\"https://colab.research.google.com/github/ali1810/Deep_Chem/blob/main/CNN_solubility_New12_.ipynb\" target=\"_parent\"><img src=\"https://colab.research.google.com/assets/colab-badge.svg\" alt=\"Open In Colab\"/></a>"
      ]
    },
    {
      "cell_type": "markdown",
      "metadata": {
        "id": "OwM0KC9nHVpt"
      },
      "source": [
        ""
      ]
    },
    {
      "cell_type": "markdown",
      "metadata": {
        "id": "BELdgHcMHUW7"
      },
      "source": [
        "# **Hands-on Deep Learning for Compounbds solubility **\n",
        "\n",
        "In this notebook, you will learn how to train deep learning models to predict the aqueous solubility of organic materials given their composition.\n",
        "\n",
        "The composition will be specified as SMILES strings, which are a convenient way to represent the structure of organic materials. You can learn more about SMILES strings here. We will use these SMILES strings as inputs to a convolutional neural network and predict the solubility of organic materials.\n",
        "\n",
        "Outline of this notebook:\n",
        "Load and pre-process training data\n",
        "Load solubility dataset containing many organic molecules and their associated solubilities\n",
        "Pre-process data and split to test/train sets\n",
        "Train a Convolutional neural network (CNN)\n",
        "Train a CNN to predict solubility\n",
        "Predict solubility from any given SMILES representation of a molecule"
      ]
    },
    {
      "cell_type": "code",
      "metadata": {
        "colab": {
          "base_uri": "https://localhost:8080/"
        },
        "id": "N-aBhT7xLXcE",
        "outputId": "fb296684-ea7b-403a-ea74-65ac301afb8b"
      },
      "source": [
        "!pip install utils"
      ],
      "execution_count": null,
      "outputs": [
        {
          "output_type": "stream",
          "text": [
            "Collecting utils\n",
            "  Downloading utils-1.0.1-py2.py3-none-any.whl (21 kB)\n",
            "Installing collected packages: utils\n",
            "Successfully installed utils-1.0.1\n"
          ],
          "name": "stdout"
        }
      ]
    },
    {
      "cell_type": "code",
      "metadata": {
        "colab": {
          "base_uri": "https://localhost:8080/"
        },
        "id": "gARzDEdpLhTA",
        "outputId": "42f31430-3cc8-4be7-8a9b-60be89c08270"
      },
      "source": [
        "! pip install keras_sequential_ascii"
      ],
      "execution_count": null,
      "outputs": [
        {
          "output_type": "stream",
          "text": [
            "Collecting keras_sequential_ascii\n",
            "  Downloading keras_sequential_ascii-0.1.1.tar.gz (3.5 kB)\n",
            "Requirement already satisfied: keras in /usr/local/lib/python3.7/dist-packages (from keras_sequential_ascii) (2.6.0)\n",
            "Building wheels for collected packages: keras-sequential-ascii\n",
            "  Building wheel for keras-sequential-ascii (setup.py) ... \u001b[?25l\u001b[?25hdone\n",
            "  Created wheel for keras-sequential-ascii: filename=keras_sequential_ascii-0.1.1-py3-none-any.whl size=3062 sha256=5cdd5f39490f63961eca51a34646d38c8cfb6cd7ad630242fc27999c47cde967\n",
            "  Stored in directory: /root/.cache/pip/wheels/4e/99/75/8910ced4b40e8c20088c237fa706b32ac758321482ae2659e3\n",
            "Successfully built keras-sequential-ascii\n",
            "Installing collected packages: keras-sequential-ascii\n",
            "Successfully installed keras-sequential-ascii-0.1.1\n"
          ],
          "name": "stdout"
        }
      ]
    },
    {
      "cell_type": "code",
      "metadata": {
        "id": "5SrBAIw4Hlgy"
      },
      "source": [
        "# general imports\n",
        "import pandas as pd\n",
        "import seaborn as sns\n",
        "import matplotlib.pyplot as plt\n",
        "import numpy as np\n",
        "\n",
        "# keras imports\n",
        "from keras.layers import (Input, Dense, Conv1D, MaxPool1D, Dropout, GRU, LSTM, \n",
        "                          TimeDistributed, Add, Flatten, RepeatVector, Lambda, Concatenate)\n",
        "from keras.models import Model, load_model\n",
        "from keras.metrics import binary_crossentropy\n",
        "from keras import initializers\n",
        "import keras.backend as K\n",
        "\n",
        "# Visualization\n",
        "#from keras_sequential_ascii import keras2ascii\n",
        "\n",
        "# utils functions\n",
        "#from utils import *\n",
        "\n",
        "import os\n",
        "os.environ['KMP_DUPLICATE_LIB_OK']='True'\n",
        "\n",
        "# Remove warnings from output\n",
        "import warnings\n",
        "warnings.filterwarnings('ignore')"
      ],
      "execution_count": 1,
      "outputs": []
    },
    {
      "cell_type": "markdown",
      "metadata": {
        "id": "MSBp8obpLv0E"
      },
      "source": [
        "Load, view, and preprocess dataset\n",
        "We will use the ESOL dataset to train our models. The ESOL dataset contains the solubility of various small organic molecules. I will begin by loading the dataset as a dataframe and then inspecting some basic metadata. We'll also preprocess the dataset and create train/test splits for the Convolutional Neural Network (CNN) \n"
      ]
    },
    {
      "cell_type": "code",
      "metadata": {
        "colab": {
          "base_uri": "https://localhost:8080/",
          "height": 401
        },
        "id": "m3yZaYzkLyfo",
        "outputId": "c385e185-2b76-408c-f47d-3251392f5fcc"
      },
      "source": [
        "# read dataset as a dataframe\n",
        "dataset = pd.read_csv(\"/content/drive/MyDrive/ESOL_delaney-processed.csv\")\n",
        "\n",
        "# print column names in dataset\n",
        "print(f\"Columns in dataset: {list(dataset.columns)}\")\n",
        "\n",
        "# print number of rows in dataset\n",
        "print(f\"\\nLength of dataset: {len(dataset)}\")\n",
        "\n",
        "# shuffle rows of the dataset (we could do this later as well when doing train/test splits)\n",
        "dataset = dataset.sample(frac=1, random_state=0)\n",
        "\n",
        "# show first 5 rows of dataframe\n",
        "dataset.head()"
      ],
      "execution_count": 3,
      "outputs": [
        {
          "output_type": "stream",
          "text": [
            "Columns in dataset: ['Unnamed: 0', 'Compound ID', 'ESOL predicted log solubility in mols per litre', 'Minimum Degree', 'Molecular Weight', 'Number of H-Bond Donors', 'Number of Rings', 'Number of Rotatable Bonds', 'Polar Surface Area', 'measured log solubility in mols per litre', 'smiles']\n",
            "\n",
            "Length of dataset: 1128\n"
          ],
          "name": "stdout"
        },
        {
          "output_type": "execute_result",
          "data": {
            "text/html": [
              "<div>\n",
              "<style scoped>\n",
              "    .dataframe tbody tr th:only-of-type {\n",
              "        vertical-align: middle;\n",
              "    }\n",
              "\n",
              "    .dataframe tbody tr th {\n",
              "        vertical-align: top;\n",
              "    }\n",
              "\n",
              "    .dataframe thead th {\n",
              "        text-align: right;\n",
              "    }\n",
              "</style>\n",
              "<table border=\"1\" class=\"dataframe\">\n",
              "  <thead>\n",
              "    <tr style=\"text-align: right;\">\n",
              "      <th></th>\n",
              "      <th>Unnamed: 0</th>\n",
              "      <th>Compound ID</th>\n",
              "      <th>ESOL predicted log solubility in mols per litre</th>\n",
              "      <th>Minimum Degree</th>\n",
              "      <th>Molecular Weight</th>\n",
              "      <th>Number of H-Bond Donors</th>\n",
              "      <th>Number of Rings</th>\n",
              "      <th>Number of Rotatable Bonds</th>\n",
              "      <th>Polar Surface Area</th>\n",
              "      <th>measured log solubility in mols per litre</th>\n",
              "      <th>smiles</th>\n",
              "    </tr>\n",
              "  </thead>\n",
              "  <tbody>\n",
              "    <tr>\n",
              "      <th>873</th>\n",
              "      <td>873</td>\n",
              "      <td>2,4-Dimethyl-2-pentanol</td>\n",
              "      <td>-1.647</td>\n",
              "      <td>1</td>\n",
              "      <td>116.204</td>\n",
              "      <td>1</td>\n",
              "      <td>0</td>\n",
              "      <td>2</td>\n",
              "      <td>20.23</td>\n",
              "      <td>-0.92</td>\n",
              "      <td>CC(C)CC(C)(C)O</td>\n",
              "    </tr>\n",
              "    <tr>\n",
              "      <th>427</th>\n",
              "      <td>427</td>\n",
              "      <td>rhodanine</td>\n",
              "      <td>-0.396</td>\n",
              "      <td>1</td>\n",
              "      <td>133.197</td>\n",
              "      <td>1</td>\n",
              "      <td>1</td>\n",
              "      <td>0</td>\n",
              "      <td>29.10</td>\n",
              "      <td>-1.77</td>\n",
              "      <td>O=C1CSC(=S)N1</td>\n",
              "    </tr>\n",
              "    <tr>\n",
              "      <th>638</th>\n",
              "      <td>638</td>\n",
              "      <td>Bromoethane</td>\n",
              "      <td>-1.529</td>\n",
              "      <td>1</td>\n",
              "      <td>108.966</td>\n",
              "      <td>0</td>\n",
              "      <td>0</td>\n",
              "      <td>0</td>\n",
              "      <td>0.00</td>\n",
              "      <td>-1.09</td>\n",
              "      <td>CCBr</td>\n",
              "    </tr>\n",
              "    <tr>\n",
              "      <th>950</th>\n",
              "      <td>950</td>\n",
              "      <td>Chloropham</td>\n",
              "      <td>-3.544</td>\n",
              "      <td>1</td>\n",
              "      <td>213.664</td>\n",
              "      <td>1</td>\n",
              "      <td>1</td>\n",
              "      <td>2</td>\n",
              "      <td>38.33</td>\n",
              "      <td>-3.38</td>\n",
              "      <td>CC(C)OC(=O)NC1:C:C:C:C(Cl):C:1</td>\n",
              "    </tr>\n",
              "    <tr>\n",
              "      <th>436</th>\n",
              "      <td>436</td>\n",
              "      <td>Diethyl sulfide</td>\n",
              "      <td>-1.598</td>\n",
              "      <td>1</td>\n",
              "      <td>90.191</td>\n",
              "      <td>0</td>\n",
              "      <td>0</td>\n",
              "      <td>2</td>\n",
              "      <td>0.00</td>\n",
              "      <td>-1.34</td>\n",
              "      <td>CCSCC</td>\n",
              "    </tr>\n",
              "  </tbody>\n",
              "</table>\n",
              "</div>"
            ],
            "text/plain": [
              "     Unnamed: 0  ...                          smiles\n",
              "873         873  ...                  CC(C)CC(C)(C)O\n",
              "427         427  ...                   O=C1CSC(=S)N1\n",
              "638         638  ...                            CCBr\n",
              "950         950  ...  CC(C)OC(=O)NC1:C:C:C:C(Cl):C:1\n",
              "436         436  ...                           CCSCC\n",
              "\n",
              "[5 rows x 11 columns]"
            ]
          },
          "metadata": {},
          "execution_count": 3
        }
      ]
    },
    {
      "cell_type": "code",
      "metadata": {
        "id": "zZLuvCtZAdEM"
      },
      "source": [
        "###  Creating New SMILES column to reduce the feature of smiles ....\n",
        "\n",
        "dataset[\"smiles_length\"]= dataset[\"smiles\"].apply(len)\n"
      ],
      "execution_count": 4,
      "outputs": []
    },
    {
      "cell_type": "code",
      "metadata": {
        "colab": {
          "base_uri": "https://localhost:8080/"
        },
        "id": "ER3DGF9GrSki",
        "outputId": "e9b06d44-c27b-418d-fbdc-31e1617e1e82"
      },
      "source": [
        "max_lenghth=max(dataset[\"smiles_length\"])\n",
        "max_lenghth"
      ],
      "execution_count": 5,
      "outputs": [
        {
          "output_type": "execute_result",
          "data": {
            "text/plain": [
              "97"
            ]
          },
          "metadata": {},
          "execution_count": 5
        }
      ]
    },
    {
      "cell_type": "code",
      "metadata": {
        "id": "gAuYbcEsArWV"
      },
      "source": [
        "#smiles_length = dataset[\"SMILES\"],key =len\n",
        "#print(smiles_length)\n",
        "#dataset1  = dataset[dataset['smiles_length'] > 10]"
      ],
      "execution_count": null,
      "outputs": []
    },
    {
      "cell_type": "markdown",
      "metadata": {
        "id": "FJRSVJ_OMucy"
      },
      "source": [
        "**We can explore the range of solubilities found in the dataset by plotting a histogram of solubility values from the dataset. Our machine learning models will aim to predict these solubilities.**"
      ]
    },
    {
      "cell_type": "code",
      "metadata": {
        "colab": {
          "base_uri": "https://localhost:8080/",
          "height": 297
        },
        "id": "Fult5Y0aMm5_",
        "outputId": "4a592dfd-9396-4a51-9813-16b23fa0ef2f"
      },
      "source": [
        "sns.distplot(dataset[\"measured log solubility in mols per litre\"])"
      ],
      "execution_count": 6,
      "outputs": [
        {
          "output_type": "execute_result",
          "data": {
            "text/plain": [
              "<matplotlib.axes._subplots.AxesSubplot at 0x7fbb45389bd0>"
            ]
          },
          "metadata": {},
          "execution_count": 6
        },
        {
          "output_type": "display_data",
          "data": {
            "image/png": "[encoded data removed]",
            "text/plain": [
              "<Figure size 432x288 with 1 Axes>"
            ]
          },
          "metadata": {
            "needs_background": "light"
          }
        }
      ]
    },
    {
      "cell_type": "markdown",
      "metadata": {
        "id": "aO25OC2mMsvQ"
      },
      "source": [
        "In the next cell we will plot a histogram of SMILES string lengths from dataset. These lengths will be used to determine the length of the inputs for our CNN and VAE models. Below are examples of the SMILES representation:\n",
        "\n",
        "Methane: 'C'\n",
        "Pentane: 'CCCCC'\n",
        "Methanol and Ethanol: 'CO' and 'CCO'\n",
        "Pyridine: 'C1:C:C:N:C:C:1'\n",
        "To learn more about the SMILES representation, click here. "
      ]
    },
    {
      "cell_type": "code",
      "metadata": {
        "colab": {
          "base_uri": "https://localhost:8080/",
          "height": 283
        },
        "id": "1_yhe0GnMnNE",
        "outputId": "9ae18c38-90c8-4808-b758-794b398acef4"
      },
      "source": [
        "smiles_lengths = map(len, dataset.smiles.values)\n",
        "sns.distplot(list(smiles_lengths), bins=20, kde=False)"
      ],
      "execution_count": 7,
      "outputs": [
        {
          "output_type": "execute_result",
          "data": {
            "text/plain": [
              "<matplotlib.axes._subplots.AxesSubplot at 0x7fbb44f60850>"
            ]
          },
          "metadata": {},
          "execution_count": 7
        },
        {
          "output_type": "display_data",
          "data": {
            "image/png": "[encoded data removed]",
            "text/plain": [
              "<Figure size 432x288 with 1 Axes>"
            ]
          },
          "metadata": {
            "needs_background": "light"
          }
        }
      ]
    },
    {
      "cell_type": "markdown",
      "metadata": {
        "id": "ClNDUNFZOH17"
      },
      "source": [
        "Data preparation\n",
        "Now we will pre-process the dataset for the CNN models. First, we'll get the unique character set from all SMILES strings in the dataset. Then we will use the unique character set to convert our SMILES strings to a one-hot representation, which is a representation that converts raw strings of text to numerical inputs for our models.\n",
        "\n",
        "In a one-hot representation, each character of our SMILES string is encoded as a vector of zeros, except for one non-zero value. For instance, the character 'C' in the SMILES string is converted to a vector of length 31, consisting of 30 zeros and one non-zero entry of one. The length of this vector (31 in our case) is the total number of unique characters in the dataset.\n",
        "\n",
        "Given a string of 5 characters (say Pentane, which is represented as 'CCCCC'), we would thus get 5 vectors each of length 31. Since different molecules have different SMILES string lengths, we can pre-define the length of each string to be the maximum length from the database, with smaller molecules represented with additional characters. In our case, this maximum length is 40 and we represent the extra characters for smaller molecules with pre-defined one-hot vectors. This means that each molecule is now represented as a set of 40 vectors, each of length 31. We can represent this as a 40x31 matrix.\n",
        "\n",
        "One-hot encoding is commonly used in natural language processing, and you can learn more about one-hot encoding here.\n",
        "\n",
        "Finally, we will define our input and output and create test/train splits in the dataset."
      ]
    },
    {
      "cell_type": "code",
      "metadata": {
        "colab": {
          "base_uri": "https://localhost:8080/"
        },
        "id": "YAV8Vm3Eskfo",
        "outputId": "37a34429-4666-443c-a1c5-0e73d86ade0e"
      },
      "source": [
        "print(len(dataset))"
      ],
      "execution_count": 8,
      "outputs": [
        {
          "output_type": "stream",
          "text": [
            "1128\n"
          ],
          "name": "stdout"
        }
      ]
    },
    {
      "cell_type": "code",
      "metadata": {
        "id": "SADekwo5IHkY"
      },
      "source": [
        "#dataset1  = dataset[dataset['smiles_length'] < 150]\n",
        "#dataset1"
      ],
      "execution_count": null,
      "outputs": []
    },
    {
      "cell_type": "code",
      "metadata": {
        "id": "IETMj8TBIcBu"
      },
      "source": [
        "#print(len(dataset1))"
      ],
      "execution_count": null,
      "outputs": []
    },
    {
      "cell_type": "code",
      "metadata": {
        "id": "Uk-ZFa3zQOcu"
      },
      "source": [
        "## Function to create unique character from string \n",
        "\n",
        "def generate_charset(full_char_list:list) -> list:\n",
        "    '''\n",
        "    Assumes full_char_list is a list of characters (e.g., ['c', 'c', '1']).\n",
        "    Returns a sorted list of unique characters, with index zero as a NULL character, and a PAD character.\n",
        "    '''\n",
        "    unique_chars = set(''.join(full_char_list))\n",
        "    charset = ['NULL', 'PAD'] + sorted(unique_chars)\n",
        "    return charset"
      ],
      "execution_count": 9,
      "outputs": []
    },
    {
      "cell_type": "code",
      "metadata": {
        "id": "GU9dKkZHVa4b"
      },
      "source": [
        "### Function to create one hot encoder ....\n",
        "\n",
        "def smiles_to_onehots(smiles_strings:list,\n",
        "                     unique_charset:list,\n",
        "                     max_smiles_chars:int) -> np.array:\n",
        "    one_hots = []\n",
        "    charset_length = len(unique_charset)\n",
        "\n",
        "    for smiles_string in smiles_strings:\n",
        "        one_hot_smiles = np.zeros(shape=(max_smiles_chars, charset_length))\n",
        "        for i in range(max_smiles_chars):\n",
        "            one_hot_col = [0]*charset_length\n",
        "            ind = None # Which index will we flip to be \"one-hot\"?\n",
        "            \n",
        "            if i < len(smiles_string):\n",
        "                try:\n",
        "                    ind = unique_charset.index(smiles_string[i])\n",
        "                    # one_hot_col[unique_charset.index(char)] = 1\n",
        "                except ValueError:\n",
        "                    ind = 0 # Treat as NULL if out-of-vocab  \n",
        "                    # one_hot_col[0] = 1 # Treat as NULL if out-of-vocab   \n",
        "            else:\n",
        "                ind = 1 # Add PAD as needed\n",
        "            \n",
        "            one_hot_col[ind] = 1\n",
        "            one_hot_smiles[i,:] = one_hot_col\n",
        "            \n",
        "        one_hots.append(one_hot_smiles)\n",
        "    return np.array(one_hots)"
      ],
      "execution_count": 10,
      "outputs": []
    },
    {
      "cell_type": "code",
      "metadata": {
        "id": "A8RQxPRbOJif",
        "colab": {
          "base_uri": "https://localhost:8080/"
        },
        "outputId": "a77bdd14-94b9-42bc-f499-f81d367ffbd1"
      },
      "source": [
        "# get unique character set in all SMILES strings \n",
        "charset = generate_charset(dataset[\"smiles\"].values.ravel())\n",
        "print(charset )\n",
        "# get the number of unique characters\n",
        "charset_length = len(charset)\n",
        "#print(charset_length)\n",
        "print(charset_length)\n",
        "\n",
        "# define max number of SMILES for model input vector\n",
        "max_smiles_chars = 97\n",
        "\n",
        "# dimension of input vector\n",
        "input_dim = charset_length * max_smiles_chars\n",
        "\n",
        "# get one-hot representation of the SMILES strings \n",
        "one_hots = smiles_to_onehots(dataset[\"smiles\"].values, charset, max_smiles_chars)\n",
        "\n",
        "# split input into train and test sets\n",
        "X_train = one_hots[:-100]\n",
        "X_test = one_hots[-100:]\n",
        "\n",
        "# split output to train and test sets\n",
        "output = dataset[\"measured log solubility in mols per litre\"].values\n",
        "Y_train = output[:-100]\n",
        "Y_test = output[-100:]"
      ],
      "execution_count": 11,
      "outputs": [
        {
          "output_type": "stream",
          "text": [
            "['NULL', 'PAD', '#', '(', ')', '+', '-', '/', '1', '2', '3', '4', '5', '6', '7', ':', '=', 'B', 'C', 'F', 'H', 'I', 'N', 'O', 'P', 'S', '[', '\\\\', ']', 'l', 'r']\n",
            "31\n"
          ],
          "name": "stdout"
        }
      ]
    },
    {
      "cell_type": "code",
      "metadata": {
        "id": "xsO5GPNOwv29"
      },
      "source": [
        "#df = dataset[[\"Molecular Weight\",\t\"Number of H-Bond Donors\",\t\"Number of Rings\",\t\"Number of Rotatable Bonds\",\"Polar Surface Area\"]]\n",
        "#print(type(one_hots))\n",
        "#print(one_hots.shape)\n",
        "#df=np.array(df)\n",
        "#print(type(df))\n",
        "#print(df.shape )\n",
        "#df_new=np.dstack((one_hots,df))\n",
        "#np.concatenate((one_hots,df[:,None]),axis=1)\n",
        "#df_new=np.column_stack((one_hots, df))\n",
        "#print(df_new.shape )"
      ],
      "execution_count": null,
      "outputs": []
    },
    {
      "cell_type": "markdown",
      "metadata": {
        "id": "B7byq7bpOwx3"
      },
      "source": [
        "Let's briefly visualize what our input data looks like using a heatmap that shows the position of each character in the SMILES string, you can change the index to see various molecules. Each molecule is represented by a 40x31 sparse matrix, the bright spots in the heatmap indicate the position at which a one is found in the matrix. For instance, the first row has a bright spot at index 18, indicating that the first character is 'C'. The second row has a bright spot at index 23, which indicates that the second character is 'O'. For the compound Dimethoxymethane with a SMILES string 'COCOC', we expect the matrix to have alternating bright spots at index 18 and index 23 for the first five rows. Beyond that, the rows all have a bright spot at index 1, which stands for the extra characters padded on to our string to make all SMILES strings the same length. The heatmap below is plotted using the Seaborn library."
      ]
    },
    {
      "cell_type": "code",
      "metadata": {
        "id": "v9BTS_bMOycQ",
        "colab": {
          "base_uri": "https://localhost:8080/",
          "height": 301
        },
        "outputId": "f3abf55b-3208-491a-b27c-94de02fde9ae"
      },
      "source": [
        "index = 761\n",
        "sns.heatmap(X_train[index]) # This is a single training example -- note that it is a matrix, not a single vector!\n",
        "plt.xlabel('Character')\n",
        "plt.ylabel('Position in SMILES String')\n",
        "print(dataset.iloc[index]['smiles'])"
      ],
      "execution_count": 12,
      "outputs": [
        {
          "output_type": "stream",
          "text": [
            "CC1:N:C:C([N+](=O)[O-]):N:1CCO\n"
          ],
          "name": "stdout"
        },
        {
          "output_type": "display_data",
          "data": {
            "image/png": "[encoded data removed]",
            "text/plain": [
              "<Figure size 432x288 with 2 Axes>"
            ]
          },
          "metadata": {
            "needs_background": "light"
          }
        }
      ]
    },
    {
      "cell_type": "markdown",
      "metadata": {
        "id": "g1jxL2cFW0T4"
      },
      "source": [
        "**Supervised CNN model for predicting solubility**\n",
        "In this section, we will set up a convolutional neural network to predict solubility using one-hot SMILES as input. A convolutional neural network is a machine learning model that is commonly used to classify images, and you can learn more about them here.\n",
        "\n",
        "Define model structure\n",
        "First, we will create the model structure, starting with the input layer. As described above, each training example is a 40x31 matrix, which is the shape we pass to the Input layer in Keras."
      ]
    },
    {
      "cell_type": "code",
      "metadata": {
        "id": "D6o9jYfEW93H"
      },
      "source": [
        "# Define the input layer\n",
        "# NOTE: We feed in a sequence here! We're inputting up to max_smiles_chars characters, \n",
        "# and each character is an array of length charset_length\n",
        "smiles_input = Input(shape=(max_smiles_chars, charset_length), name=\"SMILES-Input\")"
      ],
      "execution_count": 13,
      "outputs": []
    },
    {
      "cell_type": "markdown",
      "metadata": {
        "id": "KBbFBGB1XnGe"
      },
      "source": [
        "**Next we will define the convolution layers where each layer attempts to learn certain features of the images, such as edges and corners. The input to each layer (a matrix) is transformed via convolution operations, which are element by element multiplications of the input matrix and a filter matrix. The convolutional layer learns the filter matrix that will best identify unique features of the image. You can learn more about convolution operations and the math behind convolutional neural networks here.**"
      ]
    },
    {
      "cell_type": "code",
      "metadata": {
        "id": "mPWalBDQXj-x"
      },
      "source": [
        "# Set parameters for convolutional layers \n",
        "num_conv_filters = 16\n",
        "kernel_size = 3\n",
        "\n",
        "init_weights = initializers.glorot_normal(seed=0)\n",
        "\n",
        "# Define the convolutional layers\n",
        "# Multiple convolutions in a row is a common architecture (but there are many \"right\" choices here)\n",
        "conv_1_func = Conv1D(\n",
        "    filters=num_conv_filters, # What is the \"depth\" of the convolution? How many times do you look at the same spot?\n",
        "    kernel_size=kernel_size, # How \"wide\" of a spot does each filter look at?\n",
        "    name=\"Convolution-1\",\n",
        "    activation=\"relu\", # This is a common activation function: Rectified Linear Unit (ReLU)\n",
        "    kernel_initializer=init_weights #This defines the initial values for the weights\n",
        ")\n",
        "conv_2_func = Conv1D(\n",
        "    filters=num_conv_filters, \n",
        "    kernel_size=kernel_size, \n",
        "    name=\"Convolution-2\",\n",
        "    activation=\"relu\",\n",
        "    kernel_initializer=init_weights\n",
        ")\n",
        "conv_3_func = Conv1D(\n",
        "    filters=num_conv_filters, \n",
        "    kernel_size=kernel_size, \n",
        "    name=\"Convolution-3\",\n",
        "    activation=\"relu\",\n",
        "    kernel_initializer=init_weights\n",
        ")\n",
        "conv_4_func = Conv1D(\n",
        "    filters=num_conv_filters, \n",
        "    kernel_size=kernel_size,\n",
        "    name=\"Convolution-4\",\n",
        "    activation=\"relu\",\n",
        "    kernel_initializer=init_weights\n",
        ")"
      ],
      "execution_count": 14,
      "outputs": []
    },
    {
      "cell_type": "markdown",
      "metadata": {
        "id": "pH8ySmkdYB-m"
      },
      "source": [
        "The four convolution layers defined above will attempt to learn features of the SMILES string (represented as a 40x31 matrix) that are relevant to predicting the solubility. To get a numerical prediction, we now flatten the output of the convolution and pass it to a set of regular Dense layers, the last layer predicting one value for the solubility."
      ]
    },
    {
      "cell_type": "code",
      "metadata": {
        "id": "L9pxE6KCYDPp"
      },
      "source": [
        "# Define layer to flatten convolutions\n",
        "flatten_func = Flatten(name=\"Flattened-Convolutions\")\n",
        "\n",
        "# Define the activation function layer\n",
        "hidden_size = 32\n",
        "dense_1_func = Dense(hidden_size, activation=\"relu\", name=\"Fully-Connected\", kernel_initializer=init_weights)\n",
        "\n",
        "# Define output layer -- it's only one dimension since it is regression\n",
        "output_size = 1\n",
        "output_solubility_func = Dense(output_size, activation=\"linear\", name=\"Log-Solubility\", kernel_initializer=init_weights)"
      ],
      "execution_count": 15,
      "outputs": []
    },
    {
      "cell_type": "markdown",
      "metadata": {
        "id": "jb1djj7xYKm2"
      },
      "source": [
        "Now that we have defined all the layers, we will connect them together to make a graph:"
      ]
    },
    {
      "cell_type": "code",
      "metadata": {
        "id": "4hSBxCZhYLgm"
      },
      "source": [
        "# connect the CNN graph together\n",
        "conv_1_fwd = conv_1_func(smiles_input)\n",
        "conv_2_fwd = conv_2_func(conv_1_fwd)\n",
        "conv_3_fwd = conv_3_func(conv_2_fwd)\n",
        "conv_4_fwd = conv_4_func(conv_3_fwd)\n",
        "flattened_convs = flatten_func(conv_4_fwd)\n",
        "dense_1_fwd = dense_1_func(flattened_convs)\n",
        "output_solubility_fwd = output_solubility_func(flattened_convs)"
      ],
      "execution_count": 16,
      "outputs": []
    },
    {
      "cell_type": "markdown",
      "metadata": {
        "id": "WZ8IxymEYTvR"
      },
      "source": [
        "View model structure and metadata\n",
        "Now the model is ready to train! But first we will define the model as solubility_model and compile it, then view some information on the model using the keras2ascii tool, which visually represents the layers in our model."
      ]
    },
    {
      "cell_type": "code",
      "metadata": {
        "id": "d8aVXkQOYVRH"
      },
      "source": [
        "# create model\n",
        "solubility_model = Model(\n",
        "            inputs=[smiles_input],\n",
        "            outputs=[output_solubility_fwd]\n",
        ")\n",
        "\n",
        "# compile model\n",
        "solubility_model.compile(\n",
        "    optimizer=\"adam\",\n",
        "    loss=\"mse\",\n",
        "    metrics=[\"mae\"]\n",
        ")"
      ],
      "execution_count": 17,
      "outputs": []
    },
    {
      "cell_type": "code",
      "metadata": {
        "id": "BC7h258cYhgO"
      },
      "source": [
        "# view model as a graph\n",
        "#keras2ascii(solubility_model)"
      ],
      "execution_count": null,
      "outputs": []
    },
    {
      "cell_type": "markdown",
      "metadata": {
        "id": "4b44omEAZyxq"
      },
      "source": [
        "Train CNN\n",
        "Now we will train our CNN solubility model to the training data! During training, we will see metrics printed after each epoch such as test/train loss (both as Mean Squared Error (MSE) and Mean Absolute Error (MAE))."
      ]
    },
    {
      "cell_type": "code",
      "metadata": {
        "id": "Q_ZAGOwzZ0DK",
        "colab": {
          "base_uri": "https://localhost:8080/"
        },
        "outputId": "9fa37420-eaa6-44aa-8f78-c8e0e63919e9"
      },
      "source": [
        "history = solubility_model.fit(\n",
        "    X_train, # Inputs\n",
        "    Y_train, # Outputs\n",
        "    epochs=115, # How many times to pass over the data\n",
        "    batch_size=64, # How many data rows to compute at once\n",
        "    verbose=1,\n",
        "    validation_data=(X_test, Y_test), # You would usually use more splits of the data if you plan to tune hyperparams\n",
        ")"
      ],
      "execution_count": 18,
      "outputs": [
        {
          "output_type": "stream",
          "text": [
            "Epoch 1/115\n",
            "17/17 [==============================] - 2s 39ms/step - loss: 10.2320 - mae: 2.5808 - val_loss: 5.1544 - val_mae: 1.7746\n",
            "Epoch 2/115\n",
            "17/17 [==============================] - 0s 24ms/step - loss: 4.4514 - mae: 1.6901 - val_loss: 3.8933 - val_mae: 1.5567\n",
            "Epoch 3/115\n",
            "17/17 [==============================] - 0s 20ms/step - loss: 2.9049 - mae: 1.3600 - val_loss: 2.5203 - val_mae: 1.2437\n",
            "Epoch 4/115\n",
            "17/17 [==============================] - 0s 20ms/step - loss: 2.2832 - mae: 1.1947 - val_loss: 2.1308 - val_mae: 1.1418\n",
            "Epoch 5/115\n",
            "17/17 [==============================] - 0s 20ms/step - loss: 2.0563 - mae: 1.1213 - val_loss: 1.9875 - val_mae: 1.0924\n",
            "Epoch 6/115\n",
            "17/17 [==============================] - 0s 26ms/step - loss: 1.8500 - mae: 1.0719 - val_loss: 1.8628 - val_mae: 1.0501\n",
            "Epoch 7/115\n",
            "17/17 [==============================] - 0s 20ms/step - loss: 1.6236 - mae: 0.9963 - val_loss: 1.6828 - val_mae: 0.9877\n",
            "Epoch 8/115\n",
            "17/17 [==============================] - 0s 22ms/step - loss: 1.4173 - mae: 0.9417 - val_loss: 1.5423 - val_mae: 0.9344\n",
            "Epoch 9/115\n",
            "17/17 [==============================] - 0s 24ms/step - loss: 1.2193 - mae: 0.8755 - val_loss: 1.3997 - val_mae: 0.8924\n",
            "Epoch 10/115\n",
            "17/17 [==============================] - 0s 22ms/step - loss: 1.1242 - mae: 0.8350 - val_loss: 1.3795 - val_mae: 0.8752\n",
            "Epoch 11/115\n",
            "17/17 [==============================] - 0s 29ms/step - loss: 1.0354 - mae: 0.8076 - val_loss: 1.1610 - val_mae: 0.8447\n",
            "Epoch 12/115\n",
            "17/17 [==============================] - 0s 22ms/step - loss: 0.9594 - mae: 0.7814 - val_loss: 1.0787 - val_mae: 0.8288\n",
            "Epoch 13/115\n",
            "17/17 [==============================] - 0s 22ms/step - loss: 0.9032 - mae: 0.7521 - val_loss: 1.0087 - val_mae: 0.7951\n",
            "Epoch 14/115\n",
            "17/17 [==============================] - 0s 24ms/step - loss: 0.8613 - mae: 0.7334 - val_loss: 0.9371 - val_mae: 0.7666\n",
            "Epoch 15/115\n",
            "17/17 [==============================] - 0s 28ms/step - loss: 0.8184 - mae: 0.7166 - val_loss: 0.9642 - val_mae: 0.7398\n",
            "Epoch 16/115\n",
            "17/17 [==============================] - 0s 26ms/step - loss: 0.8228 - mae: 0.7177 - val_loss: 0.8958 - val_mae: 0.7711\n",
            "Epoch 17/115\n",
            "17/17 [==============================] - 0s 22ms/step - loss: 0.7952 - mae: 0.7034 - val_loss: 0.8341 - val_mae: 0.7244\n",
            "Epoch 18/115\n",
            "17/17 [==============================] - 0s 21ms/step - loss: 0.7981 - mae: 0.7058 - val_loss: 0.8295 - val_mae: 0.6952\n",
            "Epoch 19/115\n",
            "17/17 [==============================] - 0s 28ms/step - loss: 0.7500 - mae: 0.6829 - val_loss: 0.8085 - val_mae: 0.6773\n",
            "Epoch 20/115\n",
            "17/17 [==============================] - 0s 24ms/step - loss: 0.7124 - mae: 0.6644 - val_loss: 0.8494 - val_mae: 0.6850\n",
            "Epoch 21/115\n",
            "17/17 [==============================] - 0s 22ms/step - loss: 0.7021 - mae: 0.6550 - val_loss: 0.7937 - val_mae: 0.6649\n",
            "Epoch 22/115\n",
            "17/17 [==============================] - 0s 20ms/step - loss: 0.6975 - mae: 0.6570 - val_loss: 0.9364 - val_mae: 0.7302\n",
            "Epoch 23/115\n",
            "17/17 [==============================] - 0s 25ms/step - loss: 0.7355 - mae: 0.6729 - val_loss: 0.7804 - val_mae: 0.6644\n",
            "Epoch 24/115\n",
            "17/17 [==============================] - 0s 22ms/step - loss: 0.7304 - mae: 0.6774 - val_loss: 0.7662 - val_mae: 0.6569\n",
            "Epoch 25/115\n",
            "17/17 [==============================] - 0s 22ms/step - loss: 0.6634 - mae: 0.6351 - val_loss: 0.7873 - val_mae: 0.6481\n",
            "Epoch 26/115\n",
            "17/17 [==============================] - 0s 22ms/step - loss: 0.6516 - mae: 0.6297 - val_loss: 0.7344 - val_mae: 0.6486\n",
            "Epoch 27/115\n",
            "17/17 [==============================] - 0s 27ms/step - loss: 0.6504 - mae: 0.6323 - val_loss: 0.7715 - val_mae: 0.6478\n",
            "Epoch 28/115\n",
            "17/17 [==============================] - 0s 27ms/step - loss: 0.6335 - mae: 0.6205 - val_loss: 0.7276 - val_mae: 0.6532\n",
            "Epoch 29/115\n",
            "17/17 [==============================] - 0s 27ms/step - loss: 0.6877 - mae: 0.6514 - val_loss: 0.8402 - val_mae: 0.6804\n",
            "Epoch 30/115\n",
            "17/17 [==============================] - 1s 35ms/step - loss: 0.6436 - mae: 0.6239 - val_loss: 0.7283 - val_mae: 0.6425\n",
            "Epoch 31/115\n",
            "17/17 [==============================] - 1s 36ms/step - loss: 0.6456 - mae: 0.6308 - val_loss: 0.7028 - val_mae: 0.6339\n",
            "Epoch 32/115\n",
            "17/17 [==============================] - 1s 33ms/step - loss: 0.5962 - mae: 0.6021 - val_loss: 0.7120 - val_mae: 0.6294\n",
            "Epoch 33/115\n",
            "17/17 [==============================] - 0s 26ms/step - loss: 0.5972 - mae: 0.6022 - val_loss: 0.7004 - val_mae: 0.6407\n",
            "Epoch 34/115\n",
            "17/17 [==============================] - 1s 29ms/step - loss: 0.5960 - mae: 0.5997 - val_loss: 0.6930 - val_mae: 0.6335\n",
            "Epoch 35/115\n",
            "17/17 [==============================] - 0s 29ms/step - loss: 0.5730 - mae: 0.5927 - val_loss: 0.6965 - val_mae: 0.6415\n",
            "Epoch 36/115\n",
            "17/17 [==============================] - 0s 24ms/step - loss: 0.5760 - mae: 0.5886 - val_loss: 0.7067 - val_mae: 0.6259\n",
            "Epoch 37/115\n",
            "17/17 [==============================] - 0s 28ms/step - loss: 0.5596 - mae: 0.5833 - val_loss: 0.6856 - val_mae: 0.6327\n",
            "Epoch 38/115\n",
            "17/17 [==============================] - 0s 29ms/step - loss: 0.5687 - mae: 0.5868 - val_loss: 0.7497 - val_mae: 0.6466\n",
            "Epoch 39/115\n",
            "17/17 [==============================] - 1s 36ms/step - loss: 0.5820 - mae: 0.5921 - val_loss: 0.7056 - val_mae: 0.6275\n",
            "Epoch 40/115\n",
            "17/17 [==============================] - 1s 34ms/step - loss: 0.5437 - mae: 0.5754 - val_loss: 0.6663 - val_mae: 0.6218\n",
            "Epoch 41/115\n",
            "17/17 [==============================] - 1s 32ms/step - loss: 0.5267 - mae: 0.5612 - val_loss: 0.6844 - val_mae: 0.6135\n",
            "Epoch 42/115\n",
            "17/17 [==============================] - 1s 31ms/step - loss: 0.5443 - mae: 0.5728 - val_loss: 0.6946 - val_mae: 0.6638\n",
            "Epoch 43/115\n",
            "17/17 [==============================] - 1s 34ms/step - loss: 0.5476 - mae: 0.5700 - val_loss: 0.6637 - val_mae: 0.6370\n",
            "Epoch 44/115\n",
            "17/17 [==============================] - 1s 34ms/step - loss: 0.5232 - mae: 0.5621 - val_loss: 0.6551 - val_mae: 0.6060\n",
            "Epoch 45/115\n",
            "17/17 [==============================] - 1s 32ms/step - loss: 0.5145 - mae: 0.5577 - val_loss: 0.8999 - val_mae: 0.7357\n",
            "Epoch 46/115\n",
            "17/17 [==============================] - 1s 32ms/step - loss: 0.5586 - mae: 0.5817 - val_loss: 0.6818 - val_mae: 0.6130\n",
            "Epoch 47/115\n",
            "17/17 [==============================] - 1s 31ms/step - loss: 0.5678 - mae: 0.5883 - val_loss: 0.6737 - val_mae: 0.6237\n",
            "Epoch 48/115\n",
            "17/17 [==============================] - 0s 27ms/step - loss: 0.5108 - mae: 0.5579 - val_loss: 0.6997 - val_mae: 0.6310\n",
            "Epoch 49/115\n",
            "17/17 [==============================] - 0s 29ms/step - loss: 0.4898 - mae: 0.5439 - val_loss: 0.6660 - val_mae: 0.6469\n",
            "Epoch 50/115\n",
            "17/17 [==============================] - 1s 35ms/step - loss: 0.4878 - mae: 0.5392 - val_loss: 0.6286 - val_mae: 0.6075\n",
            "Epoch 51/115\n",
            "17/17 [==============================] - 1s 30ms/step - loss: 0.4588 - mae: 0.5177 - val_loss: 0.6485 - val_mae: 0.6268\n",
            "Epoch 52/115\n",
            "17/17 [==============================] - 1s 33ms/step - loss: 0.4653 - mae: 0.5298 - val_loss: 0.7253 - val_mae: 0.6839\n",
            "Epoch 53/115\n",
            "17/17 [==============================] - 1s 37ms/step - loss: 0.5577 - mae: 0.5828 - val_loss: 0.9747 - val_mae: 0.7810\n",
            "Epoch 54/115\n",
            "17/17 [==============================] - 1s 35ms/step - loss: 0.4980 - mae: 0.5502 - val_loss: 0.6392 - val_mae: 0.6298\n",
            "Epoch 55/115\n",
            "17/17 [==============================] - 1s 35ms/step - loss: 0.4482 - mae: 0.5181 - val_loss: 0.6903 - val_mae: 0.6267\n",
            "Epoch 56/115\n",
            "17/17 [==============================] - 1s 29ms/step - loss: 0.4469 - mae: 0.5119 - val_loss: 0.6459 - val_mae: 0.6169\n",
            "Epoch 57/115\n",
            "17/17 [==============================] - 1s 30ms/step - loss: 0.4282 - mae: 0.5049 - val_loss: 0.6615 - val_mae: 0.6118\n",
            "Epoch 58/115\n",
            "17/17 [==============================] - 1s 36ms/step - loss: 0.4207 - mae: 0.4972 - val_loss: 0.6409 - val_mae: 0.6247\n",
            "Epoch 59/115\n",
            "17/17 [==============================] - 1s 36ms/step - loss: 0.4145 - mae: 0.4964 - val_loss: 0.6908 - val_mae: 0.6264\n",
            "Epoch 60/115\n",
            "17/17 [==============================] - 0s 28ms/step - loss: 0.4251 - mae: 0.5050 - val_loss: 0.6159 - val_mae: 0.6057\n",
            "Epoch 61/115\n",
            "17/17 [==============================] - 0s 28ms/step - loss: 0.4054 - mae: 0.4930 - val_loss: 0.6805 - val_mae: 0.6150\n",
            "Epoch 62/115\n",
            "17/17 [==============================] - 1s 32ms/step - loss: 0.4799 - mae: 0.5402 - val_loss: 0.6794 - val_mae: 0.6501\n",
            "Epoch 63/115\n",
            "17/17 [==============================] - 0s 28ms/step - loss: 0.4139 - mae: 0.5018 - val_loss: 0.6304 - val_mae: 0.6262\n",
            "Epoch 64/115\n",
            "17/17 [==============================] - 0s 26ms/step - loss: 0.4003 - mae: 0.4916 - val_loss: 0.6702 - val_mae: 0.6218\n",
            "Epoch 65/115\n",
            "17/17 [==============================] - 0s 28ms/step - loss: 0.4125 - mae: 0.5029 - val_loss: 0.7673 - val_mae: 0.6812\n",
            "Epoch 66/115\n",
            "17/17 [==============================] - 1s 30ms/step - loss: 0.4361 - mae: 0.5193 - val_loss: 0.6329 - val_mae: 0.6076\n",
            "Epoch 67/115\n",
            "17/17 [==============================] - 0s 21ms/step - loss: 0.3961 - mae: 0.4882 - val_loss: 0.6622 - val_mae: 0.6460\n",
            "Epoch 68/115\n",
            "17/17 [==============================] - 0s 21ms/step - loss: 0.3771 - mae: 0.4741 - val_loss: 0.6177 - val_mae: 0.6135\n",
            "Epoch 69/115\n",
            "17/17 [==============================] - 0s 19ms/step - loss: 0.3598 - mae: 0.4633 - val_loss: 0.6485 - val_mae: 0.6111\n",
            "Epoch 70/115\n",
            "17/17 [==============================] - 0s 20ms/step - loss: 0.3542 - mae: 0.4621 - val_loss: 0.6229 - val_mae: 0.6224\n",
            "Epoch 71/115\n",
            "17/17 [==============================] - 0s 18ms/step - loss: 0.3664 - mae: 0.4673 - val_loss: 0.5985 - val_mae: 0.5914\n",
            "Epoch 72/115\n",
            "17/17 [==============================] - 0s 20ms/step - loss: 0.3414 - mae: 0.4503 - val_loss: 0.7271 - val_mae: 0.6476\n",
            "Epoch 73/115\n",
            "17/17 [==============================] - 0s 20ms/step - loss: 0.4138 - mae: 0.5045 - val_loss: 0.6446 - val_mae: 0.6023\n",
            "Epoch 74/115\n",
            "17/17 [==============================] - 0s 18ms/step - loss: 0.4048 - mae: 0.4955 - val_loss: 0.7510 - val_mae: 0.7090\n",
            "Epoch 75/115\n",
            "17/17 [==============================] - 0s 18ms/step - loss: 0.4140 - mae: 0.5024 - val_loss: 0.6034 - val_mae: 0.5963\n",
            "Epoch 76/115\n",
            "17/17 [==============================] - 0s 21ms/step - loss: 0.3658 - mae: 0.4664 - val_loss: 0.5989 - val_mae: 0.5842\n",
            "Epoch 77/115\n",
            "17/17 [==============================] - 0s 18ms/step - loss: 0.3578 - mae: 0.4627 - val_loss: 0.6347 - val_mae: 0.6363\n",
            "Epoch 78/115\n",
            "17/17 [==============================] - 0s 19ms/step - loss: 0.3536 - mae: 0.4606 - val_loss: 0.5919 - val_mae: 0.5999\n",
            "Epoch 79/115\n",
            "17/17 [==============================] - 0s 19ms/step - loss: 0.3384 - mae: 0.4532 - val_loss: 0.5824 - val_mae: 0.5855\n",
            "Epoch 80/115\n",
            "17/17 [==============================] - 0s 18ms/step - loss: 0.3248 - mae: 0.4402 - val_loss: 0.6156 - val_mae: 0.6109\n",
            "Epoch 81/115\n",
            "17/17 [==============================] - 0s 21ms/step - loss: 0.3538 - mae: 0.4647 - val_loss: 0.6335 - val_mae: 0.6020\n",
            "Epoch 82/115\n",
            "17/17 [==============================] - 0s 23ms/step - loss: 0.3284 - mae: 0.4457 - val_loss: 0.6574 - val_mae: 0.6084\n",
            "Epoch 83/115\n",
            "17/17 [==============================] - 0s 24ms/step - loss: 0.3229 - mae: 0.4351 - val_loss: 0.6190 - val_mae: 0.6020\n",
            "Epoch 84/115\n",
            "17/17 [==============================] - 0s 25ms/step - loss: 0.3026 - mae: 0.4238 - val_loss: 0.6088 - val_mae: 0.6004\n",
            "Epoch 85/115\n",
            "17/17 [==============================] - 0s 19ms/step - loss: 0.3034 - mae: 0.4252 - val_loss: 0.6298 - val_mae: 0.5984\n",
            "Epoch 86/115\n",
            "17/17 [==============================] - 0s 20ms/step - loss: 0.3145 - mae: 0.4338 - val_loss: 0.6020 - val_mae: 0.5883\n",
            "Epoch 87/115\n",
            "17/17 [==============================] - 0s 20ms/step - loss: 0.2970 - mae: 0.4190 - val_loss: 0.6245 - val_mae: 0.6230\n",
            "Epoch 88/115\n",
            "17/17 [==============================] - 0s 19ms/step - loss: 0.3049 - mae: 0.4287 - val_loss: 0.5842 - val_mae: 0.5871\n",
            "Epoch 89/115\n",
            "17/17 [==============================] - 0s 19ms/step - loss: 0.2896 - mae: 0.4167 - val_loss: 0.6258 - val_mae: 0.5887\n",
            "Epoch 90/115\n",
            "17/17 [==============================] - 0s 20ms/step - loss: 0.3049 - mae: 0.4330 - val_loss: 0.6653 - val_mae: 0.6073\n",
            "Epoch 91/115\n",
            "17/17 [==============================] - 0s 21ms/step - loss: 0.3162 - mae: 0.4331 - val_loss: 0.6419 - val_mae: 0.6475\n",
            "Epoch 92/115\n",
            "17/17 [==============================] - 0s 21ms/step - loss: 0.2953 - mae: 0.4203 - val_loss: 0.5893 - val_mae: 0.5944\n",
            "Epoch 93/115\n",
            "17/17 [==============================] - 0s 24ms/step - loss: 0.2772 - mae: 0.4054 - val_loss: 0.5911 - val_mae: 0.5757\n",
            "Epoch 94/115\n",
            "17/17 [==============================] - 0s 29ms/step - loss: 0.2793 - mae: 0.4061 - val_loss: 0.6038 - val_mae: 0.6084\n",
            "Epoch 95/115\n",
            "17/17 [==============================] - 1s 30ms/step - loss: 0.2707 - mae: 0.4007 - val_loss: 0.5876 - val_mae: 0.5751\n",
            "Epoch 96/115\n",
            "17/17 [==============================] - 0s 29ms/step - loss: 0.3178 - mae: 0.4402 - val_loss: 0.6011 - val_mae: 0.6011\n",
            "Epoch 97/115\n",
            "17/17 [==============================] - 0s 28ms/step - loss: 0.2877 - mae: 0.4195 - val_loss: 0.6203 - val_mae: 0.5905\n",
            "Epoch 98/115\n",
            "17/17 [==============================] - 0s 27ms/step - loss: 0.3121 - mae: 0.4328 - val_loss: 0.6256 - val_mae: 0.5920\n",
            "Epoch 99/115\n",
            "17/17 [==============================] - 0s 29ms/step - loss: 0.2674 - mae: 0.3980 - val_loss: 0.6176 - val_mae: 0.6219\n",
            "Epoch 100/115\n",
            "17/17 [==============================] - 0s 26ms/step - loss: 0.3539 - mae: 0.4662 - val_loss: 0.6646 - val_mae: 0.6148\n",
            "Epoch 101/115\n",
            "17/17 [==============================] - 0s 26ms/step - loss: 0.2901 - mae: 0.4203 - val_loss: 0.6440 - val_mae: 0.6081\n",
            "Epoch 102/115\n",
            "17/17 [==============================] - 0s 27ms/step - loss: 0.2610 - mae: 0.3961 - val_loss: 0.6018 - val_mae: 0.6005\n",
            "Epoch 103/115\n",
            "17/17 [==============================] - 0s 27ms/step - loss: 0.2623 - mae: 0.3983 - val_loss: 0.5983 - val_mae: 0.5931\n",
            "Epoch 104/115\n",
            "17/17 [==============================] - 0s 26ms/step - loss: 0.3246 - mae: 0.4505 - val_loss: 0.5718 - val_mae: 0.5769\n",
            "Epoch 105/115\n",
            "17/17 [==============================] - 1s 32ms/step - loss: 0.2517 - mae: 0.3857 - val_loss: 0.5923 - val_mae: 0.5846\n",
            "Epoch 106/115\n",
            "17/17 [==============================] - 1s 31ms/step - loss: 0.2497 - mae: 0.3830 - val_loss: 0.5898 - val_mae: 0.5804\n",
            "Epoch 107/115\n",
            "17/17 [==============================] - 1s 33ms/step - loss: 0.2520 - mae: 0.3845 - val_loss: 0.5784 - val_mae: 0.5891\n",
            "Epoch 108/115\n",
            "17/17 [==============================] - 0s 27ms/step - loss: 0.2489 - mae: 0.3805 - val_loss: 0.6580 - val_mae: 0.6576\n",
            "Epoch 109/115\n",
            "17/17 [==============================] - 0s 26ms/step - loss: 0.2626 - mae: 0.3982 - val_loss: 0.5858 - val_mae: 0.5876\n",
            "Epoch 110/115\n",
            "17/17 [==============================] - 0s 27ms/step - loss: 0.2589 - mae: 0.3893 - val_loss: 0.6042 - val_mae: 0.6186\n",
            "Epoch 111/115\n",
            "17/17 [==============================] - 0s 27ms/step - loss: 0.2968 - mae: 0.4270 - val_loss: 0.5998 - val_mae: 0.5760\n",
            "Epoch 112/115\n",
            "17/17 [==============================] - 0s 26ms/step - loss: 0.2513 - mae: 0.3846 - val_loss: 0.6020 - val_mae: 0.5806\n",
            "Epoch 113/115\n",
            "17/17 [==============================] - 1s 32ms/step - loss: 0.2526 - mae: 0.3872 - val_loss: 0.6018 - val_mae: 0.5897\n",
            "Epoch 114/115\n",
            "17/17 [==============================] - 0s 29ms/step - loss: 0.2341 - mae: 0.3703 - val_loss: 0.5878 - val_mae: 0.6112\n",
            "Epoch 115/115\n",
            "17/17 [==============================] - 1s 33ms/step - loss: 0.2329 - mae: 0.3672 - val_loss: 0.5696 - val_mae: 0.5860\n"
          ],
          "name": "stdout"
        }
      ]
    },
    {
      "cell_type": "markdown",
      "metadata": {
        "id": "wTzqDGmtaKvu"
      },
      "source": [
        "Let's view the learning curve for the trained model.\n",
        "\n",
        "This code will generate a plot where we show the test and train errors (MSE) as a function of epoch (one pass of all training examples through the NN).\n",
        "\n",
        "The learning curve will tell us if the model is overfitting or underfitting."
      ]
    },
    {
      "cell_type": "code",
      "metadata": {
        "id": "NilcAldCaMGe",
        "colab": {
          "base_uri": "https://localhost:8080/",
          "height": 295
        },
        "outputId": "bac8e9b2-1f55-42f7-8526-5712b46ea18a"
      },
      "source": [
        "# plot the learning curve \n",
        "plt.plot(history.history['loss'])\n",
        "plt.plot(history.history['val_loss'])\n",
        "plt.title('Model accuracy')\n",
        "plt.ylabel('Error')\n",
        "plt.xlabel('Epoch')\n",
        "plt.xlim(0,)\n",
        "plt.legend(['Train', 'Validation',], loc='upper left')\n",
        "plt.show()"
      ],
      "execution_count": 19,
      "outputs": [
        {
          "output_type": "display_data",
          "data": {
            "image/png": "[encoded data removed]",
            "text/plain": [
              "<Figure size 432x288 with 1 Axes>"
            ]
          },
          "metadata": {
            "needs_background": "light"
          }
        }
      ]
    },
    {
      "cell_type": "markdown",
      "metadata": {
        "id": "LPD56MjHbwu4"
      },
      "source": [
        "Use CNN to make solubility predictions\n",
        "Now that we've trained our model, we can use it to make solubility predictions for any SMILES string! We just have to convert the SMILES string to 1-hot representation, then feed it to the solubility_model"
      ]
    },
    {
      "cell_type": "code",
      "metadata": {
        "id": "gOAKEqraaUfv",
        "colab": {
          "base_uri": "https://localhost:8080/"
        },
        "outputId": "8f02b478-0ca2-4ea0-ff19-0aabc5d0eb35"
      },
      "source": [
        "example_smiles = [\n",
        "    'CC12CCC3C4:C:C:C(O):C:C:4CCC3C1CCC2O',\n",
        "    'CC1:O:C:C:C:1C(=O)NC1:C:C:C:C:C:1',\n",
        "    'C1:C:C:C2:C(:C:1):C:C:C1:C:2:C:C:C2:C3:C:C:C:C:C:3:C:C:C:2:1'\n",
        "]\n",
        "\n",
        "for smiles in example_smiles:\n",
        "    predict_test_input = smiles_to_onehots([smiles], charset, max_smiles_chars)\n",
        "    solubility_prediction = solubility_model.predict(predict_test_input)[0][0]\n",
        "    print(f'The predicted log solubility for SMILES {smiles} is {solubility_prediction}')"
      ],
      "execution_count": 20,
      "outputs": [
        {
          "output_type": "stream",
          "text": [
            "The predicted log solubility for SMILES CC12CCC3C4:C:C:C(O):C:C:4CCC3C1CCC2O is -4.595332145690918\n",
            "The predicted log solubility for SMILES CC1:O:C:C:C:1C(=O)NC1:C:C:C:C:C:1 is -3.086494207382202\n",
            "The predicted log solubility for SMILES C1:C:C:C2:C(:C:1):C:C:C1:C:2:C:C:C2:C3:C:C:C:C:C:3:C:C:C:2:1 is -8.135817527770996\n"
          ],
          "name": "stdout"
        }
      ]
    },
    {
      "cell_type": "markdown",
      "metadata": {
        "id": "9F_W2LltfNJO"
      },
      "source": [
        "We can now make a parity plot comparing the CNN model predictions to the ground truth data"
      ]
    },
    {
      "cell_type": "code",
      "metadata": {
        "id": "2kQegjhXfIh0",
        "colab": {
          "base_uri": "https://localhost:8080/",
          "height": 313
        },
        "outputId": "5956af66-96e1-497d-c3de-912fd321a716"
      },
      "source": [
        "preds = solubility_model.predict(X_train)\n",
        "x_y_line = np.linspace(min(Y_train.flatten()), max(Y_train.flatten()), 500)\n",
        "plt.plot(Y_train.flatten(), preds.flatten(), 'o', label='predictions')\n",
        "plt.plot(x_y_line, x_y_line, label='y=x')\n",
        "plt.xlabel(\"Log solubility (ground truth)\")\n",
        "plt.ylabel(\"Log solubility (predicted)\")\n",
        "plt.title(\"Parity plot: predictions vs ground truth data\")\n",
        "plt.legend()"
      ],
      "execution_count": 21,
      "outputs": [
        {
          "output_type": "execute_result",
          "data": {
            "text/plain": [
              "<matplotlib.legend.Legend at 0x7fbb37f12a50>"
            ]
          },
          "metadata": {},
          "execution_count": 21
        },
        {
          "output_type": "display_data",
          "data": {
            "image/png": "[encoded data removed]",
            "text/plain": [
              "<Figure size 432x288 with 1 Axes>"
            ]
          },
          "metadata": {
            "needs_background": "light"
          }
        }
      ]
    },
    {
      "cell_type": "code",
      "metadata": {
        "id": "fdYc_TKUwDen",
        "colab": {
          "base_uri": "https://localhost:8080/"
        },
        "outputId": "8ce1ebcc-e1de-4724-9627-915663ada2fb"
      },
      "source": [
        "### Comparartive prediction of y_test and y_test predicted .....\n",
        "Y_test_predited=solubility_model.predict(X_test)\n",
        "#print(Y_test_predited)\n",
        "\n",
        "print(np.concatenate((Y_test_predited.reshape(len(Y_test_predited),1), Y_test.reshape(len(Y_test),1)),1))"
      ],
      "execution_count": 22,
      "outputs": [
        {
          "output_type": "stream",
          "text": [
            "[[-1.51208103 -1.62      ]\n",
            " [-2.59458566 -1.93      ]\n",
            " [-1.46406043 -1.47      ]\n",
            " [-2.03892517 -2.484     ]\n",
            " [-2.33273578 -2.64      ]\n",
            " [-1.80222237 -1.01      ]\n",
            " [-5.04219198 -5.88      ]\n",
            " [-2.09421611 -2.22      ]\n",
            " [-2.12590075 -1.6       ]\n",
            " [-0.74811614 -1.92      ]\n",
            " [-1.16945386  0.36      ]\n",
            " [-2.2500453  -2.35      ]\n",
            " [-1.4565531  -2.21      ]\n",
            " [-3.27997065 -4.081     ]\n",
            " [-1.33497226 -1.877     ]\n",
            " [-2.79273629 -2.478     ]\n",
            " [ 0.79881001  1.34      ]\n",
            " [-5.44776821 -4.31      ]\n",
            " [-2.6657145  -2.55      ]\n",
            " [-2.43869805 -3.1       ]\n",
            " [-1.65008509 -1.803     ]\n",
            " [-5.34481907 -4.3       ]\n",
            " [-2.84670711 -3.6       ]\n",
            " [-6.25767136 -6.124     ]\n",
            " [-8.08933353 -8.01      ]\n",
            " [-4.99990034 -3.78      ]\n",
            " [ 1.37186015 -0.31      ]\n",
            " [-1.77147698 -2.266     ]\n",
            " [-0.01265239  0.009     ]\n",
            " [-1.26056123  0.38      ]\n",
            " [-1.48684537  0.51      ]\n",
            " [-2.79214239 -2.09      ]\n",
            " [-2.77018118 -3.12      ]\n",
            " [-3.65058589 -4.46      ]\n",
            " [-1.93390453 -2.273     ]\n",
            " [-5.86020851 -6.29      ]\n",
            " [-4.07564831 -4.862     ]\n",
            " [-3.24667478 -3.28      ]\n",
            " [-2.40565491 -2.63      ]\n",
            " [-8.10184097 -7.39      ]\n",
            " [-4.90500116 -5.26      ]\n",
            " [-4.65462923 -4.873     ]\n",
            " [-2.97817159 -3.46      ]\n",
            " [-3.99661779 -4.86      ]\n",
            " [-2.88887787 -2.658     ]\n",
            " [-4.43613291 -4.02      ]\n",
            " [-4.10372162 -4.14      ]\n",
            " [-2.51059461 -1.7       ]\n",
            " [-2.0211103  -3.05      ]\n",
            " [-8.51785946 -7.66      ]\n",
            " [ 0.12017701 -0.01      ]\n",
            " [-0.48698658 -0.8       ]\n",
            " [-3.53984189 -4.26      ]\n",
            " [-2.56308818 -2.016     ]\n",
            " [-4.59366131 -5.27      ]\n",
            " [-0.41357049 -1.89      ]\n",
            " [-3.6983068  -3.35      ]\n",
            " [-0.30126473  0.76      ]\n",
            " [ 1.21086049  0.7       ]\n",
            " [-6.83604193 -6.9       ]\n",
            " [-1.62580287 -2.09      ]\n",
            " [-3.49490547 -4.47      ]\n",
            " [-3.94147992 -4.8       ]\n",
            " [ 0.25657204  0.81      ]\n",
            " [-3.48543072 -3.3       ]\n",
            " [-2.37554669 -2.55      ]\n",
            " [-2.80367565 -2.85      ]\n",
            " [-1.71854889 -1.19      ]\n",
            " [-1.52020574 -1.99      ]\n",
            " [-3.32282662 -3.11      ]\n",
            " [-5.05634642 -4.5       ]\n",
            " [-2.22795486 -2.        ]\n",
            " [-1.33460343 -1.8       ]\n",
            " [-1.68044937 -1.85      ]\n",
            " [-4.49806309 -3.61      ]\n",
            " [-2.96944737 -3.27      ]\n",
            " [-6.87710428 -7.01      ]\n",
            " [ 0.17835034 -1.6       ]\n",
            " [-7.11657381 -7.85      ]\n",
            " [-1.97730994 -1.74      ]\n",
            " [-1.38963115 -2.523     ]\n",
            " [-1.80643415 -2.13      ]\n",
            " [-2.57547641 -1.96      ]\n",
            " [-6.62902546 -8.04      ]\n",
            " [-0.9528681  -0.85      ]\n",
            " [-5.29658556 -5.382     ]\n",
            " [-2.24462295 -1.13      ]\n",
            " [-0.74084425 -0.8       ]\n",
            " [-2.32254577 -0.12      ]\n",
            " [-1.68461061 -1.52      ]\n",
            " [-1.99511588 -0.24      ]\n",
            " [-0.58129936 -1.36      ]\n",
            " [-4.0401535  -4.24      ]\n",
            " [ 0.63738793  1.02      ]\n",
            " [-1.00887585 -0.6       ]\n",
            " [-4.78769875 -5.16      ]\n",
            " [-3.02644324 -3.31      ]\n",
            " [-1.17249787 -1.64      ]\n",
            " [-7.46581554 -7.8       ]\n",
            " [-0.77588928 -0.99      ]]\n"
          ],
          "name": "stdout"
        }
      ]
    },
    {
      "cell_type": "code",
      "metadata": {
        "id": "GY-Bfe-pyhVW",
        "colab": {
          "base_uri": "https://localhost:8080/"
        },
        "outputId": "1d9c6d56-be2f-423f-9347-9cdb29691c87"
      },
      "source": [
        "from sklearn.metrics import r2_score\n",
        "r2_score(Y_test, Y_test_predited)"
      ],
      "execution_count": 23,
      "outputs": [
        {
          "output_type": "execute_result",
          "data": {
            "text/plain": [
              "0.8800579751162492"
            ]
          },
          "metadata": {},
          "execution_count": 23
        }
      ]
    },
    {
      "cell_type": "code",
      "metadata": {
        "id": "-mWgjPrsuvCk"
      },
      "source": [
        "df_x = dataset[[\"Molecular Weight\",\t\"Number of H-Bond Donors\",\t\"Number of Rings\",\t\"Number of Rotatable Bonds\",\"Polar Surface Area\",]]\n"
      ],
      "execution_count": 24,
      "outputs": []
    },
    {
      "cell_type": "code",
      "metadata": {
        "id": "Lp44xXoExjed"
      },
      "source": [
        "df_x=np.array(df_x)"
      ],
      "execution_count": 25,
      "outputs": []
    },
    {
      "cell_type": "code",
      "metadata": {
        "id": "hxBSGhuLwhwC"
      },
      "source": [
        "y_new=dataset[[\"measured log solubility in mols per litre\"]]"
      ],
      "execution_count": 26,
      "outputs": []
    },
    {
      "cell_type": "code",
      "metadata": {
        "id": "UsumIFgpxcB7"
      },
      "source": [
        "X_train = df_x[:-100]\n",
        "X_test = df_x[-100:]\n",
        "\n",
        "# split output to train and test sets\n",
        "#output = dataset[\"measured log solubility in mols per litre\"].values\n",
        "Y_train = y_new[:-100]\n",
        "Y_test = y_new[-100:]"
      ],
      "execution_count": 27,
      "outputs": []
    },
    {
      "cell_type": "code",
      "metadata": {
        "id": "9tlTsmLtikdE"
      },
      "source": [
        "Y_train=np.array(Y_train)\n",
        "Y_test=np.array(Y_test)"
      ],
      "execution_count": 28,
      "outputs": []
    },
    {
      "cell_type": "code",
      "metadata": {
        "colab": {
          "base_uri": "https://localhost:8080/"
        },
        "id": "nxjulVHGh42M",
        "outputId": "c748014a-71a1-4c78-c6cf-418265028d33"
      },
      "source": [
        "print(type(X_train))\n",
        "print(type(X_test))\n",
        "print(type(Y_train))\n",
        "print(type(Y_test))\n",
        "\n"
      ],
      "execution_count": 29,
      "outputs": [
        {
          "output_type": "stream",
          "text": [
            "<class 'numpy.ndarray'>\n",
            "<class 'numpy.ndarray'>\n",
            "<class 'numpy.ndarray'>\n",
            "<class 'numpy.ndarray'>\n"
          ],
          "name": "stdout"
        }
      ]
    },
    {
      "cell_type": "code",
      "metadata": {
        "id": "ODBu0_xAxcKL"
      },
      "source": [
        "\n",
        "from sklearn.svm import SVR\n",
        "from sklearn.ensemble import RandomForestRegressor\n",
        "from sklearn.metrics import mean_squared_error, r2_score"
      ],
      "execution_count": 31,
      "outputs": []
    },
    {
      "cell_type": "code",
      "metadata": {
        "colab": {
          "base_uri": "https://localhost:8080/"
        },
        "id": "VFnLZZJ3zcTQ",
        "outputId": "02d1c5c2-73b8-4475-b2cb-ed4b9caed2ba"
      },
      "source": [
        "model_rf = RandomForestRegressor(n_estimators = 10000, random_state = 0)\n",
        "model_rf.fit(X_train, Y_train)"
      ],
      "execution_count": 33,
      "outputs": [
        {
          "output_type": "execute_result",
          "data": {
            "text/plain": [
              "RandomForestRegressor(bootstrap=True, ccp_alpha=0.0, criterion='mse',\n",
              "                      max_depth=None, max_features='auto', max_leaf_nodes=None,\n",
              "                      max_samples=None, min_impurity_decrease=0.0,\n",
              "                      min_impurity_split=None, min_samples_leaf=1,\n",
              "                      min_samples_split=2, min_weight_fraction_leaf=0.0,\n",
              "                      n_estimators=10000, n_jobs=None, oob_score=False,\n",
              "                      random_state=0, verbose=0, warm_start=False)"
            ]
          },
          "metadata": {},
          "execution_count": 33
        }
      ]
    },
    {
      "cell_type": "code",
      "metadata": {
        "id": "rUPKl3KY0PsG"
      },
      "source": [
        "Y_pred_rf = model_rf.predict(X_test)"
      ],
      "execution_count": 34,
      "outputs": []
    },
    {
      "cell_type": "code",
      "metadata": {
        "colab": {
          "base_uri": "https://localhost:8080/"
        },
        "id": "ZWRewiaL0WcG",
        "outputId": "1fe0f0dc-06a7-4c3a-e044-2d7483de7046"
      },
      "source": [
        "r2_score(Y_test, Y_pred_rf)"
      ],
      "execution_count": 35,
      "outputs": [
        {
          "output_type": "execute_result",
          "data": {
            "text/plain": [
              "0.8790093535645791"
            ]
          },
          "metadata": {},
          "execution_count": 35
        }
      ]
    },
    {
      "cell_type": "code",
      "metadata": {
        "id": "4Tv4vil9F5r0"
      },
      "source": [
        "Y_pred_rf = np.reshape(Y_pred_rf, (100, 1))\n",
        "#Y_pred_fin = np.reshape(Y_pred_fin, (100, 1))"
      ],
      "execution_count": 43,
      "outputs": []
    },
    {
      "cell_type": "code",
      "metadata": {
        "id": "SF7zGvZmFJSo"
      },
      "source": [
        "Y_pred_fin=np.add(Y_pred_rf,Y_test_predited)\n",
        "Y_pred_fin=Y_pred_fin/2\n"
      ],
      "execution_count": 45,
      "outputs": []
    },
    {
      "cell_type": "code",
      "metadata": {
        "colab": {
          "base_uri": "https://localhost:8080/"
        },
        "id": "zSN-E3NuGmWC",
        "outputId": "fe728206-84b7-471c-88bd-5382c9dcd7e3"
      },
      "source": [
        "r2_score(Y_test, Y_pred_fin)"
      ],
      "execution_count": 47,
      "outputs": [
        {
          "output_type": "execute_result",
          "data": {
            "text/plain": [
              "0.9183242657490649"
            ]
          },
          "metadata": {},
          "execution_count": 47
        }
      ]
    },
    {
      "cell_type": "code",
      "metadata": {
        "id": "7XmGIBLIFx8Y"
      },
      "source": [
        ""
      ],
      "execution_count": null,
      "outputs": []
    },
    {
      "cell_type": "markdown",
      "metadata": {
        "id": "xpgRin7b18bX"
      },
      "source": [
        "Save model\n",
        "We can save/load this model for future use, using the save() and load_model() functions from Keras."
      ]
    },
    {
      "cell_type": "code",
      "metadata": {
        "id": "r3eleKjN17aZ"
      },
      "source": [
        "# Save the model\n",
        "#solubility_model.save(\"solubility_model_91.hdf5\")\n",
        "\n",
        "# Load it back\n",
        "#loaded_model = load_model(\"solubility_model_91.hdf5\")"
      ],
      "execution_count": null,
      "outputs": []
    },
    {
      "cell_type": "code",
      "metadata": {
        "id": "vJs45hIR2Q2K"
      },
      "source": [
        "!pwd"
      ],
      "execution_count": null,
      "outputs": []
    }
  ]
}