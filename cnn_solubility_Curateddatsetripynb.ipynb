{
  "nbformat": 4,
  "nbformat_minor": 0,
  "metadata": {
    "colab": {
      "name": "cnn_solubility_Curateddatsetripynb",
      "provenance": [],
      "mount_file_id": "1i-mLeGng_i1wWZri9SHJJ2oRzwjHSou6",
      "authorship_tag": "ABX9TyNLSMoqMhA0DlHNRyzoyKPR",
      "include_colab_link": true
    },
    "kernelspec": {
      "name": "python3",
      "display_name": "Python 3"
    },
    "language_info": {
      "name": "python"
    }
  },
  "cells": [
    {
      "cell_type": "markdown",
      "metadata": {
        "id": "view-in-github",
        "colab_type": "text"
      },
      "source": [
        "<a href=\"https://colab.research.google.com/github/ali1810/Deep_Chem/blob/main/cnn_solubility_Curateddatsetripynb.ipynb\" target=\"_parent\"><img src=\"https://colab.research.google.com/assets/colab-badge.svg\" alt=\"Open In Colab\"/></a>"
      ]
    },
    {
      "cell_type": "code",
      "metadata": {
        "id": "_yW6lm08y_df"
      },
      "source": [
        "# general imports\n",
        "import pandas as pd\n",
        "import seaborn as sns\n",
        "import matplotlib.pyplot as plt\n",
        "import numpy as np\n",
        "\n",
        "# keras imports\n",
        "from keras.layers import (Input, Dense, Conv1D, MaxPool1D, Dropout, GRU, LSTM, \n",
        "                          TimeDistributed, Add, Flatten, RepeatVector, Lambda, Concatenate)\n",
        "from keras.models import Model, load_model\n",
        "from keras.metrics import binary_crossentropy\n",
        "from keras import initializers\n",
        "import keras.backend as K\n",
        "\n",
        "# Visualization\n",
        "#from keras_sequential_ascii import keras2ascii\n",
        "\n",
        "# utils functions\n",
        "#from utils import *\n",
        "\n",
        "import os\n",
        "os.environ['KMP_DUPLICATE_LIB_OK']='True'\n",
        "\n",
        "# Remove warnings from output\n",
        "import warnings\n",
        "warnings.filterwarnings('ignore')"
      ],
      "execution_count": 3,
      "outputs": []
    },
    {
      "cell_type": "code",
      "metadata": {
        "colab": {
          "base_uri": "https://localhost:8080/",
          "height": 360
        },
        "id": "IDVt2Epgzyl6",
        "outputId": "34e8dda4-fb79-4d30-8861-770377bc3686"
      },
      "source": [
        "## read dataset as a dataframe\n",
        "dataset = pd.read_csv(\"/content/drive/MyDrive/curated-solubility-dataset.csv\")\n",
        "\n",
        "# print column names in dataset\n",
        "print(f\"Columns in dataset: {list(dataset.columns)}\")\n",
        "\n",
        "# print number of rows in dataset\n",
        "print(f\"\\nLength of dataset: {len(dataset)}\")\n",
        "\n",
        "# shuffle rows of the dataset (we could do this later as well when doing train/test splits)\n",
        "dataset = dataset.sample(frac=1, random_state=0)\n",
        "\n",
        "# show first 5 rows of dataframe\n",
        "dataset.head()"
      ],
      "execution_count": 4,
      "outputs": [
        {
          "output_type": "stream",
          "text": [
            "Columns in dataset: ['ID', 'Name', 'InChI', 'InChIKey', 'SMILES', 'Solubility', 'SD', 'Ocurrences', 'Group', 'MolWt', 'MolLogP', 'MolMR', 'HeavyAtomCount', 'NumHAcceptors', 'NumHDonors', 'NumHeteroatoms', 'NumRotatableBonds', 'NumValenceElectrons', 'NumAromaticRings', 'NumSaturatedRings', 'NumAliphaticRings', 'RingCount', 'TPSA', 'LabuteASA', 'BalabanJ', 'BertzCT']\n",
            "\n",
            "Length of dataset: 9982\n"
          ],
          "name": "stdout"
        },
        {
          "output_type": "execute_result",
          "data": {
            "text/html": [
              "<div>\n",
              "<style scoped>\n",
              "    .dataframe tbody tr th:only-of-type {\n",
              "        vertical-align: middle;\n",
              "    }\n",
              "\n",
              "    .dataframe tbody tr th {\n",
              "        vertical-align: top;\n",
              "    }\n",
              "\n",
              "    .dataframe thead th {\n",
              "        text-align: right;\n",
              "    }\n",
              "</style>\n",
              "<table border=\"1\" class=\"dataframe\">\n",
              "  <thead>\n",
              "    <tr style=\"text-align: right;\">\n",
              "      <th></th>\n",
              "      <th>ID</th>\n",
              "      <th>Name</th>\n",
              "      <th>InChI</th>\n",
              "      <th>InChIKey</th>\n",
              "      <th>SMILES</th>\n",
              "      <th>Solubility</th>\n",
              "      <th>SD</th>\n",
              "      <th>Ocurrences</th>\n",
              "      <th>Group</th>\n",
              "      <th>MolWt</th>\n",
              "      <th>MolLogP</th>\n",
              "      <th>MolMR</th>\n",
              "      <th>HeavyAtomCount</th>\n",
              "      <th>NumHAcceptors</th>\n",
              "      <th>NumHDonors</th>\n",
              "      <th>NumHeteroatoms</th>\n",
              "      <th>NumRotatableBonds</th>\n",
              "      <th>NumValenceElectrons</th>\n",
              "      <th>NumAromaticRings</th>\n",
              "      <th>NumSaturatedRings</th>\n",
              "      <th>NumAliphaticRings</th>\n",
              "      <th>RingCount</th>\n",
              "      <th>TPSA</th>\n",
              "      <th>LabuteASA</th>\n",
              "      <th>BalabanJ</th>\n",
              "      <th>BertzCT</th>\n",
              "    </tr>\n",
              "  </thead>\n",
              "  <tbody>\n",
              "    <tr>\n",
              "      <th>6907</th>\n",
              "      <td>B-4206</td>\n",
              "      <td>diuron</td>\n",
              "      <td>InChI=1S/C9H10Cl2N2O/c1-13(2)9(14)12-6-3-4-7(1...</td>\n",
              "      <td>XMTQQYYKAHVGBJ-UHFFFAOYSA-N</td>\n",
              "      <td>CN(C)C(=O)Nc1ccc(Cl)c(Cl)c1</td>\n",
              "      <td>-3.744300</td>\n",
              "      <td>1.227164</td>\n",
              "      <td>5</td>\n",
              "      <td>G4</td>\n",
              "      <td>233.098</td>\n",
              "      <td>3.0869</td>\n",
              "      <td>59.1677</td>\n",
              "      <td>14.0</td>\n",
              "      <td>1.0</td>\n",
              "      <td>1.0</td>\n",
              "      <td>5.0</td>\n",
              "      <td>1.0</td>\n",
              "      <td>76.0</td>\n",
              "      <td>1.0</td>\n",
              "      <td>0.0</td>\n",
              "      <td>0.0</td>\n",
              "      <td>1.0</td>\n",
              "      <td>32.34</td>\n",
              "      <td>92.603980</td>\n",
              "      <td>2.781208</td>\n",
              "      <td>352.665233</td>\n",
              "    </tr>\n",
              "    <tr>\n",
              "      <th>9567</th>\n",
              "      <td>F-988</td>\n",
              "      <td>7-(3-amino-3-methylazetidin-1-yl)-8-chloro-1-c...</td>\n",
              "      <td>InChI=1S/C17H17ClFN3O3/c1-17(20)6-21(7-17)14-1...</td>\n",
              "      <td>DUNZFXZSFJLIKR-UHFFFAOYSA-N</td>\n",
              "      <td>CC1(N)CN(C2=C(Cl)C3=C(C=C2F)C(=O)C(C(=O)O)=CN3...</td>\n",
              "      <td>-5.330000</td>\n",
              "      <td>0.000000</td>\n",
              "      <td>1</td>\n",
              "      <td>G1</td>\n",
              "      <td>365.792</td>\n",
              "      <td>2.3645</td>\n",
              "      <td>93.2117</td>\n",
              "      <td>25.0</td>\n",
              "      <td>5.0</td>\n",
              "      <td>2.0</td>\n",
              "      <td>8.0</td>\n",
              "      <td>3.0</td>\n",
              "      <td>132.0</td>\n",
              "      <td>2.0</td>\n",
              "      <td>2.0</td>\n",
              "      <td>2.0</td>\n",
              "      <td>4.0</td>\n",
              "      <td>88.56</td>\n",
              "      <td>147.136366</td>\n",
              "      <td>2.001398</td>\n",
              "      <td>973.487509</td>\n",
              "    </tr>\n",
              "    <tr>\n",
              "      <th>8083</th>\n",
              "      <td>C-1996</td>\n",
              "      <td>4-acetoxybiphenyl;  4-biphenylyl  acetate</td>\n",
              "      <td>InChI=1S/C14H12O2/c1-11(15)16-14-9-7-13(8-10-1...</td>\n",
              "      <td>MISFQCBPASYYGV-UHFFFAOYSA-N</td>\n",
              "      <td>CC(=O)OC1=CC=C(C=C1)C2=CC=CC=C2</td>\n",
              "      <td>-4.400000</td>\n",
              "      <td>0.000000</td>\n",
              "      <td>1</td>\n",
              "      <td>G1</td>\n",
              "      <td>212.248</td>\n",
              "      <td>3.2789</td>\n",
              "      <td>63.1870</td>\n",
              "      <td>16.0</td>\n",
              "      <td>2.0</td>\n",
              "      <td>0.0</td>\n",
              "      <td>2.0</td>\n",
              "      <td>2.0</td>\n",
              "      <td>80.0</td>\n",
              "      <td>2.0</td>\n",
              "      <td>0.0</td>\n",
              "      <td>0.0</td>\n",
              "      <td>2.0</td>\n",
              "      <td>26.30</td>\n",
              "      <td>94.493449</td>\n",
              "      <td>2.228677</td>\n",
              "      <td>471.848345</td>\n",
              "    </tr>\n",
              "    <tr>\n",
              "      <th>1861</th>\n",
              "      <td>A-3055</td>\n",
              "      <td>methane dimolybdenum</td>\n",
              "      <td>InChI=1S/CH4.2Mo/h1H4;;</td>\n",
              "      <td>JAGQSESDQXCFCH-UHFFFAOYSA-N</td>\n",
              "      <td>C.[Mo].[Mo]</td>\n",
              "      <td>-3.420275</td>\n",
              "      <td>0.409223</td>\n",
              "      <td>2</td>\n",
              "      <td>G3</td>\n",
              "      <td>207.923</td>\n",
              "      <td>0.6311</td>\n",
              "      <td>6.7310</td>\n",
              "      <td>3.0</td>\n",
              "      <td>0.0</td>\n",
              "      <td>0.0</td>\n",
              "      <td>2.0</td>\n",
              "      <td>0.0</td>\n",
              "      <td>20.0</td>\n",
              "      <td>0.0</td>\n",
              "      <td>0.0</td>\n",
              "      <td>0.0</td>\n",
              "      <td>0.0</td>\n",
              "      <td>0.00</td>\n",
              "      <td>49.515427</td>\n",
              "      <td>-0.000000</td>\n",
              "      <td>2.754888</td>\n",
              "    </tr>\n",
              "    <tr>\n",
              "      <th>1509</th>\n",
              "      <td>A-2575</td>\n",
              "      <td>ethyl 4-[[(methylphenylamino)methylene]amino]b...</td>\n",
              "      <td>InChI=1S/C17H18N2O2/c1-3-21-17(20)14-9-11-15(1...</td>\n",
              "      <td>GNGYPJUKIKDJQT-UHFFFAOYSA-N</td>\n",
              "      <td>CCOC(=O)c1ccc(cc1)N=CN(C)c2ccccc2</td>\n",
              "      <td>-5.450777</td>\n",
              "      <td>0.000000</td>\n",
              "      <td>1</td>\n",
              "      <td>G1</td>\n",
              "      <td>282.343</td>\n",
              "      <td>3.6595</td>\n",
              "      <td>85.3955</td>\n",
              "      <td>21.0</td>\n",
              "      <td>3.0</td>\n",
              "      <td>0.0</td>\n",
              "      <td>4.0</td>\n",
              "      <td>5.0</td>\n",
              "      <td>108.0</td>\n",
              "      <td>2.0</td>\n",
              "      <td>0.0</td>\n",
              "      <td>0.0</td>\n",
              "      <td>2.0</td>\n",
              "      <td>41.90</td>\n",
              "      <td>124.243431</td>\n",
              "      <td>2.028889</td>\n",
              "      <td>606.447052</td>\n",
              "    </tr>\n",
              "  </tbody>\n",
              "</table>\n",
              "</div>"
            ],
            "text/plain": [
              "          ID  ...     BertzCT\n",
              "6907  B-4206  ...  352.665233\n",
              "9567   F-988  ...  973.487509\n",
              "8083  C-1996  ...  471.848345\n",
              "1861  A-3055  ...    2.754888\n",
              "1509  A-2575  ...  606.447052\n",
              "\n",
              "[5 rows x 26 columns]"
            ]
          },
          "metadata": {
            "tags": []
          },
          "execution_count": 4
        }
      ]
    },
    {
      "cell_type": "markdown",
      "metadata": {
        "id": "lB-dKWq-9Kny"
      },
      "source": [
        "We can explore the range of solubilities found in the dataset by plotting a histogram of solubility values from the dataset. Our machine learning models will aim to predict these solubilities."
      ]
    },
    {
      "cell_type": "code",
      "metadata": {
        "colab": {
          "base_uri": "https://localhost:8080/",
          "height": 296
        },
        "id": "H00k9o-Q9L2z",
        "outputId": "dd4f2439-9cd0-4c30-f432-b9d11027ea9e"
      },
      "source": [
        "sns.distplot(dataset[\"Solubility\"])"
      ],
      "execution_count": 5,
      "outputs": [
        {
          "output_type": "execute_result",
          "data": {
            "text/plain": [
              "<matplotlib.axes._subplots.AxesSubplot at 0x7fa077a65990>"
            ]
          },
          "metadata": {
            "tags": []
          },
          "execution_count": 5
        },
        {
          "output_type": "display_data",
          "data": {
            "image/png": "[encoded data removed]",
            "text/plain": [
              "<Figure size 432x288 with 1 Axes>"
            ]
          },
          "metadata": {
            "tags": [],
            "needs_background": "light"
          }
        }
      ]
    },
    {
      "cell_type": "markdown",
      "metadata": {
        "id": "SU1tROL39j7h"
      },
      "source": [
        "In the next cell we will plot a histogram of SMILES string lengths from dataset. These lengths will be used to determine the length of the inputs for our CNN model. Below are examples of the SMILES representation:\n",
        "\n",
        "Methane: 'C' Pentane: 'CCCCC' Methanol and Ethanol: 'CO' and 'CCO' Pyridine: 'C1:C:C:N:C:C:1' To learn more about the SMILES representation, click here."
      ]
    },
    {
      "cell_type": "code",
      "metadata": {
        "colab": {
          "base_uri": "https://localhost:8080/",
          "height": 282
        },
        "id": "cbzAeJPH9olR",
        "outputId": "9ac0e95a-6ea1-4b96-e5c5-2da76d73784b"
      },
      "source": [
        "smiles_lengths = map(len, dataset.SMILES.values)\n",
        "sns.distplot(list(smiles_lengths), bins=20, kde=False)"
      ],
      "execution_count": 6,
      "outputs": [
        {
          "output_type": "execute_result",
          "data": {
            "text/plain": [
              "<matplotlib.axes._subplots.AxesSubplot at 0x7fa0741588d0>"
            ]
          },
          "metadata": {
            "tags": []
          },
          "execution_count": 6
        },
        {
          "output_type": "display_data",
          "data": {
            "image/png": "[encoded data removed]",
            "text/plain": [
              "<Figure size 432x288 with 1 Axes>"
            ]
          },
          "metadata": {
            "tags": [],
            "needs_background": "light"
          }
        }
      ]
    },
    {
      "cell_type": "markdown",
      "metadata": {
        "id": "BeKJsla5-EH-"
      },
      "source": [
        "Data preparation Now we will pre-process the dataset for the CNN models. First, we'll get the unique character set from all SMILES strings in the dataset. Then we will use the unique character set to convert our SMILES strings to a one-hot representation, which is a representation that converts raw strings of text to numerical inputs for our models.\n",
        "\n",
        "In a one-hot representation, each character of our SMILES string is encoded as a vector of zeros, except for one non-zero value. For instance, the character 'C' in the SMILES string is converted to a vector of length 31, consisting of 30 zeros and one non-zero entry of one. The length of this vector (31 in our case) is the total number of unique characters in the dataset.\n",
        "\n",
        "Given a string of 5 characters (say Pentane, which is represented as 'CCCCC'), we would thus get 5 vectors each of length 31. Since different molecules have different SMILES string lengths, we can pre-define the length of each string to be the maximum length from the database, with smaller molecules represented with additional characters. In our case, this maximum length is 40 and we represent the extra characters for smaller molecules with pre-defined one-hot vectors. This means that each molecule is now represented as a set of 40 vectors, each of length 31. We can represent this as a 40x31 matrix.\n",
        "\n",
        "One-hot encoding is commonly used in natural language processing, and you can learn more about one-hot encoding here.\n",
        "\n",
        "Finally, we will define our input and output and create test/train splits in the dataset."
      ]
    },
    {
      "cell_type": "code",
      "metadata": {
        "id": "nOzTB620-GD0"
      },
      "source": [
        "## Function to create unique character from string \n",
        "\n",
        "def generate_charset(full_char_list:list) -> list:\n",
        "    '''\n",
        "    Assumes full_char_list is a list of characters (e.g., ['c', 'c', '1']).\n",
        "    Returns a sorted list of unique characters, with index zero as a NULL character, and a PAD character.\n",
        "    '''\n",
        "    unique_chars = set(''.join(full_char_list))\n",
        "    charset = ['NULL', 'PAD'] + sorted(unique_chars)\n",
        "    return charset"
      ],
      "execution_count": 7,
      "outputs": []
    },
    {
      "cell_type": "code",
      "metadata": {
        "id": "jVaBuuO3-RPF"
      },
      "source": [
        "### Function to create one hot encoder ....\n",
        "\n",
        "def smiles_to_onehots(smiles_strings:list,\n",
        "                     unique_charset:list,\n",
        "                     max_smiles_chars:int) -> np.array:\n",
        "    one_hots = []\n",
        "    charset_length = len(unique_charset)\n",
        "\n",
        "    for smiles_string in smiles_strings:\n",
        "        one_hot_smiles = np.zeros(shape=(max_smiles_chars, charset_length))\n",
        "        for i in range(max_smiles_chars):\n",
        "            one_hot_col = [0]*charset_length\n",
        "            ind = None # Which index will we flip to be \"one-hot\"?\n",
        "            \n",
        "            if i < len(smiles_string):\n",
        "                try:\n",
        "                    ind = unique_charset.index(smiles_string[i])\n",
        "                    # one_hot_col[unique_charset.index(char)] = 1\n",
        "                except ValueError:\n",
        "                    ind = 0 # Treat as NULL if out-of-vocab  \n",
        "                    # one_hot_col[0] = 1 # Treat as NULL if out-of-vocab   \n",
        "            else:\n",
        "                ind = 1 # Add PAD as needed\n",
        "            \n",
        "            one_hot_col[ind] = 1\n",
        "            one_hot_smiles[i,:] = one_hot_col\n",
        "            \n",
        "        one_hots.append(one_hot_smiles)\n",
        "    return np.array(one_hots)"
      ],
      "execution_count": 8,
      "outputs": []
    },
    {
      "cell_type": "code",
      "metadata": {
        "colab": {
          "base_uri": "https://localhost:8080/"
        },
        "id": "ww8yv2UDBIAD",
        "outputId": "785c27d2-b0d3-46d2-d576-4e49cb041b4e"
      },
      "source": [
        "### Getting Max Character of the Smiles string ......\n",
        "\n",
        "smiles_lengths = max(dataset[\"SMILES\"],key =len)\n",
        "print(len(smiles_lengths))"
      ],
      "execution_count": 18,
      "outputs": [
        {
          "output_type": "stream",
          "text": [
            "783\n"
          ],
          "name": "stdout"
        }
      ]
    },
    {
      "cell_type": "code",
      "metadata": {
        "colab": {
          "base_uri": "https://localhost:8080/"
        },
        "id": "HO2AsHzn-Xju",
        "outputId": "fe216239-a397-4176-fb8b-d3d9202fa44d"
      },
      "source": [
        "# get unique character set in all SMILES strings \n",
        "charset = generate_charset(dataset[\"SMILES\"].values.ravel())\n",
        "\n",
        "# get the number of unique characters\n",
        "charset_length = len(charset)\n",
        "print(charset_length)\n",
        "\n",
        "# define max number of SMILES for model input vector\n",
        "max_smiles_chars = 783\n",
        "\n",
        "# dimension of input vector\n",
        "input_dim = charset_length * max_smiles_chars\n",
        "\n",
        "# get one-hot representation of the SMILES strings \n",
        "one_hots = smiles_to_onehots(dataset[\"SMILES\"].values, charset, max_smiles_chars)\n",
        "\n",
        "# split input into train and test sets\n",
        "X_train = one_hots[:-100]\n",
        "X_test = one_hots[-100:]\n",
        "\n",
        "# split output to train and test sets\n",
        "output = dataset[\"Solubility\"].values\n",
        "Y_train = output[:-100]\n",
        "Y_test = output[-100:]"
      ],
      "execution_count": 36,
      "outputs": [
        {
          "output_type": "stream",
          "text": [
            "65\n"
          ],
          "name": "stdout"
        }
      ]
    },
    {
      "cell_type": "markdown",
      "metadata": {
        "id": "GAnYkVAhJbwn"
      },
      "source": [
        ""
      ]
    },
    {
      "cell_type": "code",
      "metadata": {
        "colab": {
          "base_uri": "https://localhost:8080/"
        },
        "id": "ERglhiYVF1UH",
        "outputId": "c8452496-3db2-4d1b-ffa0-9f8ee3a7cfad"
      },
      "source": [
        "### Now we can have look for the input data ....\n",
        "X_train_length = len(X_train)\n",
        "X_test_length = len(X_test)\n",
        "Y_train_length = len(Y_train)\n",
        "Y_test_length = len(Y_test)\n",
        "\n",
        "print(\" Numebr of X_train data ::\",X_train_length)\n",
        "print(\" Numebr of X_test data ::\",X_test_length)\n",
        "print(\" Numebr of Y_train data ::\",Y_train_length)\n",
        "print(\" Numebr of Y_test data ::\",Y_test_length)\n"
      ],
      "execution_count": 29,
      "outputs": [
        {
          "output_type": "stream",
          "text": [
            " Numebr of X_train data :: 9882\n",
            " Numebr of X_test data :: 100\n",
            " Numebr of Y_train data :: 9882\n",
            " Numebr of Y_test data :: 100\n"
          ],
          "name": "stdout"
        }
      ]
    },
    {
      "cell_type": "code",
      "metadata": {
        "colab": {
          "base_uri": "https://localhost:8080/",
          "height": 303
        },
        "id": "1_czMDKOHxmc",
        "outputId": "e9c89317-9ec6-4b96-eb6a-8db0529ef77b"
      },
      "source": [
        "### Visulaization of one hot encoder string as SMILES \n",
        "index = 9855\n",
        "sns.heatmap(X_train[index]) # This is a single training example -- note that it is a matrix, not a single vector!\n",
        "plt.xlabel('Character')\n",
        "plt.ylabel('Position in SMILES String')\n",
        "print(dataset.iloc[index]['SMILES'])"
      ],
      "execution_count": 35,
      "outputs": [
        {
          "output_type": "stream",
          "text": [
            "NC1=NC2=C([NH]1)N=C(N)N=C2N\n"
          ],
          "name": "stdout"
        },
        {
          "output_type": "display_data",
          "data": {
            "image/png": "[encoded data removed]",
            "text/plain": [
              "<Figure size 432x288 with 2 Axes>"
            ]
          },
          "metadata": {
            "tags": [],
            "needs_background": "light"
          }
        }
      ]
    },
    {
      "cell_type": "markdown",
      "metadata": {
        "id": "SsxRbLU-JfDo"
      },
      "source": [
        "Supervised CNN model for predicting solubility In this section, we will set up a convolutional neural network to predict solubility using one-hot SMILES as input. A convolutional neural network is a machine learning model that is commonly used to classify images, and you can learn more about them here.\n",
        "\n",
        "Define model structure First, we will create the model structure, starting with the input layer. As described above, each training example is a 783x65 matrix, which is the shape we pass to the Input layer in Keras."
      ]
    },
    {
      "cell_type": "code",
      "metadata": {
        "id": "jl_eNFbsJrWV"
      },
      "source": [
        "# Define the input layer\n",
        "# NOTE: We feed in a sequence here! We're inputting up to max_smiles_chars characters, \n",
        "# and each character is an array of length charset_length\n",
        "smiles_input = Input(shape=(max_smiles_chars, charset_length), name=\"SMILES-Input\")"
      ],
      "execution_count": 37,
      "outputs": []
    },
    {
      "cell_type": "code",
      "metadata": {
        "colab": {
          "base_uri": "https://localhost:8080/"
        },
        "id": "ztUrBgA5JhFc",
        "outputId": "2c88c2f7-74f5-4282-b870-cdfa8908a7b3"
      },
      "source": [
        "## Shape of the input layer ....\n",
        "smiles_input.shape"
      ],
      "execution_count": 39,
      "outputs": [
        {
          "output_type": "execute_result",
          "data": {
            "text/plain": [
              "TensorShape([None, 783, 65])"
            ]
          },
          "metadata": {
            "tags": []
          },
          "execution_count": 39
        }
      ]
    },
    {
      "cell_type": "markdown",
      "metadata": {
        "id": "hwsAPaufJ-wl"
      },
      "source": [
        "**Next we will define the convolution layers where each layer attempts to learn certain features of the images, such as edges and corners. The input to each layer (a matrix) is transformed via convolution operations, which are element by element multiplications of the input matrix and a filter matrix. The convolutional layer learns the filter matrix that will best identify unique features of the image. You can learn more about convolution operations and the math behind convolutional neural networks here.**\n",
        "\n"
      ]
    },
    {
      "cell_type": "code",
      "metadata": {
        "id": "zT92n1UtKCP9"
      },
      "source": [
        "# Set parameters for convolutional layers \n",
        "num_conv_filters = 16\n",
        "kernel_size = 3\n",
        "\n",
        "init_weights = initializers.glorot_normal(seed=0)\n",
        "\n",
        "# Define the convolutional layers\n",
        "# Multiple convolutions in a row is a common architecture (but there are many \"right\" choices here)\n",
        "conv_1_func = Conv1D(\n",
        "    filters=num_conv_filters, # What is the \"depth\" of the convolution? How many times do you look at the same spot?\n",
        "    kernel_size=kernel_size, # How \"wide\" of a spot does each filter look at?\n",
        "    name=\"Convolution-1\",\n",
        "    activation=\"relu\", # This is a common activation function: Rectified Linear Unit (ReLU)\n",
        "    kernel_initializer=init_weights #This defines the initial values for the weights\n",
        ")\n",
        "conv_2_func = Conv1D(\n",
        "    filters=num_conv_filters, \n",
        "    kernel_size=kernel_size, \n",
        "    name=\"Convolution-2\",\n",
        "    activation=\"relu\",\n",
        "    kernel_initializer=init_weights\n",
        ")\n",
        "conv_3_func = Conv1D(\n",
        "    filters=num_conv_filters, \n",
        "    kernel_size=kernel_size, \n",
        "    name=\"Convolution-3\",\n",
        "    activation=\"relu\",\n",
        "    kernel_initializer=init_weights\n",
        ")\n",
        "conv_4_func = Conv1D(\n",
        "    filters=num_conv_filters, \n",
        "    kernel_size=kernel_size,\n",
        "    name=\"Convolution-4\",\n",
        "    activation=\"relu\",\n",
        "    kernel_initializer=init_weights\n",
        ")"
      ],
      "execution_count": 40,
      "outputs": []
    },
    {
      "cell_type": "markdown",
      "metadata": {
        "id": "P8NMuxsSKRn6"
      },
      "source": [
        "The four convolution layers defined above will attempt to learn features of the SMILES string (represented as a 783x65 matrix) that are relevant to predicting the solubility. To get a numerical prediction, we now flatten the output of the convolution and pass it to a set of regular Dense layers, the last layer predicting one value for the solubility."
      ]
    },
    {
      "cell_type": "code",
      "metadata": {
        "id": "oWtz4LvNKXoq"
      },
      "source": [
        "# Define layer to flatten convolutions\n",
        "flatten_func = Flatten(name=\"Flattened-Convolutions\")\n",
        "\n",
        "# Define the activation function layer\n",
        "hidden_size = 32\n",
        "dense_1_func = Dense(hidden_size, activation=\"relu\", name=\"Fully-Connected\", kernel_initializer=init_weights)\n",
        "\n",
        "# Define output layer -- it's only one dimension since it is regression\n",
        "output_size = 1\n",
        "output_solubility_func = Dense(output_size, activation=\"linear\", name=\"Log-Solubility\", kernel_initializer=init_weights)"
      ],
      "execution_count": 41,
      "outputs": []
    },
    {
      "cell_type": "code",
      "metadata": {
        "id": "EOucUD8PKfdh"
      },
      "source": [
        "# connect the CNN graph together\n",
        "conv_1_fwd = conv_1_func(smiles_input)\n",
        "conv_2_fwd = conv_2_func(conv_1_fwd)\n",
        "conv_3_fwd = conv_3_func(conv_2_fwd)\n",
        "conv_4_fwd = conv_4_func(conv_3_fwd)\n",
        "flattened_convs = flatten_func(conv_4_fwd)\n",
        "dense_1_fwd = dense_1_func(flattened_convs)\n",
        "output_solubility_fwd = output_solubility_func(flattened_convs)"
      ],
      "execution_count": 42,
      "outputs": []
    },
    {
      "cell_type": "markdown",
      "metadata": {
        "id": "n64J10CzLG7n"
      },
      "source": [
        "View model structure and metadata Now the model is ready to train! But first we will define the model as solubility_model and compile it, then view some information on the model using the keras2ascii tool, which visually represents the layers in our model."
      ]
    },
    {
      "cell_type": "code",
      "metadata": {
        "id": "jCqPpp-_LFmI"
      },
      "source": [
        "# create model\n",
        "solubility_model = Model(\n",
        "            inputs=[smiles_input],\n",
        "            outputs=[output_solubility_fwd]\n",
        ")\n",
        "\n",
        "# compile model\n",
        "solubility_model.compile(\n",
        "    optimizer=\"adam\",\n",
        "    loss=\"mse\",\n",
        "    metrics=[\"mae\"]\n",
        ")"
      ],
      "execution_count": 44,
      "outputs": []
    },
    {
      "cell_type": "markdown",
      "metadata": {
        "id": "XNXA3HmJLOib"
      },
      "source": [
        "Train CNN Now we will train our CNN solubility model to the training data! During training, we will see metrics printed after each epoch such as test/train loss (both as Mean Squared Error (MSE) and Mean Absolute Error (MAE)).\n",
        "\n"
      ]
    },
    {
      "cell_type": "code",
      "metadata": {
        "colab": {
          "base_uri": "https://localhost:8080/"
        },
        "id": "wk48EN4RLK_i",
        "outputId": "b389db0b-434c-4f05-a616-99b98df36594"
      },
      "source": [
        "history = solubility_model.fit(\n",
        "    X_train, # Inputs\n",
        "    Y_train, # Outputs\n",
        "    epochs=100, # How many times to pass over the data\n",
        "    batch_size=64, # How many data rows to compute at once\n",
        "    verbose=1,\n",
        "    validation_data=(X_test, Y_test), # You would usually use more splits of the data if you plan to tune hyperparams\n",
        ")"
      ],
      "execution_count": 45,
      "outputs": [
        {
          "output_type": "stream",
          "text": [
            "Epoch 1/100\n",
            "155/155 [==============================] - 34s 119ms/step - loss: 5.8022 - mae: 1.8649 - val_loss: 2.4383 - val_mae: 1.1781\n",
            "Epoch 2/100\n",
            "155/155 [==============================] - 17s 111ms/step - loss: 2.5141 - mae: 1.2026 - val_loss: 1.9198 - val_mae: 1.0336\n",
            "Epoch 3/100\n",
            "155/155 [==============================] - 17s 112ms/step - loss: 2.1274 - mae: 1.0820 - val_loss: 1.8315 - val_mae: 0.9909\n",
            "Epoch 4/100\n",
            "155/155 [==============================] - 17s 112ms/step - loss: 1.9163 - mae: 1.0261 - val_loss: 1.4825 - val_mae: 0.8998\n",
            "Epoch 5/100\n",
            "155/155 [==============================] - 17s 111ms/step - loss: 1.7720 - mae: 0.9760 - val_loss: 1.4683 - val_mae: 0.9160\n",
            "Epoch 6/100\n",
            "155/155 [==============================] - 20s 127ms/step - loss: 1.7029 - mae: 0.9740 - val_loss: 1.4555 - val_mae: 0.9207\n",
            "Epoch 7/100\n",
            "155/155 [==============================] - 17s 112ms/step - loss: 1.5764 - mae: 0.9258 - val_loss: 1.3418 - val_mae: 0.8735\n",
            "Epoch 8/100\n",
            "155/155 [==============================] - 17s 112ms/step - loss: 1.4439 - mae: 0.8899 - val_loss: 1.4440 - val_mae: 0.8956\n",
            "Epoch 9/100\n",
            "155/155 [==============================] - 17s 112ms/step - loss: 1.5395 - mae: 0.9105 - val_loss: 1.4162 - val_mae: 0.8931\n",
            "Epoch 10/100\n",
            "155/155 [==============================] - 17s 111ms/step - loss: 1.4451 - mae: 0.8914 - val_loss: 1.3179 - val_mae: 0.8770\n",
            "Epoch 11/100\n",
            "155/155 [==============================] - 17s 112ms/step - loss: 1.3658 - mae: 0.8739 - val_loss: 1.2717 - val_mae: 0.8619\n",
            "Epoch 12/100\n",
            "155/155 [==============================] - 17s 111ms/step - loss: 1.3807 - mae: 0.8733 - val_loss: 1.3054 - val_mae: 0.8866\n",
            "Epoch 13/100\n",
            "155/155 [==============================] - 18s 114ms/step - loss: 1.3871 - mae: 0.8670 - val_loss: 1.2847 - val_mae: 0.8718\n",
            "Epoch 14/100\n",
            "155/155 [==============================] - 17s 112ms/step - loss: 1.3502 - mae: 0.8622 - val_loss: 1.3162 - val_mae: 0.8620\n",
            "Epoch 15/100\n",
            "155/155 [==============================] - 17s 112ms/step - loss: 1.3520 - mae: 0.8639 - val_loss: 1.2472 - val_mae: 0.8546\n",
            "Epoch 16/100\n",
            "155/155 [==============================] - 17s 112ms/step - loss: 1.3799 - mae: 0.8668 - val_loss: 1.2859 - val_mae: 0.8475\n",
            "Epoch 17/100\n",
            "155/155 [==============================] - 17s 112ms/step - loss: 1.2232 - mae: 0.8208 - val_loss: 1.2483 - val_mae: 0.8408\n",
            "Epoch 18/100\n",
            "155/155 [==============================] - 17s 112ms/step - loss: 1.1955 - mae: 0.8039 - val_loss: 1.2466 - val_mae: 0.8420\n",
            "Epoch 19/100\n",
            "155/155 [==============================] - 17s 112ms/step - loss: 1.2378 - mae: 0.8244 - val_loss: 1.2624 - val_mae: 0.8525\n",
            "Epoch 20/100\n",
            "155/155 [==============================] - 17s 112ms/step - loss: 1.1634 - mae: 0.7994 - val_loss: 1.2755 - val_mae: 0.8637\n",
            "Epoch 21/100\n",
            "155/155 [==============================] - 17s 113ms/step - loss: 1.2135 - mae: 0.8133 - val_loss: 1.2551 - val_mae: 0.8419\n",
            "Epoch 22/100\n",
            "155/155 [==============================] - 18s 114ms/step - loss: 1.1800 - mae: 0.8031 - val_loss: 1.3574 - val_mae: 0.8662\n",
            "Epoch 23/100\n",
            "155/155 [==============================] - 18s 115ms/step - loss: 1.2093 - mae: 0.8219 - val_loss: 1.2296 - val_mae: 0.8592\n",
            "Epoch 24/100\n",
            "155/155 [==============================] - 17s 112ms/step - loss: 1.1307 - mae: 0.7917 - val_loss: 1.1305 - val_mae: 0.7859\n",
            "Epoch 25/100\n",
            "155/155 [==============================] - 18s 113ms/step - loss: 1.1374 - mae: 0.7922 - val_loss: 1.1249 - val_mae: 0.8212\n",
            "Epoch 26/100\n",
            "155/155 [==============================] - 18s 113ms/step - loss: 1.0860 - mae: 0.7738 - val_loss: 1.0982 - val_mae: 0.8106\n",
            "Epoch 27/100\n",
            "155/155 [==============================] - 18s 115ms/step - loss: 1.1376 - mae: 0.7939 - val_loss: 1.1775 - val_mae: 0.8313\n",
            "Epoch 28/100\n",
            "155/155 [==============================] - 18s 114ms/step - loss: 1.1050 - mae: 0.7881 - val_loss: 1.0959 - val_mae: 0.8018\n",
            "Epoch 29/100\n",
            "155/155 [==============================] - 19s 121ms/step - loss: 1.0840 - mae: 0.7729 - val_loss: 1.1395 - val_mae: 0.8366\n",
            "Epoch 30/100\n",
            "155/155 [==============================] - 18s 113ms/step - loss: 1.1425 - mae: 0.7803 - val_loss: 1.1323 - val_mae: 0.8045\n",
            "Epoch 31/100\n",
            "155/155 [==============================] - 17s 112ms/step - loss: 1.1262 - mae: 0.7776 - val_loss: 1.1145 - val_mae: 0.8136\n",
            "Epoch 32/100\n",
            "155/155 [==============================] - 17s 112ms/step - loss: 1.1104 - mae: 0.7762 - val_loss: 1.0619 - val_mae: 0.7891\n",
            "Epoch 33/100\n",
            "155/155 [==============================] - 17s 112ms/step - loss: 1.0370 - mae: 0.7557 - val_loss: 1.0892 - val_mae: 0.8041\n",
            "Epoch 34/100\n",
            "155/155 [==============================] - 17s 112ms/step - loss: 1.0802 - mae: 0.7747 - val_loss: 1.1076 - val_mae: 0.8107\n",
            "Epoch 35/100\n",
            "155/155 [==============================] - 17s 112ms/step - loss: 0.9836 - mae: 0.7397 - val_loss: 1.1120 - val_mae: 0.8191\n",
            "Epoch 36/100\n",
            "155/155 [==============================] - 17s 112ms/step - loss: 1.0376 - mae: 0.7535 - val_loss: 1.0732 - val_mae: 0.7948\n",
            "Epoch 37/100\n",
            "155/155 [==============================] - 17s 111ms/step - loss: 1.0335 - mae: 0.7533 - val_loss: 1.1346 - val_mae: 0.8087\n",
            "Epoch 38/100\n",
            "155/155 [==============================] - 17s 111ms/step - loss: 1.0238 - mae: 0.7489 - val_loss: 1.1141 - val_mae: 0.7977\n",
            "Epoch 39/100\n",
            "155/155 [==============================] - 17s 111ms/step - loss: 1.0731 - mae: 0.7605 - val_loss: 1.0939 - val_mae: 0.8056\n",
            "Epoch 40/100\n",
            "155/155 [==============================] - 17s 112ms/step - loss: 0.9636 - mae: 0.7335 - val_loss: 1.0727 - val_mae: 0.7703\n",
            "Epoch 41/100\n",
            "155/155 [==============================] - 21s 136ms/step - loss: 0.9771 - mae: 0.7345 - val_loss: 1.0677 - val_mae: 0.7992\n",
            "Epoch 42/100\n",
            "155/155 [==============================] - 18s 115ms/step - loss: 0.9035 - mae: 0.7082 - val_loss: 1.1099 - val_mae: 0.8172\n",
            "Epoch 43/100\n",
            "155/155 [==============================] - 18s 115ms/step - loss: 0.9725 - mae: 0.7356 - val_loss: 1.0099 - val_mae: 0.7746\n",
            "Epoch 44/100\n",
            "155/155 [==============================] - 18s 115ms/step - loss: 0.9841 - mae: 0.7384 - val_loss: 1.0997 - val_mae: 0.8156\n",
            "Epoch 45/100\n",
            "155/155 [==============================] - 18s 115ms/step - loss: 0.9892 - mae: 0.7405 - val_loss: 1.0450 - val_mae: 0.7983\n",
            "Epoch 46/100\n",
            "155/155 [==============================] - 18s 114ms/step - loss: 0.9887 - mae: 0.7424 - val_loss: 1.0782 - val_mae: 0.8141\n",
            "Epoch 47/100\n",
            "155/155 [==============================] - 18s 115ms/step - loss: 0.9422 - mae: 0.7320 - val_loss: 1.1989 - val_mae: 0.8564\n",
            "Epoch 48/100\n",
            "155/155 [==============================] - 18s 115ms/step - loss: 0.9061 - mae: 0.7169 - val_loss: 1.0178 - val_mae: 0.7852\n",
            "Epoch 49/100\n",
            "155/155 [==============================] - 18s 115ms/step - loss: 0.8973 - mae: 0.7025 - val_loss: 1.0528 - val_mae: 0.7897\n",
            "Epoch 50/100\n",
            "155/155 [==============================] - 18s 115ms/step - loss: 0.9243 - mae: 0.7166 - val_loss: 1.2211 - val_mae: 0.8449\n",
            "Epoch 51/100\n",
            "155/155 [==============================] - 18s 115ms/step - loss: 0.8913 - mae: 0.7098 - val_loss: 1.0757 - val_mae: 0.7973\n",
            "Epoch 52/100\n",
            "155/155 [==============================] - 18s 115ms/step - loss: 0.9003 - mae: 0.7083 - val_loss: 1.0137 - val_mae: 0.7912\n",
            "Epoch 53/100\n",
            "155/155 [==============================] - 18s 114ms/step - loss: 0.8916 - mae: 0.7036 - val_loss: 1.0502 - val_mae: 0.8028\n",
            "Epoch 54/100\n",
            "155/155 [==============================] - 18s 115ms/step - loss: 0.8861 - mae: 0.7043 - val_loss: 1.0475 - val_mae: 0.7993\n",
            "Epoch 55/100\n",
            "155/155 [==============================] - 18s 116ms/step - loss: 0.8444 - mae: 0.6893 - val_loss: 1.0459 - val_mae: 0.8128\n",
            "Epoch 56/100\n",
            "155/155 [==============================] - 18s 116ms/step - loss: 0.8891 - mae: 0.7008 - val_loss: 1.1304 - val_mae: 0.8355\n",
            "Epoch 57/100\n",
            "155/155 [==============================] - 18s 117ms/step - loss: 0.8567 - mae: 0.6908 - val_loss: 1.0369 - val_mae: 0.8027\n",
            "Epoch 58/100\n",
            "155/155 [==============================] - 18s 116ms/step - loss: 0.8538 - mae: 0.6867 - val_loss: 1.0666 - val_mae: 0.8004\n",
            "Epoch 59/100\n",
            "155/155 [==============================] - 18s 116ms/step - loss: 0.8549 - mae: 0.6936 - val_loss: 1.0715 - val_mae: 0.8052\n",
            "Epoch 60/100\n",
            "155/155 [==============================] - 18s 116ms/step - loss: 0.8535 - mae: 0.6879 - val_loss: 1.1479 - val_mae: 0.8529\n",
            "Epoch 61/100\n",
            "155/155 [==============================] - 18s 116ms/step - loss: 0.8333 - mae: 0.6812 - val_loss: 1.1066 - val_mae: 0.8027\n",
            "Epoch 62/100\n",
            "155/155 [==============================] - 18s 116ms/step - loss: 0.8613 - mae: 0.6960 - val_loss: 1.0950 - val_mae: 0.8305\n",
            "Epoch 63/100\n",
            "155/155 [==============================] - 18s 116ms/step - loss: 0.8480 - mae: 0.6862 - val_loss: 1.0852 - val_mae: 0.8388\n",
            "Epoch 64/100\n",
            "155/155 [==============================] - 18s 117ms/step - loss: 0.8169 - mae: 0.6804 - val_loss: 1.1519 - val_mae: 0.8331\n",
            "Epoch 65/100\n",
            "155/155 [==============================] - 18s 116ms/step - loss: 0.8109 - mae: 0.6755 - val_loss: 1.1071 - val_mae: 0.8275\n",
            "Epoch 66/100\n",
            "155/155 [==============================] - 18s 116ms/step - loss: 0.8228 - mae: 0.6787 - val_loss: 1.1574 - val_mae: 0.8440\n",
            "Epoch 67/100\n",
            "155/155 [==============================] - 18s 116ms/step - loss: 0.7837 - mae: 0.6646 - val_loss: 1.0936 - val_mae: 0.8212\n",
            "Epoch 68/100\n",
            "155/155 [==============================] - 18s 117ms/step - loss: 0.8416 - mae: 0.6857 - val_loss: 1.1161 - val_mae: 0.8315\n",
            "Epoch 69/100\n",
            "155/155 [==============================] - 18s 117ms/step - loss: 0.7861 - mae: 0.6628 - val_loss: 1.1106 - val_mae: 0.8145\n",
            "Epoch 70/100\n",
            "155/155 [==============================] - 18s 117ms/step - loss: 0.7683 - mae: 0.6604 - val_loss: 1.2316 - val_mae: 0.8429\n",
            "Epoch 71/100\n",
            "155/155 [==============================] - 18s 116ms/step - loss: 0.8245 - mae: 0.6904 - val_loss: 1.2361 - val_mae: 0.8675\n",
            "Epoch 72/100\n",
            "155/155 [==============================] - 18s 117ms/step - loss: 0.7758 - mae: 0.6670 - val_loss: 1.1170 - val_mae: 0.8309\n",
            "Epoch 73/100\n",
            "155/155 [==============================] - 18s 117ms/step - loss: 0.7810 - mae: 0.6627 - val_loss: 1.1300 - val_mae: 0.8258\n",
            "Epoch 74/100\n",
            "155/155 [==============================] - 18s 118ms/step - loss: 0.7773 - mae: 0.6649 - val_loss: 1.1416 - val_mae: 0.8355\n",
            "Epoch 75/100\n",
            "155/155 [==============================] - 20s 126ms/step - loss: 0.7867 - mae: 0.6629 - val_loss: 1.1690 - val_mae: 0.8143\n",
            "Epoch 76/100\n",
            "155/155 [==============================] - 18s 118ms/step - loss: 0.7825 - mae: 0.6666 - val_loss: 1.1417 - val_mae: 0.7987\n",
            "Epoch 77/100\n",
            "155/155 [==============================] - 18s 119ms/step - loss: 0.7575 - mae: 0.6549 - val_loss: 1.0788 - val_mae: 0.8224\n",
            "Epoch 78/100\n",
            "155/155 [==============================] - 18s 118ms/step - loss: 0.7894 - mae: 0.6671 - val_loss: 1.1351 - val_mae: 0.8437\n",
            "Epoch 79/100\n",
            "155/155 [==============================] - 18s 118ms/step - loss: 0.7808 - mae: 0.6619 - val_loss: 1.1759 - val_mae: 0.8667\n",
            "Epoch 80/100\n",
            "155/155 [==============================] - 19s 120ms/step - loss: 0.7502 - mae: 0.6542 - val_loss: 1.1558 - val_mae: 0.8428\n",
            "Epoch 81/100\n",
            "155/155 [==============================] - 18s 118ms/step - loss: 0.7888 - mae: 0.6781 - val_loss: 1.2080 - val_mae: 0.8631\n",
            "Epoch 82/100\n",
            "155/155 [==============================] - 18s 117ms/step - loss: 0.7476 - mae: 0.6483 - val_loss: 1.3291 - val_mae: 0.8924\n",
            "Epoch 83/100\n",
            "155/155 [==============================] - 18s 117ms/step - loss: 0.7906 - mae: 0.6785 - val_loss: 1.1788 - val_mae: 0.8481\n",
            "Epoch 84/100\n",
            "155/155 [==============================] - 18s 117ms/step - loss: 0.7234 - mae: 0.6404 - val_loss: 1.2222 - val_mae: 0.8582\n",
            "Epoch 85/100\n",
            "155/155 [==============================] - 18s 117ms/step - loss: 0.7618 - mae: 0.6601 - val_loss: 1.1281 - val_mae: 0.8444\n",
            "Epoch 86/100\n",
            "155/155 [==============================] - 18s 117ms/step - loss: 0.7457 - mae: 0.6497 - val_loss: 1.1887 - val_mae: 0.8512\n",
            "Epoch 87/100\n",
            "155/155 [==============================] - 18s 117ms/step - loss: 0.6932 - mae: 0.6322 - val_loss: 1.2743 - val_mae: 0.8774\n",
            "Epoch 88/100\n",
            "155/155 [==============================] - 18s 117ms/step - loss: 0.7151 - mae: 0.6360 - val_loss: 1.1644 - val_mae: 0.8317\n",
            "Epoch 89/100\n",
            "155/155 [==============================] - 18s 118ms/step - loss: 0.7227 - mae: 0.6384 - val_loss: 1.2155 - val_mae: 0.8572\n",
            "Epoch 90/100\n",
            "155/155 [==============================] - 18s 119ms/step - loss: 0.7290 - mae: 0.6391 - val_loss: 1.1432 - val_mae: 0.8286\n",
            "Epoch 91/100\n",
            "155/155 [==============================] - 18s 118ms/step - loss: 0.7279 - mae: 0.6371 - val_loss: 1.1540 - val_mae: 0.8425\n",
            "Epoch 92/100\n",
            "155/155 [==============================] - 18s 118ms/step - loss: 0.6988 - mae: 0.6272 - val_loss: 1.1832 - val_mae: 0.8393\n",
            "Epoch 93/100\n",
            "155/155 [==============================] - 19s 120ms/step - loss: 0.7028 - mae: 0.6200 - val_loss: 1.2009 - val_mae: 0.8927\n",
            "Epoch 94/100\n",
            "155/155 [==============================] - 19s 121ms/step - loss: 0.7086 - mae: 0.6255 - val_loss: 1.1271 - val_mae: 0.8522\n",
            "Epoch 95/100\n",
            "155/155 [==============================] - 18s 118ms/step - loss: 0.7183 - mae: 0.6379 - val_loss: 1.2055 - val_mae: 0.8667\n",
            "Epoch 96/100\n",
            "155/155 [==============================] - 18s 119ms/step - loss: 0.6769 - mae: 0.6207 - val_loss: 1.2374 - val_mae: 0.8833\n",
            "Epoch 97/100\n",
            "155/155 [==============================] - 18s 118ms/step - loss: 0.6968 - mae: 0.6261 - val_loss: 1.1510 - val_mae: 0.8461\n",
            "Epoch 98/100\n",
            "155/155 [==============================] - 18s 117ms/step - loss: 0.6781 - mae: 0.6217 - val_loss: 1.1798 - val_mae: 0.8574\n",
            "Epoch 99/100\n",
            "155/155 [==============================] - 18s 117ms/step - loss: 0.6821 - mae: 0.6179 - val_loss: 1.1857 - val_mae: 0.8498\n",
            "Epoch 100/100\n",
            "155/155 [==============================] - 18s 118ms/step - loss: 0.6789 - mae: 0.6203 - val_loss: 1.2727 - val_mae: 0.9145\n"
          ],
          "name": "stdout"
        }
      ]
    },
    {
      "cell_type": "markdown",
      "metadata": {
        "id": "6Y11XN2hjqWR"
      },
      "source": [
        "Let's view the learning curve for the trained model.\n",
        "\n",
        "This code will generate a plot where we show the test and train errors (MSE) as a function of epoch (one pass of all training examples through the NN).\n",
        "\n",
        "The learning curve will tell us if the model is overfitting or underfitting."
      ]
    },
    {
      "cell_type": "code",
      "metadata": {
        "colab": {
          "base_uri": "https://localhost:8080/",
          "height": 295
        },
        "id": "Le3eywCgjrM6",
        "outputId": "9be75df6-af50-46d3-c96d-0b1771cfc382"
      },
      "source": [
        "# plot the learning curve \n",
        "plt.plot(history.history['loss'])\n",
        "plt.plot(history.history['val_loss'])\n",
        "plt.title('Model accuracy')\n",
        "plt.ylabel('Error')\n",
        "plt.xlabel('Epoch')\n",
        "plt.xlim(0,)\n",
        "plt.legend(['Train', 'Validation',], loc='upper left')\n",
        "plt.show()"
      ],
      "execution_count": 46,
      "outputs": [
        {
          "output_type": "display_data",
          "data": {
            "image/png": "[encoded data removed]",
            "text/plain": [
              "<Figure size 432x288 with 1 Axes>"
            ]
          },
          "metadata": {
            "tags": [],
            "needs_background": "light"
          }
        }
      ]
    },
    {
      "cell_type": "markdown",
      "metadata": {
        "id": "9nvjBxOVj3rK"
      },
      "source": [
        "Use CNN to make solubility predictions Now that we've trained our model, we can use it to make solubility predictions for any SMILES string! We just have to convert the SMILES string to 1-hot representation, then feed it to the solubility_model\n",
        "\n"
      ]
    },
    {
      "cell_type": "code",
      "metadata": {
        "colab": {
          "base_uri": "https://localhost:8080/"
        },
        "id": "SXNsydFAj76z",
        "outputId": "4f28e58d-69e3-4292-a153-7511d1fde8ec"
      },
      "source": [
        "example_smiles = [\n",
        "    'CC12CCC3C4:C:C:C(O):C:C:4CCC3C1CCC2O',\n",
        "    'CC1:O:C:C:C:1C(=O)NC1:C:C:C:C:C:1',\n",
        "    'C1:C:C:C2:C(:C:1):C:C:C1:C:2:C:C:C2:C3:C:C:C:C:C:3:C:C:C:2:1'\n",
        "]\n",
        "\n",
        "for smiles in example_smiles:\n",
        "    predict_test_input = smiles_to_onehots([smiles], charset, max_smiles_chars)\n",
        "    solubility_prediction = solubility_model.predict(predict_test_input)[0][0]\n",
        "    print(f'The predicted log solubility for SMILES {smiles} is {solubility_prediction}')"
      ],
      "execution_count": 47,
      "outputs": [
        {
          "output_type": "stream",
          "text": [
            "The predicted log solubility for SMILES CC12CCC3C4:C:C:C(O):C:C:4CCC3C1CCC2O is -4.138815402984619\n",
            "The predicted log solubility for SMILES CC1:O:C:C:C:1C(=O)NC1:C:C:C:C:C:1 is -3.6613831520080566\n",
            "The predicted log solubility for SMILES C1:C:C:C2:C(:C:1):C:C:C1:C:2:C:C:C2:C3:C:C:C:C:C:3:C:C:C:2:1 is -6.2194743156433105\n"
          ],
          "name": "stdout"
        }
      ]
    },
    {
      "cell_type": "markdown",
      "metadata": {
        "id": "HbkTL5h3kLcD"
      },
      "source": [
        "We can now make a parity plot comparing the CNN model predictions to the ground truth data\n",
        "\n"
      ]
    },
    {
      "cell_type": "code",
      "metadata": {
        "colab": {
          "base_uri": "https://localhost:8080/",
          "height": 312
        },
        "id": "Mom-jsN4kMZp",
        "outputId": "6a14edda-9631-42be-f932-a7bf1175332b"
      },
      "source": [
        "preds = solubility_model.predict(X_train)\n",
        "x_y_line = np.linspace(min(Y_train.flatten()), max(Y_train.flatten()), 500)\n",
        "plt.plot(Y_train.flatten(), preds.flatten(), 'o', label='predictions')\n",
        "plt.plot(x_y_line, x_y_line, label='y=x')\n",
        "plt.xlabel(\"Log solubility (ground truth)\")\n",
        "plt.ylabel(\"Log solubility (predicted)\")\n",
        "plt.title(\"Parity plot: predictions vs ground truth data\")\n",
        "plt.legend()"
      ],
      "execution_count": 48,
      "outputs": [
        {
          "output_type": "execute_result",
          "data": {
            "text/plain": [
              "<matplotlib.legend.Legend at 0x7fa0625ff2d0>"
            ]
          },
          "metadata": {
            "tags": []
          },
          "execution_count": 48
        },
        {
          "output_type": "display_data",
          "data": {
            "image/png": "[encoded data removed]",
            "text/plain": [
              "<Figure size 432x288 with 1 Axes>"
            ]
          },
          "metadata": {
            "tags": [],
            "needs_background": "light"
          }
        }
      ]
    },
    {
      "cell_type": "code",
      "metadata": {
        "colab": {
          "base_uri": "https://localhost:8080/"
        },
        "id": "6udHhxsnkYZI",
        "outputId": "84f23aa9-8395-46d2-e31b-a1e16ded8f80"
      },
      "source": [
        "### Comparartive prediction of y_test and y_test predicted .....\n",
        "Y_test_predited=solubility_model.predict(X_test)\n",
        "#print(Y_test_predited)\n",
        "\n",
        "print(np.concatenate((Y_test_predited.reshape(len(Y_test_predited),1), Y_test.reshape(len(Y_test),1)),1))"
      ],
      "execution_count": 49,
      "outputs": [
        {
          "output_type": "stream",
          "text": [
            "[[-7.24484396e+00 -5.50830000e+00]\n",
            " [-4.72902822e+00 -4.43000000e+00]\n",
            " [-2.70363259e+00 -2.14728672e+00]\n",
            " [ 6.61427304e-02  1.47400000e-01]\n",
            " [-9.84688222e-01 -7.30000000e-01]\n",
            " [-3.19664359e+00 -4.52000000e+00]\n",
            " [-7.98609209e+00 -8.97060000e+00]\n",
            " [-5.55905104e+00 -3.60370000e+00]\n",
            " [-1.79528046e+00 -1.11300000e+00]\n",
            " [-3.02263927e+00 -4.84870000e+00]\n",
            " [-4.63755178e+00 -7.71183298e+00]\n",
            " [ 8.30325067e-01  4.14558554e-01]\n",
            " [-2.02263331e+00 -3.56000000e+00]\n",
            " [-2.93736959e+00 -1.27220000e+00]\n",
            " [-2.37241554e+00 -1.64278627e+00]\n",
            " [-6.33892012e+00 -6.75508784e+00]\n",
            " [ 6.01887763e-01  1.35228504e+00]\n",
            " [-1.29236662e+00 -2.49000000e+00]\n",
            " [-1.75460649e+00 -2.08430000e+00]\n",
            " [-6.47778082e+00 -7.05020000e+00]\n",
            " [-4.28263664e+00 -3.88000000e+00]\n",
            " [-6.38976097e+00 -4.97000000e+00]\n",
            " [-1.68488097e+00 -1.06000000e+00]\n",
            " [-2.45464635e+00 -5.15636041e+00]\n",
            " [-2.47952724e+00 -1.17090000e+00]\n",
            " [-2.39073491e+00 -2.35000000e+00]\n",
            " [-1.53550482e+00 -1.41000000e+00]\n",
            " [-5.07976234e-01  2.17900000e-01]\n",
            " [-5.06730223e+00 -3.63124561e+00]\n",
            " [-2.46502995e+00 -2.41070000e+00]\n",
            " [-6.78941011e+00 -7.78200708e+00]\n",
            " [-3.72455049e+00 -2.13000000e+00]\n",
            " [-3.11130643e+00 -1.91970000e+00]\n",
            " [-3.21257758e+00 -1.90000000e+00]\n",
            " [-4.93563318e+00 -4.54120000e+00]\n",
            " [-3.15063763e+00 -3.48330000e+00]\n",
            " [-3.73786664e+00 -4.61992383e+00]\n",
            " [-3.41125321e+00 -4.20700000e+00]\n",
            " [-1.44376087e+00 -1.14430000e+00]\n",
            " [-2.33814192e+00 -1.47432132e+00]\n",
            " [-4.85047722e+00 -3.58351004e+00]\n",
            " [-1.74520016e+00 -8.80000000e-01]\n",
            " [-1.36030436e+00 -9.77550168e-01]\n",
            " [ 8.79511297e-01  6.70000000e-02]\n",
            " [-4.64856768e+00 -5.23000000e+00]\n",
            " [-2.91930819e+00 -1.17400000e+00]\n",
            " [-2.57825589e+00 -2.15620000e+00]\n",
            " [-3.01512051e+00 -4.31280000e+00]\n",
            " [-5.37346315e+00 -7.05752005e+00]\n",
            " [-3.47257638e+00 -3.89000000e+00]\n",
            " [-4.82015562e+00 -5.27339871e+00]\n",
            " [-1.14099426e+01 -7.67819626e+00]\n",
            " [-8.15635014e+00 -8.40240000e+00]\n",
            " [-1.44801712e+00 -1.89000000e+00]\n",
            " [-9.08637702e-01 -1.28000000e+00]\n",
            " [-1.78411484e+00 -1.14280000e+00]\n",
            " [-4.39131975e+00 -5.46231129e+00]\n",
            " [-2.88102722e+00 -2.79000000e+00]\n",
            " [-1.69274712e+00 -1.89230333e-02]\n",
            " [-2.50790668e+00 -2.92262005e+00]\n",
            " [-1.84470856e+00 -2.06550000e+00]\n",
            " [-1.76915872e+00 -7.20000000e-01]\n",
            " [-3.42625213e+00 -1.58830000e+00]\n",
            " [-2.33899570e+00 -2.04391217e+00]\n",
            " [-5.62463093e+00 -5.17123485e+00]\n",
            " [-1.46928668e+00 -2.88000000e+00]\n",
            " [-2.40515280e+00 -1.50700000e+00]\n",
            " [-2.20221356e-02  6.53097658e-01]\n",
            " [-3.30574012e+00 -2.77822679e+00]\n",
            " [-2.39664578e+00 -1.91116560e+00]\n",
            " [-3.58080769e+00 -4.04366292e+00]\n",
            " [-4.19005394e+00 -3.71000000e+00]\n",
            " [-2.01704931e+00 -1.74423286e+00]\n",
            " [-1.93575358e+00 -2.08000000e+00]\n",
            " [-7.46627986e-01 -1.65775242e-01]\n",
            " [ 1.77205175e-01  1.00171781e+00]\n",
            " [-3.28165889e+00 -3.71000000e+00]\n",
            " [-3.52006125e+00 -2.95490000e+00]\n",
            " [-7.08352327e+00 -7.31000000e+00]\n",
            " [-1.77857649e+00 -4.60793982e-01]\n",
            " [-4.07116175e+00 -5.52630000e+00]\n",
            " [-2.21790266e+00 -3.43650000e+00]\n",
            " [-1.28059626e+00  5.41300000e-01]\n",
            " [-2.97862673e+00 -2.83047019e+00]\n",
            " [-1.95138037e+00 -2.90000000e-01]\n",
            " [-3.20574975e+00 -3.26426437e+00]\n",
            " [-1.96768498e+00 -3.11000000e+00]\n",
            " [-7.33445108e-01  2.72897501e-01]\n",
            " [-4.85172480e-01  3.84738201e-02]\n",
            " [-2.16044831e+00 -8.17681412e-01]\n",
            " [-6.59375525e+00 -8.25209834e+00]\n",
            " [-1.01877165e+00 -1.93020000e+00]\n",
            " [-7.78869808e-01 -1.20250000e+00]\n",
            " [-1.44245934e+00  5.40200000e-01]\n",
            " [-2.78689885e+00 -3.64000000e+00]\n",
            " [-1.55288458e+00  1.00000000e-02]\n",
            " [-4.09868670e+00 -4.79600000e+00]\n",
            " [-4.79189098e-01  7.25477312e-01]\n",
            " [-3.34714150e+00 -4.63400000e+00]\n",
            " [-2.42648411e+00 -1.59240604e+00]]\n"
          ],
          "name": "stdout"
        }
      ]
    },
    {
      "cell_type": "code",
      "metadata": {
        "colab": {
          "base_uri": "https://localhost:8080/"
        },
        "id": "D0mcoEQgkmU7",
        "outputId": "7e162fe0-6426-4935-fe60-ecfa70f4f406"
      },
      "source": [
        "from sklearn.metrics import r2_score\n",
        "r2_score(Y_test, Y_test_predited)"
      ],
      "execution_count": 50,
      "outputs": [
        {
          "output_type": "execute_result",
          "data": {
            "text/plain": [
              "0.7728104074509288"
            ]
          },
          "metadata": {
            "tags": []
          },
          "execution_count": 50
        }
      ]
    }
  ]
}