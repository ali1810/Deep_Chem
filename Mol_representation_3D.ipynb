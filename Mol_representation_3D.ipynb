{
 "cells": [
  {
   "cell_type": "code",
   "execution_count": 4,
   "id": "df0d4ead",
   "metadata": {},
   "outputs": [
    {
     "name": "stderr",
     "output_type": "stream",
     "text": [
      "The system cannot find the path specified.\n"
     ]
    },
    {
     "name": "stdout",
     "output_type": "stream",
     "text": [
      "Requirement already satisfied: ipympl in c:\\users\\ali\\anaconda3\\lib\\site-packages (0.7.0)\n",
      "Requirement already satisfied: ipywidgets>=7.6.0 in c:\\users\\ali\\anaconda3\\lib\\site-packages (from ipympl) (7.6.3)\n",
      "Requirement already satisfied: matplotlib>=2.0.0 in c:\\users\\ali\\anaconda3\\lib\\site-packages (from ipympl) (3.3.4)\n",
      "Requirement already satisfied: ipykernel>=4.7 in c:\\users\\ali\\anaconda3\\lib\\site-packages (from ipympl) (5.3.4)\n",
      "Requirement already satisfied: ipython>=5.0.0 in c:\\users\\ali\\anaconda3\\lib\\site-packages (from ipykernel>=4.7->ipympl) (7.22.0)\n",
      "Requirement already satisfied: jupyter-client in c:\\users\\ali\\anaconda3\\lib\\site-packages (from ipykernel>=4.7->ipympl) (6.1.12)\n",
      "Requirement already satisfied: traitlets>=4.1.0 in c:\\users\\ali\\anaconda3\\lib\\site-packages (from ipykernel>=4.7->ipympl) (5.0.5)\n",
      "Requirement already satisfied: tornado>=4.2 in c:\\users\\ali\\anaconda3\\lib\\site-packages (from ipykernel>=4.7->ipympl) (6.1)\n",
      "Requirement already satisfied: setuptools>=18.5 in c:\\users\\ali\\anaconda3\\lib\\site-packages (from ipython>=5.0.0->ipykernel>=4.7->ipympl) (52.0.0.post20210125)\n",
      "Requirement already satisfied: backcall in c:\\users\\ali\\anaconda3\\lib\\site-packages (from ipython>=5.0.0->ipykernel>=4.7->ipympl) (0.2.0)\n",
      "Requirement already satisfied: colorama in c:\\users\\ali\\anaconda3\\lib\\site-packages (from ipython>=5.0.0->ipykernel>=4.7->ipympl) (0.4.4)\n",
      "Requirement already satisfied: pygments in c:\\users\\ali\\anaconda3\\lib\\site-packages (from ipython>=5.0.0->ipykernel>=4.7->ipympl) (2.8.1)\n",
      "Requirement already satisfied: prompt-toolkit!=3.0.0,!=3.0.1,<3.1.0,>=2.0.0 in c:\\users\\ali\\anaconda3\\lib\\site-packages (from ipython>=5.0.0->ipykernel>=4.7->ipympl) (3.0.17)\n",
      "Requirement already satisfied: jedi>=0.16 in c:\\users\\ali\\anaconda3\\lib\\site-packages (from ipython>=5.0.0->ipykernel>=4.7->ipympl) (0.17.2)\n",
      "Requirement already satisfied: decorator in c:\\users\\ali\\anaconda3\\lib\\site-packages (from ipython>=5.0.0->ipykernel>=4.7->ipympl) (5.0.6)\n",
      "Requirement already satisfied: pickleshare in c:\\users\\ali\\anaconda3\\lib\\site-packages (from ipython>=5.0.0->ipykernel>=4.7->ipympl) (0.7.5)\n",
      "Requirement already satisfied: nbformat>=4.2.0 in c:\\users\\ali\\anaconda3\\lib\\site-packages (from ipywidgets>=7.6.0->ipympl) (5.1.3)\n",
      "Requirement already satisfied: jupyterlab-widgets>=1.0.0 in c:\\users\\ali\\anaconda3\\lib\\site-packages (from ipywidgets>=7.6.0->ipympl) (1.0.0)\n",
      "Requirement already satisfied: widgetsnbextension~=3.5.0 in c:\\users\\ali\\anaconda3\\lib\\site-packages (from ipywidgets>=7.6.0->ipympl) (3.5.1)\n",
      "Requirement already satisfied: parso<0.8.0,>=0.7.0 in c:\\users\\ali\\anaconda3\\lib\\site-packages (from jedi>=0.16->ipython>=5.0.0->ipykernel>=4.7->ipympl) (0.7.0)\n",
      "Requirement already satisfied: python-dateutil>=2.1 in c:\\users\\ali\\anaconda3\\lib\\site-packages (from matplotlib>=2.0.0->ipympl) (2.8.1)\n",
      "Requirement already satisfied: kiwisolver>=1.0.1 in c:\\users\\ali\\anaconda3\\lib\\site-packages (from matplotlib>=2.0.0->ipympl) (1.3.1)\n",
      "Requirement already satisfied: pillow>=6.2.0 in c:\\users\\ali\\anaconda3\\lib\\site-packages (from matplotlib>=2.0.0->ipympl) (8.2.0)\n",
      "Requirement already satisfied: numpy>=1.15 in c:\\users\\ali\\anaconda3\\lib\\site-packages (from matplotlib>=2.0.0->ipympl) (1.19.5)\n",
      "Requirement already satisfied: cycler>=0.10 in c:\\users\\ali\\anaconda3\\lib\\site-packages (from matplotlib>=2.0.0->ipympl) (0.10.0)\n",
      "Requirement already satisfied: pyparsing!=2.0.4,!=2.1.2,!=2.1.6,>=2.0.3 in c:\\users\\ali\\anaconda3\\lib\\site-packages (from matplotlib>=2.0.0->ipympl) (2.4.7)\n",
      "Requirement already satisfied: six in c:\\users\\ali\\anaconda3\\lib\\site-packages (from cycler>=0.10->matplotlib>=2.0.0->ipympl) (1.15.0)\n",
      "Requirement already satisfied: jupyter-core in c:\\users\\ali\\anaconda3\\lib\\site-packages (from nbformat>=4.2.0->ipywidgets>=7.6.0->ipympl) (4.7.1)\n",
      "Requirement already satisfied: jsonschema!=2.5.0,>=2.4 in c:\\users\\ali\\anaconda3\\lib\\site-packages (from nbformat>=4.2.0->ipywidgets>=7.6.0->ipympl) (3.2.0)\n",
      "Requirement already satisfied: ipython-genutils in c:\\users\\ali\\anaconda3\\lib\\site-packages (from nbformat>=4.2.0->ipywidgets>=7.6.0->ipympl) (0.2.0)\n",
      "Requirement already satisfied: attrs>=17.4.0 in c:\\users\\ali\\anaconda3\\lib\\site-packages (from jsonschema!=2.5.0,>=2.4->nbformat>=4.2.0->ipywidgets>=7.6.0->ipympl) (20.3.0)\n",
      "Requirement already satisfied: pyrsistent>=0.14.0 in c:\\users\\ali\\anaconda3\\lib\\site-packages (from jsonschema!=2.5.0,>=2.4->nbformat>=4.2.0->ipywidgets>=7.6.0->ipympl) (0.17.3)\n",
      "Requirement already satisfied: wcwidth in c:\\users\\ali\\anaconda3\\lib\\site-packages (from prompt-toolkit!=3.0.0,!=3.0.1,<3.1.0,>=2.0.0->ipython>=5.0.0->ipykernel>=4.7->ipympl) (0.2.5)\n",
      "Requirement already satisfied: notebook>=4.4.1 in c:\\users\\ali\\anaconda3\\lib\\site-packages (from widgetsnbextension~=3.5.0->ipywidgets>=7.6.0->ipympl) (6.3.0)\n",
      "Requirement already satisfied: terminado>=0.8.3 in c:\\users\\ali\\anaconda3\\lib\\site-packages (from notebook>=4.4.1->widgetsnbextension~=3.5.0->ipywidgets>=7.6.0->ipympl) (0.9.4)\n",
      "Requirement already satisfied: pyzmq>=17 in c:\\users\\ali\\anaconda3\\lib\\site-packages (from notebook>=4.4.1->widgetsnbextension~=3.5.0->ipywidgets>=7.6.0->ipympl) (20.0.0)\n",
      "Requirement already satisfied: argon2-cffi in c:\\users\\ali\\anaconda3\\lib\\site-packages (from notebook>=4.4.1->widgetsnbextension~=3.5.0->ipywidgets>=7.6.0->ipympl) (20.1.0)\n",
      "Requirement already satisfied: prometheus-client in c:\\users\\ali\\anaconda3\\lib\\site-packages (from notebook>=4.4.1->widgetsnbextension~=3.5.0->ipywidgets>=7.6.0->ipympl) (0.10.1)\n",
      "Requirement already satisfied: Send2Trash>=1.5.0 in c:\\users\\ali\\anaconda3\\lib\\site-packages (from notebook>=4.4.1->widgetsnbextension~=3.5.0->ipywidgets>=7.6.0->ipympl) (1.5.0)\n",
      "Requirement already satisfied: jinja2 in c:\\users\\ali\\anaconda3\\lib\\site-packages (from notebook>=4.4.1->widgetsnbextension~=3.5.0->ipywidgets>=7.6.0->ipympl) (2.11.3)\n",
      "Requirement already satisfied: nbconvert in c:\\users\\ali\\anaconda3\\lib\\site-packages (from notebook>=4.4.1->widgetsnbextension~=3.5.0->ipywidgets>=7.6.0->ipympl) (6.0.7)\n",
      "Requirement already satisfied: pywin32>=1.0 in c:\\users\\ali\\anaconda3\\lib\\site-packages (from jupyter-core->nbformat>=4.2.0->ipywidgets>=7.6.0->ipympl) (227)\n",
      "Requirement already satisfied: pywinpty>=0.5 in c:\\users\\ali\\anaconda3\\lib\\site-packages (from terminado>=0.8.3->notebook>=4.4.1->widgetsnbextension~=3.5.0->ipywidgets>=7.6.0->ipympl) (0.5.7)\n",
      "Requirement already satisfied: cffi>=1.0.0 in c:\\users\\ali\\anaconda3\\lib\\site-packages (from argon2-cffi->notebook>=4.4.1->widgetsnbextension~=3.5.0->ipywidgets>=7.6.0->ipympl) (1.14.5)\n",
      "Requirement already satisfied: pycparser in c:\\users\\ali\\anaconda3\\lib\\site-packages (from cffi>=1.0.0->argon2-cffi->notebook>=4.4.1->widgetsnbextension~=3.5.0->ipywidgets>=7.6.0->ipympl) (2.20)\n",
      "Requirement already satisfied: MarkupSafe>=0.23 in c:\\users\\ali\\anaconda3\\lib\\site-packages (from jinja2->notebook>=4.4.1->widgetsnbextension~=3.5.0->ipywidgets>=7.6.0->ipympl) (1.1.1)\n",
      "Requirement already satisfied: pandocfilters>=1.4.1 in c:\\users\\ali\\anaconda3\\lib\\site-packages (from nbconvert->notebook>=4.4.1->widgetsnbextension~=3.5.0->ipywidgets>=7.6.0->ipympl) (1.4.3)\n",
      "Requirement already satisfied: bleach in c:\\users\\ali\\anaconda3\\lib\\site-packages (from nbconvert->notebook>=4.4.1->widgetsnbextension~=3.5.0->ipywidgets>=7.6.0->ipympl) (3.3.0)\n",
      "Requirement already satisfied: defusedxml in c:\\users\\ali\\anaconda3\\lib\\site-packages (from nbconvert->notebook>=4.4.1->widgetsnbextension~=3.5.0->ipywidgets>=7.6.0->ipympl) (0.7.1)\n",
      "Requirement already satisfied: mistune<2,>=0.8.1 in c:\\users\\ali\\anaconda3\\lib\\site-packages (from nbconvert->notebook>=4.4.1->widgetsnbextension~=3.5.0->ipywidgets>=7.6.0->ipympl) (0.8.4)\n",
      "Requirement already satisfied: entrypoints>=0.2.2 in c:\\users\\ali\\anaconda3\\lib\\site-packages (from nbconvert->notebook>=4.4.1->widgetsnbextension~=3.5.0->ipywidgets>=7.6.0->ipympl) (0.3)\n",
      "Requirement already satisfied: testpath in c:\\users\\ali\\anaconda3\\lib\\site-packages (from nbconvert->notebook>=4.4.1->widgetsnbextension~=3.5.0->ipywidgets>=7.6.0->ipympl) (0.4.4)\n",
      "Requirement already satisfied: jupyterlab-pygments in c:\\users\\ali\\anaconda3\\lib\\site-packages (from nbconvert->notebook>=4.4.1->widgetsnbextension~=3.5.0->ipywidgets>=7.6.0->ipympl) (0.1.2)\n",
      "Requirement already satisfied: nbclient<0.6.0,>=0.5.0 in c:\\users\\ali\\anaconda3\\lib\\site-packages (from nbconvert->notebook>=4.4.1->widgetsnbextension~=3.5.0->ipywidgets>=7.6.0->ipympl) (0.5.3)\n",
      "Requirement already satisfied: nest-asyncio in c:\\users\\ali\\anaconda3\\lib\\site-packages (from nbclient<0.6.0,>=0.5.0->nbconvert->notebook>=4.4.1->widgetsnbextension~=3.5.0->ipywidgets>=7.6.0->ipympl) (1.5.1)\n",
      "Requirement already satisfied: async-generator in c:\\users\\ali\\anaconda3\\lib\\site-packages (from nbclient<0.6.0,>=0.5.0->nbconvert->notebook>=4.4.1->widgetsnbextension~=3.5.0->ipywidgets>=7.6.0->ipympl) (1.10)\n",
      "Requirement already satisfied: packaging in c:\\users\\ali\\anaconda3\\lib\\site-packages (from bleach->nbconvert->notebook>=4.4.1->widgetsnbextension~=3.5.0->ipywidgets>=7.6.0->ipympl) (20.9)\n",
      "Requirement already satisfied: webencodings in c:\\users\\ali\\anaconda3\\lib\\site-packages (from bleach->nbconvert->notebook>=4.4.1->widgetsnbextension~=3.5.0->ipywidgets>=7.6.0->ipympl) (0.5.1)\n",
      "Requirement already satisfied: nodejs in c:\\users\\ali\\anaconda3\\lib\\site-packages (0.1.1)"
     ]
    },
    {
     "name": "stderr",
     "output_type": "stream",
     "text": [
      "The system cannot find the path specified.\n"
     ]
    },
    {
     "name": "stdout",
     "output_type": "stream",
     "text": [
      "\n",
      "Requirement already satisfied: optional-django==0.1.0 in c:\\users\\ali\\anaconda3\\lib\\site-packages (from nodejs) (0.1.0)\n"
     ]
    }
   ],
   "source": [
    "!pip install ipympl\n",
    "\n",
    "# If using JupyterLab 2\n",
    "!pip install nodejs\n"
   ]
  },
  {
   "cell_type": "code",
   "execution_count": 5,
   "id": "be366bc4",
   "metadata": {},
   "outputs": [
    {
     "ename": "SyntaxError",
     "evalue": "invalid syntax (<ipython-input-5-c6146ff8af9a>, line 1)",
     "output_type": "error",
     "traceback": [
      "\u001b[1;36m  File \u001b[1;32m\"<ipython-input-5-c6146ff8af9a>\"\u001b[1;36m, line \u001b[1;32m1\u001b[0m\n\u001b[1;33m    jupyter labextension install @jupyter-widgets/jupyterlab-manager\u001b[0m\n\u001b[1;37m            ^\u001b[0m\n\u001b[1;31mSyntaxError\u001b[0m\u001b[1;31m:\u001b[0m invalid syntax\n"
     ]
    }
   ],
   "source": [
    "jupyter labextension install @jupyter-widgets/jupyterlab-manager\n",
    "jupyter labextension install jupyter-matplotlib"
   ]
  },
  {
   "cell_type": "code",
   "execution_count": 6,
   "id": "5638fa70",
   "metadata": {},
   "outputs": [
    {
     "name": "stdout",
     "output_type": "stream",
     "text": [
      "Requirement already satisfied: ipympl in c:\\users\\ali\\anaconda3\\lib\\site-packages (0.7.0)\n",
      "Requirement already satisfied: ipykernel>=4.7 in c:\\users\\ali\\anaconda3\\lib\\site-packages (from ipympl) (5.3.4)\n",
      "Requirement already satisfied: ipywidgets>=7.6.0 in c:\\users\\ali\\anaconda3\\lib\\site-packages (from ipympl) (7.6.3)\n",
      "Requirement already satisfied: matplotlib>=2.0.0 in c:\\users\\ali\\anaconda3\\lib\\site-packages (from ipympl) (3.3.4)\n",
      "Requirement already satisfied: tornado>=4.2 in c:\\users\\ali\\anaconda3\\lib\\site-packages (from ipykernel>=4.7->ipympl) (6.1)\n",
      "Requirement already satisfied: jupyter-client in c:\\users\\ali\\anaconda3\\lib\\site-packages (from ipykernel>=4.7->ipympl) (6.1.12)\n",
      "Requirement already satisfied: traitlets>=4.1.0 in c:\\users\\ali\\anaconda3\\lib\\site-packages (from ipykernel>=4.7->ipympl) (5.0.5)\n",
      "Requirement already satisfied: ipython>=5.0.0 in c:\\users\\ali\\anaconda3\\lib\\site-packages (from ipykernel>=4.7->ipympl) (7.22.0)\n",
      "Requirement already satisfied: decorator in c:\\users\\ali\\anaconda3\\lib\\site-packages (from ipython>=5.0.0->ipykernel>=4.7->ipympl) (5.0.6)\n",
      "Requirement already satisfied: pygments in c:\\users\\ali\\anaconda3\\lib\\site-packages (from ipython>=5.0.0->ipykernel>=4.7->ipympl) (2.8.1)\n",
      "Requirement already satisfied: colorama in c:\\users\\ali\\anaconda3\\lib\\site-packages (from ipython>=5.0.0->ipykernel>=4.7->ipympl) (0.4.4)\n",
      "Requirement already satisfied: setuptools>=18.5 in c:\\users\\ali\\anaconda3\\lib\\site-packages (from ipython>=5.0.0->ipykernel>=4.7->ipympl) (52.0.0.post20210125)\n",
      "Requirement already satisfied: jedi>=0.16 in c:\\users\\ali\\anaconda3\\lib\\site-packages (from ipython>=5.0.0->ipykernel>=4.7->ipympl) (0.17.2)\n",
      "Requirement already satisfied: prompt-toolkit!=3.0.0,!=3.0.1,<3.1.0,>=2.0.0 in c:\\users\\ali\\anaconda3\\lib\\site-packages (from ipython>=5.0.0->ipykernel>=4.7->ipympl) (3.0.17)\n",
      "Requirement already satisfied: backcall in c:\\users\\ali\\anaconda3\\lib\\site-packages (from ipython>=5.0.0->ipykernel>=4.7->ipympl) (0.2.0)\n",
      "Requirement already satisfied: pickleshare in c:\\users\\ali\\anaconda3\\lib\\site-packages (from ipython>=5.0.0->ipykernel>=4.7->ipympl) (0.7.5)\n",
      "Requirement already satisfied: widgetsnbextension~=3.5.0 in c:\\users\\ali\\anaconda3\\lib\\site-packages (from ipywidgets>=7.6.0->ipympl) (3.5.1)\n",
      "Requirement already satisfied: jupyterlab-widgets>=1.0.0 in c:\\users\\ali\\anaconda3\\lib\\site-packages (from ipywidgets>=7.6.0->ipympl) (1.0.0)\n",
      "Requirement already satisfied: nbformat>=4.2.0 in c:\\users\\ali\\anaconda3\\lib\\site-packages (from ipywidgets>=7.6.0->ipympl) (5.1.3)\n",
      "Requirement already satisfied: parso<0.8.0,>=0.7.0 in c:\\users\\ali\\anaconda3\\lib\\site-packages (from jedi>=0.16->ipython>=5.0.0->ipykernel>=4.7->ipympl) (0.7.0)\n"
     ]
    },
    {
     "name": "stderr",
     "output_type": "stream",
     "text": [
      "The system cannot find the path specified.\n"
     ]
    },
    {
     "name": "stdout",
     "output_type": "stream",
     "text": [
      "Requirement already satisfied: kiwisolver>=1.0.1 in c:\\users\\ali\\anaconda3\\lib\\site-packages (from matplotlib>=2.0.0->ipympl) (1.3.1)\n",
      "Requirement already satisfied: numpy>=1.15 in c:\\users\\ali\\anaconda3\\lib\\site-packages (from matplotlib>=2.0.0->ipympl) (1.19.5)\n",
      "Requirement already satisfied: pillow>=6.2.0 in c:\\users\\ali\\anaconda3\\lib\\site-packages (from matplotlib>=2.0.0->ipympl) (8.2.0)\n",
      "Requirement already satisfied: pyparsing!=2.0.4,!=2.1.2,!=2.1.6,>=2.0.3 in c:\\users\\ali\\anaconda3\\lib\\site-packages (from matplotlib>=2.0.0->ipympl) (2.4.7)\n",
      "Requirement already satisfied: python-dateutil>=2.1 in c:\\users\\ali\\anaconda3\\lib\\site-packages (from matplotlib>=2.0.0->ipympl) (2.8.1)\n",
      "Requirement already satisfied: cycler>=0.10 in c:\\users\\ali\\anaconda3\\lib\\site-packages (from matplotlib>=2.0.0->ipympl) (0.10.0)\n",
      "Requirement already satisfied: six in c:\\users\\ali\\anaconda3\\lib\\site-packages (from cycler>=0.10->matplotlib>=2.0.0->ipympl) (1.15.0)\n",
      "Requirement already satisfied: ipython-genutils in c:\\users\\ali\\anaconda3\\lib\\site-packages (from nbformat>=4.2.0->ipywidgets>=7.6.0->ipympl) (0.2.0)\n",
      "Requirement already satisfied: jupyter-core in c:\\users\\ali\\anaconda3\\lib\\site-packages (from nbformat>=4.2.0->ipywidgets>=7.6.0->ipympl) (4.7.1)\n",
      "Requirement already satisfied: jsonschema!=2.5.0,>=2.4 in c:\\users\\ali\\anaconda3\\lib\\site-packages (from nbformat>=4.2.0->ipywidgets>=7.6.0->ipympl) (3.2.0)\n",
      "Requirement already satisfied: pyrsistent>=0.14.0 in c:\\users\\ali\\anaconda3\\lib\\site-packages (from jsonschema!=2.5.0,>=2.4->nbformat>=4.2.0->ipywidgets>=7.6.0->ipympl) (0.17.3)\n",
      "Requirement already satisfied: attrs>=17.4.0 in c:\\users\\ali\\anaconda3\\lib\\site-packages (from jsonschema!=2.5.0,>=2.4->nbformat>=4.2.0->ipywidgets>=7.6.0->ipympl) (20.3.0)\n",
      "Requirement already satisfied: wcwidth in c:\\users\\ali\\anaconda3\\lib\\site-packages (from prompt-toolkit!=3.0.0,!=3.0.1,<3.1.0,>=2.0.0->ipython>=5.0.0->ipykernel>=4.7->ipympl) (0.2.5)\n",
      "Requirement already satisfied: notebook>=4.4.1 in c:\\users\\ali\\anaconda3\\lib\\site-packages (from widgetsnbextension~=3.5.0->ipywidgets>=7.6.0->ipympl) (6.3.0)\n",
      "Requirement already satisfied: jinja2 in c:\\users\\ali\\anaconda3\\lib\\site-packages (from notebook>=4.4.1->widgetsnbextension~=3.5.0->ipywidgets>=7.6.0->ipympl) (2.11.3)\n",
      "Requirement already satisfied: prometheus-client in c:\\users\\ali\\anaconda3\\lib\\site-packages (from notebook>=4.4.1->widgetsnbextension~=3.5.0->ipywidgets>=7.6.0->ipympl) (0.10.1)\n",
      "Requirement already satisfied: nbconvert in c:\\users\\ali\\anaconda3\\lib\\site-packages (from notebook>=4.4.1->widgetsnbextension~=3.5.0->ipywidgets>=7.6.0->ipympl) (6.0.7)\n",
      "Requirement already satisfied: pyzmq>=17 in c:\\users\\ali\\anaconda3\\lib\\site-packages (from notebook>=4.4.1->widgetsnbextension~=3.5.0->ipywidgets>=7.6.0->ipympl) (20.0.0)\n",
      "Requirement already satisfied: terminado>=0.8.3 in c:\\users\\ali\\anaconda3\\lib\\site-packages (from notebook>=4.4.1->widgetsnbextension~=3.5.0->ipywidgets>=7.6.0->ipympl) (0.9.4)\n",
      "Requirement already satisfied: argon2-cffi in c:\\users\\ali\\anaconda3\\lib\\site-packages (from notebook>=4.4.1->widgetsnbextension~=3.5.0->ipywidgets>=7.6.0->ipympl) (20.1.0)\n",
      "Requirement already satisfied: Send2Trash>=1.5.0 in c:\\users\\ali\\anaconda3\\lib\\site-packages (from notebook>=4.4.1->widgetsnbextension~=3.5.0->ipywidgets>=7.6.0->ipympl) (1.5.0)\n",
      "Requirement already satisfied: pywin32>=1.0 in c:\\users\\ali\\anaconda3\\lib\\site-packages (from jupyter-core->nbformat>=4.2.0->ipywidgets>=7.6.0->ipympl) (227)\n",
      "Requirement already satisfied: pywinpty>=0.5 in c:\\users\\ali\\anaconda3\\lib\\site-packages (from terminado>=0.8.3->notebook>=4.4.1->widgetsnbextension~=3.5.0->ipywidgets>=7.6.0->ipympl) (0.5.7)\n",
      "Requirement already satisfied: cffi>=1.0.0 in c:\\users\\ali\\anaconda3\\lib\\site-packages (from argon2-cffi->notebook>=4.4.1->widgetsnbextension~=3.5.0->ipywidgets>=7.6.0->ipympl) (1.14.5)\n",
      "Requirement already satisfied: pycparser in c:\\users\\ali\\anaconda3\\lib\\site-packages (from cffi>=1.0.0->argon2-cffi->notebook>=4.4.1->widgetsnbextension~=3.5.0->ipywidgets>=7.6.0->ipympl) (2.20)\n",
      "Requirement already satisfied: MarkupSafe>=0.23 in c:\\users\\ali\\anaconda3\\lib\\site-packages (from jinja2->notebook>=4.4.1->widgetsnbextension~=3.5.0->ipywidgets>=7.6.0->ipympl) (1.1.1)\n",
      "Requirement already satisfied: testpath in c:\\users\\ali\\anaconda3\\lib\\site-packages (from nbconvert->notebook>=4.4.1->widgetsnbextension~=3.5.0->ipywidgets>=7.6.0->ipympl) (0.4.4)\n",
      "Requirement already satisfied: defusedxml in c:\\users\\ali\\anaconda3\\lib\\site-packages (from nbconvert->notebook>=4.4.1->widgetsnbextension~=3.5.0->ipywidgets>=7.6.0->ipympl) (0.7.1)\n",
      "Requirement already satisfied: pandocfilters>=1.4.1 in c:\\users\\ali\\anaconda3\\lib\\site-packages (from nbconvert->notebook>=4.4.1->widgetsnbextension~=3.5.0->ipywidgets>=7.6.0->ipympl) (1.4.3)\n",
      "Requirement already satisfied: mistune<2,>=0.8.1 in c:\\users\\ali\\anaconda3\\lib\\site-packages (from nbconvert->notebook>=4.4.1->widgetsnbextension~=3.5.0->ipywidgets>=7.6.0->ipympl) (0.8.4)\n",
      "Requirement already satisfied: jupyterlab-pygments in c:\\users\\ali\\anaconda3\\lib\\site-packages (from nbconvert->notebook>=4.4.1->widgetsnbextension~=3.5.0->ipywidgets>=7.6.0->ipympl) (0.1.2)\n",
      "Requirement already satisfied: nbclient<0.6.0,>=0.5.0 in c:\\users\\ali\\anaconda3\\lib\\site-packages (from nbconvert->notebook>=4.4.1->widgetsnbextension~=3.5.0->ipywidgets>=7.6.0->ipympl) (0.5.3)\n",
      "Requirement already satisfied: entrypoints>=0.2.2 in c:\\users\\ali\\anaconda3\\lib\\site-packages (from nbconvert->notebook>=4.4.1->widgetsnbextension~=3.5.0->ipywidgets>=7.6.0->ipympl) (0.3)\n",
      "Requirement already satisfied: bleach in c:\\users\\ali\\anaconda3\\lib\\site-packages (from nbconvert->notebook>=4.4.1->widgetsnbextension~=3.5.0->ipywidgets>=7.6.0->ipympl) (3.3.0)\n",
      "Requirement already satisfied: async-generator in c:\\users\\ali\\anaconda3\\lib\\site-packages (from nbclient<0.6.0,>=0.5.0->nbconvert->notebook>=4.4.1->widgetsnbextension~=3.5.0->ipywidgets>=7.6.0->ipympl) (1.10)\n",
      "Requirement already satisfied: nest-asyncio in c:\\users\\ali\\anaconda3\\lib\\site-packages (from nbclient<0.6.0,>=0.5.0->nbconvert->notebook>=4.4.1->widgetsnbextension~=3.5.0->ipywidgets>=7.6.0->ipympl) (1.5.1)\n",
      "Requirement already satisfied: packaging in c:\\users\\ali\\anaconda3\\lib\\site-packages (from bleach->nbconvert->notebook>=4.4.1->widgetsnbextension~=3.5.0->ipywidgets>=7.6.0->ipympl) (20.9)\n",
      "Requirement already satisfied: webencodings in c:\\users\\ali\\anaconda3\\lib\\site-packages (from bleach->nbconvert->notebook>=4.4.1->widgetsnbextension~=3.5.0->ipywidgets>=7.6.0->ipympl) (0.5.1)\n"
     ]
    }
   ],
   "source": [
    "!pip install ipympl"
   ]
  },
  {
   "cell_type": "code",
   "execution_count": 7,
   "id": "e88cef29",
   "metadata": {},
   "outputs": [],
   "source": [
    " %matplotlib inline"
   ]
  },
  {
   "cell_type": "code",
   "execution_count": 8,
   "id": "62b09ffb",
   "metadata": {},
   "outputs": [
    {
     "name": "stdout",
     "output_type": "stream",
     "text": [
      "Requirement already satisfied: watermark in c:\\users\\ali\\anaconda3\\lib\\site-packages (2.2.0)"
     ]
    },
    {
     "name": "stderr",
     "output_type": "stream",
     "text": [
      "The system cannot find the path specified.\n"
     ]
    },
    {
     "name": "stdout",
     "output_type": "stream",
     "text": [
      "\n",
      "Requirement already satisfied: ipython in c:\\users\\ali\\anaconda3\\lib\\site-packages (from watermark) (7.22.0)\n",
      "Requirement already satisfied: prompt-toolkit!=3.0.0,!=3.0.1,<3.1.0,>=2.0.0 in c:\\users\\ali\\anaconda3\\lib\\site-packages (from ipython->watermark) (3.0.17)\n",
      "Requirement already satisfied: setuptools>=18.5 in c:\\users\\ali\\anaconda3\\lib\\site-packages (from ipython->watermark) (52.0.0.post20210125)\n",
      "Requirement already satisfied: jedi>=0.16 in c:\\users\\ali\\anaconda3\\lib\\site-packages (from ipython->watermark) (0.17.2)\n",
      "Requirement already satisfied: colorama in c:\\users\\ali\\anaconda3\\lib\\site-packages (from ipython->watermark) (0.4.4)\n",
      "Requirement already satisfied: pickleshare in c:\\users\\ali\\anaconda3\\lib\\site-packages (from ipython->watermark) (0.7.5)\n",
      "Requirement already satisfied: pygments in c:\\users\\ali\\anaconda3\\lib\\site-packages (from ipython->watermark) (2.8.1)\n",
      "Requirement already satisfied: decorator in c:\\users\\ali\\anaconda3\\lib\\site-packages (from ipython->watermark) (5.0.6)\n",
      "Requirement already satisfied: traitlets>=4.2 in c:\\users\\ali\\anaconda3\\lib\\site-packages (from ipython->watermark) (5.0.5)\n",
      "Requirement already satisfied: backcall in c:\\users\\ali\\anaconda3\\lib\\site-packages (from ipython->watermark) (0.2.0)\n",
      "Requirement already satisfied: parso<0.8.0,>=0.7.0 in c:\\users\\ali\\anaconda3\\lib\\site-packages (from jedi>=0.16->ipython->watermark) (0.7.0)\n",
      "Requirement already satisfied: wcwidth in c:\\users\\ali\\anaconda3\\lib\\site-packages (from prompt-toolkit!=3.0.0,!=3.0.1,<3.1.0,>=2.0.0->ipython->watermark) (0.2.5)\n",
      "Requirement already satisfied: ipython-genutils in c:\\users\\ali\\anaconda3\\lib\\site-packages (from traitlets>=4.2->ipython->watermark) (0.2.0)\n"
     ]
    }
   ],
   "source": [
    "!pip install watermark"
   ]
  },
  {
   "cell_type": "code",
   "execution_count": 9,
   "id": "5e0b4120",
   "metadata": {},
   "outputs": [
    {
     "name": "stdout",
     "output_type": "stream",
     "text": [
      "Python implementation: CPython\n",
      "Python version       : 3.8.8\n",
      "IPython version      : 7.22.0\n",
      "\n",
      "numpy     : 1.19.5\n",
      "scipy     : 1.6.2\n",
      "bokeh     : 2.3.2\n",
      "holoviews : not installed\n",
      "jupyterlab: 3.0.14\n",
      "\n"
     ]
    }
   ],
   "source": [
    "%load_ext watermark\n",
    "%watermark -v -p numpy,scipy,bokeh,holoviews,jupyterlab"
   ]
  },
  {
   "cell_type": "code",
   "execution_count": 11,
   "id": "3b9325b7",
   "metadata": {},
   "outputs": [
    {
     "name": "stdout",
     "output_type": "stream",
     "text": [
      "Requirement already satisfied: py3Dmol in c:\\users\\ali\\anaconda3\\lib\\site-packages (0.9.2)"
     ]
    },
    {
     "name": "stderr",
     "output_type": "stream",
     "text": [
      "The system cannot find the path specified.\n"
     ]
    },
    {
     "name": "stdout",
     "output_type": "stream",
     "text": [
      "\n"
     ]
    }
   ],
   "source": [
    "!pip install py3Dmol"
   ]
  },
  {
   "cell_type": "code",
   "execution_count": 14,
   "id": "821dbaa1",
   "metadata": {},
   "outputs": [],
   "source": [
    "%matplotlib widget"
   ]
  },
  {
   "cell_type": "code",
   "execution_count": 15,
   "id": "6c0a8c6e",
   "metadata": {},
   "outputs": [
    {
     "name": "stderr",
     "output_type": "stream",
     "text": [
      "The system cannot find the path specified.\n"
     ]
    },
    {
     "name": "stdout",
     "output_type": "stream",
     "text": [
      "Requirement already satisfied: ipympl in c:\\users\\ali\\anaconda3\\lib\\site-packages (0.7.0)\n",
      "Requirement already satisfied: matplotlib>=2.0.0 in c:\\users\\ali\\anaconda3\\lib\\site-packages (from ipympl) (3.3.4)\n",
      "Requirement already satisfied: ipywidgets>=7.6.0 in c:\\users\\ali\\anaconda3\\lib\\site-packages (from ipympl) (7.6.3)\n",
      "Requirement already satisfied: ipykernel>=4.7 in c:\\users\\ali\\anaconda3\\lib\\site-packages (from ipympl) (5.3.4)\n",
      "Requirement already satisfied: jupyter-client in c:\\users\\ali\\anaconda3\\lib\\site-packages (from ipykernel>=4.7->ipympl) (6.1.12)\n",
      "Requirement already satisfied: traitlets>=4.1.0 in c:\\users\\ali\\anaconda3\\lib\\site-packages (from ipykernel>=4.7->ipympl) (5.0.5)\n",
      "Requirement already satisfied: ipython>=5.0.0 in c:\\users\\ali\\anaconda3\\lib\\site-packages (from ipykernel>=4.7->ipympl) (7.22.0)\n",
      "Requirement already satisfied: tornado>=4.2 in c:\\users\\ali\\anaconda3\\lib\\site-packages (from ipykernel>=4.7->ipympl) (6.1)\n",
      "Requirement already satisfied: jedi>=0.16 in c:\\users\\ali\\anaconda3\\lib\\site-packages (from ipython>=5.0.0->ipykernel>=4.7->ipympl) (0.17.2)\n",
      "Requirement already satisfied: pickleshare in c:\\users\\ali\\anaconda3\\lib\\site-packages (from ipython>=5.0.0->ipykernel>=4.7->ipympl) (0.7.5)\n",
      "Requirement already satisfied: backcall in c:\\users\\ali\\anaconda3\\lib\\site-packages (from ipython>=5.0.0->ipykernel>=4.7->ipympl) (0.2.0)\n",
      "Requirement already satisfied: decorator in c:\\users\\ali\\anaconda3\\lib\\site-packages (from ipython>=5.0.0->ipykernel>=4.7->ipympl) (5.0.6)\n",
      "Requirement already satisfied: setuptools>=18.5 in c:\\users\\ali\\anaconda3\\lib\\site-packages (from ipython>=5.0.0->ipykernel>=4.7->ipympl) (52.0.0.post20210125)\n",
      "Requirement already satisfied: pygments in c:\\users\\ali\\anaconda3\\lib\\site-packages (from ipython>=5.0.0->ipykernel>=4.7->ipympl) (2.8.1)\n",
      "Requirement already satisfied: colorama in c:\\users\\ali\\anaconda3\\lib\\site-packages (from ipython>=5.0.0->ipykernel>=4.7->ipympl) (0.4.4)\n",
      "Requirement already satisfied: prompt-toolkit!=3.0.0,!=3.0.1,<3.1.0,>=2.0.0 in c:\\users\\ali\\anaconda3\\lib\\site-packages (from ipython>=5.0.0->ipykernel>=4.7->ipympl) (3.0.17)\n",
      "Requirement already satisfied: nbformat>=4.2.0 in c:\\users\\ali\\anaconda3\\lib\\site-packages (from ipywidgets>=7.6.0->ipympl) (5.1.3)\n",
      "Requirement already satisfied: widgetsnbextension~=3.5.0 in c:\\users\\ali\\anaconda3\\lib\\site-packages (from ipywidgets>=7.6.0->ipympl) (3.5.1)\n",
      "Requirement already satisfied: jupyterlab-widgets>=1.0.0 in c:\\users\\ali\\anaconda3\\lib\\site-packages (from ipywidgets>=7.6.0->ipympl) (1.0.0)\n",
      "Requirement already satisfied: parso<0.8.0,>=0.7.0 in c:\\users\\ali\\anaconda3\\lib\\site-packages (from jedi>=0.16->ipython>=5.0.0->ipykernel>=4.7->ipympl) (0.7.0)\n",
      "Requirement already satisfied: kiwisolver>=1.0.1 in c:\\users\\ali\\anaconda3\\lib\\site-packages (from matplotlib>=2.0.0->ipympl) (1.3.1)\n",
      "Requirement already satisfied: pillow>=6.2.0 in c:\\users\\ali\\anaconda3\\lib\\site-packages (from matplotlib>=2.0.0->ipympl) (8.2.0)\n",
      "Requirement already satisfied: pyparsing!=2.0.4,!=2.1.2,!=2.1.6,>=2.0.3 in c:\\users\\ali\\anaconda3\\lib\\site-packages (from matplotlib>=2.0.0->ipympl) (2.4.7)\n",
      "Requirement already satisfied: numpy>=1.15 in c:\\users\\ali\\anaconda3\\lib\\site-packages (from matplotlib>=2.0.0->ipympl) (1.19.5)\n",
      "Requirement already satisfied: cycler>=0.10 in c:\\users\\ali\\anaconda3\\lib\\site-packages (from matplotlib>=2.0.0->ipympl) (0.10.0)\n",
      "Requirement already satisfied: python-dateutil>=2.1 in c:\\users\\ali\\anaconda3\\lib\\site-packages (from matplotlib>=2.0.0->ipympl) (2.8.1)\n",
      "Requirement already satisfied: six in c:\\users\\ali\\anaconda3\\lib\\site-packages (from cycler>=0.10->matplotlib>=2.0.0->ipympl) (1.15.0)\n",
      "Requirement already satisfied: jsonschema!=2.5.0,>=2.4 in c:\\users\\ali\\anaconda3\\lib\\site-packages (from nbformat>=4.2.0->ipywidgets>=7.6.0->ipympl) (3.2.0)\n",
      "Requirement already satisfied: jupyter-core in c:\\users\\ali\\anaconda3\\lib\\site-packages (from nbformat>=4.2.0->ipywidgets>=7.6.0->ipympl) (4.7.1)\n",
      "Requirement already satisfied: ipython-genutils in c:\\users\\ali\\anaconda3\\lib\\site-packages (from nbformat>=4.2.0->ipywidgets>=7.6.0->ipympl) (0.2.0)\n",
      "Requirement already satisfied: pyrsistent>=0.14.0 in c:\\users\\ali\\anaconda3\\lib\\site-packages (from jsonschema!=2.5.0,>=2.4->nbformat>=4.2.0->ipywidgets>=7.6.0->ipympl) (0.17.3)\n",
      "Requirement already satisfied: attrs>=17.4.0 in c:\\users\\ali\\anaconda3\\lib\\site-packages (from jsonschema!=2.5.0,>=2.4->nbformat>=4.2.0->ipywidgets>=7.6.0->ipympl) (20.3.0)\n",
      "Requirement already satisfied: wcwidth in c:\\users\\ali\\anaconda3\\lib\\site-packages (from prompt-toolkit!=3.0.0,!=3.0.1,<3.1.0,>=2.0.0->ipython>=5.0.0->ipykernel>=4.7->ipympl) (0.2.5)\n",
      "Requirement already satisfied: notebook>=4.4.1 in c:\\users\\ali\\anaconda3\\lib\\site-packages (from widgetsnbextension~=3.5.0->ipywidgets>=7.6.0->ipympl) (6.3.0)\n",
      "Requirement already satisfied: Send2Trash>=1.5.0 in c:\\users\\ali\\anaconda3\\lib\\site-packages (from notebook>=4.4.1->widgetsnbextension~=3.5.0->ipywidgets>=7.6.0->ipympl) (1.5.0)\n",
      "Requirement already satisfied: argon2-cffi in c:\\users\\ali\\anaconda3\\lib\\site-packages (from notebook>=4.4.1->widgetsnbextension~=3.5.0->ipywidgets>=7.6.0->ipympl) (20.1.0)\n",
      "Requirement already satisfied: prometheus-client in c:\\users\\ali\\anaconda3\\lib\\site-packages (from notebook>=4.4.1->widgetsnbextension~=3.5.0->ipywidgets>=7.6.0->ipympl) (0.10.1)\n",
      "Requirement already satisfied: terminado>=0.8.3 in c:\\users\\ali\\anaconda3\\lib\\site-packages (from notebook>=4.4.1->widgetsnbextension~=3.5.0->ipywidgets>=7.6.0->ipympl) (0.9.4)\n",
      "Requirement already satisfied: jinja2 in c:\\users\\ali\\anaconda3\\lib\\site-packages (from notebook>=4.4.1->widgetsnbextension~=3.5.0->ipywidgets>=7.6.0->ipympl) (2.11.3)\n",
      "Requirement already satisfied: pyzmq>=17 in c:\\users\\ali\\anaconda3\\lib\\site-packages (from notebook>=4.4.1->widgetsnbextension~=3.5.0->ipywidgets>=7.6.0->ipympl) (20.0.0)\n",
      "Requirement already satisfied: nbconvert in c:\\users\\ali\\anaconda3\\lib\\site-packages (from notebook>=4.4.1->widgetsnbextension~=3.5.0->ipywidgets>=7.6.0->ipympl) (6.0.7)\n",
      "Requirement already satisfied: pywin32>=1.0 in c:\\users\\ali\\anaconda3\\lib\\site-packages (from jupyter-core->nbformat>=4.2.0->ipywidgets>=7.6.0->ipympl) (227)\n",
      "Requirement already satisfied: pywinpty>=0.5 in c:\\users\\ali\\anaconda3\\lib\\site-packages (from terminado>=0.8.3->notebook>=4.4.1->widgetsnbextension~=3.5.0->ipywidgets>=7.6.0->ipympl) (0.5.7)\n",
      "Requirement already satisfied: cffi>=1.0.0 in c:\\users\\ali\\anaconda3\\lib\\site-packages (from argon2-cffi->notebook>=4.4.1->widgetsnbextension~=3.5.0->ipywidgets>=7.6.0->ipympl) (1.14.5)\n",
      "Requirement already satisfied: pycparser in c:\\users\\ali\\anaconda3\\lib\\site-packages (from cffi>=1.0.0->argon2-cffi->notebook>=4.4.1->widgetsnbextension~=3.5.0->ipywidgets>=7.6.0->ipympl) (2.20)\n",
      "Requirement already satisfied: MarkupSafe>=0.23 in c:\\users\\ali\\anaconda3\\lib\\site-packages (from jinja2->notebook>=4.4.1->widgetsnbextension~=3.5.0->ipywidgets>=7.6.0->ipympl) (1.1.1)\n",
      "Requirement already satisfied: pandocfilters>=1.4.1 in c:\\users\\ali\\anaconda3\\lib\\site-packages (from nbconvert->notebook>=4.4.1->widgetsnbextension~=3.5.0->ipywidgets>=7.6.0->ipympl) (1.4.3)\n",
      "Requirement already satisfied: mistune<2,>=0.8.1 in c:\\users\\ali\\anaconda3\\lib\\site-packages (from nbconvert->notebook>=4.4.1->widgetsnbextension~=3.5.0->ipywidgets>=7.6.0->ipympl) (0.8.4)\n",
      "Requirement already satisfied: nbclient<0.6.0,>=0.5.0 in c:\\users\\ali\\anaconda3\\lib\\site-packages (from nbconvert->notebook>=4.4.1->widgetsnbextension~=3.5.0->ipywidgets>=7.6.0->ipympl) (0.5.3)\n",
      "Requirement already satisfied: testpath in c:\\users\\ali\\anaconda3\\lib\\site-packages (from nbconvert->notebook>=4.4.1->widgetsnbextension~=3.5.0->ipywidgets>=7.6.0->ipympl) (0.4.4)\n",
      "Requirement already satisfied: jupyterlab-pygments in c:\\users\\ali\\anaconda3\\lib\\site-packages (from nbconvert->notebook>=4.4.1->widgetsnbextension~=3.5.0->ipywidgets>=7.6.0->ipympl) (0.1.2)\n",
      "Requirement already satisfied: defusedxml in c:\\users\\ali\\anaconda3\\lib\\site-packages (from nbconvert->notebook>=4.4.1->widgetsnbextension~=3.5.0->ipywidgets>=7.6.0->ipympl) (0.7.1)\n",
      "Requirement already satisfied: entrypoints>=0.2.2 in c:\\users\\ali\\anaconda3\\lib\\site-packages (from nbconvert->notebook>=4.4.1->widgetsnbextension~=3.5.0->ipywidgets>=7.6.0->ipympl) (0.3)\n",
      "Requirement already satisfied: bleach in c:\\users\\ali\\anaconda3\\lib\\site-packages (from nbconvert->notebook>=4.4.1->widgetsnbextension~=3.5.0->ipywidgets>=7.6.0->ipympl) (3.3.0)\n",
      "Requirement already satisfied: nest-asyncio in c:\\users\\ali\\anaconda3\\lib\\site-packages (from nbclient<0.6.0,>=0.5.0->nbconvert->notebook>=4.4.1->widgetsnbextension~=3.5.0->ipywidgets>=7.6.0->ipympl) (1.5.1)\n",
      "Requirement already satisfied: async-generator in c:\\users\\ali\\anaconda3\\lib\\site-packages (from nbclient<0.6.0,>=0.5.0->nbconvert->notebook>=4.4.1->widgetsnbextension~=3.5.0->ipywidgets>=7.6.0->ipympl) (1.10)\n",
      "Requirement already satisfied: packaging in c:\\users\\ali\\anaconda3\\lib\\site-packages (from bleach->nbconvert->notebook>=4.4.1->widgetsnbextension~=3.5.0->ipywidgets>=7.6.0->ipympl) (20.9)\n",
      "Requirement already satisfied: webencodings in c:\\users\\ali\\anaconda3\\lib\\site-packages (from bleach->nbconvert->notebook>=4.4.1->widgetsnbextension~=3.5.0->ipywidgets>=7.6.0->ipympl) (0.5.1)\n",
      "Requirement already satisfied: nodejs in c:\\users\\ali\\anaconda3\\lib\\site-packages (0.1.1)"
     ]
    },
    {
     "name": "stderr",
     "output_type": "stream",
     "text": [
      "The system cannot find the path specified.\n"
     ]
    },
    {
     "name": "stdout",
     "output_type": "stream",
     "text": [
      "\n",
      "Requirement already satisfied: optional-django==0.1.0 in c:\\users\\ali\\anaconda3\\lib\\site-packages (from nodejs) (0.1.0)\n"
     ]
    }
   ],
   "source": [
    "!pip install ipympl\n",
    "\n",
    "# If using JupyterLab 2\n",
    "!pip install nodejs"
   ]
  },
  {
   "cell_type": "code",
   "execution_count": 20,
   "id": "1ccf5a9a",
   "metadata": {},
   "outputs": [],
   "source": [
    " %matplotlib inline"
   ]
  },
  {
   "cell_type": "code",
   "execution_count": 21,
   "id": "f7746e08",
   "metadata": {},
   "outputs": [],
   "source": [
    "from rdkit.Chem.Draw import IPythonConsole"
   ]
  },
  {
   "cell_type": "code",
   "execution_count": 25,
   "id": "076447fe",
   "metadata": {},
   "outputs": [],
   "source": [
    "from rdkit import Chem\n",
    "from rdkit.Chem import AllChem\n",
    "from rdkit.Chem import Draw"
   ]
  },
  {
   "cell_type": "code",
   "execution_count": 31,
   "id": "245d6c54",
   "metadata": {},
   "outputs": [
    {
     "data": {
      "application/3dmoljs_load.v0": "<div id=\"3dmolviewer_1628462564496685\"  style=\"position: relative; width: 400px; height: 400px\">\n        <p id=\"3dmolwarning_1628462564496685\" style=\"background-color:#ffcccc;color:black\">You appear to be running in JupyterLab (or JavaScript failed to load for some other reason).  You need to install the 3dmol extension: <br>\n        <tt>jupyter labextension install jupyterlab_3dmol</tt></p>\n        </div>\n<script>\n\nvar loadScriptAsync = function(uri){\n  return new Promise((resolve, reject) => {\n    var tag = document.createElement('script');\n    tag.src = uri;\n    tag.async = true;\n    tag.onload = () => {\n      resolve();\n    };\n  var firstScriptTag = document.getElementsByTagName('script')[0];\n  firstScriptTag.parentNode.insertBefore(tag, firstScriptTag);\n});\n};\n\nif(typeof $3Dmolpromise === 'undefined') {\n$3Dmolpromise = null;\n  $3Dmolpromise = loadScriptAsync('https://3dmol.org/build/3Dmol.js');\n}\n\nvar viewer_1628462564496685 = null;\nvar warn = document.getElementById(\"3dmolwarning_1628462564496685\");\nif(warn) {\n    warn.parentNode.removeChild(warn);\n}\n$3Dmolpromise.then(function() {\nviewer_1628462564496685 = $3Dmol.createViewer($(\"#3dmolviewer_1628462564496685\"),{backgroundColor:\"white\"});\nviewer_1628462564496685.zoomTo();\n\tviewer_1628462564496685.removeAllModels();\n\tviewer_1628462564496685.addModel(\"\\n     RDKit          3D\\n\\n 59 61  0  0  0  0  0  0  0  0999 V2000\\n    4.8365   -0.7253    4.4336 N   0  0  0  0  0  0  0  0  0  0  0  0\\n    4.2448   -0.9127    3.4213 C   0  0  0  0  0  0  0  0  0  0  0  0\\n    3.5259   -1.1662    2.1664 C   0  0  0  0  0  0  0  0  0  0  0  0\\n    4.0020   -0.4461    1.1250 O   0  0  0  0  0  0  0  0  0  0  0  0\\n    3.1068    0.5303    0.6872 C   0  0  0  0  0  0  0  0  0  0  0  0\\n    2.2481   -0.0313   -0.3046 O   0  0  0  0  0  0  0  0  0  0  0  0\\n    1.1026    0.7812   -0.2044 C   0  0  0  0  0  0  0  0  0  0  0  0\\n   -0.1406    0.1749   -0.7764 C   0  0  0  0  0  0  0  0  0  0  0  0\\n   -1.1652    1.1007   -0.5820 O   0  0  0  0  0  0  0  0  0  0  0  0\\n   -2.4177    0.6351   -0.9809 C   0  0  0  0  0  0  0  0  0  0  0  0\\n   -3.2008    0.6951    0.1777 O   0  0  0  0  0  0  0  0  0  0  0  0\\n   -4.4779    0.2564   -0.0061 C   0  0  0  0  0  0  0  0  0  0  0  0\\n   -5.4181    0.7951    1.0556 C   0  0  0  0  0  0  0  0  0  0  0  0\\n   -6.6979    0.3267    0.8185 O   0  0  0  0  0  0  0  0  0  0  0  0\\n   -5.0483    0.4453   -1.3649 C   0  0  0  0  0  0  0  0  0  0  0  0\\n   -5.1030   -0.7752   -2.0618 O   0  0  0  0  0  0  0  0  0  0  0  0\\n   -4.4493    1.5366   -2.1919 C   0  0  0  0  0  0  0  0  0  0  0  0\\n   -5.0221    2.7852   -1.9547 O   0  0  0  0  0  0  0  0  0  0  0  0\\n   -2.9720    1.6035   -1.9977 C   0  0  0  0  0  0  0  0  0  0  0  0\\n   -2.6063    2.8906   -1.5986 O   0  0  0  0  0  0  0  0  0  0  0  0\\n    1.3798    2.1015   -0.8878 C   0  0  0  0  0  0  0  0  0  0  0  0\\n    0.7937    2.2061   -2.1413 O   0  0  0  0  0  0  0  0  0  0  0  0\\n    2.8802    2.3260   -0.9628 C   0  0  0  0  0  0  0  0  0  0  0  0\\n    3.1111    3.6882   -1.0485 O   0  0  0  0  0  0  0  0  0  0  0  0\\n    3.6426    1.7938    0.2140 C   0  0  0  0  0  0  0  0  0  0  0  0\\n    4.9711    1.5923   -0.2530 O   0  0  0  0  0  0  0  0  0  0  0  0\\n    3.5339   -2.6297    1.9686 C   0  0  0  0  0  0  0  0  0  0  0  0\\n    3.2154   -3.2272    0.8116 C   0  0  0  0  0  0  0  0  0  0  0  0\\n    3.1535   -4.6271    0.6600 C   0  0  0  0  0  0  0  0  0  0  0  0\\n    3.4384   -5.3959    1.7653 C   0  0  0  0  0  0  0  0  0  0  0  0\\n    3.7661   -4.8096    2.9469 C   0  0  0  0  0  0  0  0  0  0  0  0\\n    3.8243   -3.4344    3.0887 C   0  0  0  0  0  0  0  0  0  0  0  0\\n    2.4557   -0.8258    2.4047 H   0  0  0  0  0  0  0  0  0  0  0  0\\n    2.3816    0.6438    1.5447 H   0  0  0  0  0  0  0  0  0  0  0  0\\n    0.9784    1.0105    0.8868 H   0  0  0  0  0  0  0  0  0  0  0  0\\n   -0.0739   -0.0353   -1.8539 H   0  0  0  0  0  0  0  0  0  0  0  0\\n   -0.3724   -0.8055   -0.2917 H   0  0  0  0  0  0  0  0  0  0  0  0\\n   -2.3794   -0.3941   -1.3797 H   0  0  0  0  0  0  0  0  0  0  0  0\\n   -4.4471   -0.8620    0.1983 H   0  0  0  0  0  0  0  0  0  0  0  0\\n   -5.4612    1.9033    1.0219 H   0  0  0  0  0  0  0  0  0  0  0  0\\n   -5.0871    0.4620    2.0766 H   0  0  0  0  0  0  0  0  0  0  0  0\\n   -6.7899   -0.6342    1.0148 H   0  0  0  0  0  0  0  0  0  0  0  0\\n   -6.1395    0.7317   -1.2379 H   0  0  0  0  0  0  0  0  0  0  0  0\\n   -5.0004   -1.4876   -1.3589 H   0  0  0  0  0  0  0  0  0  0  0  0\\n   -4.7157    1.2966   -3.2678 H   0  0  0  0  0  0  0  0  0  0  0  0\\n   -5.3100    3.2511   -2.7725 H   0  0  0  0  0  0  0  0  0  0  0  0\\n   -2.5054    1.4529   -2.9969 H   0  0  0  0  0  0  0  0  0  0  0  0\\n   -3.1080    3.2311   -0.8296 H   0  0  0  0  0  0  0  0  0  0  0  0\\n    0.9543    2.9040   -0.2692 H   0  0  0  0  0  0  0  0  0  0  0  0\\n    1.0120    1.4493   -2.7304 H   0  0  0  0  0  0  0  0  0  0  0  0\\n    3.2205    1.8370   -1.9173 H   0  0  0  0  0  0  0  0  0  0  0  0\\n    2.3629    4.1657   -1.4997 H   0  0  0  0  0  0  0  0  0  0  0  0\\n    3.6501    2.6175    0.9804 H   0  0  0  0  0  0  0  0  0  0  0  0\\n    4.9646    0.6524   -0.6158 H   0  0  0  0  0  0  0  0  0  0  0  0\\n    2.9937   -2.6381   -0.0837 H   0  0  0  0  0  0  0  0  0  0  0  0\\n    2.8939   -5.0555   -0.2925 H   0  0  0  0  0  0  0  0  0  0  0  0\\n    3.3899   -6.4995    1.6575 H   0  0  0  0  0  0  0  0  0  0  0  0\\n    3.9829   -5.4433    3.8049 H   0  0  0  0  0  0  0  0  0  0  0  0\\n    4.0920   -3.0120    4.0234 H   0  0  0  0  0  0  0  0  0  0  0  0\\n  1  2  3  0\\n  2  3  1  0\\n  3  4  1  0\\n  4  5  1  0\\n  5  6  1  0\\n  6  7  1  0\\n  7  8  1  0\\n  8  9  1  0\\n  9 10  1  0\\n 10 11  1  0\\n 11 12  1  0\\n 12 13  1  0\\n 13 14  1  0\\n 12 15  1  0\\n 15 16  1  0\\n 15 17  1  0\\n 17 18  1  0\\n 17 19  1  0\\n 19 20  1  0\\n  7 21  1  0\\n 21 22  1  0\\n 21 23  1  0\\n 23 24  1  0\\n 23 25  1  0\\n 25 26  1  0\\n  3 27  1  0\\n 27 28  2  0\\n 28 29  1  0\\n 29 30  2  0\\n 30 31  1  0\\n 31 32  2  0\\n 25  5  1  0\\n 32 27  1  0\\n 19 10  1  0\\n  3 33  1  0\\n  5 34  1  0\\n  7 35  1  0\\n  8 36  1  0\\n  8 37  1  0\\n 10 38  1  0\\n 12 39  1  0\\n 13 40  1  0\\n 13 41  1  0\\n 14 42  1  0\\n 15 43  1  0\\n 16 44  1  0\\n 17 45  1  0\\n 18 46  1  0\\n 19 47  1  0\\n 20 48  1  0\\n 21 49  1  0\\n 22 50  1  0\\n 23 51  1  0\\n 24 52  1  0\\n 25 53  1  0\\n 26 54  1  0\\n 28 55  1  0\\n 29 56  1  0\\n 30 57  1  0\\n 31 58  1  0\\n 32 59  1  0\\nM  END\\n\",\"sdf\");\n\tviewer_1628462564496685.setStyle({\"stick\": {}});\n\tviewer_1628462564496685.setBackgroundColor(\"0xeeeeee\");\n\tviewer_1628462564496685.zoomTo();\nviewer_1628462564496685.render();\n});\n</script>",
      "text/html": [
       "<div id=\"3dmolviewer_1628462564496685\"  style=\"position: relative; width: 400px; height: 400px\">\n",
       "        <p id=\"3dmolwarning_1628462564496685\" style=\"background-color:#ffcccc;color:black\">You appear to be running in JupyterLab (or JavaScript failed to load for some other reason).  You need to install the 3dmol extension: <br>\n",
       "        <tt>jupyter labextension install jupyterlab_3dmol</tt></p>\n",
       "        </div>\n",
       "<script>\n",
       "\n",
       "var loadScriptAsync = function(uri){\n",
       "  return new Promise((resolve, reject) => {\n",
       "    var tag = document.createElement('script');\n",
       "    tag.src = uri;\n",
       "    tag.async = true;\n",
       "    tag.onload = () => {\n",
       "      resolve();\n",
       "    };\n",
       "  var firstScriptTag = document.getElementsByTagName('script')[0];\n",
       "  firstScriptTag.parentNode.insertBefore(tag, firstScriptTag);\n",
       "});\n",
       "};\n",
       "\n",
       "if(typeof $3Dmolpromise === 'undefined') {\n",
       "$3Dmolpromise = null;\n",
       "  $3Dmolpromise = loadScriptAsync('https://3dmol.org/build/3Dmol.js');\n",
       "}\n",
       "\n",
       "var viewer_1628462564496685 = null;\n",
       "var warn = document.getElementById(\"3dmolwarning_1628462564496685\");\n",
       "if(warn) {\n",
       "    warn.parentNode.removeChild(warn);\n",
       "}\n",
       "$3Dmolpromise.then(function() {\n",
       "viewer_1628462564496685 = $3Dmol.createViewer($(\"#3dmolviewer_1628462564496685\"),{backgroundColor:\"white\"});\n",
       "viewer_1628462564496685.zoomTo();\n",
       "\tviewer_1628462564496685.removeAllModels();\n",
       "\tviewer_1628462564496685.addModel(\"\\n     RDKit          3D\\n\\n 59 61  0  0  0  0  0  0  0  0999 V2000\\n    4.8365   -0.7253    4.4336 N   0  0  0  0  0  0  0  0  0  0  0  0\\n    4.2448   -0.9127    3.4213 C   0  0  0  0  0  0  0  0  0  0  0  0\\n    3.5259   -1.1662    2.1664 C   0  0  0  0  0  0  0  0  0  0  0  0\\n    4.0020   -0.4461    1.1250 O   0  0  0  0  0  0  0  0  0  0  0  0\\n    3.1068    0.5303    0.6872 C   0  0  0  0  0  0  0  0  0  0  0  0\\n    2.2481   -0.0313   -0.3046 O   0  0  0  0  0  0  0  0  0  0  0  0\\n    1.1026    0.7812   -0.2044 C   0  0  0  0  0  0  0  0  0  0  0  0\\n   -0.1406    0.1749   -0.7764 C   0  0  0  0  0  0  0  0  0  0  0  0\\n   -1.1652    1.1007   -0.5820 O   0  0  0  0  0  0  0  0  0  0  0  0\\n   -2.4177    0.6351   -0.9809 C   0  0  0  0  0  0  0  0  0  0  0  0\\n   -3.2008    0.6951    0.1777 O   0  0  0  0  0  0  0  0  0  0  0  0\\n   -4.4779    0.2564   -0.0061 C   0  0  0  0  0  0  0  0  0  0  0  0\\n   -5.4181    0.7951    1.0556 C   0  0  0  0  0  0  0  0  0  0  0  0\\n   -6.6979    0.3267    0.8185 O   0  0  0  0  0  0  0  0  0  0  0  0\\n   -5.0483    0.4453   -1.3649 C   0  0  0  0  0  0  0  0  0  0  0  0\\n   -5.1030   -0.7752   -2.0618 O   0  0  0  0  0  0  0  0  0  0  0  0\\n   -4.4493    1.5366   -2.1919 C   0  0  0  0  0  0  0  0  0  0  0  0\\n   -5.0221    2.7852   -1.9547 O   0  0  0  0  0  0  0  0  0  0  0  0\\n   -2.9720    1.6035   -1.9977 C   0  0  0  0  0  0  0  0  0  0  0  0\\n   -2.6063    2.8906   -1.5986 O   0  0  0  0  0  0  0  0  0  0  0  0\\n    1.3798    2.1015   -0.8878 C   0  0  0  0  0  0  0  0  0  0  0  0\\n    0.7937    2.2061   -2.1413 O   0  0  0  0  0  0  0  0  0  0  0  0\\n    2.8802    2.3260   -0.9628 C   0  0  0  0  0  0  0  0  0  0  0  0\\n    3.1111    3.6882   -1.0485 O   0  0  0  0  0  0  0  0  0  0  0  0\\n    3.6426    1.7938    0.2140 C   0  0  0  0  0  0  0  0  0  0  0  0\\n    4.9711    1.5923   -0.2530 O   0  0  0  0  0  0  0  0  0  0  0  0\\n    3.5339   -2.6297    1.9686 C   0  0  0  0  0  0  0  0  0  0  0  0\\n    3.2154   -3.2272    0.8116 C   0  0  0  0  0  0  0  0  0  0  0  0\\n    3.1535   -4.6271    0.6600 C   0  0  0  0  0  0  0  0  0  0  0  0\\n    3.4384   -5.3959    1.7653 C   0  0  0  0  0  0  0  0  0  0  0  0\\n    3.7661   -4.8096    2.9469 C   0  0  0  0  0  0  0  0  0  0  0  0\\n    3.8243   -3.4344    3.0887 C   0  0  0  0  0  0  0  0  0  0  0  0\\n    2.4557   -0.8258    2.4047 H   0  0  0  0  0  0  0  0  0  0  0  0\\n    2.3816    0.6438    1.5447 H   0  0  0  0  0  0  0  0  0  0  0  0\\n    0.9784    1.0105    0.8868 H   0  0  0  0  0  0  0  0  0  0  0  0\\n   -0.0739   -0.0353   -1.8539 H   0  0  0  0  0  0  0  0  0  0  0  0\\n   -0.3724   -0.8055   -0.2917 H   0  0  0  0  0  0  0  0  0  0  0  0\\n   -2.3794   -0.3941   -1.3797 H   0  0  0  0  0  0  0  0  0  0  0  0\\n   -4.4471   -0.8620    0.1983 H   0  0  0  0  0  0  0  0  0  0  0  0\\n   -5.4612    1.9033    1.0219 H   0  0  0  0  0  0  0  0  0  0  0  0\\n   -5.0871    0.4620    2.0766 H   0  0  0  0  0  0  0  0  0  0  0  0\\n   -6.7899   -0.6342    1.0148 H   0  0  0  0  0  0  0  0  0  0  0  0\\n   -6.1395    0.7317   -1.2379 H   0  0  0  0  0  0  0  0  0  0  0  0\\n   -5.0004   -1.4876   -1.3589 H   0  0  0  0  0  0  0  0  0  0  0  0\\n   -4.7157    1.2966   -3.2678 H   0  0  0  0  0  0  0  0  0  0  0  0\\n   -5.3100    3.2511   -2.7725 H   0  0  0  0  0  0  0  0  0  0  0  0\\n   -2.5054    1.4529   -2.9969 H   0  0  0  0  0  0  0  0  0  0  0  0\\n   -3.1080    3.2311   -0.8296 H   0  0  0  0  0  0  0  0  0  0  0  0\\n    0.9543    2.9040   -0.2692 H   0  0  0  0  0  0  0  0  0  0  0  0\\n    1.0120    1.4493   -2.7304 H   0  0  0  0  0  0  0  0  0  0  0  0\\n    3.2205    1.8370   -1.9173 H   0  0  0  0  0  0  0  0  0  0  0  0\\n    2.3629    4.1657   -1.4997 H   0  0  0  0  0  0  0  0  0  0  0  0\\n    3.6501    2.6175    0.9804 H   0  0  0  0  0  0  0  0  0  0  0  0\\n    4.9646    0.6524   -0.6158 H   0  0  0  0  0  0  0  0  0  0  0  0\\n    2.9937   -2.6381   -0.0837 H   0  0  0  0  0  0  0  0  0  0  0  0\\n    2.8939   -5.0555   -0.2925 H   0  0  0  0  0  0  0  0  0  0  0  0\\n    3.3899   -6.4995    1.6575 H   0  0  0  0  0  0  0  0  0  0  0  0\\n    3.9829   -5.4433    3.8049 H   0  0  0  0  0  0  0  0  0  0  0  0\\n    4.0920   -3.0120    4.0234 H   0  0  0  0  0  0  0  0  0  0  0  0\\n  1  2  3  0\\n  2  3  1  0\\n  3  4  1  0\\n  4  5  1  0\\n  5  6  1  0\\n  6  7  1  0\\n  7  8  1  0\\n  8  9  1  0\\n  9 10  1  0\\n 10 11  1  0\\n 11 12  1  0\\n 12 13  1  0\\n 13 14  1  0\\n 12 15  1  0\\n 15 16  1  0\\n 15 17  1  0\\n 17 18  1  0\\n 17 19  1  0\\n 19 20  1  0\\n  7 21  1  0\\n 21 22  1  0\\n 21 23  1  0\\n 23 24  1  0\\n 23 25  1  0\\n 25 26  1  0\\n  3 27  1  0\\n 27 28  2  0\\n 28 29  1  0\\n 29 30  2  0\\n 30 31  1  0\\n 31 32  2  0\\n 25  5  1  0\\n 32 27  1  0\\n 19 10  1  0\\n  3 33  1  0\\n  5 34  1  0\\n  7 35  1  0\\n  8 36  1  0\\n  8 37  1  0\\n 10 38  1  0\\n 12 39  1  0\\n 13 40  1  0\\n 13 41  1  0\\n 14 42  1  0\\n 15 43  1  0\\n 16 44  1  0\\n 17 45  1  0\\n 18 46  1  0\\n 19 47  1  0\\n 20 48  1  0\\n 21 49  1  0\\n 22 50  1  0\\n 23 51  1  0\\n 24 52  1  0\\n 25 53  1  0\\n 26 54  1  0\\n 28 55  1  0\\n 29 56  1  0\\n 30 57  1  0\\n 31 58  1  0\\n 32 59  1  0\\nM  END\\n\",\"sdf\");\n",
       "\tviewer_1628462564496685.setStyle({\"stick\": {}});\n",
       "\tviewer_1628462564496685.setBackgroundColor(\"0xeeeeee\");\n",
       "\tviewer_1628462564496685.zoomTo();\n",
       "viewer_1628462564496685.render();\n",
       "});\n",
       "</script>"
      ]
     },
     "metadata": {},
     "output_type": "display_data"
    },
    {
     "data": {
      "image/png": "[encoded data removed]",
      "text/html": [],
      "text/plain": [
       "<rdkit.Chem.rdchem.Mol at 0x2bc09280>"
      ]
     },
     "execution_count": 31,
     "metadata": {},
     "output_type": "execute_result"
    }
   ],
   "source": [
    "## 3 dimesnison representation of the compound \n",
    "\n",
    "IPythonConsole.ipython_3d = True\n",
    "m1 = Chem.AddHs(Chem.MolFromSmiles('N#CC(OC1OC(COC2OC(CO)C(O)C(O)C2O)C(O)C(O)C1O)C1:C:C:C:C:C:1'))\n",
    "ps = AllChem.ETKDGv3()\n",
    "ps.randomSeed = 123\n",
    "AllChem.EmbedMolecule(m1,ps)\n",
    "m1"
   ]
  },
  {
   "cell_type": "code",
   "execution_count": null,
   "id": "45a549e5",
   "metadata": {},
   "outputs": [],
   "source": []
  },
  {
   "cell_type": "code",
   "execution_count": null,
   "id": "314fbe53",
   "metadata": {},
   "outputs": [],
   "source": []
  }
 ],
 "metadata": {
  "kernelspec": {
   "display_name": "Python 3",
   "language": "python",
   "name": "python3"
  }
 },
 "nbformat": 4,
 "nbformat_minor": 5
}
